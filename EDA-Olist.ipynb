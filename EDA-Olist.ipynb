{
 "cells": [
  {
   "cell_type": "markdown",
   "metadata": {
    "id": "h292s9u1icig"
   },
   "source": [
    "### About the company: \n",
    "- The olist is the ideal solution for those who want to sell professionally and effectively in e-commerce. They help those who want to sell, find those who want to buy, who have thousands of partner retailers and have already sold products to millions of people across Brazil. \n",
    "- The company has grown to help more than 12,000 merchants run their businesses with a team of more than 300 Olisters.\n",
    "- Olist operates an online e-commerce site for sellers, that connects merchants and their products to main marketplaces.\n",
    "- Olist connects small businesses from all over Brazil to channels without hassle and with a single contract. Those merchants are able to sell their products through the Olist Store and ship them directly to the customers using Olist logistics partners.\n",
    "- After a customer purchases the product from Olist Store a seller gets notified to fulfill that order. Once the customer receives the product, or the estimated delivery date is due, the customer gets a satisfaction survey by email where he can give a note for the purchase experience and write down some comments."
   ]
  },
  {
   "cell_type": "markdown",
   "metadata": {
    "id": "56Ujjgpcicih"
   },
   "source": [
    "### About the Dataset:\n",
    "- This is a Brazilian ecommerce public dataset of orders made at Olist Store. The dataset has information of 100k orders from 2016 to 2018 made at multiple marketplaces in Brazil. \n",
    "- Its features allows viewing an order from multiple dimensions: from order status, price, payment and freight performance to customer location, product attributes and finally reviews written by customers. We also released a geolocation dataset that relates Brazilian zip codes to lat/lng coordinates.\n",
    "- This is real commercial data, it has been anonymised, and references to the companies and partners in the review text have been replaced with the names of Game of Thrones great houses.\n",
    "### Attention\n",
    "1. An order might have multiple items.\n",
    "2. Each item might be fulfilled by a distinct seller.\n",
    "3. All text identifying stores and partners where replaced by the names of Game of Thrones great houses.\n"
   ]
  },
  {
   "cell_type": "markdown",
   "metadata": {
    "id": "C4iSG9Rkicii"
   },
   "source": [
    "![Data schema](https://i.imgur.com/HRhd2Y0.png)"
   ]
  },
  {
   "cell_type": "code",
   "execution_count": 1,
   "metadata": {
    "executionInfo": {
     "elapsed": 3327,
     "status": "ok",
     "timestamp": 1613233287184,
     "user": {
      "displayName": "Arun rajan",
      "photoUrl": "https://lh3.googleusercontent.com/a-/AOh14GhKlJD7-lRzdBpsXXKX99vweYs9dgDO8xHZt7wz0g=s64",
      "userId": "16564613912059202502"
     },
     "user_tz": -330
    },
    "id": "rKYSQDUCicij"
   },
   "outputs": [],
   "source": [
    "import numpy as np\n",
    "import pandas as pd\n",
    "import matplotlib.pyplot as plt\n",
    "import seaborn as sns\n",
    "sns.set_style('darkgrid')"
   ]
  },
  {
   "cell_type": "code",
   "execution_count": 2,
   "metadata": {
    "executionInfo": {
     "elapsed": 2311,
     "status": "ok",
     "timestamp": 1613233297085,
     "user": {
      "displayName": "Arun rajan",
      "photoUrl": "https://lh3.googleusercontent.com/a-/AOh14GhKlJD7-lRzdBpsXXKX99vweYs9dgDO8xHZt7wz0g=s64",
      "userId": "16564613912059202502"
     },
     "user_tz": -330
    },
    "id": "5eC3aE3gicik"
   },
   "outputs": [],
   "source": [
    "from sklearn.model_selection import train_test_split\n",
    "from sklearn.feature_extraction.text import CountVectorizer\n",
    "from sklearn.linear_model import LogisticRegression\n",
    "from sklearn import metrics\n",
    "%matplotlib inline"
   ]
  },
  {
   "cell_type": "code",
   "execution_count": 3,
   "metadata": {
    "colab": {
     "base_uri": "https://localhost:8080/"
    },
    "executionInfo": {
     "elapsed": 24884,
     "status": "ok",
     "timestamp": 1613233322585,
     "user": {
      "displayName": "Arun rajan",
      "photoUrl": "https://lh3.googleusercontent.com/a-/AOh14GhKlJD7-lRzdBpsXXKX99vweYs9dgDO8xHZt7wz0g=s64",
      "userId": "16564613912059202502"
     },
     "user_tz": -330
    },
    "id": "JLZnYgpLio0Z",
    "outputId": "ff8aea5a-52d2-4851-a249-0ecf856af151"
   },
   "outputs": [
    {
     "name": "stdout",
     "output_type": "stream",
     "text": [
      "Mounted at /content/drive\n"
     ]
    }
   ],
   "source": [
    "from google.colab import drive\n",
    "drive.mount('/content/drive')"
   ]
  },
  {
   "cell_type": "code",
   "execution_count": 4,
   "metadata": {
    "executionInfo": {
     "elapsed": 8356,
     "status": "ok",
     "timestamp": 1613233336501,
     "user": {
      "displayName": "Arun rajan",
      "photoUrl": "https://lh3.googleusercontent.com/a-/AOh14GhKlJD7-lRzdBpsXXKX99vweYs9dgDO8xHZt7wz0g=s64",
      "userId": "16564613912059202502"
     },
     "user_tz": -330
    },
    "id": "IH_Bssiyicil"
   },
   "outputs": [],
   "source": [
    "olist_customer = pd.read_csv('/content/drive/MyDrive/Dynamic_Pricing/olist_customers_dataset.csv')\n",
    "olist_geolocation = pd.read_csv('/content/drive/MyDrive/Dynamic_Pricing/olist_geolocation_dataset.csv')\n",
    "olist_orders = pd.read_csv('/content/drive/MyDrive/Dynamic_Pricing/olist_orders_dataset.csv')\n",
    "olist_order_items = pd.read_csv('/content/drive/MyDrive/Dynamic_Pricing/olist_order_items_dataset.csv')\n",
    "olist_order_payments = pd.read_csv('/content/drive/MyDrive/Dynamic_Pricing/olist_order_payments_dataset.csv')\n",
    "olist_order_reviews = pd.read_csv('/content/drive/MyDrive/Dynamic_Pricing/olist_order_reviews_dataset.csv')\n",
    "olist_products = pd.read_csv('/content/drive/MyDrive/Dynamic_Pricing/olist_products_dataset.csv')\n",
    "olist_sellers = pd.read_csv('/content/drive/MyDrive/Dynamic_Pricing/olist_sellers_dataset.csv')"
   ]
  },
  {
   "cell_type": "code",
   "execution_count": 5,
   "metadata": {
    "executionInfo": {
     "elapsed": 1003,
     "status": "ok",
     "timestamp": 1613233341100,
     "user": {
      "displayName": "Arun rajan",
      "photoUrl": "https://lh3.googleusercontent.com/a-/AOh14GhKlJD7-lRzdBpsXXKX99vweYs9dgDO8xHZt7wz0g=s64",
      "userId": "16564613912059202502"
     },
     "user_tz": -330
    },
    "id": "FntcAeNpAHmu"
   },
   "outputs": [],
   "source": [
    "\n",
    "olist_products_translation = pd.read_csv('/content/drive/MyDrive/Dynamic_Pricing/product_category_name_translation.csv')"
   ]
  },
  {
   "cell_type": "code",
   "execution_count": 6,
   "metadata": {
    "colab": {
     "base_uri": "https://localhost:8080/",
     "height": 225
    },
    "executionInfo": {
     "elapsed": 1565,
     "status": "ok",
     "timestamp": 1613233343306,
     "user": {
      "displayName": "Arun rajan",
      "photoUrl": "https://lh3.googleusercontent.com/a-/AOh14GhKlJD7-lRzdBpsXXKX99vweYs9dgDO8xHZt7wz0g=s64",
      "userId": "16564613912059202502"
     },
     "user_tz": -330
    },
    "id": "YC7arsgzicim",
    "outputId": "38a386a7-dc69-453e-823d-3521394192d5"
   },
   "outputs": [
    {
     "data": {
      "text/html": [
       "<style  type=\"text/css\" >\n",
       "#T_802d36d6_6e17_11eb_8eaf_0242ac1c0002row0_col1,#T_802d36d6_6e17_11eb_8eaf_0242ac1c0002row2_col1,#T_802d36d6_6e17_11eb_8eaf_0242ac1c0002row5_col1{\n",
       "            background-color:  #f1ebf4;\n",
       "            color:  #000000;\n",
       "        }#T_802d36d6_6e17_11eb_8eaf_0242ac1c0002row0_col2,#T_802d36d6_6e17_11eb_8eaf_0242ac1c0002row1_col2,#T_802d36d6_6e17_11eb_8eaf_0242ac1c0002row4_col2{\n",
       "            background-color:  #dbdaeb;\n",
       "            color:  #000000;\n",
       "        }#T_802d36d6_6e17_11eb_8eaf_0242ac1c0002row0_col3,#T_802d36d6_6e17_11eb_8eaf_0242ac1c0002row0_col4,#T_802d36d6_6e17_11eb_8eaf_0242ac1c0002row1_col3,#T_802d36d6_6e17_11eb_8eaf_0242ac1c0002row1_col4,#T_802d36d6_6e17_11eb_8eaf_0242ac1c0002row3_col3,#T_802d36d6_6e17_11eb_8eaf_0242ac1c0002row3_col4,#T_802d36d6_6e17_11eb_8eaf_0242ac1c0002row4_col3,#T_802d36d6_6e17_11eb_8eaf_0242ac1c0002row4_col4,#T_802d36d6_6e17_11eb_8eaf_0242ac1c0002row7_col1,#T_802d36d6_6e17_11eb_8eaf_0242ac1c0002row7_col2,#T_802d36d6_6e17_11eb_8eaf_0242ac1c0002row7_col3,#T_802d36d6_6e17_11eb_8eaf_0242ac1c0002row7_col4{\n",
       "            background-color:  #fff7fb;\n",
       "            color:  #000000;\n",
       "        }#T_802d36d6_6e17_11eb_8eaf_0242ac1c0002row1_col1,#T_802d36d6_6e17_11eb_8eaf_0242ac1c0002row5_col3,#T_802d36d6_6e17_11eb_8eaf_0242ac1c0002row6_col2,#T_802d36d6_6e17_11eb_8eaf_0242ac1c0002row6_col4{\n",
       "            background-color:  #023858;\n",
       "            color:  #f1f1f1;\n",
       "        }#T_802d36d6_6e17_11eb_8eaf_0242ac1c0002row2_col2{\n",
       "            background-color:  #0567a2;\n",
       "            color:  #f1f1f1;\n",
       "        }#T_802d36d6_6e17_11eb_8eaf_0242ac1c0002row2_col3{\n",
       "            background-color:  #faf3f9;\n",
       "            color:  #000000;\n",
       "        }#T_802d36d6_6e17_11eb_8eaf_0242ac1c0002row2_col4{\n",
       "            background-color:  #a5bddb;\n",
       "            color:  #000000;\n",
       "        }#T_802d36d6_6e17_11eb_8eaf_0242ac1c0002row3_col1{\n",
       "            background-color:  #eee9f3;\n",
       "            color:  #000000;\n",
       "        }#T_802d36d6_6e17_11eb_8eaf_0242ac1c0002row3_col2,#T_802d36d6_6e17_11eb_8eaf_0242ac1c0002row5_col2{\n",
       "            background-color:  #4295c3;\n",
       "            color:  #000000;\n",
       "        }#T_802d36d6_6e17_11eb_8eaf_0242ac1c0002row4_col1{\n",
       "            background-color:  #f0eaf4;\n",
       "            color:  #000000;\n",
       "        }#T_802d36d6_6e17_11eb_8eaf_0242ac1c0002row5_col4{\n",
       "            background-color:  #d0d1e6;\n",
       "            color:  #000000;\n",
       "        }#T_802d36d6_6e17_11eb_8eaf_0242ac1c0002row6_col1{\n",
       "            background-color:  #fbf3f9;\n",
       "            color:  #000000;\n",
       "        }#T_802d36d6_6e17_11eb_8eaf_0242ac1c0002row6_col3{\n",
       "            background-color:  #fdf5fa;\n",
       "            color:  #000000;\n",
       "        }</style><table id=\"T_802d36d6_6e17_11eb_8eaf_0242ac1c0002\" ><thead>    <tr>        <th class=\"blank level0\" ></th>        <th class=\"col_heading level0 col0\" >dataset</th>        <th class=\"col_heading level0 col1\" >n_rows</th>        <th class=\"col_heading level0 col2\" >n_cols</th>        <th class=\"col_heading level0 col3\" >total_null</th>        <th class=\"col_heading level0 col4\" >qty_null_columns</th>        <th class=\"col_heading level0 col5\" >null_columns</th>    </tr></thead><tbody>\n",
       "                <tr>\n",
       "                        <th id=\"T_802d36d6_6e17_11eb_8eaf_0242ac1c0002level0_row0\" class=\"row_heading level0 row0\" >0</th>\n",
       "                        <td id=\"T_802d36d6_6e17_11eb_8eaf_0242ac1c0002row0_col0\" class=\"data row0 col0\" >olist_customer</td>\n",
       "                        <td id=\"T_802d36d6_6e17_11eb_8eaf_0242ac1c0002row0_col1\" class=\"data row0 col1\" >99441</td>\n",
       "                        <td id=\"T_802d36d6_6e17_11eb_8eaf_0242ac1c0002row0_col2\" class=\"data row0 col2\" >5</td>\n",
       "                        <td id=\"T_802d36d6_6e17_11eb_8eaf_0242ac1c0002row0_col3\" class=\"data row0 col3\" >0</td>\n",
       "                        <td id=\"T_802d36d6_6e17_11eb_8eaf_0242ac1c0002row0_col4\" class=\"data row0 col4\" >0</td>\n",
       "                        <td id=\"T_802d36d6_6e17_11eb_8eaf_0242ac1c0002row0_col5\" class=\"data row0 col5\" ></td>\n",
       "            </tr>\n",
       "            <tr>\n",
       "                        <th id=\"T_802d36d6_6e17_11eb_8eaf_0242ac1c0002level0_row1\" class=\"row_heading level0 row1\" >1</th>\n",
       "                        <td id=\"T_802d36d6_6e17_11eb_8eaf_0242ac1c0002row1_col0\" class=\"data row1 col0\" >olist_geolocation</td>\n",
       "                        <td id=\"T_802d36d6_6e17_11eb_8eaf_0242ac1c0002row1_col1\" class=\"data row1 col1\" >1000163</td>\n",
       "                        <td id=\"T_802d36d6_6e17_11eb_8eaf_0242ac1c0002row1_col2\" class=\"data row1 col2\" >5</td>\n",
       "                        <td id=\"T_802d36d6_6e17_11eb_8eaf_0242ac1c0002row1_col3\" class=\"data row1 col3\" >0</td>\n",
       "                        <td id=\"T_802d36d6_6e17_11eb_8eaf_0242ac1c0002row1_col4\" class=\"data row1 col4\" >0</td>\n",
       "                        <td id=\"T_802d36d6_6e17_11eb_8eaf_0242ac1c0002row1_col5\" class=\"data row1 col5\" ></td>\n",
       "            </tr>\n",
       "            <tr>\n",
       "                        <th id=\"T_802d36d6_6e17_11eb_8eaf_0242ac1c0002level0_row2\" class=\"row_heading level0 row2\" >2</th>\n",
       "                        <td id=\"T_802d36d6_6e17_11eb_8eaf_0242ac1c0002row2_col0\" class=\"data row2 col0\" >olist_orders</td>\n",
       "                        <td id=\"T_802d36d6_6e17_11eb_8eaf_0242ac1c0002row2_col1\" class=\"data row2 col1\" >99441</td>\n",
       "                        <td id=\"T_802d36d6_6e17_11eb_8eaf_0242ac1c0002row2_col2\" class=\"data row2 col2\" >8</td>\n",
       "                        <td id=\"T_802d36d6_6e17_11eb_8eaf_0242ac1c0002row2_col3\" class=\"data row2 col3\" >4908</td>\n",
       "                        <td id=\"T_802d36d6_6e17_11eb_8eaf_0242ac1c0002row2_col4\" class=\"data row2 col4\" >3</td>\n",
       "                        <td id=\"T_802d36d6_6e17_11eb_8eaf_0242ac1c0002row2_col5\" class=\"data row2 col5\" >order_approved_at, order_delivered_carrier_date, order_delivered_customer_date</td>\n",
       "            </tr>\n",
       "            <tr>\n",
       "                        <th id=\"T_802d36d6_6e17_11eb_8eaf_0242ac1c0002level0_row3\" class=\"row_heading level0 row3\" >3</th>\n",
       "                        <td id=\"T_802d36d6_6e17_11eb_8eaf_0242ac1c0002row3_col0\" class=\"data row3 col0\" >olist_order_items</td>\n",
       "                        <td id=\"T_802d36d6_6e17_11eb_8eaf_0242ac1c0002row3_col1\" class=\"data row3 col1\" >112650</td>\n",
       "                        <td id=\"T_802d36d6_6e17_11eb_8eaf_0242ac1c0002row3_col2\" class=\"data row3 col2\" >7</td>\n",
       "                        <td id=\"T_802d36d6_6e17_11eb_8eaf_0242ac1c0002row3_col3\" class=\"data row3 col3\" >0</td>\n",
       "                        <td id=\"T_802d36d6_6e17_11eb_8eaf_0242ac1c0002row3_col4\" class=\"data row3 col4\" >0</td>\n",
       "                        <td id=\"T_802d36d6_6e17_11eb_8eaf_0242ac1c0002row3_col5\" class=\"data row3 col5\" ></td>\n",
       "            </tr>\n",
       "            <tr>\n",
       "                        <th id=\"T_802d36d6_6e17_11eb_8eaf_0242ac1c0002level0_row4\" class=\"row_heading level0 row4\" >4</th>\n",
       "                        <td id=\"T_802d36d6_6e17_11eb_8eaf_0242ac1c0002row4_col0\" class=\"data row4 col0\" >olist_order_payments</td>\n",
       "                        <td id=\"T_802d36d6_6e17_11eb_8eaf_0242ac1c0002row4_col1\" class=\"data row4 col1\" >103886</td>\n",
       "                        <td id=\"T_802d36d6_6e17_11eb_8eaf_0242ac1c0002row4_col2\" class=\"data row4 col2\" >5</td>\n",
       "                        <td id=\"T_802d36d6_6e17_11eb_8eaf_0242ac1c0002row4_col3\" class=\"data row4 col3\" >0</td>\n",
       "                        <td id=\"T_802d36d6_6e17_11eb_8eaf_0242ac1c0002row4_col4\" class=\"data row4 col4\" >0</td>\n",
       "                        <td id=\"T_802d36d6_6e17_11eb_8eaf_0242ac1c0002row4_col5\" class=\"data row4 col5\" ></td>\n",
       "            </tr>\n",
       "            <tr>\n",
       "                        <th id=\"T_802d36d6_6e17_11eb_8eaf_0242ac1c0002level0_row5\" class=\"row_heading level0 row5\" >5</th>\n",
       "                        <td id=\"T_802d36d6_6e17_11eb_8eaf_0242ac1c0002row5_col0\" class=\"data row5 col0\" >olist_order_reviews</td>\n",
       "                        <td id=\"T_802d36d6_6e17_11eb_8eaf_0242ac1c0002row5_col1\" class=\"data row5 col1\" >100000</td>\n",
       "                        <td id=\"T_802d36d6_6e17_11eb_8eaf_0242ac1c0002row5_col2\" class=\"data row5 col2\" >7</td>\n",
       "                        <td id=\"T_802d36d6_6e17_11eb_8eaf_0242ac1c0002row5_col3\" class=\"data row5 col3\" >146532</td>\n",
       "                        <td id=\"T_802d36d6_6e17_11eb_8eaf_0242ac1c0002row5_col4\" class=\"data row5 col4\" >2</td>\n",
       "                        <td id=\"T_802d36d6_6e17_11eb_8eaf_0242ac1c0002row5_col5\" class=\"data row5 col5\" >review_comment_title, review_comment_message</td>\n",
       "            </tr>\n",
       "            <tr>\n",
       "                        <th id=\"T_802d36d6_6e17_11eb_8eaf_0242ac1c0002level0_row6\" class=\"row_heading level0 row6\" >6</th>\n",
       "                        <td id=\"T_802d36d6_6e17_11eb_8eaf_0242ac1c0002row6_col0\" class=\"data row6 col0\" >olist_products</td>\n",
       "                        <td id=\"T_802d36d6_6e17_11eb_8eaf_0242ac1c0002row6_col1\" class=\"data row6 col1\" >32951</td>\n",
       "                        <td id=\"T_802d36d6_6e17_11eb_8eaf_0242ac1c0002row6_col2\" class=\"data row6 col2\" >9</td>\n",
       "                        <td id=\"T_802d36d6_6e17_11eb_8eaf_0242ac1c0002row6_col3\" class=\"data row6 col3\" >2448</td>\n",
       "                        <td id=\"T_802d36d6_6e17_11eb_8eaf_0242ac1c0002row6_col4\" class=\"data row6 col4\" >8</td>\n",
       "                        <td id=\"T_802d36d6_6e17_11eb_8eaf_0242ac1c0002row6_col5\" class=\"data row6 col5\" >product_category_name, product_name_lenght, product_description_lenght, product_photos_qty, product_weight_g, product_length_cm, product_height_cm, product_width_cm</td>\n",
       "            </tr>\n",
       "            <tr>\n",
       "                        <th id=\"T_802d36d6_6e17_11eb_8eaf_0242ac1c0002level0_row7\" class=\"row_heading level0 row7\" >7</th>\n",
       "                        <td id=\"T_802d36d6_6e17_11eb_8eaf_0242ac1c0002row7_col0\" class=\"data row7 col0\" >olist_sellers</td>\n",
       "                        <td id=\"T_802d36d6_6e17_11eb_8eaf_0242ac1c0002row7_col1\" class=\"data row7 col1\" >3095</td>\n",
       "                        <td id=\"T_802d36d6_6e17_11eb_8eaf_0242ac1c0002row7_col2\" class=\"data row7 col2\" >4</td>\n",
       "                        <td id=\"T_802d36d6_6e17_11eb_8eaf_0242ac1c0002row7_col3\" class=\"data row7 col3\" >0</td>\n",
       "                        <td id=\"T_802d36d6_6e17_11eb_8eaf_0242ac1c0002row7_col4\" class=\"data row7 col4\" >0</td>\n",
       "                        <td id=\"T_802d36d6_6e17_11eb_8eaf_0242ac1c0002row7_col5\" class=\"data row7 col5\" ></td>\n",
       "            </tr>\n",
       "    </tbody></table>"
      ],
      "text/plain": [
       "<pandas.io.formats.style.Styler at 0x7ff7120898d0>"
      ]
     },
     "execution_count": 6,
     "metadata": {
      "tags": []
     },
     "output_type": "execute_result"
    }
   ],
   "source": [
    "datasets = [olist_customer, olist_geolocation, olist_orders, olist_order_items, olist_order_payments,\n",
    "            olist_order_reviews, olist_products, olist_sellers]\n",
    "names = ['olist_customer', 'olist_geolocation', 'olist_orders', 'olist_order_items', 'olist_order_payments',\n",
    "         'olist_order_reviews', 'olist_products', 'olist_sellers']\n",
    "\n",
    "# Creating a DataFrame with useful information about all datasets\n",
    "data_info = pd.DataFrame()\n",
    "data_info['dataset'] = names\n",
    "data_info['n_rows'] = [df.shape[0] for df in datasets]\n",
    "data_info['n_cols'] = [df.shape[1] for df in datasets]\n",
    "data_info['total_null'] = [df.isnull().sum().sum() for df in datasets]\n",
    "data_info['qty_null_columns'] = [len([col for col, null in df.isnull().sum().items() if null > 0]) for df in datasets]\n",
    "data_info['null_columns'] = [', '.join([col for col, null in df.isnull().sum().items() if null > 0]) for df in datasets]\n",
    "\n",
    "data_info.style.background_gradient()"
   ]
  },
  {
   "cell_type": "markdown",
   "metadata": {
    "id": "t7v1j0Qcicio"
   },
   "source": [
    "### Customers Dataset\n",
    "- This dataset has information about the customer and its location. Use it to identify unique customers in the orders dataset and to find the orders delivery location.\n",
    "- At our system each order is assigned to a unique customerid. This means that the same customer will get different ids for different orders. The purpose of having a customerunique_id on the dataset is to allow you to identify customers that made repurchases at the store. Otherwise you would find that each order had a different customer associated with."
   ]
  },
  {
   "cell_type": "code",
   "execution_count": 7,
   "metadata": {
    "colab": {
     "base_uri": "https://localhost:8080/",
     "height": 204
    },
    "executionInfo": {
     "elapsed": 709,
     "status": "ok",
     "timestamp": 1613233345633,
     "user": {
      "displayName": "Arun rajan",
      "photoUrl": "https://lh3.googleusercontent.com/a-/AOh14GhKlJD7-lRzdBpsXXKX99vweYs9dgDO8xHZt7wz0g=s64",
      "userId": "16564613912059202502"
     },
     "user_tz": -330
    },
    "id": "Pc72l2tvicio",
    "outputId": "01125805-ce7c-4ab6-b398-f0092697676b",
    "scrolled": true
   },
   "outputs": [
    {
     "data": {
      "text/html": [
       "<div>\n",
       "<style scoped>\n",
       "    .dataframe tbody tr th:only-of-type {\n",
       "        vertical-align: middle;\n",
       "    }\n",
       "\n",
       "    .dataframe tbody tr th {\n",
       "        vertical-align: top;\n",
       "    }\n",
       "\n",
       "    .dataframe thead th {\n",
       "        text-align: right;\n",
       "    }\n",
       "</style>\n",
       "<table border=\"1\" class=\"dataframe\">\n",
       "  <thead>\n",
       "    <tr style=\"text-align: right;\">\n",
       "      <th></th>\n",
       "      <th>customer_id</th>\n",
       "      <th>customer_unique_id</th>\n",
       "      <th>customer_zip_code_prefix</th>\n",
       "      <th>customer_city</th>\n",
       "      <th>customer_state</th>\n",
       "    </tr>\n",
       "  </thead>\n",
       "  <tbody>\n",
       "    <tr>\n",
       "      <th>0</th>\n",
       "      <td>06b8999e2fba1a1fbc88172c00ba8bc7</td>\n",
       "      <td>861eff4711a542e4b93843c6dd7febb0</td>\n",
       "      <td>14409</td>\n",
       "      <td>franca</td>\n",
       "      <td>SP</td>\n",
       "    </tr>\n",
       "    <tr>\n",
       "      <th>1</th>\n",
       "      <td>18955e83d337fd6b2def6b18a428ac77</td>\n",
       "      <td>290c77bc529b7ac935b93aa66c333dc3</td>\n",
       "      <td>9790</td>\n",
       "      <td>sao bernardo do campo</td>\n",
       "      <td>SP</td>\n",
       "    </tr>\n",
       "    <tr>\n",
       "      <th>2</th>\n",
       "      <td>4e7b3e00288586ebd08712fdd0374a03</td>\n",
       "      <td>060e732b5b29e8181a18229c7b0b2b5e</td>\n",
       "      <td>1151</td>\n",
       "      <td>sao paulo</td>\n",
       "      <td>SP</td>\n",
       "    </tr>\n",
       "    <tr>\n",
       "      <th>3</th>\n",
       "      <td>b2b6027bc5c5109e529d4dc6358b12c3</td>\n",
       "      <td>259dac757896d24d7702b9acbbff3f3c</td>\n",
       "      <td>8775</td>\n",
       "      <td>mogi das cruzes</td>\n",
       "      <td>SP</td>\n",
       "    </tr>\n",
       "    <tr>\n",
       "      <th>4</th>\n",
       "      <td>4f2d8ab171c80ec8364f7c12e35b23ad</td>\n",
       "      <td>345ecd01c38d18a9036ed96c73b8d066</td>\n",
       "      <td>13056</td>\n",
       "      <td>campinas</td>\n",
       "      <td>SP</td>\n",
       "    </tr>\n",
       "  </tbody>\n",
       "</table>\n",
       "</div>"
      ],
      "text/plain": [
       "                        customer_id  ... customer_state\n",
       "0  06b8999e2fba1a1fbc88172c00ba8bc7  ...             SP\n",
       "1  18955e83d337fd6b2def6b18a428ac77  ...             SP\n",
       "2  4e7b3e00288586ebd08712fdd0374a03  ...             SP\n",
       "3  b2b6027bc5c5109e529d4dc6358b12c3  ...             SP\n",
       "4  4f2d8ab171c80ec8364f7c12e35b23ad  ...             SP\n",
       "\n",
       "[5 rows x 5 columns]"
      ]
     },
     "execution_count": 7,
     "metadata": {
      "tags": []
     },
     "output_type": "execute_result"
    }
   ],
   "source": [
    "olist_customer.head()"
   ]
  },
  {
   "cell_type": "code",
   "execution_count": 8,
   "metadata": {
    "colab": {
     "base_uri": "https://localhost:8080/"
    },
    "executionInfo": {
     "elapsed": 498,
     "status": "ok",
     "timestamp": 1613233346977,
     "user": {
      "displayName": "Arun rajan",
      "photoUrl": "https://lh3.googleusercontent.com/a-/AOh14GhKlJD7-lRzdBpsXXKX99vweYs9dgDO8xHZt7wz0g=s64",
      "userId": "16564613912059202502"
     },
     "user_tz": -330
    },
    "id": "X1LRS2nAicip",
    "outputId": "cf0f2059-62c9-48e3-f5f6-041cb573475c"
   },
   "outputs": [
    {
     "name": "stdout",
     "output_type": "stream",
     "text": [
      "<class 'pandas.core.frame.DataFrame'>\n",
      "RangeIndex: 99441 entries, 0 to 99440\n",
      "Data columns (total 5 columns):\n",
      " #   Column                    Non-Null Count  Dtype \n",
      "---  ------                    --------------  ----- \n",
      " 0   customer_id               99441 non-null  object\n",
      " 1   customer_unique_id        99441 non-null  object\n",
      " 2   customer_zip_code_prefix  99441 non-null  int64 \n",
      " 3   customer_city             99441 non-null  object\n",
      " 4   customer_state            99441 non-null  object\n",
      "dtypes: int64(1), object(4)\n",
      "memory usage: 3.8+ MB\n"
     ]
    }
   ],
   "source": [
    "olist_customer.info()"
   ]
  },
  {
   "cell_type": "markdown",
   "metadata": {
    "id": "7hCQ1_nAicip"
   },
   "source": [
    "#### Observations\n",
    "* There are no null values in the customers dataset\n",
    "* This Dataset has three object type columns and one numerical type column."
   ]
  },
  {
   "cell_type": "code",
   "execution_count": 9,
   "metadata": {
    "colab": {
     "base_uri": "https://localhost:8080/",
     "height": 173
    },
    "executionInfo": {
     "elapsed": 983,
     "status": "ok",
     "timestamp": 1613233349178,
     "user": {
      "displayName": "Arun rajan",
      "photoUrl": "https://lh3.googleusercontent.com/a-/AOh14GhKlJD7-lRzdBpsXXKX99vweYs9dgDO8xHZt7wz0g=s64",
      "userId": "16564613912059202502"
     },
     "user_tz": -330
    },
    "id": "jmBwaVJgiciq",
    "outputId": "8c267b47-836c-4520-e03e-23aef2c861a9"
   },
   "outputs": [
    {
     "data": {
      "text/html": [
       "<div>\n",
       "<style scoped>\n",
       "    .dataframe tbody tr th:only-of-type {\n",
       "        vertical-align: middle;\n",
       "    }\n",
       "\n",
       "    .dataframe tbody tr th {\n",
       "        vertical-align: top;\n",
       "    }\n",
       "\n",
       "    .dataframe thead th {\n",
       "        text-align: right;\n",
       "    }\n",
       "</style>\n",
       "<table border=\"1\" class=\"dataframe\">\n",
       "  <thead>\n",
       "    <tr style=\"text-align: right;\">\n",
       "      <th></th>\n",
       "      <th>customer_id</th>\n",
       "      <th>customer_unique_id</th>\n",
       "      <th>customer_city</th>\n",
       "      <th>customer_state</th>\n",
       "    </tr>\n",
       "  </thead>\n",
       "  <tbody>\n",
       "    <tr>\n",
       "      <th>count</th>\n",
       "      <td>99441</td>\n",
       "      <td>99441</td>\n",
       "      <td>99441</td>\n",
       "      <td>99441</td>\n",
       "    </tr>\n",
       "    <tr>\n",
       "      <th>unique</th>\n",
       "      <td>99441</td>\n",
       "      <td>96096</td>\n",
       "      <td>4119</td>\n",
       "      <td>27</td>\n",
       "    </tr>\n",
       "    <tr>\n",
       "      <th>top</th>\n",
       "      <td>18e4dd593a3162753b5c6081fb581862</td>\n",
       "      <td>8d50f5eadf50201ccdcedfb9e2ac8455</td>\n",
       "      <td>sao paulo</td>\n",
       "      <td>SP</td>\n",
       "    </tr>\n",
       "    <tr>\n",
       "      <th>freq</th>\n",
       "      <td>1</td>\n",
       "      <td>17</td>\n",
       "      <td>15540</td>\n",
       "      <td>41746</td>\n",
       "    </tr>\n",
       "  </tbody>\n",
       "</table>\n",
       "</div>"
      ],
      "text/plain": [
       "                             customer_id  ... customer_state\n",
       "count                              99441  ...          99441\n",
       "unique                             99441  ...             27\n",
       "top     18e4dd593a3162753b5c6081fb581862  ...             SP\n",
       "freq                                   1  ...          41746\n",
       "\n",
       "[4 rows x 4 columns]"
      ]
     },
     "execution_count": 9,
     "metadata": {
      "tags": []
     },
     "output_type": "execute_result"
    }
   ],
   "source": [
    "olist_customer.describe(include=np.object)"
   ]
  },
  {
   "cell_type": "markdown",
   "metadata": {
    "id": "7k7hbEP-iciq"
   },
   "source": [
    "#### Observations\n",
    "* There are 99441 unique customer_ids and each order has unique customer_id.\n",
    "* Customer_unique_id has a total count of 99441,out of these 96096 are unique and most common customer id is `8d50f5eadf50201ccdcedfb9e2ac8455` with the frequency of 17.\n",
    "* Customer_city has total count of 99441 and it has 4119 unique cities,most of the purchase occurs at sao paulo with a frequency of 15540,in others words there are more customers are from sao paulo.\n",
    "* Customer_state has 27 unique states and the state SP tops the list with a frequency of 41746.\n",
    "##### SP - here stands for Sao paulo state and its understood that its the state for the city sao paulo.\n",
    "##### São Paulo is the richest and most populous state of Brazil, ranking 16th and 27th worldwide, respectively. It is the foremost industrial centre in Latin America. No wonder, most of the purchases are from this state. Rio de janeiro be the second richest in the country."
   ]
  },
  {
   "cell_type": "markdown",
   "metadata": {
    "id": "SnsW0TTGicir"
   },
   "source": [
    "### Univariate Analysis\n",
    "#### Feature-1 customer_id  "
   ]
  },
  {
   "cell_type": "code",
   "execution_count": 10,
   "metadata": {
    "colab": {
     "base_uri": "https://localhost:8080/"
    },
    "executionInfo": {
     "elapsed": 820,
     "status": "ok",
     "timestamp": 1613233352218,
     "user": {
      "displayName": "Arun rajan",
      "photoUrl": "https://lh3.googleusercontent.com/a-/AOh14GhKlJD7-lRzdBpsXXKX99vweYs9dgDO8xHZt7wz0g=s64",
      "userId": "16564613912059202502"
     },
     "user_tz": -330
    },
    "id": "oYEZT5Cxicir",
    "outputId": "b19fe6e4-56a5-47d3-c6d5-3826cb7f74f6"
   },
   "outputs": [
    {
     "data": {
      "text/plain": [
       "99441"
      ]
     },
     "execution_count": 10,
     "metadata": {
      "tags": []
     },
     "output_type": "execute_result"
    }
   ],
   "source": [
    "olist_customer['customer_id'].nunique()"
   ]
  },
  {
   "cell_type": "markdown",
   "metadata": {
    "id": "RLvETHc8icis"
   },
   "source": [
    "Each order is assigned to a unique customer_id. The means that the same customer will get different ids for different orders"
   ]
  },
  {
   "cell_type": "markdown",
   "metadata": {
    "id": "xZraqic8icis"
   },
   "source": [
    "#### Feature-2 customer_unique_id"
   ]
  },
  {
   "cell_type": "code",
   "execution_count": 11,
   "metadata": {
    "colab": {
     "base_uri": "https://localhost:8080/"
    },
    "executionInfo": {
     "elapsed": 710,
     "status": "ok",
     "timestamp": 1613233354668,
     "user": {
      "displayName": "Arun rajan",
      "photoUrl": "https://lh3.googleusercontent.com/a-/AOh14GhKlJD7-lRzdBpsXXKX99vweYs9dgDO8xHZt7wz0g=s64",
      "userId": "16564613912059202502"
     },
     "user_tz": -330
    },
    "id": "Grp3y8ikicis",
    "outputId": "963c87fa-f3eb-45c6-a23e-69ce0c8a438f",
    "scrolled": true
   },
   "outputs": [
    {
     "data": {
      "text/plain": [
       "1    93099\n",
       "Name: customer_unique_id, dtype: int64"
      ]
     },
     "execution_count": 11,
     "metadata": {
      "tags": []
     },
     "output_type": "execute_result"
    }
   ],
   "source": [
    "olist_customer['customer_unique_id'].value_counts()[olist_customer['customer_unique_id'].value_counts() == 1].value_counts()"
   ]
  },
  {
   "cell_type": "code",
   "execution_count": 12,
   "metadata": {
    "colab": {
     "base_uri": "https://localhost:8080/"
    },
    "executionInfo": {
     "elapsed": 527,
     "status": "ok",
     "timestamp": 1613233355625,
     "user": {
      "displayName": "Arun rajan",
      "photoUrl": "https://lh3.googleusercontent.com/a-/AOh14GhKlJD7-lRzdBpsXXKX99vweYs9dgDO8xHZt7wz0g=s64",
      "userId": "16564613912059202502"
     },
     "user_tz": -330
    },
    "id": "AJSDO1zIicit",
    "outputId": "9d7e057b-6cff-4e2b-ed3e-1bf90a35806a"
   },
   "outputs": [
    {
     "data": {
      "text/plain": [
       "2997"
      ]
     },
     "execution_count": 12,
     "metadata": {
      "tags": []
     },
     "output_type": "execute_result"
    }
   ],
   "source": [
    "olist_customer['customer_unique_id'].nunique() - 93099"
   ]
  },
  {
   "cell_type": "code",
   "execution_count": 13,
   "metadata": {
    "colab": {
     "base_uri": "https://localhost:8080/"
    },
    "executionInfo": {
     "elapsed": 574,
     "status": "ok",
     "timestamp": 1613233356085,
     "user": {
      "displayName": "Arun rajan",
      "photoUrl": "https://lh3.googleusercontent.com/a-/AOh14GhKlJD7-lRzdBpsXXKX99vweYs9dgDO8xHZt7wz0g=s64",
      "userId": "16564613912059202502"
     },
     "user_tz": -330
    },
    "id": "ufq57R8Kiciu",
    "outputId": "d5433a3f-49e4-490c-fa6a-acaa1c0b7f79"
   },
   "outputs": [
    {
     "data": {
      "text/plain": [
       "8d50f5eadf50201ccdcedfb9e2ac8455    17\n",
       "3e43e6105506432c953e165fb2acf44c     9\n",
       "1b6c7548a2a1f9037c1fd3ddfed95f33     7\n",
       "ca77025e7201e3b30c44b472ff346268     7\n",
       "6469f99c1f9dfae7733b25662e7f1782     7\n",
       "                                    ..\n",
       "e2889baccec81ed3bed4d66c1c675cb2     2\n",
       "740b9a28b39035534bf3425b19016263     2\n",
       "cabef558b42bd1d2578afc81048e8415     2\n",
       "f06d35a600b606329886d392afda66c7     2\n",
       "eac6dbc8ecd0a2f08ed8e53d18f0e0d0     2\n",
       "Name: customer_unique_id, Length: 2997, dtype: int64"
      ]
     },
     "execution_count": 13,
     "metadata": {
      "tags": []
     },
     "output_type": "execute_result"
    }
   ],
   "source": [
    "olist_customer['customer_unique_id'].value_counts().head(2997)"
   ]
  },
  {
   "cell_type": "code",
   "execution_count": 14,
   "metadata": {
    "colab": {
     "base_uri": "https://localhost:8080/"
    },
    "executionInfo": {
     "elapsed": 731,
     "status": "ok",
     "timestamp": 1613233358084,
     "user": {
      "displayName": "Arun rajan",
      "photoUrl": "https://lh3.googleusercontent.com/a-/AOh14GhKlJD7-lRzdBpsXXKX99vweYs9dgDO8xHZt7wz0g=s64",
      "userId": "16564613912059202502"
     },
     "user_tz": -330
    },
    "id": "siYXf7DAiciu",
    "outputId": "376d9105-6d5b-45fb-a314-2dd8088083aa"
   },
   "outputs": [
    {
     "data": {
      "text/plain": [
       "17    1\n",
       "Name: customer_unique_id, dtype: int64"
      ]
     },
     "execution_count": 14,
     "metadata": {
      "tags": []
     },
     "output_type": "execute_result"
    }
   ],
   "source": [
    "olist_customer['customer_unique_id'].value_counts()[olist_customer['customer_unique_id'].value_counts() > 10].value_counts()"
   ]
  },
  {
   "cell_type": "code",
   "execution_count": 15,
   "metadata": {
    "colab": {
     "base_uri": "https://localhost:8080/"
    },
    "executionInfo": {
     "elapsed": 768,
     "status": "ok",
     "timestamp": 1613233359551,
     "user": {
      "displayName": "Arun rajan",
      "photoUrl": "https://lh3.googleusercontent.com/a-/AOh14GhKlJD7-lRzdBpsXXKX99vweYs9dgDO8xHZt7wz0g=s64",
      "userId": "16564613912059202502"
     },
     "user_tz": -330
    },
    "id": "A-n0Hzi8iciv",
    "outputId": "d2360e47-1386-4ec0-c204-094198c8812c"
   },
   "outputs": [
    {
     "data": {
      "text/plain": [
       "6     6\n",
       "7     3\n",
       "9     1\n",
       "17    1\n",
       "Name: customer_unique_id, dtype: int64"
      ]
     },
     "execution_count": 15,
     "metadata": {
      "tags": []
     },
     "output_type": "execute_result"
    }
   ],
   "source": [
    "olist_customer['customer_unique_id'].value_counts()[olist_customer['customer_unique_id'].value_counts() > 5].value_counts()"
   ]
  },
  {
   "cell_type": "code",
   "execution_count": 16,
   "metadata": {
    "colab": {
     "base_uri": "https://localhost:8080/"
    },
    "executionInfo": {
     "elapsed": 725,
     "status": "ok",
     "timestamp": 1613233362004,
     "user": {
      "displayName": "Arun rajan",
      "photoUrl": "https://lh3.googleusercontent.com/a-/AOh14GhKlJD7-lRzdBpsXXKX99vweYs9dgDO8xHZt7wz0g=s64",
      "userId": "16564613912059202502"
     },
     "user_tz": -330
    },
    "id": "wQ3f9YVdiciv",
    "outputId": "61913b07-2129-498f-a243-ccc792c66d68"
   },
   "outputs": [
    {
     "data": {
      "text/plain": [
       "2    2745\n",
       "Name: customer_unique_id, dtype: int64"
      ]
     },
     "execution_count": 16,
     "metadata": {
      "tags": []
     },
     "output_type": "execute_result"
    }
   ],
   "source": [
    "olist_customer['customer_unique_id'].value_counts()[olist_customer['customer_unique_id'].value_counts() == 2].value_counts()"
   ]
  },
  {
   "cell_type": "code",
   "execution_count": 17,
   "metadata": {
    "colab": {
     "base_uri": "https://localhost:8080/",
     "height": 511
    },
    "executionInfo": {
     "elapsed": 1467,
     "status": "ok",
     "timestamp": 1613233364500,
     "user": {
      "displayName": "Arun rajan",
      "photoUrl": "https://lh3.googleusercontent.com/a-/AOh14GhKlJD7-lRzdBpsXXKX99vweYs9dgDO8xHZt7wz0g=s64",
      "userId": "16564613912059202502"
     },
     "user_tz": -330
    },
    "id": "CJ_QDnUNiciv",
    "outputId": "9831a1ac-1d54-4822-c661-155a0f78a239"
   },
   "outputs": [
    {
     "data": {
      "image/png": "[encoded data removed]",
      "text/plain": [
       "<Figure size 720x360 with 1 Axes>"
      ]
     },
     "metadata": {
      "needs_background": "light",
      "tags": []
     },
     "output_type": "display_data"
    }
   ],
   "source": [
    "## selecting top 10\n",
    "plt.figure(figsize=(10,5))\n",
    "olist_customer['customer_unique_id'].value_counts().head(10).plot(kind='bar')\n",
    "plt.show()"
   ]
  },
  {
   "cell_type": "markdown",
   "metadata": {
    "id": "1yBXeQYficiw"
   },
   "source": [
    "#### Observations\n",
    "* The purchase frequency of top 10 customers in the year 2016 to 2018 ranges from 17 to 6.\n",
    "* There are only 2997 customers who shopped more than once.\n",
    "* There are 93099 one time shoppers.\n",
    "* Only 1 shopper has purchased more than 10 times.\n",
    "* There are 11 shoppers who purchased more than 5 times.\n",
    "* There are 2745 customers who purchased only twice."
   ]
  },
  {
   "cell_type": "markdown",
   "metadata": {
    "id": "Waew9KeXiciw"
   },
   "source": [
    "#### Feature-3 customer-city"
   ]
  },
  {
   "cell_type": "code",
   "execution_count": 18,
   "metadata": {
    "colab": {
     "base_uri": "https://localhost:8080/"
    },
    "executionInfo": {
     "elapsed": 723,
     "status": "ok",
     "timestamp": 1613233375201,
     "user": {
      "displayName": "Arun rajan",
      "photoUrl": "https://lh3.googleusercontent.com/a-/AOh14GhKlJD7-lRzdBpsXXKX99vweYs9dgDO8xHZt7wz0g=s64",
      "userId": "16564613912059202502"
     },
     "user_tz": -330
    },
    "id": "xDEH2luiiciw",
    "outputId": "5fc7c587-0276-4fcd-bd8a-3f1138e33563",
    "scrolled": true
   },
   "outputs": [
    {
     "data": {
      "text/plain": [
       "sao paulo            15540\n",
       "rio de janeiro        6882\n",
       "belo horizonte        2773\n",
       "brasilia              2131\n",
       "curitiba              1521\n",
       "                     ...  \n",
       "canto do buriti          1\n",
       "jaquirana                1\n",
       "buriti alegre            1\n",
       "sao jose do piaui        1\n",
       "urucuia                  1\n",
       "Name: customer_city, Length: 4119, dtype: int64"
      ]
     },
     "execution_count": 18,
     "metadata": {
      "tags": []
     },
     "output_type": "execute_result"
    }
   ],
   "source": [
    "olist_customer['customer_city'].value_counts()"
   ]
  },
  {
   "cell_type": "code",
   "execution_count": 20,
   "metadata": {
    "colab": {
     "base_uri": "https://localhost:8080/"
    },
    "executionInfo": {
     "elapsed": 751,
     "status": "ok",
     "timestamp": 1613233384792,
     "user": {
      "displayName": "Arun rajan",
      "photoUrl": "https://lh3.googleusercontent.com/a-/AOh14GhKlJD7-lRzdBpsXXKX99vweYs9dgDO8xHZt7wz0g=s64",
      "userId": "16564613912059202502"
     },
     "user_tz": -330
    },
    "id": "yySU2h1Jiciw",
    "outputId": "ef35383a-70aa-4703-913f-fecba5fc33a1"
   },
   "outputs": [
    {
     "data": {
      "text/plain": [
       "1144"
      ]
     },
     "execution_count": 20,
     "metadata": {
      "tags": []
     },
     "output_type": "execute_result"
    }
   ],
   "source": [
    "olist_customer['customer_city'].value_counts()[olist_customer['customer_city'].value_counts() == 1].count()"
   ]
  },
  {
   "cell_type": "code",
   "execution_count": 21,
   "metadata": {
    "colab": {
     "base_uri": "https://localhost:8080/"
    },
    "executionInfo": {
     "elapsed": 710,
     "status": "ok",
     "timestamp": 1613233386426,
     "user": {
      "displayName": "Arun rajan",
      "photoUrl": "https://lh3.googleusercontent.com/a-/AOh14GhKlJD7-lRzdBpsXXKX99vweYs9dgDO8xHZt7wz0g=s64",
      "userId": "16564613912059202502"
     },
     "user_tz": -330
    },
    "id": "25XnUdqFicix",
    "outputId": "8baaee60-fbe8-4778-f163-946aae1bae2c"
   },
   "outputs": [
    {
     "data": {
      "text/plain": [
       "2975"
      ]
     },
     "execution_count": 21,
     "metadata": {
      "tags": []
     },
     "output_type": "execute_result"
    }
   ],
   "source": [
    "4119 - 1144"
   ]
  },
  {
   "cell_type": "code",
   "execution_count": 22,
   "metadata": {
    "colab": {
     "base_uri": "https://localhost:8080/"
    },
    "executionInfo": {
     "elapsed": 689,
     "status": "ok",
     "timestamp": 1613233387782,
     "user": {
      "displayName": "Arun rajan",
      "photoUrl": "https://lh3.googleusercontent.com/a-/AOh14GhKlJD7-lRzdBpsXXKX99vweYs9dgDO8xHZt7wz0g=s64",
      "userId": "16564613912059202502"
     },
     "user_tz": -330
    },
    "id": "whUknvgHicix",
    "outputId": "45e0cd4b-3c21-40a5-a036-a46002f21374",
    "scrolled": true
   },
   "outputs": [
    {
     "data": {
      "text/plain": [
       "sao paulo         15540\n",
       "rio de janeiro     6882\n",
       "belo horizonte     2773\n",
       "brasilia           2131\n",
       "curitiba           1521\n",
       "                  ...  \n",
       "iacri                 2\n",
       "avelino lopes         2\n",
       "itatiaiucu            2\n",
       "vargem                2\n",
       "getulina              2\n",
       "Name: customer_city, Length: 2975, dtype: int64"
      ]
     },
     "execution_count": 22,
     "metadata": {
      "tags": []
     },
     "output_type": "execute_result"
    }
   ],
   "source": [
    "olist_customer['customer_city'].value_counts().head(2975)"
   ]
  },
  {
   "cell_type": "code",
   "execution_count": 23,
   "metadata": {
    "colab": {
     "base_uri": "https://localhost:8080/"
    },
    "executionInfo": {
     "elapsed": 749,
     "status": "ok",
     "timestamp": 1613233389184,
     "user": {
      "displayName": "Arun rajan",
      "photoUrl": "https://lh3.googleusercontent.com/a-/AOh14GhKlJD7-lRzdBpsXXKX99vweYs9dgDO8xHZt7wz0g=s64",
      "userId": "16564613912059202502"
     },
     "user_tz": -330
    },
    "id": "nmCdHF4z-dtl",
    "outputId": "44b0f813-0bb7-4584-ab57-c51f5a490791"
   },
   "outputs": [
    {
     "data": {
      "text/plain": [
       "4119"
      ]
     },
     "execution_count": 23,
     "metadata": {
      "tags": []
     },
     "output_type": "execute_result"
    }
   ],
   "source": [
    "olist_customer['customer_city'].nunique()"
   ]
  },
  {
   "cell_type": "code",
   "execution_count": 24,
   "metadata": {
    "colab": {
     "base_uri": "https://localhost:8080/",
     "height": 498
    },
    "executionInfo": {
     "elapsed": 1206,
     "status": "ok",
     "timestamp": 1613233391082,
     "user": {
      "displayName": "Arun rajan",
      "photoUrl": "https://lh3.googleusercontent.com/a-/AOh14GhKlJD7-lRzdBpsXXKX99vweYs9dgDO8xHZt7wz0g=s64",
      "userId": "16564613912059202502"
     },
     "user_tz": -330
    },
    "id": "XcpVlT_t_iUl",
    "outputId": "61102b9c-d8ed-4e20-b7f9-67cb3294186b"
   },
   "outputs": [
    {
     "data": {
      "image/png": "[encoded data removed]",
      "text/plain": [
       "<Figure size 1152x576 with 1 Axes>"
      ]
     },
     "metadata": {
      "needs_background": "light",
      "tags": []
     },
     "output_type": "display_data"
    }
   ],
   "source": [
    "c = olist_customer.groupby('customer_city')['customer_id'].nunique().sort_values(ascending=False)\n",
    "c1 = c.head(10)\n",
    "plt.figure(figsize=(16,8))\n",
    "c1.plot(kind='bar',rot=0)\n",
    "plt.show()"
   ]
  },
  {
   "cell_type": "code",
   "execution_count": 25,
   "metadata": {
    "colab": {
     "base_uri": "https://localhost:8080/"
    },
    "executionInfo": {
     "elapsed": 501,
     "status": "ok",
     "timestamp": 1613233392365,
     "user": {
      "displayName": "Arun rajan",
      "photoUrl": "https://lh3.googleusercontent.com/a-/AOh14GhKlJD7-lRzdBpsXXKX99vweYs9dgDO8xHZt7wz0g=s64",
      "userId": "16564613912059202502"
     },
     "user_tz": -330
    },
    "id": "mksc-In5iciy",
    "outputId": "b9259699-4376-4694-8491-554a1629df98"
   },
   "outputs": [
    {
     "data": {
      "text/plain": [
       "35042"
      ]
     },
     "execution_count": 25,
     "metadata": {
      "tags": []
     },
     "output_type": "execute_result"
    }
   ],
   "source": [
    "## Total customers from the top 10 cities\n",
    "c1.sum()"
   ]
  },
  {
   "cell_type": "code",
   "execution_count": 26,
   "metadata": {
    "colab": {
     "base_uri": "https://localhost:8080/"
    },
    "executionInfo": {
     "elapsed": 1090,
     "status": "ok",
     "timestamp": 1613233393988,
     "user": {
      "displayName": "Arun rajan",
      "photoUrl": "https://lh3.googleusercontent.com/a-/AOh14GhKlJD7-lRzdBpsXXKX99vweYs9dgDO8xHZt7wz0g=s64",
      "userId": "16564613912059202502"
     },
     "user_tz": -330
    },
    "id": "P_32kGQiBgXy",
    "outputId": "544a447e-5222-4e32-8d71-824026b83213"
   },
   "outputs": [
    {
     "name": "stdout",
     "output_type": "stream",
     "text": [
      "Top 10 cities covers 35.2 percentage of all the orders\n"
     ]
    }
   ],
   "source": [
    "print('Top 10 cities covers',round(c1.sum()/olist_customer.shape[0]*100,1),'percentage of all the orders')"
   ]
  },
  {
   "cell_type": "markdown",
   "metadata": {
    "id": "HdmA0CX6iciy"
   },
   "source": [
    "#### Observations\n",
    "* Sao paulo,rio de janeiro and belo horizonte are the top 3 cities which has more customers.\n",
    "* A total of 35042 customers are from the top 10 shopping cities.\n",
    "* There are 1144 cities where shopping is done only once.\n",
    "* Top 10 cities covers 35.2 percentage of all the orders"
   ]
  },
  {
   "cell_type": "markdown",
   "metadata": {
    "id": "9SR9A18Siciy"
   },
   "source": [
    "#### Feature-4 customer-state"
   ]
  },
  {
   "cell_type": "code",
   "execution_count": 27,
   "metadata": {
    "colab": {
     "base_uri": "https://localhost:8080/",
     "height": 326
    },
    "executionInfo": {
     "elapsed": 771,
     "status": "ok",
     "timestamp": 1613233396516,
     "user": {
      "displayName": "Arun rajan",
      "photoUrl": "https://lh3.googleusercontent.com/a-/AOh14GhKlJD7-lRzdBpsXXKX99vweYs9dgDO8xHZt7wz0g=s64",
      "userId": "16564613912059202502"
     },
     "user_tz": -330
    },
    "id": "mZ2-4Gpeiciy",
    "outputId": "489315eb-cce5-4efd-8e73-7a35c8b2930b"
   },
   "outputs": [
    {
     "data": {
      "image/png": "[encoded data removed]",
      "text/plain": [
       "<Figure size 720x360 with 1 Axes>"
      ]
     },
     "metadata": {
      "needs_background": "light",
      "tags": []
     },
     "output_type": "display_data"
    }
   ],
   "source": [
    "## Top-10 customer states\n",
    "plt.figure(figsize=(10,5))\n",
    "olist_customer['customer_state'].value_counts().head(10).plot(kind='bar')\n",
    "plt.show()"
   ]
  },
  {
   "cell_type": "code",
   "execution_count": 28,
   "metadata": {
    "colab": {
     "base_uri": "https://localhost:8080/",
     "height": 325
    },
    "executionInfo": {
     "elapsed": 1086,
     "status": "ok",
     "timestamp": 1613233398158,
     "user": {
      "displayName": "Arun rajan",
      "photoUrl": "https://lh3.googleusercontent.com/a-/AOh14GhKlJD7-lRzdBpsXXKX99vweYs9dgDO8xHZt7wz0g=s64",
      "userId": "16564613912059202502"
     },
     "user_tz": -330
    },
    "id": "ZnKaMKGKiciz",
    "outputId": "e578f7bc-9d4c-458e-e38a-bf8528e8889c"
   },
   "outputs": [
    {
     "data": {
      "image/png": "[encoded data removed]",
      "text/plain": [
       "<Figure size 720x360 with 1 Axes>"
      ]
     },
     "metadata": {
      "needs_background": "light",
      "tags": []
     },
     "output_type": "display_data"
    }
   ],
   "source": [
    "## Bottom-10 customer states\n",
    "plt.figure(figsize=(10,5))\n",
    "olist_customer['customer_state'].value_counts().tail(10).plot(kind='bar')\n",
    "plt.show()"
   ]
  },
  {
   "cell_type": "markdown",
   "metadata": {
    "id": "f09DIFSZici2"
   },
   "source": [
    "#### Observations\n",
    "* More customers shop from the states SP, RJ, MG, whereas the number of shoppers from AC, AP, RR are the least."
   ]
  },
  {
   "cell_type": "code",
   "execution_count": 29,
   "metadata": {
    "colab": {
     "base_uri": "https://localhost:8080/"
    },
    "executionInfo": {
     "elapsed": 830,
     "status": "ok",
     "timestamp": 1613233400235,
     "user": {
      "displayName": "Arun rajan",
      "photoUrl": "https://lh3.googleusercontent.com/a-/AOh14GhKlJD7-lRzdBpsXXKX99vweYs9dgDO8xHZt7wz0g=s64",
      "userId": "16564613912059202502"
     },
     "user_tz": -330
    },
    "id": "l3F0qUUsici2",
    "outputId": "41936364-0861-4fd5-b5c3-dfa1aee6332e"
   },
   "outputs": [
    {
     "data": {
      "text/plain": [
       "22790    142\n",
       "24220    124\n",
       "22793    121\n",
       "24230    117\n",
       "22775    110\n",
       "        ... \n",
       "59820      1\n",
       "47590      1\n",
       "56313      1\n",
       "44023      1\n",
       "39113      1\n",
       "Name: customer_zip_code_prefix, Length: 14994, dtype: int64"
      ]
     },
     "execution_count": 29,
     "metadata": {
      "tags": []
     },
     "output_type": "execute_result"
    }
   ],
   "source": [
    "## customer_zipcode\n",
    "olist_customer['customer_zip_code_prefix'].value_counts()"
   ]
  },
  {
   "cell_type": "code",
   "execution_count": 30,
   "metadata": {
    "colab": {
     "base_uri": "https://localhost:8080/",
     "height": 287
    },
    "executionInfo": {
     "elapsed": 1011,
     "status": "ok",
     "timestamp": 1613233401708,
     "user": {
      "displayName": "Arun rajan",
      "photoUrl": "https://lh3.googleusercontent.com/a-/AOh14GhKlJD7-lRzdBpsXXKX99vweYs9dgDO8xHZt7wz0g=s64",
      "userId": "16564613912059202502"
     },
     "user_tz": -330
    },
    "id": "feHPu7Hfici3",
    "outputId": "214bb364-522c-4613-8ebf-4592dd610252"
   },
   "outputs": [
    {
     "data": {
      "image/png": "[encoded data removed]",
      "text/plain": [
       "<Figure size 432x288 with 1 Axes>"
      ]
     },
     "metadata": {
      "needs_background": "light",
      "tags": []
     },
     "output_type": "display_data"
    }
   ],
   "source": [
    "olist_customer['customer_zip_code_prefix'].value_counts().head(10).plot(kind='bar')\n",
    "plt.show()"
   ]
  },
  {
   "cell_type": "code",
   "execution_count": 31,
   "metadata": {
    "colab": {
     "base_uri": "https://localhost:8080/"
    },
    "executionInfo": {
     "elapsed": 859,
     "status": "ok",
     "timestamp": 1613233403240,
     "user": {
      "displayName": "Arun rajan",
      "photoUrl": "https://lh3.googleusercontent.com/a-/AOh14GhKlJD7-lRzdBpsXXKX99vweYs9dgDO8xHZt7wz0g=s64",
      "userId": "16564613912059202502"
     },
     "user_tz": -330
    },
    "id": "h9B8UlnAEAuu",
    "outputId": "d46fe8c2-de57-4784-cd5a-9011445d5a15"
   },
   "outputs": [
    {
     "name": "stdout",
     "output_type": "stream",
     "text": [
      "Products were delivered the most frequently, 142 times, to the 22790 zip code.\n"
     ]
    }
   ],
   "source": [
    "zips = olist_customer.groupby('customer_zip_code_prefix')['customer_id'].nunique().sort_values(ascending=False)\n",
    "print(\"Products were delivered the most frequently,\",zips.iloc[0],\"times, to the\", zips.index[0], \"zip code.\")"
   ]
  },
  {
   "cell_type": "markdown",
   "metadata": {
    "id": "E06dt6WBEczC"
   },
   "source": [
    "Merging "
   ]
  },
  {
   "cell_type": "code",
   "execution_count": 32,
   "metadata": {
    "executionInfo": {
     "elapsed": 1686,
     "status": "ok",
     "timestamp": 1613233406050,
     "user": {
      "displayName": "Arun rajan",
      "photoUrl": "https://lh3.googleusercontent.com/a-/AOh14GhKlJD7-lRzdBpsXXKX99vweYs9dgDO8xHZt7wz0g=s64",
      "userId": "16564613912059202502"
     },
     "user_tz": -330
    },
    "id": "jnazv2EKKrwe"
   },
   "outputs": [],
   "source": [
    "## Joining orders, payments and customers,items,products,category\n",
    "ord_pay = pd.merge(olist_orders,olist_order_payments,on='order_id')\n",
    "ord_pay = ord_pay.merge(olist_customer,on='customer_id')\n",
    "ord_pay = ord_pay.merge(olist_order_items,on='order_id')\n",
    "ord_pay = ord_pay.merge(olist_products,on='product_id')\n",
    "ord_pay = ord_pay.merge(olist_products_translation,on='product_category_name')\n",
    "ord_pay = ord_pay.merge(olist_sellers,on='seller_id')"
   ]
  },
  {
   "cell_type": "code",
   "execution_count": 33,
   "metadata": {
    "colab": {
     "base_uri": "https://localhost:8080/",
     "height": 224
    },
    "executionInfo": {
     "elapsed": 524,
     "status": "ok",
     "timestamp": 1613233407063,
     "user": {
      "displayName": "Arun rajan",
      "photoUrl": "https://lh3.googleusercontent.com/a-/AOh14GhKlJD7-lRzdBpsXXKX99vweYs9dgDO8xHZt7wz0g=s64",
      "userId": "16564613912059202502"
     },
     "user_tz": -330
    },
    "id": "0_0_lKkrLxNZ",
    "outputId": "b85075e1-3932-46bf-9677-6663175e8245"
   },
   "outputs": [
    {
     "data": {
      "text/html": [
       "<div>\n",
       "<style scoped>\n",
       "    .dataframe tbody tr th:only-of-type {\n",
       "        vertical-align: middle;\n",
       "    }\n",
       "\n",
       "    .dataframe tbody tr th {\n",
       "        vertical-align: top;\n",
       "    }\n",
       "\n",
       "    .dataframe thead th {\n",
       "        text-align: right;\n",
       "    }\n",
       "</style>\n",
       "<table border=\"1\" class=\"dataframe\">\n",
       "  <thead>\n",
       "    <tr style=\"text-align: right;\">\n",
       "      <th></th>\n",
       "      <th>order_id</th>\n",
       "      <th>customer_id</th>\n",
       "      <th>order_status</th>\n",
       "      <th>order_purchase_timestamp</th>\n",
       "      <th>order_approved_at</th>\n",
       "      <th>order_delivered_carrier_date</th>\n",
       "      <th>order_delivered_customer_date</th>\n",
       "      <th>order_estimated_delivery_date</th>\n",
       "      <th>payment_sequential</th>\n",
       "      <th>payment_type</th>\n",
       "      <th>payment_installments</th>\n",
       "      <th>payment_value</th>\n",
       "      <th>customer_unique_id</th>\n",
       "      <th>customer_zip_code_prefix</th>\n",
       "      <th>customer_city</th>\n",
       "      <th>customer_state</th>\n",
       "      <th>order_item_id</th>\n",
       "      <th>product_id</th>\n",
       "      <th>seller_id</th>\n",
       "      <th>shipping_limit_date</th>\n",
       "      <th>price</th>\n",
       "      <th>freight_value</th>\n",
       "      <th>product_category_name</th>\n",
       "      <th>product_name_lenght</th>\n",
       "      <th>product_description_lenght</th>\n",
       "      <th>product_photos_qty</th>\n",
       "      <th>product_weight_g</th>\n",
       "      <th>product_length_cm</th>\n",
       "      <th>product_height_cm</th>\n",
       "      <th>product_width_cm</th>\n",
       "      <th>product_category_name_english</th>\n",
       "      <th>seller_zip_code_prefix</th>\n",
       "      <th>seller_city</th>\n",
       "      <th>seller_state</th>\n",
       "    </tr>\n",
       "  </thead>\n",
       "  <tbody>\n",
       "    <tr>\n",
       "      <th>0</th>\n",
       "      <td>e481f51cbdc54678b7cc49136f2d6af7</td>\n",
       "      <td>9ef432eb6251297304e76186b10a928d</td>\n",
       "      <td>delivered</td>\n",
       "      <td>2017-10-02 10:56:33</td>\n",
       "      <td>2017-10-02 11:07:15</td>\n",
       "      <td>2017-10-04 19:55:00</td>\n",
       "      <td>2017-10-10 21:25:13</td>\n",
       "      <td>2017-10-18 00:00:00</td>\n",
       "      <td>1</td>\n",
       "      <td>credit_card</td>\n",
       "      <td>1</td>\n",
       "      <td>18.12</td>\n",
       "      <td>7c396fd4830fd04220f754e42b4e5bff</td>\n",
       "      <td>3149</td>\n",
       "      <td>sao paulo</td>\n",
       "      <td>SP</td>\n",
       "      <td>1</td>\n",
       "      <td>87285b34884572647811a353c7ac498a</td>\n",
       "      <td>3504c0cb71d7fa48d967e0e4c94d59d9</td>\n",
       "      <td>2017-10-06 11:07:15</td>\n",
       "      <td>29.99</td>\n",
       "      <td>8.72</td>\n",
       "      <td>utilidades_domesticas</td>\n",
       "      <td>40.0</td>\n",
       "      <td>268.0</td>\n",
       "      <td>4.0</td>\n",
       "      <td>500.0</td>\n",
       "      <td>19.0</td>\n",
       "      <td>8.0</td>\n",
       "      <td>13.0</td>\n",
       "      <td>housewares</td>\n",
       "      <td>9350</td>\n",
       "      <td>maua</td>\n",
       "      <td>SP</td>\n",
       "    </tr>\n",
       "    <tr>\n",
       "      <th>1</th>\n",
       "      <td>e481f51cbdc54678b7cc49136f2d6af7</td>\n",
       "      <td>9ef432eb6251297304e76186b10a928d</td>\n",
       "      <td>delivered</td>\n",
       "      <td>2017-10-02 10:56:33</td>\n",
       "      <td>2017-10-02 11:07:15</td>\n",
       "      <td>2017-10-04 19:55:00</td>\n",
       "      <td>2017-10-10 21:25:13</td>\n",
       "      <td>2017-10-18 00:00:00</td>\n",
       "      <td>3</td>\n",
       "      <td>voucher</td>\n",
       "      <td>1</td>\n",
       "      <td>2.00</td>\n",
       "      <td>7c396fd4830fd04220f754e42b4e5bff</td>\n",
       "      <td>3149</td>\n",
       "      <td>sao paulo</td>\n",
       "      <td>SP</td>\n",
       "      <td>1</td>\n",
       "      <td>87285b34884572647811a353c7ac498a</td>\n",
       "      <td>3504c0cb71d7fa48d967e0e4c94d59d9</td>\n",
       "      <td>2017-10-06 11:07:15</td>\n",
       "      <td>29.99</td>\n",
       "      <td>8.72</td>\n",
       "      <td>utilidades_domesticas</td>\n",
       "      <td>40.0</td>\n",
       "      <td>268.0</td>\n",
       "      <td>4.0</td>\n",
       "      <td>500.0</td>\n",
       "      <td>19.0</td>\n",
       "      <td>8.0</td>\n",
       "      <td>13.0</td>\n",
       "      <td>housewares</td>\n",
       "      <td>9350</td>\n",
       "      <td>maua</td>\n",
       "      <td>SP</td>\n",
       "    </tr>\n",
       "    <tr>\n",
       "      <th>2</th>\n",
       "      <td>e481f51cbdc54678b7cc49136f2d6af7</td>\n",
       "      <td>9ef432eb6251297304e76186b10a928d</td>\n",
       "      <td>delivered</td>\n",
       "      <td>2017-10-02 10:56:33</td>\n",
       "      <td>2017-10-02 11:07:15</td>\n",
       "      <td>2017-10-04 19:55:00</td>\n",
       "      <td>2017-10-10 21:25:13</td>\n",
       "      <td>2017-10-18 00:00:00</td>\n",
       "      <td>2</td>\n",
       "      <td>voucher</td>\n",
       "      <td>1</td>\n",
       "      <td>18.59</td>\n",
       "      <td>7c396fd4830fd04220f754e42b4e5bff</td>\n",
       "      <td>3149</td>\n",
       "      <td>sao paulo</td>\n",
       "      <td>SP</td>\n",
       "      <td>1</td>\n",
       "      <td>87285b34884572647811a353c7ac498a</td>\n",
       "      <td>3504c0cb71d7fa48d967e0e4c94d59d9</td>\n",
       "      <td>2017-10-06 11:07:15</td>\n",
       "      <td>29.99</td>\n",
       "      <td>8.72</td>\n",
       "      <td>utilidades_domesticas</td>\n",
       "      <td>40.0</td>\n",
       "      <td>268.0</td>\n",
       "      <td>4.0</td>\n",
       "      <td>500.0</td>\n",
       "      <td>19.0</td>\n",
       "      <td>8.0</td>\n",
       "      <td>13.0</td>\n",
       "      <td>housewares</td>\n",
       "      <td>9350</td>\n",
       "      <td>maua</td>\n",
       "      <td>SP</td>\n",
       "    </tr>\n",
       "    <tr>\n",
       "      <th>3</th>\n",
       "      <td>128e10d95713541c87cd1a2e48201934</td>\n",
       "      <td>a20e8105f23924cd00833fd87daa0831</td>\n",
       "      <td>delivered</td>\n",
       "      <td>2017-08-15 18:29:31</td>\n",
       "      <td>2017-08-15 20:05:16</td>\n",
       "      <td>2017-08-17 15:28:33</td>\n",
       "      <td>2017-08-18 14:44:43</td>\n",
       "      <td>2017-08-28 00:00:00</td>\n",
       "      <td>1</td>\n",
       "      <td>credit_card</td>\n",
       "      <td>3</td>\n",
       "      <td>37.77</td>\n",
       "      <td>3a51803cc0d012c3b5dc8b7528cb05f7</td>\n",
       "      <td>3366</td>\n",
       "      <td>sao paulo</td>\n",
       "      <td>SP</td>\n",
       "      <td>1</td>\n",
       "      <td>87285b34884572647811a353c7ac498a</td>\n",
       "      <td>3504c0cb71d7fa48d967e0e4c94d59d9</td>\n",
       "      <td>2017-08-21 20:05:16</td>\n",
       "      <td>29.99</td>\n",
       "      <td>7.78</td>\n",
       "      <td>utilidades_domesticas</td>\n",
       "      <td>40.0</td>\n",
       "      <td>268.0</td>\n",
       "      <td>4.0</td>\n",
       "      <td>500.0</td>\n",
       "      <td>19.0</td>\n",
       "      <td>8.0</td>\n",
       "      <td>13.0</td>\n",
       "      <td>housewares</td>\n",
       "      <td>9350</td>\n",
       "      <td>maua</td>\n",
       "      <td>SP</td>\n",
       "    </tr>\n",
       "    <tr>\n",
       "      <th>4</th>\n",
       "      <td>0e7e841ddf8f8f2de2bad69267ecfbcf</td>\n",
       "      <td>26c7ac168e1433912a51b924fbd34d34</td>\n",
       "      <td>delivered</td>\n",
       "      <td>2017-08-02 18:24:47</td>\n",
       "      <td>2017-08-02 18:43:15</td>\n",
       "      <td>2017-08-04 17:35:43</td>\n",
       "      <td>2017-08-07 18:30:01</td>\n",
       "      <td>2017-08-15 00:00:00</td>\n",
       "      <td>1</td>\n",
       "      <td>credit_card</td>\n",
       "      <td>1</td>\n",
       "      <td>37.77</td>\n",
       "      <td>ef0996a1a279c26e7ecbd737be23d235</td>\n",
       "      <td>2290</td>\n",
       "      <td>sao paulo</td>\n",
       "      <td>SP</td>\n",
       "      <td>1</td>\n",
       "      <td>87285b34884572647811a353c7ac498a</td>\n",
       "      <td>3504c0cb71d7fa48d967e0e4c94d59d9</td>\n",
       "      <td>2017-08-08 18:37:31</td>\n",
       "      <td>29.99</td>\n",
       "      <td>7.78</td>\n",
       "      <td>utilidades_domesticas</td>\n",
       "      <td>40.0</td>\n",
       "      <td>268.0</td>\n",
       "      <td>4.0</td>\n",
       "      <td>500.0</td>\n",
       "      <td>19.0</td>\n",
       "      <td>8.0</td>\n",
       "      <td>13.0</td>\n",
       "      <td>housewares</td>\n",
       "      <td>9350</td>\n",
       "      <td>maua</td>\n",
       "      <td>SP</td>\n",
       "    </tr>\n",
       "  </tbody>\n",
       "</table>\n",
       "</div>"
      ],
      "text/plain": [
       "                           order_id                       customer_id  \\\n",
       "0  e481f51cbdc54678b7cc49136f2d6af7  9ef432eb6251297304e76186b10a928d   \n",
       "1  e481f51cbdc54678b7cc49136f2d6af7  9ef432eb6251297304e76186b10a928d   \n",
       "2  e481f51cbdc54678b7cc49136f2d6af7  9ef432eb6251297304e76186b10a928d   \n",
       "3  128e10d95713541c87cd1a2e48201934  a20e8105f23924cd00833fd87daa0831   \n",
       "4  0e7e841ddf8f8f2de2bad69267ecfbcf  26c7ac168e1433912a51b924fbd34d34   \n",
       "\n",
       "  order_status order_purchase_timestamp    order_approved_at  \\\n",
       "0    delivered      2017-10-02 10:56:33  2017-10-02 11:07:15   \n",
       "1    delivered      2017-10-02 10:56:33  2017-10-02 11:07:15   \n",
       "2    delivered      2017-10-02 10:56:33  2017-10-02 11:07:15   \n",
       "3    delivered      2017-08-15 18:29:31  2017-08-15 20:05:16   \n",
       "4    delivered      2017-08-02 18:24:47  2017-08-02 18:43:15   \n",
       "\n",
       "  order_delivered_carrier_date order_delivered_customer_date  \\\n",
       "0          2017-10-04 19:55:00           2017-10-10 21:25:13   \n",
       "1          2017-10-04 19:55:00           2017-10-10 21:25:13   \n",
       "2          2017-10-04 19:55:00           2017-10-10 21:25:13   \n",
       "3          2017-08-17 15:28:33           2017-08-18 14:44:43   \n",
       "4          2017-08-04 17:35:43           2017-08-07 18:30:01   \n",
       "\n",
       "  order_estimated_delivery_date  payment_sequential payment_type  \\\n",
       "0           2017-10-18 00:00:00                   1  credit_card   \n",
       "1           2017-10-18 00:00:00                   3      voucher   \n",
       "2           2017-10-18 00:00:00                   2      voucher   \n",
       "3           2017-08-28 00:00:00                   1  credit_card   \n",
       "4           2017-08-15 00:00:00                   1  credit_card   \n",
       "\n",
       "   payment_installments  payment_value                customer_unique_id  \\\n",
       "0                     1          18.12  7c396fd4830fd04220f754e42b4e5bff   \n",
       "1                     1           2.00  7c396fd4830fd04220f754e42b4e5bff   \n",
       "2                     1          18.59  7c396fd4830fd04220f754e42b4e5bff   \n",
       "3                     3          37.77  3a51803cc0d012c3b5dc8b7528cb05f7   \n",
       "4                     1          37.77  ef0996a1a279c26e7ecbd737be23d235   \n",
       "\n",
       "   customer_zip_code_prefix customer_city customer_state  order_item_id  \\\n",
       "0                      3149     sao paulo             SP              1   \n",
       "1                      3149     sao paulo             SP              1   \n",
       "2                      3149     sao paulo             SP              1   \n",
       "3                      3366     sao paulo             SP              1   \n",
       "4                      2290     sao paulo             SP              1   \n",
       "\n",
       "                         product_id                         seller_id  \\\n",
       "0  87285b34884572647811a353c7ac498a  3504c0cb71d7fa48d967e0e4c94d59d9   \n",
       "1  87285b34884572647811a353c7ac498a  3504c0cb71d7fa48d967e0e4c94d59d9   \n",
       "2  87285b34884572647811a353c7ac498a  3504c0cb71d7fa48d967e0e4c94d59d9   \n",
       "3  87285b34884572647811a353c7ac498a  3504c0cb71d7fa48d967e0e4c94d59d9   \n",
       "4  87285b34884572647811a353c7ac498a  3504c0cb71d7fa48d967e0e4c94d59d9   \n",
       "\n",
       "   shipping_limit_date  price  freight_value  product_category_name  \\\n",
       "0  2017-10-06 11:07:15  29.99           8.72  utilidades_domesticas   \n",
       "1  2017-10-06 11:07:15  29.99           8.72  utilidades_domesticas   \n",
       "2  2017-10-06 11:07:15  29.99           8.72  utilidades_domesticas   \n",
       "3  2017-08-21 20:05:16  29.99           7.78  utilidades_domesticas   \n",
       "4  2017-08-08 18:37:31  29.99           7.78  utilidades_domesticas   \n",
       "\n",
       "   product_name_lenght  product_description_lenght  product_photos_qty  \\\n",
       "0                 40.0                       268.0                 4.0   \n",
       "1                 40.0                       268.0                 4.0   \n",
       "2                 40.0                       268.0                 4.0   \n",
       "3                 40.0                       268.0                 4.0   \n",
       "4                 40.0                       268.0                 4.0   \n",
       "\n",
       "   product_weight_g  product_length_cm  product_height_cm  product_width_cm  \\\n",
       "0             500.0               19.0                8.0              13.0   \n",
       "1             500.0               19.0                8.0              13.0   \n",
       "2             500.0               19.0                8.0              13.0   \n",
       "3             500.0               19.0                8.0              13.0   \n",
       "4             500.0               19.0                8.0              13.0   \n",
       "\n",
       "  product_category_name_english  seller_zip_code_prefix seller_city  \\\n",
       "0                    housewares                    9350        maua   \n",
       "1                    housewares                    9350        maua   \n",
       "2                    housewares                    9350        maua   \n",
       "3                    housewares                    9350        maua   \n",
       "4                    housewares                    9350        maua   \n",
       "\n",
       "  seller_state  \n",
       "0           SP  \n",
       "1           SP  \n",
       "2           SP  \n",
       "3           SP  \n",
       "4           SP  "
      ]
     },
     "execution_count": 33,
     "metadata": {
      "tags": []
     },
     "output_type": "execute_result"
    }
   ],
   "source": [
    "pd.set_option('display.max_columns',None)\n",
    "ord_pay.head()"
   ]
  },
  {
   "cell_type": "code",
   "execution_count": 34,
   "metadata": {
    "executionInfo": {
     "elapsed": 1168,
     "status": "ok",
     "timestamp": 1613233408951,
     "user": {
      "displayName": "Arun rajan",
      "photoUrl": "https://lh3.googleusercontent.com/a-/AOh14GhKlJD7-lRzdBpsXXKX99vweYs9dgDO8xHZt7wz0g=s64",
      "userId": "16564613912059202502"
     },
     "user_tz": -330
    },
    "id": "bqNnQNYeL0Tj"
   },
   "outputs": [],
   "source": [
    "ord_pay.drop(columns='product_category_name',inplace=True)"
   ]
  },
  {
   "cell_type": "code",
   "execution_count": 35,
   "metadata": {
    "colab": {
     "base_uri": "https://localhost:8080/"
    },
    "executionInfo": {
     "elapsed": 930,
     "status": "ok",
     "timestamp": 1613233409623,
     "user": {
      "displayName": "Arun rajan",
      "photoUrl": "https://lh3.googleusercontent.com/a-/AOh14GhKlJD7-lRzdBpsXXKX99vweYs9dgDO8xHZt7wz0g=s64",
      "userId": "16564613912059202502"
     },
     "user_tz": -330
    },
    "id": "G7bw4AuYL0lV",
    "outputId": "5b6813ff-8b36-4d60-80d1-eceb36953dfe"
   },
   "outputs": [
    {
     "data": {
      "text/plain": [
       "order_approved_at                0.012082\n",
       "order_delivered_carrier_date     1.039887\n",
       "order_delivered_customer_date    2.153127\n",
       "product_weight_g                 0.000863\n",
       "product_length_cm                0.000863\n",
       "product_height_cm                0.000863\n",
       "product_width_cm                 0.000863\n",
       "dtype: float64"
      ]
     },
     "execution_count": 35,
     "metadata": {
      "tags": []
     },
     "output_type": "execute_result"
    }
   ],
   "source": [
    "## checking for missing values\n",
    "missing = ord_pay.isnull().sum()/ord_pay.shape[0] * 100\n",
    "missing[missing > 0]"
   ]
  },
  {
   "cell_type": "markdown",
   "metadata": {
    "id": "1WSINHTmMBEW"
   },
   "source": [
    "## Observations\n",
    "* There are some missing values in the dataset and has less than 3 percentage."
   ]
  },
  {
   "cell_type": "code",
   "execution_count": 36,
   "metadata": {
    "executionInfo": {
     "elapsed": 1008,
     "status": "ok",
     "timestamp": 1613233412815,
     "user": {
      "displayName": "Arun rajan",
      "photoUrl": "https://lh3.googleusercontent.com/a-/AOh14GhKlJD7-lRzdBpsXXKX99vweYs9dgDO8xHZt7wz0g=s64",
      "userId": "16564613912059202502"
     },
     "user_tz": -330
    },
    "id": "1AXOkEjML0wu"
   },
   "outputs": [],
   "source": [
    "ord_pay['order_purchase_timestamp'] = pd.to_datetime(ord_pay['order_purchase_timestamp'])\n",
    "ord_pay['order_approved_at'] = pd.to_datetime(ord_pay['order_approved_at'])\n",
    "ord_pay['order_delivered_carrier_date'] = pd.to_datetime(ord_pay['order_delivered_carrier_date'])\n",
    "ord_pay['order_delivered_customer_date'] = pd.to_datetime(ord_pay['order_delivered_customer_date'])\n",
    "ord_pay['order_estimated_delivery_date'] = pd.to_datetime(ord_pay['order_estimated_delivery_date'])"
   ]
  },
  {
   "cell_type": "code",
   "execution_count": 37,
   "metadata": {
    "executionInfo": {
     "elapsed": 498,
     "status": "ok",
     "timestamp": 1613233413765,
     "user": {
      "displayName": "Arun rajan",
      "photoUrl": "https://lh3.googleusercontent.com/a-/AOh14GhKlJD7-lRzdBpsXXKX99vweYs9dgDO8xHZt7wz0g=s64",
      "userId": "16564613912059202502"
     },
     "user_tz": -330
    },
    "id": "W4WjnyyDL0zx"
   },
   "outputs": [],
   "source": [
    "subset = list(olist_orders.columns)\n",
    "subset_1 = ord_pay[subset]"
   ]
  },
  {
   "cell_type": "code",
   "execution_count": 38,
   "metadata": {
    "colab": {
     "base_uri": "https://localhost:8080/"
    },
    "executionInfo": {
     "elapsed": 490,
     "status": "ok",
     "timestamp": 1613233415055,
     "user": {
      "displayName": "Arun rajan",
      "photoUrl": "https://lh3.googleusercontent.com/a-/AOh14GhKlJD7-lRzdBpsXXKX99vweYs9dgDO8xHZt7wz0g=s64",
      "userId": "16564613912059202502"
     },
     "user_tz": -330
    },
    "id": "Z9puSh3KL02S",
    "outputId": "0e8e1a3b-99e9-4e12-829b-83acbb486025"
   },
   "outputs": [
    {
     "data": {
      "text/plain": [
       "delivered      113384\n",
       "shipped          1214\n",
       "canceled          549\n",
       "processing        362\n",
       "invoiced          359\n",
       "unavailable         7\n",
       "approved            3\n",
       "Name: order_status, dtype: int64"
      ]
     },
     "execution_count": 38,
     "metadata": {
      "tags": []
     },
     "output_type": "execute_result"
    }
   ],
   "source": [
    "subset_1['order_status'].value_counts()"
   ]
  },
  {
   "cell_type": "code",
   "execution_count": 39,
   "metadata": {
    "colab": {
     "base_uri": "https://localhost:8080/",
     "height": 313
    },
    "executionInfo": {
     "elapsed": 749,
     "status": "ok",
     "timestamp": 1613233416555,
     "user": {
      "displayName": "Arun rajan",
      "photoUrl": "https://lh3.googleusercontent.com/a-/AOh14GhKlJD7-lRzdBpsXXKX99vweYs9dgDO8xHZt7wz0g=s64",
      "userId": "16564613912059202502"
     },
     "user_tz": -330
    },
    "id": "4udk2fZSL05R",
    "outputId": "b4205376-5e30-47d4-ee59-640fc18bc723"
   },
   "outputs": [
    {
     "data": {
      "image/png": "[encoded data removed]",
      "text/plain": [
       "<Figure size 432x288 with 1 Axes>"
      ]
     },
     "metadata": {
      "needs_background": "light",
      "tags": []
     },
     "output_type": "display_data"
    }
   ],
   "source": [
    "subset_1['order_status'].value_counts().plot(kind='bar')\n",
    "plt.show()"
   ]
  },
  {
   "cell_type": "markdown",
   "metadata": {
    "id": "N_Yjypb9Mhwx"
   },
   "source": [
    "### Observations\n",
    "* It seems that most of the orders have been delivered."
   ]
  },
  {
   "cell_type": "code",
   "execution_count": 40,
   "metadata": {
    "executionInfo": {
     "elapsed": 746,
     "status": "ok",
     "timestamp": 1613233419070,
     "user": {
      "displayName": "Arun rajan",
      "photoUrl": "https://lh3.googleusercontent.com/a-/AOh14GhKlJD7-lRzdBpsXXKX99vweYs9dgDO8xHZt7wz0g=s64",
      "userId": "16564613912059202502"
     },
     "user_tz": -330
    },
    "id": "ze5p5NjpL0_L"
   },
   "outputs": [],
   "source": [
    "## How many purchases were made in year,month and day\n",
    "subset_1.insert(loc=3,column='purchase_year',value=subset_1.order_purchase_timestamp.dt.year)\n",
    "subset_1.insert(loc=4,column='purchase_month',value=subset_1.order_purchase_timestamp.dt.month_name())\n",
    "subset_1.insert(loc=5,column='purchase_day',value=subset_1.order_purchase_timestamp.dt.day)"
   ]
  },
  {
   "cell_type": "code",
   "execution_count": 41,
   "metadata": {
    "colab": {
     "base_uri": "https://localhost:8080/"
    },
    "executionInfo": {
     "elapsed": 496,
     "status": "ok",
     "timestamp": 1613233420238,
     "user": {
      "displayName": "Arun rajan",
      "photoUrl": "https://lh3.googleusercontent.com/a-/AOh14GhKlJD7-lRzdBpsXXKX99vweYs9dgDO8xHZt7wz0g=s64",
      "userId": "16564613912059202502"
     },
     "user_tz": -330
    },
    "id": "WblG9sqBL075",
    "outputId": "5e4d416a-5f1d-4a9b-d656-0ba58113bbe7"
   },
   "outputs": [
    {
     "data": {
      "text/plain": [
       "2018    62938\n",
       "2017    52557\n",
       "2016      383\n",
       "Name: purchase_year, dtype: int64"
      ]
     },
     "execution_count": 41,
     "metadata": {
      "tags": []
     },
     "output_type": "execute_result"
    }
   ],
   "source": [
    "subset_1['purchase_year'].value_counts()"
   ]
  },
  {
   "cell_type": "code",
   "execution_count": 42,
   "metadata": {
    "colab": {
     "base_uri": "https://localhost:8080/",
     "height": 224
    },
    "executionInfo": {
     "elapsed": 717,
     "status": "ok",
     "timestamp": 1613233421750,
     "user": {
      "displayName": "Arun rajan",
      "photoUrl": "https://lh3.googleusercontent.com/a-/AOh14GhKlJD7-lRzdBpsXXKX99vweYs9dgDO8xHZt7wz0g=s64",
      "userId": "16564613912059202502"
     },
     "user_tz": -330
    },
    "id": "7XGImyU3i0hY",
    "outputId": "521cd2ee-effd-4bd5-c260-4380c3846e17"
   },
   "outputs": [
    {
     "data": {
      "text/html": [
       "<div>\n",
       "<style scoped>\n",
       "    .dataframe tbody tr th:only-of-type {\n",
       "        vertical-align: middle;\n",
       "    }\n",
       "\n",
       "    .dataframe tbody tr th {\n",
       "        vertical-align: top;\n",
       "    }\n",
       "\n",
       "    .dataframe thead th {\n",
       "        text-align: right;\n",
       "    }\n",
       "</style>\n",
       "<table border=\"1\" class=\"dataframe\">\n",
       "  <thead>\n",
       "    <tr style=\"text-align: right;\">\n",
       "      <th></th>\n",
       "      <th>order_id</th>\n",
       "      <th>customer_id</th>\n",
       "      <th>order_status</th>\n",
       "      <th>purchase_year</th>\n",
       "      <th>purchase_month</th>\n",
       "      <th>purchase_day</th>\n",
       "      <th>order_purchase_timestamp</th>\n",
       "      <th>order_approved_at</th>\n",
       "      <th>order_delivered_carrier_date</th>\n",
       "      <th>order_delivered_customer_date</th>\n",
       "      <th>order_estimated_delivery_date</th>\n",
       "    </tr>\n",
       "  </thead>\n",
       "  <tbody>\n",
       "    <tr>\n",
       "      <th>0</th>\n",
       "      <td>e481f51cbdc54678b7cc49136f2d6af7</td>\n",
       "      <td>9ef432eb6251297304e76186b10a928d</td>\n",
       "      <td>delivered</td>\n",
       "      <td>2017</td>\n",
       "      <td>October</td>\n",
       "      <td>2</td>\n",
       "      <td>2017-10-02 10:56:33</td>\n",
       "      <td>2017-10-02 11:07:15</td>\n",
       "      <td>2017-10-04 19:55:00</td>\n",
       "      <td>2017-10-10 21:25:13</td>\n",
       "      <td>2017-10-18</td>\n",
       "    </tr>\n",
       "    <tr>\n",
       "      <th>1</th>\n",
       "      <td>e481f51cbdc54678b7cc49136f2d6af7</td>\n",
       "      <td>9ef432eb6251297304e76186b10a928d</td>\n",
       "      <td>delivered</td>\n",
       "      <td>2017</td>\n",
       "      <td>October</td>\n",
       "      <td>2</td>\n",
       "      <td>2017-10-02 10:56:33</td>\n",
       "      <td>2017-10-02 11:07:15</td>\n",
       "      <td>2017-10-04 19:55:00</td>\n",
       "      <td>2017-10-10 21:25:13</td>\n",
       "      <td>2017-10-18</td>\n",
       "    </tr>\n",
       "    <tr>\n",
       "      <th>2</th>\n",
       "      <td>e481f51cbdc54678b7cc49136f2d6af7</td>\n",
       "      <td>9ef432eb6251297304e76186b10a928d</td>\n",
       "      <td>delivered</td>\n",
       "      <td>2017</td>\n",
       "      <td>October</td>\n",
       "      <td>2</td>\n",
       "      <td>2017-10-02 10:56:33</td>\n",
       "      <td>2017-10-02 11:07:15</td>\n",
       "      <td>2017-10-04 19:55:00</td>\n",
       "      <td>2017-10-10 21:25:13</td>\n",
       "      <td>2017-10-18</td>\n",
       "    </tr>\n",
       "    <tr>\n",
       "      <th>3</th>\n",
       "      <td>128e10d95713541c87cd1a2e48201934</td>\n",
       "      <td>a20e8105f23924cd00833fd87daa0831</td>\n",
       "      <td>delivered</td>\n",
       "      <td>2017</td>\n",
       "      <td>August</td>\n",
       "      <td>15</td>\n",
       "      <td>2017-08-15 18:29:31</td>\n",
       "      <td>2017-08-15 20:05:16</td>\n",
       "      <td>2017-08-17 15:28:33</td>\n",
       "      <td>2017-08-18 14:44:43</td>\n",
       "      <td>2017-08-28</td>\n",
       "    </tr>\n",
       "    <tr>\n",
       "      <th>4</th>\n",
       "      <td>0e7e841ddf8f8f2de2bad69267ecfbcf</td>\n",
       "      <td>26c7ac168e1433912a51b924fbd34d34</td>\n",
       "      <td>delivered</td>\n",
       "      <td>2017</td>\n",
       "      <td>August</td>\n",
       "      <td>2</td>\n",
       "      <td>2017-08-02 18:24:47</td>\n",
       "      <td>2017-08-02 18:43:15</td>\n",
       "      <td>2017-08-04 17:35:43</td>\n",
       "      <td>2017-08-07 18:30:01</td>\n",
       "      <td>2017-08-15</td>\n",
       "    </tr>\n",
       "  </tbody>\n",
       "</table>\n",
       "</div>"
      ],
      "text/plain": [
       "                           order_id                       customer_id  \\\n",
       "0  e481f51cbdc54678b7cc49136f2d6af7  9ef432eb6251297304e76186b10a928d   \n",
       "1  e481f51cbdc54678b7cc49136f2d6af7  9ef432eb6251297304e76186b10a928d   \n",
       "2  e481f51cbdc54678b7cc49136f2d6af7  9ef432eb6251297304e76186b10a928d   \n",
       "3  128e10d95713541c87cd1a2e48201934  a20e8105f23924cd00833fd87daa0831   \n",
       "4  0e7e841ddf8f8f2de2bad69267ecfbcf  26c7ac168e1433912a51b924fbd34d34   \n",
       "\n",
       "  order_status  purchase_year purchase_month  purchase_day  \\\n",
       "0    delivered           2017        October             2   \n",
       "1    delivered           2017        October             2   \n",
       "2    delivered           2017        October             2   \n",
       "3    delivered           2017         August            15   \n",
       "4    delivered           2017         August             2   \n",
       "\n",
       "  order_purchase_timestamp   order_approved_at order_delivered_carrier_date  \\\n",
       "0      2017-10-02 10:56:33 2017-10-02 11:07:15          2017-10-04 19:55:00   \n",
       "1      2017-10-02 10:56:33 2017-10-02 11:07:15          2017-10-04 19:55:00   \n",
       "2      2017-10-02 10:56:33 2017-10-02 11:07:15          2017-10-04 19:55:00   \n",
       "3      2017-08-15 18:29:31 2017-08-15 20:05:16          2017-08-17 15:28:33   \n",
       "4      2017-08-02 18:24:47 2017-08-02 18:43:15          2017-08-04 17:35:43   \n",
       "\n",
       "  order_delivered_customer_date order_estimated_delivery_date  \n",
       "0           2017-10-10 21:25:13                    2017-10-18  \n",
       "1           2017-10-10 21:25:13                    2017-10-18  \n",
       "2           2017-10-10 21:25:13                    2017-10-18  \n",
       "3           2017-08-18 14:44:43                    2017-08-28  \n",
       "4           2017-08-07 18:30:01                    2017-08-15  "
      ]
     },
     "execution_count": 42,
     "metadata": {
      "tags": []
     },
     "output_type": "execute_result"
    }
   ],
   "source": [
    "subset_1.head()"
   ]
  },
  {
   "cell_type": "code",
   "execution_count": 43,
   "metadata": {
    "colab": {
     "base_uri": "https://localhost:8080/",
     "height": 335
    },
    "executionInfo": {
     "elapsed": 863,
     "status": "ok",
     "timestamp": 1613233423301,
     "user": {
      "displayName": "Arun rajan",
      "photoUrl": "https://lh3.googleusercontent.com/a-/AOh14GhKlJD7-lRzdBpsXXKX99vweYs9dgDO8xHZt7wz0g=s64",
      "userId": "16564613912059202502"
     },
     "user_tz": -330
    },
    "id": "twBMvqMXMqyb",
    "outputId": "bd4592c2-c6e9-425f-eb81-57353c4bd7af"
   },
   "outputs": [
    {
     "data": {
      "image/png": "[encoded data removed]",
      "text/plain": [
       "<Figure size 720x360 with 1 Axes>"
      ]
     },
     "metadata": {
      "needs_background": "light",
      "tags": []
     },
     "output_type": "display_data"
    }
   ],
   "source": [
    "plt.figure(figsize=(10,5))\n",
    "a = subset_1['purchase_year'].value_counts()\n",
    "a.plot(kind='bar')\n",
    "plt.show()"
   ]
  },
  {
   "cell_type": "markdown",
   "metadata": {
    "id": "PdsLK7qWMzkV"
   },
   "source": [
    "## Observations\n",
    "* The purchases are way more high in the year 2018 compared to rest of the years.\n",
    "* A total count of 62938 purchases were made in the year 2018 and 52557 purchases in the year 2017.\n",
    "* It is interesting to see that only 383 purchases were made in the year 2016 and the next two consecutive years the         purchases increased dramastically.\n",
    "* With this information we can cleary see that E-commerce market in brazil is growing."
   ]
  },
  {
   "cell_type": "code",
   "execution_count": 44,
   "metadata": {
    "colab": {
     "base_uri": "https://localhost:8080/"
    },
    "executionInfo": {
     "elapsed": 707,
     "status": "ok",
     "timestamp": 1613233425756,
     "user": {
      "displayName": "Arun rajan",
      "photoUrl": "https://lh3.googleusercontent.com/a-/AOh14GhKlJD7-lRzdBpsXXKX99vweYs9dgDO8xHZt7wz0g=s64",
      "userId": "16564613912059202502"
     },
     "user_tz": -330
    },
    "id": "ktMMtxZxMq4T",
    "outputId": "4e0b5497-59a1-433d-8ba3-d7524415cca1"
   },
   "outputs": [
    {
     "data": {
      "text/plain": [
       "August       12513\n",
       "May          12458\n",
       "July         12038\n",
       "March        11520\n",
       "June         11082\n",
       "April        10956\n",
       "February      9800\n",
       "January       9316\n",
       "November      8883\n",
       "December      6415\n",
       "October       5874\n",
       "September     5023\n",
       "Name: purchase_month, dtype: int64"
      ]
     },
     "execution_count": 44,
     "metadata": {
      "tags": []
     },
     "output_type": "execute_result"
    }
   ],
   "source": [
    "## Month-wise purchases\n",
    "subset_1['purchase_month'].value_counts()"
   ]
  },
  {
   "cell_type": "code",
   "execution_count": 45,
   "metadata": {
    "colab": {
     "base_uri": "https://localhost:8080/",
     "height": 334
    },
    "executionInfo": {
     "elapsed": 815,
     "status": "ok",
     "timestamp": 1613233427261,
     "user": {
      "displayName": "Arun rajan",
      "photoUrl": "https://lh3.googleusercontent.com/a-/AOh14GhKlJD7-lRzdBpsXXKX99vweYs9dgDO8xHZt7wz0g=s64",
      "userId": "16564613912059202502"
     },
     "user_tz": -330
    },
    "id": "MLHb2qrgMq6q",
    "outputId": "1aea7266-3bfa-49df-d3e5-e4e0dbc41363"
   },
   "outputs": [
    {
     "data": {
      "image/png": "[encoded data removed]",
      "text/plain": [
       "<Figure size 1080x360 with 1 Axes>"
      ]
     },
     "metadata": {
      "needs_background": "light",
      "tags": []
     },
     "output_type": "display_data"
    }
   ],
   "source": [
    "import warnings\n",
    "warnings.filterwarnings(\"ignore\")\n",
    "\n",
    "plt.figure(figsize=(15,5))\n",
    "month_wise = subset_1['purchase_month'].value_counts().sort_values(ascending=True)\n",
    "plt.plot(month_wise.index,month_wise.values,marker='o')\n",
    "plt.xlabel('Month')\n",
    "plt.show()"
   ]
  },
  {
   "cell_type": "markdown",
   "metadata": {
    "id": "BB-TZGLZNFed"
   },
   "source": [
    "## Observations\n",
    "* August,May,July and March have more purchases and it is also interesting to see that november and december don't have\n",
    "  many purchases despite of the black friday sales and christmas holidays.\n",
    "* It is also possible they might have some festivals in the other months."
   ]
  },
  {
   "cell_type": "markdown",
   "metadata": {
    "id": "T1BOvelRNNLi"
   },
   "source": [
    "##### Estiamating the Lead Time\n",
    "* Lead Time is basically time between placing an order and receiving it"
   ]
  },
  {
   "cell_type": "code",
   "execution_count": 46,
   "metadata": {
    "colab": {
     "base_uri": "https://localhost:8080/",
     "height": 162
    },
    "executionInfo": {
     "elapsed": 915,
     "status": "ok",
     "timestamp": 1613233430573,
     "user": {
      "displayName": "Arun rajan",
      "photoUrl": "https://lh3.googleusercontent.com/a-/AOh14GhKlJD7-lRzdBpsXXKX99vweYs9dgDO8xHZt7wz0g=s64",
      "userId": "16564613912059202502"
     },
     "user_tz": -330
    },
    "id": "bkc1orOWMrAC",
    "outputId": "f9105e8b-c1f8-4016-8017-d544d9a8e8ca"
   },
   "outputs": [
    {
     "data": {
      "text/html": [
       "<div>\n",
       "<style scoped>\n",
       "    .dataframe tbody tr th:only-of-type {\n",
       "        vertical-align: middle;\n",
       "    }\n",
       "\n",
       "    .dataframe tbody tr th {\n",
       "        vertical-align: top;\n",
       "    }\n",
       "\n",
       "    .dataframe thead th {\n",
       "        text-align: right;\n",
       "    }\n",
       "</style>\n",
       "<table border=\"1\" class=\"dataframe\">\n",
       "  <thead>\n",
       "    <tr style=\"text-align: right;\">\n",
       "      <th></th>\n",
       "      <th>order_id</th>\n",
       "      <th>customer_id</th>\n",
       "      <th>order_status</th>\n",
       "      <th>purchase_year</th>\n",
       "      <th>purchase_month</th>\n",
       "      <th>purchase_day</th>\n",
       "      <th>order_purchase_timestamp</th>\n",
       "      <th>order_approved_at</th>\n",
       "      <th>order_delivered_carrier_date</th>\n",
       "      <th>order_delivered_customer_date</th>\n",
       "      <th>order_estimated_delivery_date</th>\n",
       "      <th>lead</th>\n",
       "    </tr>\n",
       "  </thead>\n",
       "  <tbody>\n",
       "    <tr>\n",
       "      <th>0</th>\n",
       "      <td>e481f51cbdc54678b7cc49136f2d6af7</td>\n",
       "      <td>9ef432eb6251297304e76186b10a928d</td>\n",
       "      <td>delivered</td>\n",
       "      <td>2017</td>\n",
       "      <td>October</td>\n",
       "      <td>2</td>\n",
       "      <td>2017-10-02 10:56:33</td>\n",
       "      <td>2017-10-02 11:07:15</td>\n",
       "      <td>2017-10-04 19:55:00</td>\n",
       "      <td>2017-10-10 21:25:13</td>\n",
       "      <td>2017-10-18</td>\n",
       "      <td>8.0</td>\n",
       "    </tr>\n",
       "    <tr>\n",
       "      <th>1</th>\n",
       "      <td>e481f51cbdc54678b7cc49136f2d6af7</td>\n",
       "      <td>9ef432eb6251297304e76186b10a928d</td>\n",
       "      <td>delivered</td>\n",
       "      <td>2017</td>\n",
       "      <td>October</td>\n",
       "      <td>2</td>\n",
       "      <td>2017-10-02 10:56:33</td>\n",
       "      <td>2017-10-02 11:07:15</td>\n",
       "      <td>2017-10-04 19:55:00</td>\n",
       "      <td>2017-10-10 21:25:13</td>\n",
       "      <td>2017-10-18</td>\n",
       "      <td>8.0</td>\n",
       "    </tr>\n",
       "    <tr>\n",
       "      <th>2</th>\n",
       "      <td>e481f51cbdc54678b7cc49136f2d6af7</td>\n",
       "      <td>9ef432eb6251297304e76186b10a928d</td>\n",
       "      <td>delivered</td>\n",
       "      <td>2017</td>\n",
       "      <td>October</td>\n",
       "      <td>2</td>\n",
       "      <td>2017-10-02 10:56:33</td>\n",
       "      <td>2017-10-02 11:07:15</td>\n",
       "      <td>2017-10-04 19:55:00</td>\n",
       "      <td>2017-10-10 21:25:13</td>\n",
       "      <td>2017-10-18</td>\n",
       "      <td>8.0</td>\n",
       "    </tr>\n",
       "  </tbody>\n",
       "</table>\n",
       "</div>"
      ],
      "text/plain": [
       "                           order_id                       customer_id  \\\n",
       "0  e481f51cbdc54678b7cc49136f2d6af7  9ef432eb6251297304e76186b10a928d   \n",
       "1  e481f51cbdc54678b7cc49136f2d6af7  9ef432eb6251297304e76186b10a928d   \n",
       "2  e481f51cbdc54678b7cc49136f2d6af7  9ef432eb6251297304e76186b10a928d   \n",
       "\n",
       "  order_status  purchase_year purchase_month  purchase_day  \\\n",
       "0    delivered           2017        October             2   \n",
       "1    delivered           2017        October             2   \n",
       "2    delivered           2017        October             2   \n",
       "\n",
       "  order_purchase_timestamp   order_approved_at order_delivered_carrier_date  \\\n",
       "0      2017-10-02 10:56:33 2017-10-02 11:07:15          2017-10-04 19:55:00   \n",
       "1      2017-10-02 10:56:33 2017-10-02 11:07:15          2017-10-04 19:55:00   \n",
       "2      2017-10-02 10:56:33 2017-10-02 11:07:15          2017-10-04 19:55:00   \n",
       "\n",
       "  order_delivered_customer_date order_estimated_delivery_date  lead  \n",
       "0           2017-10-10 21:25:13                    2017-10-18   8.0  \n",
       "1           2017-10-10 21:25:13                    2017-10-18   8.0  \n",
       "2           2017-10-10 21:25:13                    2017-10-18   8.0  "
      ]
     },
     "execution_count": 46,
     "metadata": {
      "tags": []
     },
     "output_type": "execute_result"
    }
   ],
   "source": [
    "import warnings\n",
    "warnings.filterwarnings(\"ignore\")\n",
    "\n",
    "subset_1['lead'] = (subset_1['order_delivered_customer_date'] - subset_1['order_purchase_timestamp']).dt.days\n",
    "subset_1.head(3)"
   ]
  },
  {
   "cell_type": "code",
   "execution_count": 47,
   "metadata": {
    "colab": {
     "base_uri": "https://localhost:8080/",
     "height": 350
    },
    "executionInfo": {
     "elapsed": 1177,
     "status": "ok",
     "timestamp": 1613233432493,
     "user": {
      "displayName": "Arun rajan",
      "photoUrl": "https://lh3.googleusercontent.com/a-/AOh14GhKlJD7-lRzdBpsXXKX99vweYs9dgDO8xHZt7wz0g=s64",
      "userId": "16564613912059202502"
     },
     "user_tz": -330
    },
    "id": "pVOj193SMrBv",
    "outputId": "1076f685-74c2-4aa3-e745-dea66d26ced2"
   },
   "outputs": [
    {
     "data": {
      "image/png": "[encoded data removed]",
      "text/plain": [
       "<Figure size 720x360 with 1 Axes>"
      ]
     },
     "metadata": {
      "needs_background": "light",
      "tags": []
     },
     "output_type": "display_data"
    }
   ],
   "source": [
    "plt.figure(figsize=(10,5))\n",
    "plt.hist(subset_1['lead'],bins=100,alpha=0.5,edgecolor='black')\n",
    "plt.title('Lead Time in Days')\n",
    "plt.xlabel('Days')\n",
    "plt.xlim((0,50))\n",
    "plt.show()"
   ]
  },
  {
   "cell_type": "markdown",
   "metadata": {
    "id": "JuYOb9duNp6v"
   },
   "source": [
    "#### Observations\n",
    "* From the above plot we can infer that 50% of the orders get delivered within 10 days \n",
    "  which is a good sign for the business.\n",
    "* Few orders takes more than 20 days to deliver to the customer."
   ]
  },
  {
   "cell_type": "markdown",
   "metadata": {
    "id": "xhMhN_8fjseG"
   },
   "source": [
    "**Back order rate**\n",
    "\n",
    "The Backorder Rate KPI measures how many orders cannot be filled at the time a customer places them. This is measured by frequency of orders delivered later than the  the estimated delivery date."
   ]
  },
  {
   "cell_type": "code",
   "execution_count": 187,
   "metadata": {
    "executionInfo": {
     "elapsed": 696,
     "status": "ok",
     "timestamp": 1613238632499,
     "user": {
      "displayName": "Arun rajan",
      "photoUrl": "https://lh3.googleusercontent.com/a-/AOh14GhKlJD7-lRzdBpsXXKX99vweYs9dgDO8xHZt7wz0g=s64",
      "userId": "16564613912059202502"
     },
     "user_tz": -330
    },
    "id": "iGsjQWaKesSf"
   },
   "outputs": [],
   "source": [
    "subset_1['back_order'] = (subset_1['order_delivered_customer_date'] - subset_1['order_estimated_delivery_date']).dt.days\n",
    "back_order_rate = subset_1[subset_1['back_order'] > 0]"
   ]
  },
  {
   "cell_type": "code",
   "execution_count": 192,
   "metadata": {
    "colab": {
     "base_uri": "https://localhost:8080/",
     "height": 162
    },
    "executionInfo": {
     "elapsed": 686,
     "status": "ok",
     "timestamp": 1613238749573,
     "user": {
      "displayName": "Arun rajan",
      "photoUrl": "https://lh3.googleusercontent.com/a-/AOh14GhKlJD7-lRzdBpsXXKX99vweYs9dgDO8xHZt7wz0g=s64",
      "userId": "16564613912059202502"
     },
     "user_tz": -330
    },
    "id": "RAkV5BP5hal6",
    "outputId": "96cf28a9-078f-43ae-e331-b61788819e11"
   },
   "outputs": [
    {
     "data": {
      "text/html": [
       "<div>\n",
       "<style scoped>\n",
       "    .dataframe tbody tr th:only-of-type {\n",
       "        vertical-align: middle;\n",
       "    }\n",
       "\n",
       "    .dataframe tbody tr th {\n",
       "        vertical-align: top;\n",
       "    }\n",
       "\n",
       "    .dataframe thead th {\n",
       "        text-align: right;\n",
       "    }\n",
       "</style>\n",
       "<table border=\"1\" class=\"dataframe\">\n",
       "  <thead>\n",
       "    <tr style=\"text-align: right;\">\n",
       "      <th></th>\n",
       "      <th>order_id</th>\n",
       "      <th>customer_id</th>\n",
       "      <th>order_status</th>\n",
       "      <th>purchase_year</th>\n",
       "      <th>purchase_month</th>\n",
       "      <th>purchase_day</th>\n",
       "      <th>order_purchase_timestamp</th>\n",
       "      <th>order_approved_at</th>\n",
       "      <th>order_delivered_carrier_date</th>\n",
       "      <th>order_delivered_customer_date</th>\n",
       "      <th>order_estimated_delivery_date</th>\n",
       "      <th>lead</th>\n",
       "      <th>back_order</th>\n",
       "    </tr>\n",
       "  </thead>\n",
       "  <tbody>\n",
       "    <tr>\n",
       "      <th>58</th>\n",
       "      <td>6ea2f835b4556291ffdc53fa0b3b95e8</td>\n",
       "      <td>c7340080e394356141681bd4c9b8fe31</td>\n",
       "      <td>delivered</td>\n",
       "      <td>2017</td>\n",
       "      <td>November</td>\n",
       "      <td>24</td>\n",
       "      <td>2017-11-24 21:27:48</td>\n",
       "      <td>2017-11-25 00:21:09</td>\n",
       "      <td>2017-12-13 21:14:05</td>\n",
       "      <td>2017-12-28 18:59:23</td>\n",
       "      <td>2017-12-21</td>\n",
       "      <td>33.0</td>\n",
       "      <td>7.0</td>\n",
       "    </tr>\n",
       "    <tr>\n",
       "      <th>75</th>\n",
       "      <td>d2ce7421730f81ac57551e623ed3522d</td>\n",
       "      <td>873967bfecc663740e5d43930cc64b7b</td>\n",
       "      <td>delivered</td>\n",
       "      <td>2017</td>\n",
       "      <td>April</td>\n",
       "      <td>25</td>\n",
       "      <td>2017-04-25 16:48:35</td>\n",
       "      <td>2017-04-25 16:55:23</td>\n",
       "      <td>2017-04-27 10:00:13</td>\n",
       "      <td>2017-05-17 10:18:51</td>\n",
       "      <td>2017-05-16</td>\n",
       "      <td>21.0</td>\n",
       "      <td>1.0</td>\n",
       "    </tr>\n",
       "    <tr>\n",
       "      <th>111</th>\n",
       "      <td>c49be9a11fd13933307cc6a19b03a895</td>\n",
       "      <td>a972623b3481cbfd95fa776b0067e554</td>\n",
       "      <td>delivered</td>\n",
       "      <td>2018</td>\n",
       "      <td>May</td>\n",
       "      <td>15</td>\n",
       "      <td>2018-05-15 18:54:39</td>\n",
       "      <td>2018-05-17 03:16:13</td>\n",
       "      <td>2018-05-17 13:51:00</td>\n",
       "      <td>2018-06-06 13:27:44</td>\n",
       "      <td>2018-05-30</td>\n",
       "      <td>21.0</td>\n",
       "      <td>7.0</td>\n",
       "    </tr>\n",
       "  </tbody>\n",
       "</table>\n",
       "</div>"
      ],
      "text/plain": [
       "                             order_id                       customer_id  \\\n",
       "58   6ea2f835b4556291ffdc53fa0b3b95e8  c7340080e394356141681bd4c9b8fe31   \n",
       "75   d2ce7421730f81ac57551e623ed3522d  873967bfecc663740e5d43930cc64b7b   \n",
       "111  c49be9a11fd13933307cc6a19b03a895  a972623b3481cbfd95fa776b0067e554   \n",
       "\n",
       "    order_status  purchase_year purchase_month  purchase_day  \\\n",
       "58     delivered           2017       November            24   \n",
       "75     delivered           2017          April            25   \n",
       "111    delivered           2018            May            15   \n",
       "\n",
       "    order_purchase_timestamp   order_approved_at order_delivered_carrier_date  \\\n",
       "58       2017-11-24 21:27:48 2017-11-25 00:21:09          2017-12-13 21:14:05   \n",
       "75       2017-04-25 16:48:35 2017-04-25 16:55:23          2017-04-27 10:00:13   \n",
       "111      2018-05-15 18:54:39 2018-05-17 03:16:13          2018-05-17 13:51:00   \n",
       "\n",
       "    order_delivered_customer_date order_estimated_delivery_date  lead  \\\n",
       "58            2017-12-28 18:59:23                    2017-12-21  33.0   \n",
       "75            2017-05-17 10:18:51                    2017-05-16  21.0   \n",
       "111           2018-06-06 13:27:44                    2018-05-30  21.0   \n",
       "\n",
       "     back_order  \n",
       "58          7.0  \n",
       "75          1.0  \n",
       "111         7.0  "
      ]
     },
     "execution_count": 192,
     "metadata": {
      "tags": []
     },
     "output_type": "execute_result"
    }
   ],
   "source": [
    "back_order_rate.head(3)"
   ]
  },
  {
   "cell_type": "code",
   "execution_count": 208,
   "metadata": {
    "executionInfo": {
     "elapsed": 685,
     "status": "ok",
     "timestamp": 1613239173639,
     "user": {
      "displayName": "Arun rajan",
      "photoUrl": "https://lh3.googleusercontent.com/a-/AOh14GhKlJD7-lRzdBpsXXKX99vweYs9dgDO8xHZt7wz0g=s64",
      "userId": "16564613912059202502"
     },
     "user_tz": -330
    },
    "id": "baKj9fKvhBhz"
   },
   "outputs": [],
   "source": [
    "orders_delayed = back_order_rate.order_id.nunique()\n",
    "total_number_of_customers_orders_shipped = ord_pay.order_status.value_counts()[0]"
   ]
  },
  {
   "cell_type": "code",
   "execution_count": 210,
   "metadata": {
    "colab": {
     "base_uri": "https://localhost:8080/"
    },
    "executionInfo": {
     "elapsed": 683,
     "status": "ok",
     "timestamp": 1613239212305,
     "user": {
      "displayName": "Arun rajan",
      "photoUrl": "https://lh3.googleusercontent.com/a-/AOh14GhKlJD7-lRzdBpsXXKX99vweYs9dgDO8xHZt7wz0g=s64",
      "userId": "16564613912059202502"
     },
     "user_tz": -330
    },
    "id": "f7eteD8chwsZ",
    "outputId": "c801f53e-d93c-4c2a-fc79-9610caff9ee5"
   },
   "outputs": [
    {
     "data": {
      "text/plain": [
       "5.678049813024765"
      ]
     },
     "execution_count": 210,
     "metadata": {
      "tags": []
     },
     "output_type": "execute_result"
    }
   ],
   "source": [
    "back_order = orders_delayed/total_number_of_customers_orders_shipped * 100\n",
    "back_order"
   ]
  },
  {
   "cell_type": "markdown",
   "metadata": {
    "id": "F702k4spkHYh"
   },
   "source": [
    "Observations\n",
    "* Furniture is one of the product category prone to have high lead time. This is mainly because sellers aren’t able to fulfill the orders right time. Knowing furniture may comparably longer manufacturing time, perhaps better forecasting strategy is required by the sellers\n",
    "\n",
    "* Nearly 5.68% of the products went on backorder"
   ]
  },
  {
   "cell_type": "code",
   "execution_count": 48,
   "metadata": {
    "executionInfo": {
     "elapsed": 684,
     "status": "ok",
     "timestamp": 1613233434531,
     "user": {
      "displayName": "Arun rajan",
      "photoUrl": "https://lh3.googleusercontent.com/a-/AOh14GhKlJD7-lRzdBpsXXKX99vweYs9dgDO8xHZt7wz0g=s64",
      "userId": "16564613912059202502"
     },
     "user_tz": -330
    },
    "id": "ocGwHMDIQ0Rx"
   },
   "outputs": [],
   "source": [
    "ord_pay['lead'] = (ord_pay['order_delivered_customer_date'] - ord_pay['order_purchase_timestamp']).dt.days"
   ]
  },
  {
   "cell_type": "code",
   "execution_count": 49,
   "metadata": {
    "colab": {
     "base_uri": "https://localhost:8080/",
     "height": 179
    },
    "executionInfo": {
     "elapsed": 538,
     "status": "ok",
     "timestamp": 1613233435886,
     "user": {
      "displayName": "Arun rajan",
      "photoUrl": "https://lh3.googleusercontent.com/a-/AOh14GhKlJD7-lRzdBpsXXKX99vweYs9dgDO8xHZt7wz0g=s64",
      "userId": "16564613912059202502"
     },
     "user_tz": -330
    },
    "id": "sJtEDh8UQ4An",
    "outputId": "cc2faac3-721d-40ad-849d-d1b09aa536b9"
   },
   "outputs": [
    {
     "data": {
      "text/html": [
       "<div>\n",
       "<style scoped>\n",
       "    .dataframe tbody tr th:only-of-type {\n",
       "        vertical-align: middle;\n",
       "    }\n",
       "\n",
       "    .dataframe tbody tr th {\n",
       "        vertical-align: top;\n",
       "    }\n",
       "\n",
       "    .dataframe thead th {\n",
       "        text-align: right;\n",
       "    }\n",
       "</style>\n",
       "<table border=\"1\" class=\"dataframe\">\n",
       "  <thead>\n",
       "    <tr style=\"text-align: right;\">\n",
       "      <th></th>\n",
       "      <th>order_id</th>\n",
       "      <th>customer_id</th>\n",
       "      <th>order_status</th>\n",
       "      <th>order_purchase_timestamp</th>\n",
       "      <th>order_approved_at</th>\n",
       "      <th>order_delivered_carrier_date</th>\n",
       "      <th>order_delivered_customer_date</th>\n",
       "      <th>order_estimated_delivery_date</th>\n",
       "      <th>payment_sequential</th>\n",
       "      <th>payment_type</th>\n",
       "      <th>payment_installments</th>\n",
       "      <th>payment_value</th>\n",
       "      <th>customer_unique_id</th>\n",
       "      <th>customer_zip_code_prefix</th>\n",
       "      <th>customer_city</th>\n",
       "      <th>customer_state</th>\n",
       "      <th>order_item_id</th>\n",
       "      <th>product_id</th>\n",
       "      <th>seller_id</th>\n",
       "      <th>shipping_limit_date</th>\n",
       "      <th>price</th>\n",
       "      <th>freight_value</th>\n",
       "      <th>product_name_lenght</th>\n",
       "      <th>product_description_lenght</th>\n",
       "      <th>product_photos_qty</th>\n",
       "      <th>product_weight_g</th>\n",
       "      <th>product_length_cm</th>\n",
       "      <th>product_height_cm</th>\n",
       "      <th>product_width_cm</th>\n",
       "      <th>product_category_name_english</th>\n",
       "      <th>seller_zip_code_prefix</th>\n",
       "      <th>seller_city</th>\n",
       "      <th>seller_state</th>\n",
       "      <th>lead</th>\n",
       "    </tr>\n",
       "  </thead>\n",
       "  <tbody>\n",
       "    <tr>\n",
       "      <th>7</th>\n",
       "      <td>1fa40f202d5d233b6491e976c557b822</td>\n",
       "      <td>50fd5707c28d0a64dc20d67f937dd9ba</td>\n",
       "      <td>delivered</td>\n",
       "      <td>2017-09-23 22:11:10</td>\n",
       "      <td>2017-09-23 22:25:11</td>\n",
       "      <td>2017-09-26 17:27:54</td>\n",
       "      <td>2017-10-19 21:09:21</td>\n",
       "      <td>2017-11-13</td>\n",
       "      <td>1</td>\n",
       "      <td>credit_card</td>\n",
       "      <td>1</td>\n",
       "      <td>50.05</td>\n",
       "      <td>35c6ec4630637b3ec0da6e587f245f83</td>\n",
       "      <td>69043</td>\n",
       "      <td>manaus</td>\n",
       "      <td>AM</td>\n",
       "      <td>1</td>\n",
       "      <td>8415b1dae10d2dcb36beec370c6a90cd</td>\n",
       "      <td>3504c0cb71d7fa48d967e0e4c94d59d9</td>\n",
       "      <td>2017-09-27 22:25:11</td>\n",
       "      <td>28.9</td>\n",
       "      <td>21.15</td>\n",
       "      <td>59.0</td>\n",
       "      <td>322.0</td>\n",
       "      <td>5.0</td>\n",
       "      <td>600.0</td>\n",
       "      <td>24.0</td>\n",
       "      <td>5.0</td>\n",
       "      <td>18.0</td>\n",
       "      <td>housewares</td>\n",
       "      <td>9350</td>\n",
       "      <td>maua</td>\n",
       "      <td>SP</td>\n",
       "      <td>25.0</td>\n",
       "    </tr>\n",
       "    <tr>\n",
       "      <th>58</th>\n",
       "      <td>6ea2f835b4556291ffdc53fa0b3b95e8</td>\n",
       "      <td>c7340080e394356141681bd4c9b8fe31</td>\n",
       "      <td>delivered</td>\n",
       "      <td>2017-11-24 21:27:48</td>\n",
       "      <td>2017-11-25 00:21:09</td>\n",
       "      <td>2017-12-13 21:14:05</td>\n",
       "      <td>2017-12-28 18:59:23</td>\n",
       "      <td>2017-12-21</td>\n",
       "      <td>1</td>\n",
       "      <td>credit_card</td>\n",
       "      <td>10</td>\n",
       "      <td>356.12</td>\n",
       "      <td>3e4fd73f1e86b135b9b121d6abbe9597</td>\n",
       "      <td>19400</td>\n",
       "      <td>presidente venceslau</td>\n",
       "      <td>SP</td>\n",
       "      <td>1</td>\n",
       "      <td>be021417a6acb56b9b50d3fd2714baa8</td>\n",
       "      <td>f5f46307a4d15880ca14fab4ad9dfc9b</td>\n",
       "      <td>2017-11-30 00:21:09</td>\n",
       "      <td>339.0</td>\n",
       "      <td>17.12</td>\n",
       "      <td>48.0</td>\n",
       "      <td>664.0</td>\n",
       "      <td>6.0</td>\n",
       "      <td>14300.0</td>\n",
       "      <td>38.0</td>\n",
       "      <td>34.0</td>\n",
       "      <td>34.0</td>\n",
       "      <td>housewares</td>\n",
       "      <td>89165</td>\n",
       "      <td>rio do sul</td>\n",
       "      <td>SC</td>\n",
       "      <td>33.0</td>\n",
       "    </tr>\n",
       "    <tr>\n",
       "      <th>75</th>\n",
       "      <td>d2ce7421730f81ac57551e623ed3522d</td>\n",
       "      <td>873967bfecc663740e5d43930cc64b7b</td>\n",
       "      <td>delivered</td>\n",
       "      <td>2017-04-25 16:48:35</td>\n",
       "      <td>2017-04-25 16:55:23</td>\n",
       "      <td>2017-04-27 10:00:13</td>\n",
       "      <td>2017-05-17 10:18:51</td>\n",
       "      <td>2017-05-16</td>\n",
       "      <td>1</td>\n",
       "      <td>credit_card</td>\n",
       "      <td>2</td>\n",
       "      <td>53.11</td>\n",
       "      <td>14e45ce4cfe711aa6d32e974517bc76b</td>\n",
       "      <td>88010</td>\n",
       "      <td>florianopolis</td>\n",
       "      <td>SC</td>\n",
       "      <td>1</td>\n",
       "      <td>a5a0e71a81ae65aa335e71c06261e260</td>\n",
       "      <td>c8417879a15366a17c30af34c798c332</td>\n",
       "      <td>2017-05-02 16:55:23</td>\n",
       "      <td>38.0</td>\n",
       "      <td>15.11</td>\n",
       "      <td>57.0</td>\n",
       "      <td>698.0</td>\n",
       "      <td>3.0</td>\n",
       "      <td>705.0</td>\n",
       "      <td>34.0</td>\n",
       "      <td>22.0</td>\n",
       "      <td>28.0</td>\n",
       "      <td>housewares</td>\n",
       "      <td>4445</td>\n",
       "      <td>sao paulo</td>\n",
       "      <td>SP</td>\n",
       "      <td>21.0</td>\n",
       "    </tr>\n",
       "  </tbody>\n",
       "</table>\n",
       "</div>"
      ],
      "text/plain": [
       "                            order_id                       customer_id  \\\n",
       "7   1fa40f202d5d233b6491e976c557b822  50fd5707c28d0a64dc20d67f937dd9ba   \n",
       "58  6ea2f835b4556291ffdc53fa0b3b95e8  c7340080e394356141681bd4c9b8fe31   \n",
       "75  d2ce7421730f81ac57551e623ed3522d  873967bfecc663740e5d43930cc64b7b   \n",
       "\n",
       "   order_status order_purchase_timestamp   order_approved_at  \\\n",
       "7     delivered      2017-09-23 22:11:10 2017-09-23 22:25:11   \n",
       "58    delivered      2017-11-24 21:27:48 2017-11-25 00:21:09   \n",
       "75    delivered      2017-04-25 16:48:35 2017-04-25 16:55:23   \n",
       "\n",
       "   order_delivered_carrier_date order_delivered_customer_date  \\\n",
       "7           2017-09-26 17:27:54           2017-10-19 21:09:21   \n",
       "58          2017-12-13 21:14:05           2017-12-28 18:59:23   \n",
       "75          2017-04-27 10:00:13           2017-05-17 10:18:51   \n",
       "\n",
       "   order_estimated_delivery_date  payment_sequential payment_type  \\\n",
       "7                     2017-11-13                   1  credit_card   \n",
       "58                    2017-12-21                   1  credit_card   \n",
       "75                    2017-05-16                   1  credit_card   \n",
       "\n",
       "    payment_installments  payment_value                customer_unique_id  \\\n",
       "7                      1          50.05  35c6ec4630637b3ec0da6e587f245f83   \n",
       "58                    10         356.12  3e4fd73f1e86b135b9b121d6abbe9597   \n",
       "75                     2          53.11  14e45ce4cfe711aa6d32e974517bc76b   \n",
       "\n",
       "    customer_zip_code_prefix         customer_city customer_state  \\\n",
       "7                      69043                manaus             AM   \n",
       "58                     19400  presidente venceslau             SP   \n",
       "75                     88010         florianopolis             SC   \n",
       "\n",
       "    order_item_id                        product_id  \\\n",
       "7               1  8415b1dae10d2dcb36beec370c6a90cd   \n",
       "58              1  be021417a6acb56b9b50d3fd2714baa8   \n",
       "75              1  a5a0e71a81ae65aa335e71c06261e260   \n",
       "\n",
       "                           seller_id  shipping_limit_date  price  \\\n",
       "7   3504c0cb71d7fa48d967e0e4c94d59d9  2017-09-27 22:25:11   28.9   \n",
       "58  f5f46307a4d15880ca14fab4ad9dfc9b  2017-11-30 00:21:09  339.0   \n",
       "75  c8417879a15366a17c30af34c798c332  2017-05-02 16:55:23   38.0   \n",
       "\n",
       "    freight_value  product_name_lenght  product_description_lenght  \\\n",
       "7           21.15                 59.0                       322.0   \n",
       "58          17.12                 48.0                       664.0   \n",
       "75          15.11                 57.0                       698.0   \n",
       "\n",
       "    product_photos_qty  product_weight_g  product_length_cm  \\\n",
       "7                  5.0             600.0               24.0   \n",
       "58                 6.0           14300.0               38.0   \n",
       "75                 3.0             705.0               34.0   \n",
       "\n",
       "    product_height_cm  product_width_cm product_category_name_english  \\\n",
       "7                 5.0              18.0                    housewares   \n",
       "58               34.0              34.0                    housewares   \n",
       "75               22.0              28.0                    housewares   \n",
       "\n",
       "    seller_zip_code_prefix seller_city seller_state  lead  \n",
       "7                     9350        maua           SP  25.0  \n",
       "58                   89165  rio do sul           SC  33.0  \n",
       "75                    4445   sao paulo           SP  21.0  "
      ]
     },
     "execution_count": 49,
     "metadata": {
      "tags": []
     },
     "output_type": "execute_result"
    }
   ],
   "source": [
    "## lets see which product category takes more than 20 days to deliver\n",
    "cat = ord_pay[ord_pay['lead'] > 20]\n",
    "cat.head(3)"
   ]
  },
  {
   "cell_type": "code",
   "execution_count": 50,
   "metadata": {
    "colab": {
     "base_uri": "https://localhost:8080/",
     "height": 499
    },
    "executionInfo": {
     "elapsed": 925,
     "status": "ok",
     "timestamp": 1613233437482,
     "user": {
      "displayName": "Arun rajan",
      "photoUrl": "https://lh3.googleusercontent.com/a-/AOh14GhKlJD7-lRzdBpsXXKX99vweYs9dgDO8xHZt7wz0g=s64",
      "userId": "16564613912059202502"
     },
     "user_tz": -330
    },
    "id": "VPJ3HyvuQ9bV",
    "outputId": "f02f9975-d51b-49f2-98b2-08702cb9b07f"
   },
   "outputs": [
    {
     "data": {
      "image/png": "[encoded data removed]",
      "text/plain": [
       "<Figure size 720x360 with 1 Axes>"
      ]
     },
     "metadata": {
      "needs_background": "light",
      "tags": []
     },
     "output_type": "display_data"
    }
   ],
   "source": [
    "##average lead time\n",
    "plt.figure(figsize=(10,5))\n",
    "a = cat.groupby('product_category_name_english')['lead'].mean()\n",
    "a.sort_values(ascending=False).head(10).plot(kind='bar',alpha=0.5)\n",
    "plt.ylabel('Days')\n",
    "plt.show()"
   ]
  },
  {
   "cell_type": "code",
   "execution_count": 51,
   "metadata": {
    "colab": {
     "base_uri": "https://localhost:8080/",
     "height": 142
    },
    "executionInfo": {
     "elapsed": 518,
     "status": "ok",
     "timestamp": 1613233438731,
     "user": {
      "displayName": "Arun rajan",
      "photoUrl": "https://lh3.googleusercontent.com/a-/AOh14GhKlJD7-lRzdBpsXXKX99vweYs9dgDO8xHZt7wz0g=s64",
      "userId": "16564613912059202502"
     },
     "user_tz": -330
    },
    "id": "Aw2FJM8TMrF9",
    "outputId": "016926ca-a7b5-4caf-f660-48b03d8f7746"
   },
   "outputs": [
    {
     "data": {
      "text/html": [
       "<div>\n",
       "<style scoped>\n",
       "    .dataframe tbody tr th:only-of-type {\n",
       "        vertical-align: middle;\n",
       "    }\n",
       "\n",
       "    .dataframe tbody tr th {\n",
       "        vertical-align: top;\n",
       "    }\n",
       "\n",
       "    .dataframe thead th {\n",
       "        text-align: right;\n",
       "    }\n",
       "</style>\n",
       "<table border=\"1\" class=\"dataframe\">\n",
       "  <thead>\n",
       "    <tr style=\"text-align: right;\">\n",
       "      <th></th>\n",
       "      <th>order_id</th>\n",
       "      <th>payment_sequential</th>\n",
       "      <th>payment_type</th>\n",
       "      <th>payment_installments</th>\n",
       "      <th>payment_value</th>\n",
       "    </tr>\n",
       "  </thead>\n",
       "  <tbody>\n",
       "    <tr>\n",
       "      <th>0</th>\n",
       "      <td>b81ef226f3fe1789b1e8b2acac839d17</td>\n",
       "      <td>1</td>\n",
       "      <td>credit_card</td>\n",
       "      <td>8</td>\n",
       "      <td>99.33</td>\n",
       "    </tr>\n",
       "    <tr>\n",
       "      <th>1</th>\n",
       "      <td>a9810da82917af2d9aefd1278f1dcfa0</td>\n",
       "      <td>1</td>\n",
       "      <td>credit_card</td>\n",
       "      <td>1</td>\n",
       "      <td>24.39</td>\n",
       "    </tr>\n",
       "    <tr>\n",
       "      <th>2</th>\n",
       "      <td>25e8ea4e93396b6fa0d3dd708e76c1bd</td>\n",
       "      <td>1</td>\n",
       "      <td>credit_card</td>\n",
       "      <td>1</td>\n",
       "      <td>65.71</td>\n",
       "    </tr>\n",
       "  </tbody>\n",
       "</table>\n",
       "</div>"
      ],
      "text/plain": [
       "                           order_id  payment_sequential payment_type  \\\n",
       "0  b81ef226f3fe1789b1e8b2acac839d17                   1  credit_card   \n",
       "1  a9810da82917af2d9aefd1278f1dcfa0                   1  credit_card   \n",
       "2  25e8ea4e93396b6fa0d3dd708e76c1bd                   1  credit_card   \n",
       "\n",
       "   payment_installments  payment_value  \n",
       "0                     8          99.33  \n",
       "1                     1          24.39  \n",
       "2                     1          65.71  "
      ]
     },
     "execution_count": 51,
     "metadata": {
      "tags": []
     },
     "output_type": "execute_result"
    }
   ],
   "source": [
    "##payments\n",
    "olist_order_payments.head(3)"
   ]
  },
  {
   "cell_type": "code",
   "execution_count": 52,
   "metadata": {
    "colab": {
     "base_uri": "https://localhost:8080/"
    },
    "executionInfo": {
     "elapsed": 699,
     "status": "ok",
     "timestamp": 1613233441525,
     "user": {
      "displayName": "Arun rajan",
      "photoUrl": "https://lh3.googleusercontent.com/a-/AOh14GhKlJD7-lRzdBpsXXKX99vweYs9dgDO8xHZt7wz0g=s64",
      "userId": "16564613912059202502"
     },
     "user_tz": -330
    },
    "id": "EOf-YBxeMrIW",
    "outputId": "2f51d422-9b8e-414c-b27d-50da10012088"
   },
   "outputs": [
    {
     "data": {
      "text/plain": [
       "credit_card    76795\n",
       "boleto         19784\n",
       "voucher         5775\n",
       "debit_card      1529\n",
       "not_defined        3\n",
       "Name: payment_type, dtype: int64"
      ]
     },
     "execution_count": 52,
     "metadata": {
      "tags": []
     },
     "output_type": "execute_result"
    }
   ],
   "source": [
    "olist_order_payments['payment_type'].value_counts()"
   ]
  },
  {
   "cell_type": "code",
   "execution_count": 53,
   "metadata": {
    "colab": {
     "base_uri": "https://localhost:8080/",
     "height": 317
    },
    "executionInfo": {
     "elapsed": 883,
     "status": "ok",
     "timestamp": 1613233443011,
     "user": {
      "displayName": "Arun rajan",
      "photoUrl": "https://lh3.googleusercontent.com/a-/AOh14GhKlJD7-lRzdBpsXXKX99vweYs9dgDO8xHZt7wz0g=s64",
      "userId": "16564613912059202502"
     },
     "user_tz": -330
    },
    "id": "zeoQScK-N-2X",
    "outputId": "10a71a18-3d06-495c-a3c5-b82ec219abbe"
   },
   "outputs": [
    {
     "data": {
      "image/png": "[encoded data removed]",
      "text/plain": [
       "<Figure size 432x288 with 1 Axes>"
      ]
     },
     "metadata": {
      "needs_background": "light",
      "tags": []
     },
     "output_type": "display_data"
    }
   ],
   "source": [
    "olist_order_payments['payment_type'].value_counts().plot(kind='bar')\n",
    "plt.show()"
   ]
  },
  {
   "cell_type": "code",
   "execution_count": 54,
   "metadata": {
    "colab": {
     "base_uri": "https://localhost:8080/"
    },
    "executionInfo": {
     "elapsed": 678,
     "status": "ok",
     "timestamp": 1613233444256,
     "user": {
      "displayName": "Arun rajan",
      "photoUrl": "https://lh3.googleusercontent.com/a-/AOh14GhKlJD7-lRzdBpsXXKX99vweYs9dgDO8xHZt7wz0g=s64",
      "userId": "16564613912059202502"
     },
     "user_tz": -330
    },
    "id": "oP6aqiyCN-96",
    "outputId": "30d58b1c-3d0b-4444-b0c3-b88e0def8f27"
   },
   "outputs": [
    {
     "data": {
      "text/plain": [
       "credit_card    73.922376\n",
       "boleto         19.043952\n",
       "voucher         5.558978\n",
       "debit_card      1.471806\n",
       "not_defined     0.002888\n",
       "Name: payment_type, dtype: float64"
      ]
     },
     "execution_count": 54,
     "metadata": {
      "tags": []
     },
     "output_type": "execute_result"
    }
   ],
   "source": [
    "a = olist_order_payments['payment_type'].value_counts().sum()\n",
    "b = olist_order_payments['payment_type'].value_counts()/a * 100\n",
    "b"
   ]
  },
  {
   "cell_type": "markdown",
   "metadata": {
    "id": "6IepaWOqOROQ"
   },
   "source": [
    "## Observations\n",
    "* Nearly 74% of the payments have been done by credit_card and boleto has 20% of the payments."
   ]
  },
  {
   "cell_type": "code",
   "execution_count": 55,
   "metadata": {
    "colab": {
     "base_uri": "https://localhost:8080/",
     "height": 280
    },
    "executionInfo": {
     "elapsed": 1846,
     "status": "ok",
     "timestamp": 1613233447593,
     "user": {
      "displayName": "Arun rajan",
      "photoUrl": "https://lh3.googleusercontent.com/a-/AOh14GhKlJD7-lRzdBpsXXKX99vweYs9dgDO8xHZt7wz0g=s64",
      "userId": "16564613912059202502"
     },
     "user_tz": -330
    },
    "id": "Rcjw_D8yMrKL",
    "outputId": "07c4d6e7-c51a-4624-fd08-0682ee01130e"
   },
   "outputs": [
    {
     "data": {
      "image/png": "[encoded data removed]",
      "text/plain": [
       "<Figure size 432x288 with 1 Axes>"
      ]
     },
     "metadata": {
      "needs_background": "light",
      "tags": []
     },
     "output_type": "display_data"
    }
   ],
   "source": [
    "sns.distplot(olist_order_payments['payment_value'])\n",
    "plt.show()"
   ]
  },
  {
   "cell_type": "code",
   "execution_count": 56,
   "metadata": {
    "colab": {
     "base_uri": "https://localhost:8080/"
    },
    "executionInfo": {
     "elapsed": 733,
     "status": "ok",
     "timestamp": 1613233448695,
     "user": {
      "displayName": "Arun rajan",
      "photoUrl": "https://lh3.googleusercontent.com/a-/AOh14GhKlJD7-lRzdBpsXXKX99vweYs9dgDO8xHZt7wz0g=s64",
      "userId": "16564613912059202502"
     },
     "user_tz": -330
    },
    "id": "WMBUveOzO-IB",
    "outputId": "d14b954c-feb8-4081-ee34-dc3eb3dfcb11"
   },
   "outputs": [
    {
     "data": {
      "text/plain": [
       "1    99360\n",
       "2     3039\n",
       "3      581\n",
       "4      278\n",
       "5      170\n",
       "Name: payment_sequential, dtype: int64"
      ]
     },
     "execution_count": 56,
     "metadata": {
      "tags": []
     },
     "output_type": "execute_result"
    }
   ],
   "source": [
    "##Top-five payment_sequential\n",
    "olist_order_payments['payment_sequential'].value_counts().nlargest()"
   ]
  },
  {
   "cell_type": "code",
   "execution_count": 57,
   "metadata": {
    "colab": {
     "base_uri": "https://localhost:8080/"
    },
    "executionInfo": {
     "elapsed": 608,
     "status": "ok",
     "timestamp": 1613233449804,
     "user": {
      "displayName": "Arun rajan",
      "photoUrl": "https://lh3.googleusercontent.com/a-/AOh14GhKlJD7-lRzdBpsXXKX99vweYs9dgDO8xHZt7wz0g=s64",
      "userId": "16564613912059202502"
     },
     "user_tz": -330
    },
    "id": "sb0hifhM9jF9",
    "outputId": "fd1602da-64fe-4d38-8d3a-3b38446e4741"
   },
   "outputs": [
    {
     "data": {
      "text/plain": [
       "1    95.643301\n",
       "2     2.925322\n",
       "3     0.559267\n",
       "4     0.267601\n",
       "5     0.163641\n",
       "Name: payment_sequential, dtype: float64"
      ]
     },
     "execution_count": 57,
     "metadata": {
      "tags": []
     },
     "output_type": "execute_result"
    }
   ],
   "source": [
    "a = olist_order_payments['payment_sequential'].value_counts().nlargest()/olist_order_payments['payment_sequential'].value_counts().sum() * 100\n",
    "a"
   ]
  },
  {
   "cell_type": "markdown",
   "metadata": {
    "id": "PHJdtN-RX0d0"
   },
   "source": [
    "## Observations\n",
    "* A customer may pay an order with more than one payment method. if the customer does so, sequence will be created.\n",
    "* Nearly 95.64 % of the customers are paying by only one method."
   ]
  },
  {
   "cell_type": "code",
   "execution_count": 58,
   "metadata": {
    "colab": {
     "base_uri": "https://localhost:8080/",
     "height": 292
    },
    "executionInfo": {
     "elapsed": 794,
     "status": "ok",
     "timestamp": 1613233451983,
     "user": {
      "displayName": "Arun rajan",
      "photoUrl": "https://lh3.googleusercontent.com/a-/AOh14GhKlJD7-lRzdBpsXXKX99vweYs9dgDO8xHZt7wz0g=s64",
      "userId": "16564613912059202502"
     },
     "user_tz": -330
    },
    "id": "ths_g8QnaYuo",
    "outputId": "b6848eca-34c3-4499-8f5e-89233b2410a8"
   },
   "outputs": [
    {
     "data": {
      "image/png": "[encoded data removed]",
      "text/plain": [
       "<Figure size 432x288 with 1 Axes>"
      ]
     },
     "metadata": {
      "needs_background": "light",
      "tags": []
     },
     "output_type": "display_data"
    }
   ],
   "source": [
    "##How much total amount of money has been paid by customers using different payment methods\n",
    "olist_order_payments.groupby('payment_type')['payment_value'].sum().nlargest().plot(kind='line',marker='o')\n",
    "plt.show()"
   ]
  },
  {
   "cell_type": "code",
   "execution_count": 59,
   "metadata": {
    "colab": {
     "base_uri": "https://localhost:8080/"
    },
    "executionInfo": {
     "elapsed": 816,
     "status": "ok",
     "timestamp": 1613233453378,
     "user": {
      "displayName": "Arun rajan",
      "photoUrl": "https://lh3.googleusercontent.com/a-/AOh14GhKlJD7-lRzdBpsXXKX99vweYs9dgDO8xHZt7wz0g=s64",
      "userId": "16564613912059202502"
     },
     "user_tz": -330
    },
    "id": "dVJNUy8Xck2o",
    "outputId": "36ddda88-9e90-4de4-a7c8-60f18ced9681"
   },
   "outputs": [
    {
     "data": {
      "text/plain": [
       "order_id\n",
       "03caa2c082116e1d31e67e9ae3700499    13664.08\n",
       "736e1922ae60d0d6a89247b851902527     7274.88\n",
       "0812eb902a67711a1cb742b3cdaa65ae     6929.31\n",
       "fefacc66af859508bf1a7934eab1e97f     6922.21\n",
       "f5136e38d1a14a4dbd87dff67da82701     6726.66\n",
       "Name: payment_value, dtype: float64"
      ]
     },
     "execution_count": 59,
     "metadata": {
      "tags": []
     },
     "output_type": "execute_result"
    }
   ],
   "source": [
    "##order_id vs payment\n",
    "olist_order_payments.groupby('order_id')['payment_value'].sum().nlargest()"
   ]
  },
  {
   "cell_type": "code",
   "execution_count": 60,
   "metadata": {
    "colab": {
     "base_uri": "https://localhost:8080/",
     "height": 476
    },
    "executionInfo": {
     "elapsed": 1053,
     "status": "ok",
     "timestamp": 1613233454834,
     "user": {
      "displayName": "Arun rajan",
      "photoUrl": "https://lh3.googleusercontent.com/a-/AOh14GhKlJD7-lRzdBpsXXKX99vweYs9dgDO8xHZt7wz0g=s64",
      "userId": "16564613912059202502"
     },
     "user_tz": -330
    },
    "id": "eTO-KsglOz3C",
    "outputId": "8b5bee46-42a0-4394-d83b-96721e81f62c"
   },
   "outputs": [
    {
     "data": {
      "image/png": "[encoded data removed]",
      "text/plain": [
       "<Figure size 432x288 with 1 Axes>"
      ]
     },
     "metadata": {
      "needs_background": "light",
      "tags": []
     },
     "output_type": "display_data"
    }
   ],
   "source": [
    "olist_order_payments.groupby('order_id')['payment_value'].sum().nlargest().plot(kind='line',marker=\"o\")\n",
    "plt.xticks(rotation=90)\n",
    "plt.show()"
   ]
  },
  {
   "cell_type": "code",
   "execution_count": 61,
   "metadata": {
    "executionInfo": {
     "elapsed": 736,
     "status": "ok",
     "timestamp": 1613233455947,
     "user": {
      "displayName": "Arun rajan",
      "photoUrl": "https://lh3.googleusercontent.com/a-/AOh14GhKlJD7-lRzdBpsXXKX99vweYs9dgDO8xHZt7wz0g=s64",
      "userId": "16564613912059202502"
     },
     "user_tz": -330
    },
    "id": "xUP8UoPEO-Vt"
   },
   "outputs": [],
   "source": [
    "##products\n",
    "a = list(olist_products.columns)\n",
    "a[1] = 'product_category_name_english'\n",
    "product = ord_pay[a]"
   ]
  },
  {
   "cell_type": "code",
   "execution_count": 62,
   "metadata": {
    "colab": {
     "base_uri": "https://localhost:8080/",
     "height": 162
    },
    "executionInfo": {
     "elapsed": 671,
     "status": "ok",
     "timestamp": 1613233456874,
     "user": {
      "displayName": "Arun rajan",
      "photoUrl": "https://lh3.googleusercontent.com/a-/AOh14GhKlJD7-lRzdBpsXXKX99vweYs9dgDO8xHZt7wz0g=s64",
      "userId": "16564613912059202502"
     },
     "user_tz": -330
    },
    "id": "MOw_yK-DO-YP",
    "outputId": "ccd3acba-a470-491c-eb9a-f5648d56dbeb"
   },
   "outputs": [
    {
     "data": {
      "text/html": [
       "<div>\n",
       "<style scoped>\n",
       "    .dataframe tbody tr th:only-of-type {\n",
       "        vertical-align: middle;\n",
       "    }\n",
       "\n",
       "    .dataframe tbody tr th {\n",
       "        vertical-align: top;\n",
       "    }\n",
       "\n",
       "    .dataframe thead th {\n",
       "        text-align: right;\n",
       "    }\n",
       "</style>\n",
       "<table border=\"1\" class=\"dataframe\">\n",
       "  <thead>\n",
       "    <tr style=\"text-align: right;\">\n",
       "      <th></th>\n",
       "      <th>product_id</th>\n",
       "      <th>product_category_name_english</th>\n",
       "      <th>product_name_lenght</th>\n",
       "      <th>product_description_lenght</th>\n",
       "      <th>product_photos_qty</th>\n",
       "      <th>product_weight_g</th>\n",
       "      <th>product_length_cm</th>\n",
       "      <th>product_height_cm</th>\n",
       "      <th>product_width_cm</th>\n",
       "    </tr>\n",
       "  </thead>\n",
       "  <tbody>\n",
       "    <tr>\n",
       "      <th>0</th>\n",
       "      <td>87285b34884572647811a353c7ac498a</td>\n",
       "      <td>housewares</td>\n",
       "      <td>40.0</td>\n",
       "      <td>268.0</td>\n",
       "      <td>4.0</td>\n",
       "      <td>500.0</td>\n",
       "      <td>19.0</td>\n",
       "      <td>8.0</td>\n",
       "      <td>13.0</td>\n",
       "    </tr>\n",
       "    <tr>\n",
       "      <th>1</th>\n",
       "      <td>87285b34884572647811a353c7ac498a</td>\n",
       "      <td>housewares</td>\n",
       "      <td>40.0</td>\n",
       "      <td>268.0</td>\n",
       "      <td>4.0</td>\n",
       "      <td>500.0</td>\n",
       "      <td>19.0</td>\n",
       "      <td>8.0</td>\n",
       "      <td>13.0</td>\n",
       "    </tr>\n",
       "    <tr>\n",
       "      <th>2</th>\n",
       "      <td>87285b34884572647811a353c7ac498a</td>\n",
       "      <td>housewares</td>\n",
       "      <td>40.0</td>\n",
       "      <td>268.0</td>\n",
       "      <td>4.0</td>\n",
       "      <td>500.0</td>\n",
       "      <td>19.0</td>\n",
       "      <td>8.0</td>\n",
       "      <td>13.0</td>\n",
       "    </tr>\n",
       "  </tbody>\n",
       "</table>\n",
       "</div>"
      ],
      "text/plain": [
       "                         product_id product_category_name_english  \\\n",
       "0  87285b34884572647811a353c7ac498a                    housewares   \n",
       "1  87285b34884572647811a353c7ac498a                    housewares   \n",
       "2  87285b34884572647811a353c7ac498a                    housewares   \n",
       "\n",
       "   product_name_lenght  product_description_lenght  product_photos_qty  \\\n",
       "0                 40.0                       268.0                 4.0   \n",
       "1                 40.0                       268.0                 4.0   \n",
       "2                 40.0                       268.0                 4.0   \n",
       "\n",
       "   product_weight_g  product_length_cm  product_height_cm  product_width_cm  \n",
       "0             500.0               19.0                8.0              13.0  \n",
       "1             500.0               19.0                8.0              13.0  \n",
       "2             500.0               19.0                8.0              13.0  "
      ]
     },
     "execution_count": 62,
     "metadata": {
      "tags": []
     },
     "output_type": "execute_result"
    }
   ],
   "source": [
    "product.head(3)"
   ]
  },
  {
   "cell_type": "code",
   "execution_count": 63,
   "metadata": {
    "colab": {
     "base_uri": "https://localhost:8080/",
     "height": 297
    },
    "executionInfo": {
     "elapsed": 805,
     "status": "ok",
     "timestamp": 1613233458283,
     "user": {
      "displayName": "Arun rajan",
      "photoUrl": "https://lh3.googleusercontent.com/a-/AOh14GhKlJD7-lRzdBpsXXKX99vweYs9dgDO8xHZt7wz0g=s64",
      "userId": "16564613912059202502"
     },
     "user_tz": -330
    },
    "id": "7U3QpjKLO-bu",
    "outputId": "f50d25c8-43c2-4ead-c27d-3834fbbd1400"
   },
   "outputs": [
    {
     "data": {
      "text/html": [
       "<div>\n",
       "<style scoped>\n",
       "    .dataframe tbody tr th:only-of-type {\n",
       "        vertical-align: middle;\n",
       "    }\n",
       "\n",
       "    .dataframe tbody tr th {\n",
       "        vertical-align: top;\n",
       "    }\n",
       "\n",
       "    .dataframe thead th {\n",
       "        text-align: right;\n",
       "    }\n",
       "</style>\n",
       "<table border=\"1\" class=\"dataframe\">\n",
       "  <thead>\n",
       "    <tr style=\"text-align: right;\">\n",
       "      <th></th>\n",
       "      <th>product_name_lenght</th>\n",
       "      <th>product_description_lenght</th>\n",
       "      <th>product_photos_qty</th>\n",
       "      <th>product_weight_g</th>\n",
       "      <th>product_length_cm</th>\n",
       "      <th>product_height_cm</th>\n",
       "      <th>product_width_cm</th>\n",
       "    </tr>\n",
       "  </thead>\n",
       "  <tbody>\n",
       "    <tr>\n",
       "      <th>count</th>\n",
       "      <td>115878.000000</td>\n",
       "      <td>115878.000000</td>\n",
       "      <td>115878.000000</td>\n",
       "      <td>115877.000000</td>\n",
       "      <td>115877.000000</td>\n",
       "      <td>115877.000000</td>\n",
       "      <td>115877.000000</td>\n",
       "    </tr>\n",
       "    <tr>\n",
       "      <th>mean</th>\n",
       "      <td>48.766116</td>\n",
       "      <td>786.956428</td>\n",
       "      <td>2.207727</td>\n",
       "      <td>2117.594190</td>\n",
       "      <td>30.311554</td>\n",
       "      <td>16.656886</td>\n",
       "      <td>23.110445</td>\n",
       "    </tr>\n",
       "    <tr>\n",
       "      <th>std</th>\n",
       "      <td>10.035366</td>\n",
       "      <td>653.071898</td>\n",
       "      <td>1.719519</td>\n",
       "      <td>3785.744297</td>\n",
       "      <td>16.225837</td>\n",
       "      <td>13.480721</td>\n",
       "      <td>11.758209</td>\n",
       "    </tr>\n",
       "    <tr>\n",
       "      <th>min</th>\n",
       "      <td>5.000000</td>\n",
       "      <td>4.000000</td>\n",
       "      <td>1.000000</td>\n",
       "      <td>0.000000</td>\n",
       "      <td>7.000000</td>\n",
       "      <td>2.000000</td>\n",
       "      <td>6.000000</td>\n",
       "    </tr>\n",
       "    <tr>\n",
       "      <th>25%</th>\n",
       "      <td>42.000000</td>\n",
       "      <td>347.000000</td>\n",
       "      <td>1.000000</td>\n",
       "      <td>300.000000</td>\n",
       "      <td>18.000000</td>\n",
       "      <td>8.000000</td>\n",
       "      <td>15.000000</td>\n",
       "    </tr>\n",
       "    <tr>\n",
       "      <th>50%</th>\n",
       "      <td>52.000000</td>\n",
       "      <td>601.000000</td>\n",
       "      <td>1.000000</td>\n",
       "      <td>700.000000</td>\n",
       "      <td>25.000000</td>\n",
       "      <td>13.000000</td>\n",
       "      <td>20.000000</td>\n",
       "    </tr>\n",
       "    <tr>\n",
       "      <th>75%</th>\n",
       "      <td>57.000000</td>\n",
       "      <td>985.000000</td>\n",
       "      <td>3.000000</td>\n",
       "      <td>1800.000000</td>\n",
       "      <td>38.000000</td>\n",
       "      <td>20.000000</td>\n",
       "      <td>30.000000</td>\n",
       "    </tr>\n",
       "    <tr>\n",
       "      <th>max</th>\n",
       "      <td>76.000000</td>\n",
       "      <td>3992.000000</td>\n",
       "      <td>20.000000</td>\n",
       "      <td>40425.000000</td>\n",
       "      <td>105.000000</td>\n",
       "      <td>105.000000</td>\n",
       "      <td>118.000000</td>\n",
       "    </tr>\n",
       "  </tbody>\n",
       "</table>\n",
       "</div>"
      ],
      "text/plain": [
       "       product_name_lenght  product_description_lenght  product_photos_qty  \\\n",
       "count        115878.000000               115878.000000       115878.000000   \n",
       "mean             48.766116                  786.956428            2.207727   \n",
       "std              10.035366                  653.071898            1.719519   \n",
       "min               5.000000                    4.000000            1.000000   \n",
       "25%              42.000000                  347.000000            1.000000   \n",
       "50%              52.000000                  601.000000            1.000000   \n",
       "75%              57.000000                  985.000000            3.000000   \n",
       "max              76.000000                 3992.000000           20.000000   \n",
       "\n",
       "       product_weight_g  product_length_cm  product_height_cm  \\\n",
       "count     115877.000000      115877.000000      115877.000000   \n",
       "mean        2117.594190          30.311554          16.656886   \n",
       "std         3785.744297          16.225837          13.480721   \n",
       "min            0.000000           7.000000           2.000000   \n",
       "25%          300.000000          18.000000           8.000000   \n",
       "50%          700.000000          25.000000          13.000000   \n",
       "75%         1800.000000          38.000000          20.000000   \n",
       "max        40425.000000         105.000000         105.000000   \n",
       "\n",
       "       product_width_cm  \n",
       "count     115877.000000  \n",
       "mean          23.110445  \n",
       "std           11.758209  \n",
       "min            6.000000  \n",
       "25%           15.000000  \n",
       "50%           20.000000  \n",
       "75%           30.000000  \n",
       "max          118.000000  "
      ]
     },
     "execution_count": 63,
     "metadata": {
      "tags": []
     },
     "output_type": "execute_result"
    }
   ],
   "source": [
    "product.describe()"
   ]
  },
  {
   "cell_type": "code",
   "execution_count": 64,
   "metadata": {
    "colab": {
     "base_uri": "https://localhost:8080/",
     "height": 553
    },
    "executionInfo": {
     "elapsed": 3170,
     "status": "ok",
     "timestamp": 1613233461957,
     "user": {
      "displayName": "Arun rajan",
      "photoUrl": "https://lh3.googleusercontent.com/a-/AOh14GhKlJD7-lRzdBpsXXKX99vweYs9dgDO8xHZt7wz0g=s64",
      "userId": "16564613912059202502"
     },
     "user_tz": -330
    },
    "id": "lVqvJrT8e__Q",
    "outputId": "9c7ee03e-1d3a-418f-b54b-c622f03fba1f"
   },
   "outputs": [
    {
     "data": {
      "image/png": "[encoded data removed]",
      "text/plain": [
       "<Figure size 1440x648 with 9 Axes>"
      ]
     },
     "metadata": {
      "needs_background": "light",
      "tags": []
     },
     "output_type": "display_data"
    }
   ],
   "source": [
    "product.hist(figsize=(20,9),alpha=0.5,edgecolor='black')\n",
    "plt.show()"
   ]
  },
  {
   "cell_type": "markdown",
   "metadata": {
    "id": "JRzfHULPiXvL"
   },
   "source": [
    "## Observations\n",
    "* From the above histograms we can infer that the distributions of product_weight,product_length,product_height,product_width are right-skewed.\n",
    "* Product_name,description,photos are not that much useful in predicting the price."
   ]
  },
  {
   "cell_type": "code",
   "execution_count": 65,
   "metadata": {
    "colab": {
     "base_uri": "https://localhost:8080/",
     "height": 395
    },
    "executionInfo": {
     "elapsed": 1441,
     "status": "ok",
     "timestamp": 1613233465021,
     "user": {
      "displayName": "Arun rajan",
      "photoUrl": "https://lh3.googleusercontent.com/a-/AOh14GhKlJD7-lRzdBpsXXKX99vweYs9dgDO8xHZt7wz0g=s64",
      "userId": "16564613912059202502"
     },
     "user_tz": -330
    },
    "id": "0MBGmctufADy",
    "outputId": "d687a868-7c49-4d65-e188-b82aed9c4959"
   },
   "outputs": [
    {
     "data": {
      "image/png": "[encoded data removed]",
      "text/plain": [
       "<Figure size 432x288 with 2 Axes>"
      ]
     },
     "metadata": {
      "needs_background": "light",
      "tags": []
     },
     "output_type": "display_data"
    }
   ],
   "source": [
    "a = product.select_dtypes(exclude=np.object)\n",
    "sns.heatmap(a.corr(),annot=True)\n",
    "plt.show()\n"
   ]
  },
  {
   "cell_type": "code",
   "execution_count": 66,
   "metadata": {
    "colab": {
     "base_uri": "https://localhost:8080/",
     "height": 142
    },
    "executionInfo": {
     "elapsed": 515,
     "status": "ok",
     "timestamp": 1613233466339,
     "user": {
      "displayName": "Arun rajan",
      "photoUrl": "https://lh3.googleusercontent.com/a-/AOh14GhKlJD7-lRzdBpsXXKX99vweYs9dgDO8xHZt7wz0g=s64",
      "userId": "16564613912059202502"
     },
     "user_tz": -330
    },
    "id": "VdSu6GV3fAHV",
    "outputId": "fd8f8b4d-f43b-40fd-d508-7f0218e6c70d"
   },
   "outputs": [
    {
     "data": {
      "text/html": [
       "<div>\n",
       "<style scoped>\n",
       "    .dataframe tbody tr th:only-of-type {\n",
       "        vertical-align: middle;\n",
       "    }\n",
       "\n",
       "    .dataframe tbody tr th {\n",
       "        vertical-align: top;\n",
       "    }\n",
       "\n",
       "    .dataframe thead th {\n",
       "        text-align: right;\n",
       "    }\n",
       "</style>\n",
       "<table border=\"1\" class=\"dataframe\">\n",
       "  <thead>\n",
       "    <tr style=\"text-align: right;\">\n",
       "      <th></th>\n",
       "      <th>seller_id</th>\n",
       "      <th>seller_zip_code_prefix</th>\n",
       "      <th>seller_city</th>\n",
       "      <th>seller_state</th>\n",
       "    </tr>\n",
       "  </thead>\n",
       "  <tbody>\n",
       "    <tr>\n",
       "      <th>0</th>\n",
       "      <td>3442f8959a84dea7ee197c632cb2df15</td>\n",
       "      <td>13023</td>\n",
       "      <td>campinas</td>\n",
       "      <td>SP</td>\n",
       "    </tr>\n",
       "    <tr>\n",
       "      <th>1</th>\n",
       "      <td>d1b65fc7debc3361ea86b5f14c68d2e2</td>\n",
       "      <td>13844</td>\n",
       "      <td>mogi guacu</td>\n",
       "      <td>SP</td>\n",
       "    </tr>\n",
       "    <tr>\n",
       "      <th>2</th>\n",
       "      <td>ce3ad9de960102d0677a81f5d0bb7b2d</td>\n",
       "      <td>20031</td>\n",
       "      <td>rio de janeiro</td>\n",
       "      <td>RJ</td>\n",
       "    </tr>\n",
       "  </tbody>\n",
       "</table>\n",
       "</div>"
      ],
      "text/plain": [
       "                          seller_id  seller_zip_code_prefix     seller_city  \\\n",
       "0  3442f8959a84dea7ee197c632cb2df15                   13023        campinas   \n",
       "1  d1b65fc7debc3361ea86b5f14c68d2e2                   13844      mogi guacu   \n",
       "2  ce3ad9de960102d0677a81f5d0bb7b2d                   20031  rio de janeiro   \n",
       "\n",
       "  seller_state  \n",
       "0           SP  \n",
       "1           SP  \n",
       "2           RJ  "
      ]
     },
     "execution_count": 66,
     "metadata": {
      "tags": []
     },
     "output_type": "execute_result"
    }
   ],
   "source": [
    "##sellers\n",
    "olist_sellers.head(3)"
   ]
  },
  {
   "cell_type": "code",
   "execution_count": 67,
   "metadata": {
    "colab": {
     "base_uri": "https://localhost:8080/"
    },
    "executionInfo": {
     "elapsed": 509,
     "status": "ok",
     "timestamp": 1613233467621,
     "user": {
      "displayName": "Arun rajan",
      "photoUrl": "https://lh3.googleusercontent.com/a-/AOh14GhKlJD7-lRzdBpsXXKX99vweYs9dgDO8xHZt7wz0g=s64",
      "userId": "16564613912059202502"
     },
     "user_tz": -330
    },
    "id": "_oaKb4cofAKA",
    "outputId": "10dc983f-e770-4fa2-9e59-896d18f0c7f0"
   },
   "outputs": [
    {
     "name": "stdout",
     "output_type": "stream",
     "text": [
      "There are 3095 unique sellers\n"
     ]
    }
   ],
   "source": [
    "c = olist_sellers['seller_id'].nunique()\n",
    "print('There are {} unique sellers'.format(c))"
   ]
  },
  {
   "cell_type": "code",
   "execution_count": 68,
   "metadata": {
    "colab": {
     "base_uri": "https://localhost:8080/"
    },
    "executionInfo": {
     "elapsed": 586,
     "status": "ok",
     "timestamp": 1613233468808,
     "user": {
      "displayName": "Arun rajan",
      "photoUrl": "https://lh3.googleusercontent.com/a-/AOh14GhKlJD7-lRzdBpsXXKX99vweYs9dgDO8xHZt7wz0g=s64",
      "userId": "16564613912059202502"
     },
     "user_tz": -330
    },
    "id": "_o_tHzjFfANK",
    "outputId": "bf9b42f1-66bb-49d0-834a-342ab0c69132"
   },
   "outputs": [
    {
     "name": "stdout",
     "output_type": "stream",
     "text": [
      "There are 2246 unique seller_zip_code\n"
     ]
    }
   ],
   "source": [
    "##seller_zip_code_prefix\n",
    "d = olist_sellers['seller_zip_code_prefix'].nunique()\n",
    "print('There are {} unique seller_zip_code'.format(d))"
   ]
  },
  {
   "cell_type": "code",
   "execution_count": 69,
   "metadata": {
    "colab": {
     "base_uri": "https://localhost:8080/",
     "height": 287
    },
    "executionInfo": {
     "elapsed": 949,
     "status": "ok",
     "timestamp": 1613233470404,
     "user": {
      "displayName": "Arun rajan",
      "photoUrl": "https://lh3.googleusercontent.com/a-/AOh14GhKlJD7-lRzdBpsXXKX99vweYs9dgDO8xHZt7wz0g=s64",
      "userId": "16564613912059202502"
     },
     "user_tz": -330
    },
    "id": "xPD2GzqmqGsa",
    "outputId": "c459943c-3055-42d6-a891-33c8eed4fc1c"
   },
   "outputs": [
    {
     "data": {
      "image/png": "[encoded data removed]",
      "text/plain": [
       "<Figure size 432x288 with 1 Axes>"
      ]
     },
     "metadata": {
      "needs_background": "light",
      "tags": []
     },
     "output_type": "display_data"
    }
   ],
   "source": [
    "olist_sellers['seller_zip_code_prefix'].value_counts().nlargest().plot(kind='bar')\n",
    "plt.show()"
   ]
  },
  {
   "cell_type": "code",
   "execution_count": 70,
   "metadata": {
    "colab": {
     "base_uri": "https://localhost:8080/"
    },
    "executionInfo": {
     "elapsed": 501,
     "status": "ok",
     "timestamp": 1613233471544,
     "user": {
      "displayName": "Arun rajan",
      "photoUrl": "https://lh3.googleusercontent.com/a-/AOh14GhKlJD7-lRzdBpsXXKX99vweYs9dgDO8xHZt7wz0g=s64",
      "userId": "16564613912059202502"
     },
     "user_tz": -330
    },
    "id": "W1PPXBUVqGwC",
    "outputId": "ae93aa35-8fb6-4b24-bb25-96a9295adf40"
   },
   "outputs": [
    {
     "name": "stdout",
     "output_type": "stream",
     "text": [
      "Products were sold most frequently, 49 times, from the 14940 zip code.\n"
     ]
    }
   ],
   "source": [
    "zips = olist_sellers.groupby('seller_zip_code_prefix')['seller_id'].nunique().sort_values(ascending=False)\n",
    "print(\"Products were sold most frequently,\",zips.iloc[0],\"times, from the\", zips.index[0], \"zip code.\")"
   ]
  },
  {
   "cell_type": "code",
   "execution_count": 71,
   "metadata": {
    "colab": {
     "base_uri": "https://localhost:8080/",
     "height": 357
    },
    "executionInfo": {
     "elapsed": 1200,
     "status": "ok",
     "timestamp": 1613233473328,
     "user": {
      "displayName": "Arun rajan",
      "photoUrl": "https://lh3.googleusercontent.com/a-/AOh14GhKlJD7-lRzdBpsXXKX99vweYs9dgDO8xHZt7wz0g=s64",
      "userId": "16564613912059202502"
     },
     "user_tz": -330
    },
    "id": "n6cTfKPlsOYD",
    "outputId": "2ce97ebd-dec0-4150-969f-a9460cec85a7"
   },
   "outputs": [
    {
     "data": {
      "image/png": "[encoded data removed]",
      "text/plain": [
       "<Figure size 432x288 with 1 Axes>"
      ]
     },
     "metadata": {
      "needs_background": "light",
      "tags": []
     },
     "output_type": "display_data"
    }
   ],
   "source": [
    "z = olist_sellers['seller_city'].value_counts().nlargest()\n",
    "z.plot(kind='bar')\n",
    "plt.title('Top 10 cities for sellers')\n",
    "plt.xlabel('seller city')\n",
    "plt.ylabel('No of sellers')\n",
    "plt.show()\n"
   ]
  },
  {
   "cell_type": "code",
   "execution_count": 72,
   "metadata": {
    "colab": {
     "base_uri": "https://localhost:8080/"
    },
    "executionInfo": {
     "elapsed": 501,
     "status": "ok",
     "timestamp": 1613233474495,
     "user": {
      "displayName": "Arun rajan",
      "photoUrl": "https://lh3.googleusercontent.com/a-/AOh14GhKlJD7-lRzdBpsXXKX99vweYs9dgDO8xHZt7wz0g=s64",
      "userId": "16564613912059202502"
     },
     "user_tz": -330
    },
    "id": "x4zSKYj9ugBd",
    "outputId": "5b8087fd-697a-415b-e3a7-ae2e35078261"
   },
   "outputs": [
    {
     "data": {
      "text/plain": [
       "sao paulo         66.923819\n",
       "curitiba          12.246866\n",
       "rio de janeiro     9.257473\n",
       "belo horizonte     6.557377\n",
       "ribeirao preto     5.014465\n",
       "Name: seller_city, dtype: float64"
      ]
     },
     "execution_count": 72,
     "metadata": {
      "tags": []
     },
     "output_type": "execute_result"
    }
   ],
   "source": [
    "olist_sellers['seller_city'].value_counts().nlargest()/olist_sellers['seller_city'].value_counts().nlargest().sum() * 100"
   ]
  },
  {
   "cell_type": "markdown",
   "metadata": {
    "id": "mKg-tkjCuDH3"
   },
   "source": [
    "## Observations\n",
    "* Nearly 67% of sellers are from sao paulo because the customers are also more in Sao paulo,we can also say majority of the business happens in the sao paulo region.\n",
    "* curitiba holds 12.24 % sellers and rio de janeiro hols 9.25 % sellers."
   ]
  },
  {
   "cell_type": "code",
   "execution_count": 73,
   "metadata": {
    "colab": {
     "base_uri": "https://localhost:8080/"
    },
    "executionInfo": {
     "elapsed": 691,
     "status": "ok",
     "timestamp": 1613233477122,
     "user": {
      "displayName": "Arun rajan",
      "photoUrl": "https://lh3.googleusercontent.com/a-/AOh14GhKlJD7-lRzdBpsXXKX99vweYs9dgDO8xHZt7wz0g=s64",
      "userId": "16564613912059202502"
     },
     "user_tz": -330
    },
    "id": "9Uc0NHAOsOll",
    "outputId": "2c0205d1-70da-43ea-c59d-a105271fddd2"
   },
   "outputs": [
    {
     "data": {
      "text/plain": [
       "SP    1849\n",
       "PR     349\n",
       "MG     244\n",
       "SC     190\n",
       "RJ     171\n",
       "Name: seller_state, dtype: int64"
      ]
     },
     "execution_count": 73,
     "metadata": {
      "tags": []
     },
     "output_type": "execute_result"
    }
   ],
   "source": [
    "olist_sellers['seller_state'].value_counts().nlargest()"
   ]
  },
  {
   "cell_type": "code",
   "execution_count": 74,
   "metadata": {
    "colab": {
     "base_uri": "https://localhost:8080/",
     "height": 272
    },
    "executionInfo": {
     "elapsed": 805,
     "status": "ok",
     "timestamp": 1613233478375,
     "user": {
      "displayName": "Arun rajan",
      "photoUrl": "https://lh3.googleusercontent.com/a-/AOh14GhKlJD7-lRzdBpsXXKX99vweYs9dgDO8xHZt7wz0g=s64",
      "userId": "16564613912059202502"
     },
     "user_tz": -330
    },
    "id": "9TAGa5N4fAQS",
    "outputId": "4b15fd2b-2d2a-4bd8-a950-bd911a2407a4"
   },
   "outputs": [
    {
     "data": {
      "image/png": "[encoded data removed]",
      "text/plain": [
       "<Figure size 432x288 with 1 Axes>"
      ]
     },
     "metadata": {
      "needs_background": "light",
      "tags": []
     },
     "output_type": "display_data"
    }
   ],
   "source": [
    "## Top 5 states for sellers\n",
    "olist_sellers['seller_state'].value_counts().nlargest().plot(kind='bar')\n",
    "plt.show()"
   ]
  },
  {
   "cell_type": "code",
   "execution_count": 75,
   "metadata": {
    "colab": {
     "base_uri": "https://localhost:8080/"
    },
    "executionInfo": {
     "elapsed": 722,
     "status": "ok",
     "timestamp": 1613233480158,
     "user": {
      "displayName": "Arun rajan",
      "photoUrl": "https://lh3.googleusercontent.com/a-/AOh14GhKlJD7-lRzdBpsXXKX99vweYs9dgDO8xHZt7wz0g=s64",
      "userId": "16564613912059202502"
     },
     "user_tz": -330
    },
    "id": "MFNNASWCwT-4",
    "outputId": "a1bac58e-af8b-491d-e50c-6d9f783ce6a8"
   },
   "outputs": [
    {
     "data": {
      "text/plain": [
       "PA    1\n",
       "PI    1\n",
       "MA    1\n",
       "AM    1\n",
       "AC    1\n",
       "Name: seller_state, dtype: int64"
      ]
     },
     "execution_count": 75,
     "metadata": {
      "tags": []
     },
     "output_type": "execute_result"
    }
   ],
   "source": [
    "## Bottom 5 states for sellers\n",
    "olist_sellers['seller_state'].value_counts().nsmallest()"
   ]
  },
  {
   "cell_type": "code",
   "execution_count": 76,
   "metadata": {
    "colab": {
     "base_uri": "https://localhost:8080/",
     "height": 162
    },
    "executionInfo": {
     "elapsed": 917,
     "status": "ok",
     "timestamp": 1613233482147,
     "user": {
      "displayName": "Arun rajan",
      "photoUrl": "https://lh3.googleusercontent.com/a-/AOh14GhKlJD7-lRzdBpsXXKX99vweYs9dgDO8xHZt7wz0g=s64",
      "userId": "16564613912059202502"
     },
     "user_tz": -330
    },
    "id": "zx-SBZYT2OOq",
    "outputId": "612f322c-ab2b-4ba0-96ef-ad6c42e0eb81"
   },
   "outputs": [
    {
     "data": {
      "text/html": [
       "<div>\n",
       "<style scoped>\n",
       "    .dataframe tbody tr th:only-of-type {\n",
       "        vertical-align: middle;\n",
       "    }\n",
       "\n",
       "    .dataframe tbody tr th {\n",
       "        vertical-align: top;\n",
       "    }\n",
       "\n",
       "    .dataframe thead th {\n",
       "        text-align: right;\n",
       "    }\n",
       "</style>\n",
       "<table border=\"1\" class=\"dataframe\">\n",
       "  <thead>\n",
       "    <tr style=\"text-align: right;\">\n",
       "      <th></th>\n",
       "      <th>order_id</th>\n",
       "      <th>customer_id</th>\n",
       "      <th>order_status</th>\n",
       "      <th>order_purchase_timestamp</th>\n",
       "      <th>order_approved_at</th>\n",
       "      <th>order_delivered_carrier_date</th>\n",
       "      <th>order_delivered_customer_date</th>\n",
       "      <th>order_estimated_delivery_date</th>\n",
       "      <th>payment_sequential</th>\n",
       "      <th>payment_type</th>\n",
       "      <th>payment_installments</th>\n",
       "      <th>payment_value</th>\n",
       "      <th>customer_unique_id</th>\n",
       "      <th>customer_zip_code_prefix</th>\n",
       "      <th>customer_city</th>\n",
       "      <th>customer_state</th>\n",
       "      <th>order_item_id</th>\n",
       "      <th>product_id</th>\n",
       "      <th>seller_id</th>\n",
       "      <th>shipping_limit_date</th>\n",
       "      <th>price</th>\n",
       "      <th>freight_value</th>\n",
       "      <th>product_name_lenght</th>\n",
       "      <th>product_description_lenght</th>\n",
       "      <th>product_photos_qty</th>\n",
       "      <th>product_weight_g</th>\n",
       "      <th>product_length_cm</th>\n",
       "      <th>product_height_cm</th>\n",
       "      <th>product_width_cm</th>\n",
       "      <th>product_category_name_english</th>\n",
       "      <th>seller_zip_code_prefix</th>\n",
       "      <th>seller_city</th>\n",
       "      <th>seller_state</th>\n",
       "      <th>lead</th>\n",
       "    </tr>\n",
       "  </thead>\n",
       "  <tbody>\n",
       "    <tr>\n",
       "      <th>0</th>\n",
       "      <td>e481f51cbdc54678b7cc49136f2d6af7</td>\n",
       "      <td>9ef432eb6251297304e76186b10a928d</td>\n",
       "      <td>delivered</td>\n",
       "      <td>2017-10-02 10:56:33</td>\n",
       "      <td>2017-10-02 11:07:15</td>\n",
       "      <td>2017-10-04 19:55:00</td>\n",
       "      <td>2017-10-10 21:25:13</td>\n",
       "      <td>2017-10-18</td>\n",
       "      <td>1</td>\n",
       "      <td>credit_card</td>\n",
       "      <td>1</td>\n",
       "      <td>18.12</td>\n",
       "      <td>7c396fd4830fd04220f754e42b4e5bff</td>\n",
       "      <td>3149</td>\n",
       "      <td>sao paulo</td>\n",
       "      <td>SP</td>\n",
       "      <td>1</td>\n",
       "      <td>87285b34884572647811a353c7ac498a</td>\n",
       "      <td>3504c0cb71d7fa48d967e0e4c94d59d9</td>\n",
       "      <td>2017-10-06 11:07:15</td>\n",
       "      <td>29.99</td>\n",
       "      <td>8.72</td>\n",
       "      <td>40.0</td>\n",
       "      <td>268.0</td>\n",
       "      <td>4.0</td>\n",
       "      <td>500.0</td>\n",
       "      <td>19.0</td>\n",
       "      <td>8.0</td>\n",
       "      <td>13.0</td>\n",
       "      <td>housewares</td>\n",
       "      <td>9350</td>\n",
       "      <td>maua</td>\n",
       "      <td>SP</td>\n",
       "      <td>8.0</td>\n",
       "    </tr>\n",
       "    <tr>\n",
       "      <th>1</th>\n",
       "      <td>e481f51cbdc54678b7cc49136f2d6af7</td>\n",
       "      <td>9ef432eb6251297304e76186b10a928d</td>\n",
       "      <td>delivered</td>\n",
       "      <td>2017-10-02 10:56:33</td>\n",
       "      <td>2017-10-02 11:07:15</td>\n",
       "      <td>2017-10-04 19:55:00</td>\n",
       "      <td>2017-10-10 21:25:13</td>\n",
       "      <td>2017-10-18</td>\n",
       "      <td>3</td>\n",
       "      <td>voucher</td>\n",
       "      <td>1</td>\n",
       "      <td>2.00</td>\n",
       "      <td>7c396fd4830fd04220f754e42b4e5bff</td>\n",
       "      <td>3149</td>\n",
       "      <td>sao paulo</td>\n",
       "      <td>SP</td>\n",
       "      <td>1</td>\n",
       "      <td>87285b34884572647811a353c7ac498a</td>\n",
       "      <td>3504c0cb71d7fa48d967e0e4c94d59d9</td>\n",
       "      <td>2017-10-06 11:07:15</td>\n",
       "      <td>29.99</td>\n",
       "      <td>8.72</td>\n",
       "      <td>40.0</td>\n",
       "      <td>268.0</td>\n",
       "      <td>4.0</td>\n",
       "      <td>500.0</td>\n",
       "      <td>19.0</td>\n",
       "      <td>8.0</td>\n",
       "      <td>13.0</td>\n",
       "      <td>housewares</td>\n",
       "      <td>9350</td>\n",
       "      <td>maua</td>\n",
       "      <td>SP</td>\n",
       "      <td>8.0</td>\n",
       "    </tr>\n",
       "    <tr>\n",
       "      <th>2</th>\n",
       "      <td>e481f51cbdc54678b7cc49136f2d6af7</td>\n",
       "      <td>9ef432eb6251297304e76186b10a928d</td>\n",
       "      <td>delivered</td>\n",
       "      <td>2017-10-02 10:56:33</td>\n",
       "      <td>2017-10-02 11:07:15</td>\n",
       "      <td>2017-10-04 19:55:00</td>\n",
       "      <td>2017-10-10 21:25:13</td>\n",
       "      <td>2017-10-18</td>\n",
       "      <td>2</td>\n",
       "      <td>voucher</td>\n",
       "      <td>1</td>\n",
       "      <td>18.59</td>\n",
       "      <td>7c396fd4830fd04220f754e42b4e5bff</td>\n",
       "      <td>3149</td>\n",
       "      <td>sao paulo</td>\n",
       "      <td>SP</td>\n",
       "      <td>1</td>\n",
       "      <td>87285b34884572647811a353c7ac498a</td>\n",
       "      <td>3504c0cb71d7fa48d967e0e4c94d59d9</td>\n",
       "      <td>2017-10-06 11:07:15</td>\n",
       "      <td>29.99</td>\n",
       "      <td>8.72</td>\n",
       "      <td>40.0</td>\n",
       "      <td>268.0</td>\n",
       "      <td>4.0</td>\n",
       "      <td>500.0</td>\n",
       "      <td>19.0</td>\n",
       "      <td>8.0</td>\n",
       "      <td>13.0</td>\n",
       "      <td>housewares</td>\n",
       "      <td>9350</td>\n",
       "      <td>maua</td>\n",
       "      <td>SP</td>\n",
       "      <td>8.0</td>\n",
       "    </tr>\n",
       "  </tbody>\n",
       "</table>\n",
       "</div>"
      ],
      "text/plain": [
       "                           order_id                       customer_id  \\\n",
       "0  e481f51cbdc54678b7cc49136f2d6af7  9ef432eb6251297304e76186b10a928d   \n",
       "1  e481f51cbdc54678b7cc49136f2d6af7  9ef432eb6251297304e76186b10a928d   \n",
       "2  e481f51cbdc54678b7cc49136f2d6af7  9ef432eb6251297304e76186b10a928d   \n",
       "\n",
       "  order_status order_purchase_timestamp   order_approved_at  \\\n",
       "0    delivered      2017-10-02 10:56:33 2017-10-02 11:07:15   \n",
       "1    delivered      2017-10-02 10:56:33 2017-10-02 11:07:15   \n",
       "2    delivered      2017-10-02 10:56:33 2017-10-02 11:07:15   \n",
       "\n",
       "  order_delivered_carrier_date order_delivered_customer_date  \\\n",
       "0          2017-10-04 19:55:00           2017-10-10 21:25:13   \n",
       "1          2017-10-04 19:55:00           2017-10-10 21:25:13   \n",
       "2          2017-10-04 19:55:00           2017-10-10 21:25:13   \n",
       "\n",
       "  order_estimated_delivery_date  payment_sequential payment_type  \\\n",
       "0                    2017-10-18                   1  credit_card   \n",
       "1                    2017-10-18                   3      voucher   \n",
       "2                    2017-10-18                   2      voucher   \n",
       "\n",
       "   payment_installments  payment_value                customer_unique_id  \\\n",
       "0                     1          18.12  7c396fd4830fd04220f754e42b4e5bff   \n",
       "1                     1           2.00  7c396fd4830fd04220f754e42b4e5bff   \n",
       "2                     1          18.59  7c396fd4830fd04220f754e42b4e5bff   \n",
       "\n",
       "   customer_zip_code_prefix customer_city customer_state  order_item_id  \\\n",
       "0                      3149     sao paulo             SP              1   \n",
       "1                      3149     sao paulo             SP              1   \n",
       "2                      3149     sao paulo             SP              1   \n",
       "\n",
       "                         product_id                         seller_id  \\\n",
       "0  87285b34884572647811a353c7ac498a  3504c0cb71d7fa48d967e0e4c94d59d9   \n",
       "1  87285b34884572647811a353c7ac498a  3504c0cb71d7fa48d967e0e4c94d59d9   \n",
       "2  87285b34884572647811a353c7ac498a  3504c0cb71d7fa48d967e0e4c94d59d9   \n",
       "\n",
       "   shipping_limit_date  price  freight_value  product_name_lenght  \\\n",
       "0  2017-10-06 11:07:15  29.99           8.72                 40.0   \n",
       "1  2017-10-06 11:07:15  29.99           8.72                 40.0   \n",
       "2  2017-10-06 11:07:15  29.99           8.72                 40.0   \n",
       "\n",
       "   product_description_lenght  product_photos_qty  product_weight_g  \\\n",
       "0                       268.0                 4.0             500.0   \n",
       "1                       268.0                 4.0             500.0   \n",
       "2                       268.0                 4.0             500.0   \n",
       "\n",
       "   product_length_cm  product_height_cm  product_width_cm  \\\n",
       "0               19.0                8.0              13.0   \n",
       "1               19.0                8.0              13.0   \n",
       "2               19.0                8.0              13.0   \n",
       "\n",
       "  product_category_name_english  seller_zip_code_prefix seller_city  \\\n",
       "0                    housewares                    9350        maua   \n",
       "1                    housewares                    9350        maua   \n",
       "2                    housewares                    9350        maua   \n",
       "\n",
       "  seller_state  lead  \n",
       "0           SP   8.0  \n",
       "1           SP   8.0  \n",
       "2           SP   8.0  "
      ]
     },
     "execution_count": 76,
     "metadata": {
      "tags": []
     },
     "output_type": "execute_result"
    }
   ],
   "source": [
    "ord_pay.head(3)"
   ]
  },
  {
   "cell_type": "code",
   "execution_count": 77,
   "metadata": {
    "colab": {
     "base_uri": "https://localhost:8080/",
     "height": 162
    },
    "executionInfo": {
     "elapsed": 700,
     "status": "ok",
     "timestamp": 1613233483865,
     "user": {
      "displayName": "Arun rajan",
      "photoUrl": "https://lh3.googleusercontent.com/a-/AOh14GhKlJD7-lRzdBpsXXKX99vweYs9dgDO8xHZt7wz0g=s64",
      "userId": "16564613912059202502"
     },
     "user_tz": -330
    },
    "id": "RbdI5E3Y1iHx",
    "outputId": "6fab1438-f368-4e61-bf55-640b6ff79925"
   },
   "outputs": [
    {
     "data": {
      "text/html": [
       "<div>\n",
       "<style scoped>\n",
       "    .dataframe tbody tr th:only-of-type {\n",
       "        vertical-align: middle;\n",
       "    }\n",
       "\n",
       "    .dataframe tbody tr th {\n",
       "        vertical-align: top;\n",
       "    }\n",
       "\n",
       "    .dataframe thead th {\n",
       "        text-align: right;\n",
       "    }\n",
       "</style>\n",
       "<table border=\"1\" class=\"dataframe\">\n",
       "  <thead>\n",
       "    <tr style=\"text-align: right;\">\n",
       "      <th></th>\n",
       "      <th>order_id</th>\n",
       "      <th>order_item_id</th>\n",
       "      <th>product_id</th>\n",
       "      <th>seller_id</th>\n",
       "      <th>shipping_limit_date</th>\n",
       "      <th>price</th>\n",
       "      <th>freight_value</th>\n",
       "    </tr>\n",
       "  </thead>\n",
       "  <tbody>\n",
       "    <tr>\n",
       "      <th>0</th>\n",
       "      <td>00010242fe8c5a6d1ba2dd792cb16214</td>\n",
       "      <td>1</td>\n",
       "      <td>4244733e06e7ecb4970a6e2683c13e61</td>\n",
       "      <td>48436dade18ac8b2bce089ec2a041202</td>\n",
       "      <td>2017-09-19 09:45:35</td>\n",
       "      <td>58.9</td>\n",
       "      <td>13.29</td>\n",
       "    </tr>\n",
       "    <tr>\n",
       "      <th>1</th>\n",
       "      <td>00018f77f2f0320c557190d7a144bdd3</td>\n",
       "      <td>1</td>\n",
       "      <td>e5f2d52b802189ee658865ca93d83a8f</td>\n",
       "      <td>dd7ddc04e1b6c2c614352b383efe2d36</td>\n",
       "      <td>2017-05-03 11:05:13</td>\n",
       "      <td>239.9</td>\n",
       "      <td>19.93</td>\n",
       "    </tr>\n",
       "    <tr>\n",
       "      <th>2</th>\n",
       "      <td>000229ec398224ef6ca0657da4fc703e</td>\n",
       "      <td>1</td>\n",
       "      <td>c777355d18b72b67abbeef9df44fd0fd</td>\n",
       "      <td>5b51032eddd242adc84c38acab88f23d</td>\n",
       "      <td>2018-01-18 14:48:30</td>\n",
       "      <td>199.0</td>\n",
       "      <td>17.87</td>\n",
       "    </tr>\n",
       "  </tbody>\n",
       "</table>\n",
       "</div>"
      ],
      "text/plain": [
       "                           order_id  order_item_id  \\\n",
       "0  00010242fe8c5a6d1ba2dd792cb16214              1   \n",
       "1  00018f77f2f0320c557190d7a144bdd3              1   \n",
       "2  000229ec398224ef6ca0657da4fc703e              1   \n",
       "\n",
       "                         product_id                         seller_id  \\\n",
       "0  4244733e06e7ecb4970a6e2683c13e61  48436dade18ac8b2bce089ec2a041202   \n",
       "1  e5f2d52b802189ee658865ca93d83a8f  dd7ddc04e1b6c2c614352b383efe2d36   \n",
       "2  c777355d18b72b67abbeef9df44fd0fd  5b51032eddd242adc84c38acab88f23d   \n",
       "\n",
       "   shipping_limit_date  price  freight_value  \n",
       "0  2017-09-19 09:45:35   58.9          13.29  \n",
       "1  2017-05-03 11:05:13  239.9          19.93  \n",
       "2  2018-01-18 14:48:30  199.0          17.87  "
      ]
     },
     "execution_count": 77,
     "metadata": {
      "tags": []
     },
     "output_type": "execute_result"
    }
   ],
   "source": [
    "##items\n",
    "olist_order_items.head(3)"
   ]
  },
  {
   "cell_type": "code",
   "execution_count": 78,
   "metadata": {
    "colab": {
     "base_uri": "https://localhost:8080/"
    },
    "executionInfo": {
     "elapsed": 772,
     "status": "ok",
     "timestamp": 1613233485399,
     "user": {
      "displayName": "Arun rajan",
      "photoUrl": "https://lh3.googleusercontent.com/a-/AOh14GhKlJD7-lRzdBpsXXKX99vweYs9dgDO8xHZt7wz0g=s64",
      "userId": "16564613912059202502"
     },
     "user_tz": -330
    },
    "id": "o3I5YezY1iL0",
    "outputId": "ace03a1d-e938-4ecd-dd89-4efb2b122fd2"
   },
   "outputs": [
    {
     "data": {
      "text/plain": [
       "8272b63d03f5f79c56e9e4120aec44ef    21\n",
       "ab14fdcfbe524636d65ee38360e22ce8    20\n",
       "1b15974a0141d54e36626dca3fdc731a    20\n",
       "428a2f660dc84138d969ccd69a0ab6d5    15\n",
       "9ef13efd6949e4573a18964dd1bbe7f5    15\n",
       "                                    ..\n",
       "d1f3aacf6953cd2cb98b26b17fa5ba14     1\n",
       "cb2b577a4ebd84bf84ff3990084d490f     1\n",
       "3f0d61c44dd01ad249fa7589cbdcb8b3     1\n",
       "31387068a4e9c19d93f6e8b13853bc46     1\n",
       "8426a61c687c38a2fb35080413ec9eb4     1\n",
       "Name: order_id, Length: 98666, dtype: int64"
      ]
     },
     "execution_count": 78,
     "metadata": {
      "tags": []
     },
     "output_type": "execute_result"
    }
   ],
   "source": [
    "olist_order_items['order_id'].value_counts()"
   ]
  },
  {
   "cell_type": "code",
   "execution_count": 79,
   "metadata": {
    "colab": {
     "base_uri": "https://localhost:8080/"
    },
    "executionInfo": {
     "elapsed": 628,
     "status": "ok",
     "timestamp": 1613233486443,
     "user": {
      "displayName": "Arun rajan",
      "photoUrl": "https://lh3.googleusercontent.com/a-/AOh14GhKlJD7-lRzdBpsXXKX99vweYs9dgDO8xHZt7wz0g=s64",
      "userId": "16564613912059202502"
     },
     "user_tz": -330
    },
    "id": "VkFsy_E71iOu",
    "outputId": "f0f705cc-7ae0-44e1-fd15-92162b7ef0dc"
   },
   "outputs": [
    {
     "data": {
      "text/plain": [
       "aca2eb7d00ea1a7b8ebd4e68314663af    527\n",
       "99a4788cb24856965c36a24e339b6058    488\n",
       "422879e10f46682990de24d770e7f83d    484\n",
       "389d119b48cf3043d311335e499d9c6b    392\n",
       "368c6c730842d78016ad823897a372db    388\n",
       "                                   ... \n",
       "5cebe3c91f03e5d52a1951b3ce8354cd      1\n",
       "06ae026e430189633c2fbd0288c86257      1\n",
       "496e7805727644d3146f931ff28552f3      1\n",
       "67f1a036affe9a75b73dfddf0386893a      1\n",
       "f54cd09fa7e3c0f502187f200eb84084      1\n",
       "Name: product_id, Length: 32951, dtype: int64"
      ]
     },
     "execution_count": 79,
     "metadata": {
      "tags": []
     },
     "output_type": "execute_result"
    }
   ],
   "source": [
    "olist_order_items['product_id'].value_counts()"
   ]
  },
  {
   "cell_type": "code",
   "execution_count": 80,
   "metadata": {
    "colab": {
     "base_uri": "https://localhost:8080/"
    },
    "executionInfo": {
     "elapsed": 614,
     "status": "ok",
     "timestamp": 1613233487506,
     "user": {
      "displayName": "Arun rajan",
      "photoUrl": "https://lh3.googleusercontent.com/a-/AOh14GhKlJD7-lRzdBpsXXKX99vweYs9dgDO8xHZt7wz0g=s64",
      "userId": "16564613912059202502"
     },
     "user_tz": -330
    },
    "id": "Z0uiO3zh1iR_",
    "outputId": "ea298d19-a049-47e2-c1e1-266b9b050953"
   },
   "outputs": [
    {
     "data": {
      "text/plain": [
       "6560211a19b47992c3666cc44a7e94c0    2033\n",
       "4a3ca9315b744ce9f8e9374361493884    1987\n",
       "1f50f920176fa81dab994f9023523100    1931\n",
       "cc419e0650a3c5ba77189a1882b7556a    1775\n",
       "da8622b14eb17ae2831f4ac5b9dab84a    1551\n",
       "                                    ... \n",
       "ebe3dabc4955c9b0d695e7bda38bf5c3       1\n",
       "19a7c9f66ffa6452ff4b4c0cca71da27       1\n",
       "babcc0ab201e4c60188427cae51a5b8b       1\n",
       "ede2977fbaf3738583170735ca403f6c       1\n",
       "19484c79cef6c062cb177aa4ef2fcc3c       1\n",
       "Name: seller_id, Length: 3095, dtype: int64"
      ]
     },
     "execution_count": 80,
     "metadata": {
      "tags": []
     },
     "output_type": "execute_result"
    }
   ],
   "source": [
    "olist_order_items['seller_id'].value_counts()"
   ]
  },
  {
   "cell_type": "code",
   "execution_count": 81,
   "metadata": {
    "colab": {
     "base_uri": "https://localhost:8080/",
     "height": 279
    },
    "executionInfo": {
     "elapsed": 1003,
     "status": "ok",
     "timestamp": 1613233489158,
     "user": {
      "displayName": "Arun rajan",
      "photoUrl": "https://lh3.googleusercontent.com/a-/AOh14GhKlJD7-lRzdBpsXXKX99vweYs9dgDO8xHZt7wz0g=s64",
      "userId": "16564613912059202502"
     },
     "user_tz": -330
    },
    "id": "7r9TmR7X5rsi",
    "outputId": "0fafe140-d4ce-49af-9733-aa6dd15ea218"
   },
   "outputs": [
    {
     "data": {
      "image/png": "[encoded data removed]",
      "text/plain": [
       "<Figure size 432x288 with 1 Axes>"
      ]
     },
     "metadata": {
      "needs_background": "light",
      "tags": []
     },
     "output_type": "display_data"
    }
   ],
   "source": [
    "sns.boxplot(olist_order_items['price'])\n",
    "plt.show()"
   ]
  },
  {
   "cell_type": "code",
   "execution_count": 82,
   "metadata": {
    "colab": {
     "base_uri": "https://localhost:8080/",
     "height": 280
    },
    "executionInfo": {
     "elapsed": 968,
     "status": "ok",
     "timestamp": 1613233490703,
     "user": {
      "displayName": "Arun rajan",
      "photoUrl": "https://lh3.googleusercontent.com/a-/AOh14GhKlJD7-lRzdBpsXXKX99vweYs9dgDO8xHZt7wz0g=s64",
      "userId": "16564613912059202502"
     },
     "user_tz": -330
    },
    "id": "ytBM8_pu5r4p",
    "outputId": "69da10a1-197c-4822-a3fd-53ec7b6b3bc2"
   },
   "outputs": [
    {
     "data": {
      "image/png": "[encoded data removed]",
      "text/plain": [
       "<Figure size 432x288 with 1 Axes>"
      ]
     },
     "metadata": {
      "needs_background": "light",
      "tags": []
     },
     "output_type": "display_data"
    }
   ],
   "source": [
    "sns.boxplot(olist_order_items['freight_value'])\n",
    "plt.show()"
   ]
  },
  {
   "cell_type": "code",
   "execution_count": 83,
   "metadata": {
    "colab": {
     "base_uri": "https://localhost:8080/",
     "height": 359
    },
    "executionInfo": {
     "elapsed": 899,
     "status": "ok",
     "timestamp": 1613233492029,
     "user": {
      "displayName": "Arun rajan",
      "photoUrl": "https://lh3.googleusercontent.com/a-/AOh14GhKlJD7-lRzdBpsXXKX99vweYs9dgDO8xHZt7wz0g=s64",
      "userId": "16564613912059202502"
     },
     "user_tz": -330
    },
    "id": "Zw-HSh366wlj",
    "outputId": "a190bcf1-875c-4aa7-bb27-a1332e795224"
   },
   "outputs": [
    {
     "data": {
      "text/html": [
       "<div>\n",
       "<style scoped>\n",
       "    .dataframe tbody tr th:only-of-type {\n",
       "        vertical-align: middle;\n",
       "    }\n",
       "\n",
       "    .dataframe tbody tr th {\n",
       "        vertical-align: top;\n",
       "    }\n",
       "\n",
       "    .dataframe thead th {\n",
       "        text-align: right;\n",
       "    }\n",
       "</style>\n",
       "<table border=\"1\" class=\"dataframe\">\n",
       "  <thead>\n",
       "    <tr style=\"text-align: right;\">\n",
       "      <th></th>\n",
       "      <th>product_category_name_english</th>\n",
       "      <th>price</th>\n",
       "    </tr>\n",
       "  </thead>\n",
       "  <tbody>\n",
       "    <tr>\n",
       "      <th>43</th>\n",
       "      <td>health_beauty</td>\n",
       "      <td>1297355.80</td>\n",
       "    </tr>\n",
       "    <tr>\n",
       "      <th>70</th>\n",
       "      <td>watches_gifts</td>\n",
       "      <td>1253143.30</td>\n",
       "    </tr>\n",
       "    <tr>\n",
       "      <th>7</th>\n",
       "      <td>bed_bath_table</td>\n",
       "      <td>1092551.02</td>\n",
       "    </tr>\n",
       "    <tr>\n",
       "      <th>65</th>\n",
       "      <td>sports_leisure</td>\n",
       "      <td>1023996.34</td>\n",
       "    </tr>\n",
       "    <tr>\n",
       "      <th>15</th>\n",
       "      <td>computers_accessories</td>\n",
       "      <td>942277.57</td>\n",
       "    </tr>\n",
       "    <tr>\n",
       "      <th>39</th>\n",
       "      <td>furniture_decor</td>\n",
       "      <td>765093.89</td>\n",
       "    </tr>\n",
       "    <tr>\n",
       "      <th>49</th>\n",
       "      <td>housewares</td>\n",
       "      <td>666587.00</td>\n",
       "    </tr>\n",
       "    <tr>\n",
       "      <th>20</th>\n",
       "      <td>cool_stuff</td>\n",
       "      <td>662309.49</td>\n",
       "    </tr>\n",
       "    <tr>\n",
       "      <th>5</th>\n",
       "      <td>auto</td>\n",
       "      <td>616752.51</td>\n",
       "    </tr>\n",
       "    <tr>\n",
       "      <th>42</th>\n",
       "      <td>garden_tools</td>\n",
       "      <td>518217.54</td>\n",
       "    </tr>\n",
       "  </tbody>\n",
       "</table>\n",
       "</div>"
      ],
      "text/plain": [
       "   product_category_name_english       price\n",
       "43                 health_beauty  1297355.80\n",
       "70                 watches_gifts  1253143.30\n",
       "7                 bed_bath_table  1092551.02\n",
       "65                sports_leisure  1023996.34\n",
       "15         computers_accessories   942277.57\n",
       "39               furniture_decor   765093.89\n",
       "49                    housewares   666587.00\n",
       "20                    cool_stuff   662309.49\n",
       "5                           auto   616752.51\n",
       "42                  garden_tools   518217.54"
      ]
     },
     "execution_count": 83,
     "metadata": {
      "tags": []
     },
     "output_type": "execute_result"
    }
   ],
   "source": [
    "## Top ten product categories in terms of revenue\n",
    "ord_pay.groupby('product_category_name_english',as_index=False)['price'].sum().nlargest(10,'price')"
   ]
  },
  {
   "cell_type": "code",
   "execution_count": 84,
   "metadata": {
    "colab": {
     "base_uri": "https://localhost:8080/",
     "height": 355
    },
    "executionInfo": {
     "elapsed": 1185,
     "status": "ok",
     "timestamp": 1613233493826,
     "user": {
      "displayName": "Arun rajan",
      "photoUrl": "https://lh3.googleusercontent.com/a-/AOh14GhKlJD7-lRzdBpsXXKX99vweYs9dgDO8xHZt7wz0g=s64",
      "userId": "16564613912059202502"
     },
     "user_tz": -330
    },
    "id": "07si9xP5wUOI",
    "outputId": "7fc199fc-2db2-4a4a-8e1d-822801b03a3c"
   },
   "outputs": [
    {
     "data": {
      "image/png": "[encoded data removed]",
      "text/plain": [
       "<Figure size 432x288 with 2 Axes>"
      ]
     },
     "metadata": {
      "needs_background": "light",
      "tags": []
     },
     "output_type": "display_data"
    }
   ],
   "source": [
    "sns.heatmap(ord_pay[['product_weight_g','product_length_cm','product_height_cm','product_width_cm','price']].corr(),annot=True)\n",
    "plt.show()"
   ]
  },
  {
   "cell_type": "code",
   "execution_count": 85,
   "metadata": {
    "executionInfo": {
     "elapsed": 606,
     "status": "ok",
     "timestamp": 1613233494748,
     "user": {
      "displayName": "Arun rajan",
      "photoUrl": "https://lh3.googleusercontent.com/a-/AOh14GhKlJD7-lRzdBpsXXKX99vweYs9dgDO8xHZt7wz0g=s64",
      "userId": "16564613912059202502"
     },
     "user_tz": -330
    },
    "id": "_L2HdAzmJUos"
   },
   "outputs": [],
   "source": [
    "top_sellers = olist_order_items.groupby('product_id')['order_id'].count().nlargest().index"
   ]
  },
  {
   "cell_type": "code",
   "execution_count": 86,
   "metadata": {
    "colab": {
     "base_uri": "https://localhost:8080/",
     "height": 224
    },
    "executionInfo": {
     "elapsed": 577,
     "status": "ok",
     "timestamp": 1613233495960,
     "user": {
      "displayName": "Arun rajan",
      "photoUrl": "https://lh3.googleusercontent.com/a-/AOh14GhKlJD7-lRzdBpsXXKX99vweYs9dgDO8xHZt7wz0g=s64",
      "userId": "16564613912059202502"
     },
     "user_tz": -330
    },
    "id": "tDT7UfpXJ6eE",
    "outputId": "1934c1af-aa09-401b-aef7-60e1533a85f7"
   },
   "outputs": [
    {
     "data": {
      "text/html": [
       "<div>\n",
       "<style scoped>\n",
       "    .dataframe tbody tr th:only-of-type {\n",
       "        vertical-align: middle;\n",
       "    }\n",
       "\n",
       "    .dataframe tbody tr th {\n",
       "        vertical-align: top;\n",
       "    }\n",
       "\n",
       "    .dataframe thead th {\n",
       "        text-align: right;\n",
       "    }\n",
       "</style>\n",
       "<table border=\"1\" class=\"dataframe\">\n",
       "  <thead>\n",
       "    <tr style=\"text-align: right;\">\n",
       "      <th></th>\n",
       "      <th>product_id</th>\n",
       "      <th>product_category_name</th>\n",
       "      <th>product_name_lenght</th>\n",
       "      <th>product_description_lenght</th>\n",
       "      <th>product_photos_qty</th>\n",
       "      <th>product_weight_g</th>\n",
       "      <th>product_length_cm</th>\n",
       "      <th>product_height_cm</th>\n",
       "      <th>product_width_cm</th>\n",
       "      <th>product_category_name_english</th>\n",
       "    </tr>\n",
       "  </thead>\n",
       "  <tbody>\n",
       "    <tr>\n",
       "      <th>0</th>\n",
       "      <td>368c6c730842d78016ad823897a372db</td>\n",
       "      <td>ferramentas_jardim</td>\n",
       "      <td>57.0</td>\n",
       "      <td>366.0</td>\n",
       "      <td>2.0</td>\n",
       "      <td>1650.0</td>\n",
       "      <td>30.0</td>\n",
       "      <td>22.0</td>\n",
       "      <td>30.0</td>\n",
       "      <td>garden_tools</td>\n",
       "    </tr>\n",
       "    <tr>\n",
       "      <th>1</th>\n",
       "      <td>422879e10f46682990de24d770e7f83d</td>\n",
       "      <td>ferramentas_jardim</td>\n",
       "      <td>56.0</td>\n",
       "      <td>348.0</td>\n",
       "      <td>2.0</td>\n",
       "      <td>1550.0</td>\n",
       "      <td>30.0</td>\n",
       "      <td>22.0</td>\n",
       "      <td>30.0</td>\n",
       "      <td>garden_tools</td>\n",
       "    </tr>\n",
       "    <tr>\n",
       "      <th>2</th>\n",
       "      <td>389d119b48cf3043d311335e499d9c6b</td>\n",
       "      <td>ferramentas_jardim</td>\n",
       "      <td>59.0</td>\n",
       "      <td>341.0</td>\n",
       "      <td>2.0</td>\n",
       "      <td>1750.0</td>\n",
       "      <td>37.0</td>\n",
       "      <td>22.0</td>\n",
       "      <td>40.0</td>\n",
       "      <td>garden_tools</td>\n",
       "    </tr>\n",
       "    <tr>\n",
       "      <th>3</th>\n",
       "      <td>99a4788cb24856965c36a24e339b6058</td>\n",
       "      <td>cama_mesa_banho</td>\n",
       "      <td>54.0</td>\n",
       "      <td>245.0</td>\n",
       "      <td>1.0</td>\n",
       "      <td>1383.0</td>\n",
       "      <td>50.0</td>\n",
       "      <td>10.0</td>\n",
       "      <td>40.0</td>\n",
       "      <td>bed_bath_table</td>\n",
       "    </tr>\n",
       "    <tr>\n",
       "      <th>4</th>\n",
       "      <td>aca2eb7d00ea1a7b8ebd4e68314663af</td>\n",
       "      <td>moveis_decoracao</td>\n",
       "      <td>44.0</td>\n",
       "      <td>903.0</td>\n",
       "      <td>6.0</td>\n",
       "      <td>2600.0</td>\n",
       "      <td>50.0</td>\n",
       "      <td>10.0</td>\n",
       "      <td>30.0</td>\n",
       "      <td>furniture_decor</td>\n",
       "    </tr>\n",
       "  </tbody>\n",
       "</table>\n",
       "</div>"
      ],
      "text/plain": [
       "                         product_id product_category_name  \\\n",
       "0  368c6c730842d78016ad823897a372db    ferramentas_jardim   \n",
       "1  422879e10f46682990de24d770e7f83d    ferramentas_jardim   \n",
       "2  389d119b48cf3043d311335e499d9c6b    ferramentas_jardim   \n",
       "3  99a4788cb24856965c36a24e339b6058       cama_mesa_banho   \n",
       "4  aca2eb7d00ea1a7b8ebd4e68314663af      moveis_decoracao   \n",
       "\n",
       "   product_name_lenght  product_description_lenght  product_photos_qty  \\\n",
       "0                 57.0                       366.0                 2.0   \n",
       "1                 56.0                       348.0                 2.0   \n",
       "2                 59.0                       341.0                 2.0   \n",
       "3                 54.0                       245.0                 1.0   \n",
       "4                 44.0                       903.0                 6.0   \n",
       "\n",
       "   product_weight_g  product_length_cm  product_height_cm  product_width_cm  \\\n",
       "0            1650.0               30.0               22.0              30.0   \n",
       "1            1550.0               30.0               22.0              30.0   \n",
       "2            1750.0               37.0               22.0              40.0   \n",
       "3            1383.0               50.0               10.0              40.0   \n",
       "4            2600.0               50.0               10.0              30.0   \n",
       "\n",
       "  product_category_name_english  \n",
       "0                  garden_tools  \n",
       "1                  garden_tools  \n",
       "2                  garden_tools  \n",
       "3                bed_bath_table  \n",
       "4               furniture_decor  "
      ]
     },
     "execution_count": 86,
     "metadata": {
      "tags": []
     },
     "output_type": "execute_result"
    }
   ],
   "source": [
    "olist_products[olist_products['product_id'].isin(top_sellers)].merge(olist_products_translation,on='product_category_name')"
   ]
  },
  {
   "cell_type": "code",
   "execution_count": 87,
   "metadata": {
    "colab": {
     "base_uri": "https://localhost:8080/",
     "height": 224
    },
    "executionInfo": {
     "elapsed": 698,
     "status": "ok",
     "timestamp": 1613233497412,
     "user": {
      "displayName": "Arun rajan",
      "photoUrl": "https://lh3.googleusercontent.com/a-/AOh14GhKlJD7-lRzdBpsXXKX99vweYs9dgDO8xHZt7wz0g=s64",
      "userId": "16564613912059202502"
     },
     "user_tz": -330
    },
    "id": "gXUaSY8OAdaM",
    "outputId": "4d788895-6b76-4f2a-8d8b-362137853f36"
   },
   "outputs": [
    {
     "data": {
      "text/html": [
       "<div>\n",
       "<style scoped>\n",
       "    .dataframe tbody tr th:only-of-type {\n",
       "        vertical-align: middle;\n",
       "    }\n",
       "\n",
       "    .dataframe tbody tr th {\n",
       "        vertical-align: top;\n",
       "    }\n",
       "\n",
       "    .dataframe thead th {\n",
       "        text-align: right;\n",
       "    }\n",
       "</style>\n",
       "<table border=\"1\" class=\"dataframe\">\n",
       "  <thead>\n",
       "    <tr style=\"text-align: right;\">\n",
       "      <th></th>\n",
       "      <th>order_id</th>\n",
       "      <th>order_item_id</th>\n",
       "      <th>product_id</th>\n",
       "      <th>seller_id</th>\n",
       "      <th>shipping_limit_date</th>\n",
       "      <th>price</th>\n",
       "      <th>freight_value</th>\n",
       "    </tr>\n",
       "  </thead>\n",
       "  <tbody>\n",
       "    <tr>\n",
       "      <th>0</th>\n",
       "      <td>00010242fe8c5a6d1ba2dd792cb16214</td>\n",
       "      <td>1</td>\n",
       "      <td>4244733e06e7ecb4970a6e2683c13e61</td>\n",
       "      <td>48436dade18ac8b2bce089ec2a041202</td>\n",
       "      <td>2017-09-19 09:45:35</td>\n",
       "      <td>58.90</td>\n",
       "      <td>13.29</td>\n",
       "    </tr>\n",
       "    <tr>\n",
       "      <th>1</th>\n",
       "      <td>00018f77f2f0320c557190d7a144bdd3</td>\n",
       "      <td>1</td>\n",
       "      <td>e5f2d52b802189ee658865ca93d83a8f</td>\n",
       "      <td>dd7ddc04e1b6c2c614352b383efe2d36</td>\n",
       "      <td>2017-05-03 11:05:13</td>\n",
       "      <td>239.90</td>\n",
       "      <td>19.93</td>\n",
       "    </tr>\n",
       "    <tr>\n",
       "      <th>2</th>\n",
       "      <td>000229ec398224ef6ca0657da4fc703e</td>\n",
       "      <td>1</td>\n",
       "      <td>c777355d18b72b67abbeef9df44fd0fd</td>\n",
       "      <td>5b51032eddd242adc84c38acab88f23d</td>\n",
       "      <td>2018-01-18 14:48:30</td>\n",
       "      <td>199.00</td>\n",
       "      <td>17.87</td>\n",
       "    </tr>\n",
       "    <tr>\n",
       "      <th>3</th>\n",
       "      <td>00024acbcdf0a6daa1e931b038114c75</td>\n",
       "      <td>1</td>\n",
       "      <td>7634da152a4610f1595efa32f14722fc</td>\n",
       "      <td>9d7a1d34a5052409006425275ba1c2b4</td>\n",
       "      <td>2018-08-15 10:10:18</td>\n",
       "      <td>12.99</td>\n",
       "      <td>12.79</td>\n",
       "    </tr>\n",
       "    <tr>\n",
       "      <th>4</th>\n",
       "      <td>00042b26cf59d7ce69dfabb4e55b4fd9</td>\n",
       "      <td>1</td>\n",
       "      <td>ac6c3623068f30de03045865e4e10089</td>\n",
       "      <td>df560393f3a51e74553ab94004ba5c87</td>\n",
       "      <td>2017-02-13 13:57:51</td>\n",
       "      <td>199.90</td>\n",
       "      <td>18.14</td>\n",
       "    </tr>\n",
       "  </tbody>\n",
       "</table>\n",
       "</div>"
      ],
      "text/plain": [
       "                           order_id  order_item_id  \\\n",
       "0  00010242fe8c5a6d1ba2dd792cb16214              1   \n",
       "1  00018f77f2f0320c557190d7a144bdd3              1   \n",
       "2  000229ec398224ef6ca0657da4fc703e              1   \n",
       "3  00024acbcdf0a6daa1e931b038114c75              1   \n",
       "4  00042b26cf59d7ce69dfabb4e55b4fd9              1   \n",
       "\n",
       "                         product_id                         seller_id  \\\n",
       "0  4244733e06e7ecb4970a6e2683c13e61  48436dade18ac8b2bce089ec2a041202   \n",
       "1  e5f2d52b802189ee658865ca93d83a8f  dd7ddc04e1b6c2c614352b383efe2d36   \n",
       "2  c777355d18b72b67abbeef9df44fd0fd  5b51032eddd242adc84c38acab88f23d   \n",
       "3  7634da152a4610f1595efa32f14722fc  9d7a1d34a5052409006425275ba1c2b4   \n",
       "4  ac6c3623068f30de03045865e4e10089  df560393f3a51e74553ab94004ba5c87   \n",
       "\n",
       "   shipping_limit_date   price  freight_value  \n",
       "0  2017-09-19 09:45:35   58.90          13.29  \n",
       "1  2017-05-03 11:05:13  239.90          19.93  \n",
       "2  2018-01-18 14:48:30  199.00          17.87  \n",
       "3  2018-08-15 10:10:18   12.99          12.79  \n",
       "4  2017-02-13 13:57:51  199.90          18.14  "
      ]
     },
     "execution_count": 87,
     "metadata": {
      "tags": []
     },
     "output_type": "execute_result"
    }
   ],
   "source": [
    "olist_order_items.head()"
   ]
  },
  {
   "cell_type": "code",
   "execution_count": 88,
   "metadata": {
    "colab": {
     "base_uri": "https://localhost:8080/",
     "height": 204
    },
    "executionInfo": {
     "elapsed": 491,
     "status": "ok",
     "timestamp": 1613233498527,
     "user": {
      "displayName": "Arun rajan",
      "photoUrl": "https://lh3.googleusercontent.com/a-/AOh14GhKlJD7-lRzdBpsXXKX99vweYs9dgDO8xHZt7wz0g=s64",
      "userId": "16564613912059202502"
     },
     "user_tz": -330
    },
    "id": "Y4bO7Ew0BbQr",
    "outputId": "94537e13-ab09-4937-ffba-29e3e7cca3e7"
   },
   "outputs": [
    {
     "data": {
      "text/html": [
       "<div>\n",
       "<style scoped>\n",
       "    .dataframe tbody tr th:only-of-type {\n",
       "        vertical-align: middle;\n",
       "    }\n",
       "\n",
       "    .dataframe tbody tr th {\n",
       "        vertical-align: top;\n",
       "    }\n",
       "\n",
       "    .dataframe thead th {\n",
       "        text-align: right;\n",
       "    }\n",
       "</style>\n",
       "<table border=\"1\" class=\"dataframe\">\n",
       "  <thead>\n",
       "    <tr style=\"text-align: right;\">\n",
       "      <th></th>\n",
       "      <th>order_id</th>\n",
       "      <th>payment_sequential</th>\n",
       "      <th>payment_type</th>\n",
       "      <th>payment_installments</th>\n",
       "      <th>payment_value</th>\n",
       "    </tr>\n",
       "  </thead>\n",
       "  <tbody>\n",
       "    <tr>\n",
       "      <th>0</th>\n",
       "      <td>b81ef226f3fe1789b1e8b2acac839d17</td>\n",
       "      <td>1</td>\n",
       "      <td>credit_card</td>\n",
       "      <td>8</td>\n",
       "      <td>99.33</td>\n",
       "    </tr>\n",
       "    <tr>\n",
       "      <th>1</th>\n",
       "      <td>a9810da82917af2d9aefd1278f1dcfa0</td>\n",
       "      <td>1</td>\n",
       "      <td>credit_card</td>\n",
       "      <td>1</td>\n",
       "      <td>24.39</td>\n",
       "    </tr>\n",
       "    <tr>\n",
       "      <th>2</th>\n",
       "      <td>25e8ea4e93396b6fa0d3dd708e76c1bd</td>\n",
       "      <td>1</td>\n",
       "      <td>credit_card</td>\n",
       "      <td>1</td>\n",
       "      <td>65.71</td>\n",
       "    </tr>\n",
       "    <tr>\n",
       "      <th>3</th>\n",
       "      <td>ba78997921bbcdc1373bb41e913ab953</td>\n",
       "      <td>1</td>\n",
       "      <td>credit_card</td>\n",
       "      <td>8</td>\n",
       "      <td>107.78</td>\n",
       "    </tr>\n",
       "    <tr>\n",
       "      <th>4</th>\n",
       "      <td>42fdf880ba16b47b59251dd489d4441a</td>\n",
       "      <td>1</td>\n",
       "      <td>credit_card</td>\n",
       "      <td>2</td>\n",
       "      <td>128.45</td>\n",
       "    </tr>\n",
       "  </tbody>\n",
       "</table>\n",
       "</div>"
      ],
      "text/plain": [
       "                           order_id  payment_sequential payment_type  \\\n",
       "0  b81ef226f3fe1789b1e8b2acac839d17                   1  credit_card   \n",
       "1  a9810da82917af2d9aefd1278f1dcfa0                   1  credit_card   \n",
       "2  25e8ea4e93396b6fa0d3dd708e76c1bd                   1  credit_card   \n",
       "3  ba78997921bbcdc1373bb41e913ab953                   1  credit_card   \n",
       "4  42fdf880ba16b47b59251dd489d4441a                   1  credit_card   \n",
       "\n",
       "   payment_installments  payment_value  \n",
       "0                     8          99.33  \n",
       "1                     1          24.39  \n",
       "2                     1          65.71  \n",
       "3                     8         107.78  \n",
       "4                     2         128.45  "
      ]
     },
     "execution_count": 88,
     "metadata": {
      "tags": []
     },
     "output_type": "execute_result"
    }
   ],
   "source": [
    "olist_order_payments.head()"
   ]
  },
  {
   "cell_type": "markdown",
   "metadata": {
    "id": "xbnhe-hOYDez"
   },
   "source": [
    "# Convert the purchase data to sales data "
   ]
  },
  {
   "cell_type": "code",
   "execution_count": 89,
   "metadata": {
    "executionInfo": {
     "elapsed": 722,
     "status": "ok",
     "timestamp": 1613233500921,
     "user": {
      "displayName": "Arun rajan",
      "photoUrl": "https://lh3.googleusercontent.com/a-/AOh14GhKlJD7-lRzdBpsXXKX99vweYs9dgDO8xHZt7wz0g=s64",
      "userId": "16564613912059202502"
     },
     "user_tz": -330
    },
    "id": "xM-KSPCyXFg_"
   },
   "outputs": [],
   "source": [
    "purchase_date = olist_orders[['order_id','order_purchase_timestamp']]"
   ]
  },
  {
   "cell_type": "code",
   "execution_count": 90,
   "metadata": {
    "executionInfo": {
     "elapsed": 790,
     "status": "ok",
     "timestamp": 1613233502125,
     "user": {
      "displayName": "Arun rajan",
      "photoUrl": "https://lh3.googleusercontent.com/a-/AOh14GhKlJD7-lRzdBpsXXKX99vweYs9dgDO8xHZt7wz0g=s64",
      "userId": "16564613912059202502"
     },
     "user_tz": -330
    },
    "id": "kNjjngcpXJ1H"
   },
   "outputs": [],
   "source": [
    "olist_order_date = olist_order_items.merge(purchase_date,on='order_id')"
   ]
  },
  {
   "cell_type": "code",
   "execution_count": 91,
   "metadata": {
    "colab": {
     "base_uri": "https://localhost:8080/",
     "height": 297
    },
    "executionInfo": {
     "elapsed": 693,
     "status": "ok",
     "timestamp": 1613233503397,
     "user": {
      "displayName": "Arun rajan",
      "photoUrl": "https://lh3.googleusercontent.com/a-/AOh14GhKlJD7-lRzdBpsXXKX99vweYs9dgDO8xHZt7wz0g=s64",
      "userId": "16564613912059202502"
     },
     "user_tz": -330
    },
    "id": "N4QJK6z4pdYF",
    "outputId": "140f41a5-e2a2-4ddc-f5de-6f07ece94db8"
   },
   "outputs": [
    {
     "data": {
      "text/html": [
       "<div>\n",
       "<style scoped>\n",
       "    .dataframe tbody tr th:only-of-type {\n",
       "        vertical-align: middle;\n",
       "    }\n",
       "\n",
       "    .dataframe tbody tr th {\n",
       "        vertical-align: top;\n",
       "    }\n",
       "\n",
       "    .dataframe thead th {\n",
       "        text-align: right;\n",
       "    }\n",
       "</style>\n",
       "<table border=\"1\" class=\"dataframe\">\n",
       "  <thead>\n",
       "    <tr style=\"text-align: right;\">\n",
       "      <th></th>\n",
       "      <th>order_item_id</th>\n",
       "      <th>price</th>\n",
       "      <th>freight_value</th>\n",
       "    </tr>\n",
       "  </thead>\n",
       "  <tbody>\n",
       "    <tr>\n",
       "      <th>count</th>\n",
       "      <td>112650.000000</td>\n",
       "      <td>112650.000000</td>\n",
       "      <td>112650.000000</td>\n",
       "    </tr>\n",
       "    <tr>\n",
       "      <th>mean</th>\n",
       "      <td>1.197834</td>\n",
       "      <td>120.653739</td>\n",
       "      <td>19.990320</td>\n",
       "    </tr>\n",
       "    <tr>\n",
       "      <th>std</th>\n",
       "      <td>0.705124</td>\n",
       "      <td>183.633928</td>\n",
       "      <td>15.806405</td>\n",
       "    </tr>\n",
       "    <tr>\n",
       "      <th>min</th>\n",
       "      <td>1.000000</td>\n",
       "      <td>0.850000</td>\n",
       "      <td>0.000000</td>\n",
       "    </tr>\n",
       "    <tr>\n",
       "      <th>25%</th>\n",
       "      <td>1.000000</td>\n",
       "      <td>39.900000</td>\n",
       "      <td>13.080000</td>\n",
       "    </tr>\n",
       "    <tr>\n",
       "      <th>50%</th>\n",
       "      <td>1.000000</td>\n",
       "      <td>74.990000</td>\n",
       "      <td>16.260000</td>\n",
       "    </tr>\n",
       "    <tr>\n",
       "      <th>75%</th>\n",
       "      <td>1.000000</td>\n",
       "      <td>134.900000</td>\n",
       "      <td>21.150000</td>\n",
       "    </tr>\n",
       "    <tr>\n",
       "      <th>max</th>\n",
       "      <td>21.000000</td>\n",
       "      <td>6735.000000</td>\n",
       "      <td>409.680000</td>\n",
       "    </tr>\n",
       "  </tbody>\n",
       "</table>\n",
       "</div>"
      ],
      "text/plain": [
       "       order_item_id          price  freight_value\n",
       "count  112650.000000  112650.000000  112650.000000\n",
       "mean        1.197834     120.653739      19.990320\n",
       "std         0.705124     183.633928      15.806405\n",
       "min         1.000000       0.850000       0.000000\n",
       "25%         1.000000      39.900000      13.080000\n",
       "50%         1.000000      74.990000      16.260000\n",
       "75%         1.000000     134.900000      21.150000\n",
       "max        21.000000    6735.000000     409.680000"
      ]
     },
     "execution_count": 91,
     "metadata": {
      "tags": []
     },
     "output_type": "execute_result"
    }
   ],
   "source": [
    "olist_order_date.describe()"
   ]
  },
  {
   "cell_type": "code",
   "execution_count": 92,
   "metadata": {
    "colab": {
     "base_uri": "https://localhost:8080/"
    },
    "executionInfo": {
     "elapsed": 525,
     "status": "ok",
     "timestamp": 1613233504577,
     "user": {
      "displayName": "Arun rajan",
      "photoUrl": "https://lh3.googleusercontent.com/a-/AOh14GhKlJD7-lRzdBpsXXKX99vweYs9dgDO8xHZt7wz0g=s64",
      "userId": "16564613912059202502"
     },
     "user_tz": -330
    },
    "id": "Jto8orpNsOXL",
    "outputId": "b7ef27a8-774e-414e-ad43-b744906feca0"
   },
   "outputs": [
    {
     "name": "stdout",
     "output_type": "stream",
     "text": [
      "<class 'pandas.core.frame.DataFrame'>\n",
      "Int64Index: 112650 entries, 0 to 112649\n",
      "Data columns (total 8 columns):\n",
      " #   Column                    Non-Null Count   Dtype  \n",
      "---  ------                    --------------   -----  \n",
      " 0   order_id                  112650 non-null  object \n",
      " 1   order_item_id             112650 non-null  int64  \n",
      " 2   product_id                112650 non-null  object \n",
      " 3   seller_id                 112650 non-null  object \n",
      " 4   shipping_limit_date       112650 non-null  object \n",
      " 5   price                     112650 non-null  float64\n",
      " 6   freight_value             112650 non-null  float64\n",
      " 7   order_purchase_timestamp  112650 non-null  object \n",
      "dtypes: float64(2), int64(1), object(5)\n",
      "memory usage: 7.7+ MB\n"
     ]
    }
   ],
   "source": [
    "olist_order_date.info()"
   ]
  },
  {
   "cell_type": "code",
   "execution_count": 93,
   "metadata": {
    "executionInfo": {
     "elapsed": 749,
     "status": "ok",
     "timestamp": 1613233505912,
     "user": {
      "displayName": "Arun rajan",
      "photoUrl": "https://lh3.googleusercontent.com/a-/AOh14GhKlJD7-lRzdBpsXXKX99vweYs9dgDO8xHZt7wz0g=s64",
      "userId": "16564613912059202502"
     },
     "user_tz": -330
    },
    "id": "JxRLQH6Upunj"
   },
   "outputs": [],
   "source": [
    "olist_order_date['order_purchase_timestamp']=pd.to_datetime(olist_order_date['order_purchase_timestamp'])\n",
    "olist_order_date['order_purchase_year'] = olist_order_date['order_purchase_timestamp'].dt.year\n",
    "olist_order_date['order_purchase_month'] = olist_order_date['order_purchase_timestamp'].dt.month\n",
    "olist_order_date['order_purchase_date'] = olist_order_date['order_purchase_timestamp'].dt.date\n",
    "olist_order_date['order_purchase_day'] = olist_order_date['order_purchase_timestamp'].dt.day\n",
    "olist_order_date['order_purchase_week'] = olist_order_date['order_purchase_timestamp'].dt.week\n",
    "olist_order_date['order_purchase_hour'] = olist_order_date['order_purchase_timestamp'].dt.hour"
   ]
  },
  {
   "cell_type": "code",
   "execution_count": 94,
   "metadata": {
    "executionInfo": {
     "elapsed": 715,
     "status": "ok",
     "timestamp": 1613233507204,
     "user": {
      "displayName": "Arun rajan",
      "photoUrl": "https://lh3.googleusercontent.com/a-/AOh14GhKlJD7-lRzdBpsXXKX99vweYs9dgDO8xHZt7wz0g=s64",
      "userId": "16564613912059202502"
     },
     "user_tz": -330
    },
    "id": "JHwUNmWYYtwS"
   },
   "outputs": [],
   "source": [
    "olist_monthly_sales_data=olist_order_date.groupby(['order_purchase_month','product_id']).sum()['price']"
   ]
  },
  {
   "cell_type": "markdown",
   "metadata": {
    "id": "KRL1nkyHx12o"
   },
   "source": [
    "### The sales of each products in each month"
   ]
  },
  {
   "cell_type": "code",
   "execution_count": 95,
   "metadata": {
    "colab": {
     "base_uri": "https://localhost:8080/",
     "height": 450
    },
    "executionInfo": {
     "elapsed": 679,
     "status": "ok",
     "timestamp": 1613233510172,
     "user": {
      "displayName": "Arun rajan",
      "photoUrl": "https://lh3.googleusercontent.com/a-/AOh14GhKlJD7-lRzdBpsXXKX99vweYs9dgDO8xHZt7wz0g=s64",
      "userId": "16564613912059202502"
     },
     "user_tz": -330
    },
    "id": "WwxCXMw4jt4Q",
    "outputId": "c60033ca-ef91-4ff2-9821-3c861f9f6181"
   },
   "outputs": [
    {
     "data": {
      "text/html": [
       "<div>\n",
       "<style scoped>\n",
       "    .dataframe tbody tr th:only-of-type {\n",
       "        vertical-align: middle;\n",
       "    }\n",
       "\n",
       "    .dataframe tbody tr th {\n",
       "        vertical-align: top;\n",
       "    }\n",
       "\n",
       "    .dataframe thead th {\n",
       "        text-align: right;\n",
       "    }\n",
       "</style>\n",
       "<table border=\"1\" class=\"dataframe\">\n",
       "  <thead>\n",
       "    <tr style=\"text-align: right;\">\n",
       "      <th></th>\n",
       "      <th></th>\n",
       "      <th>price</th>\n",
       "    </tr>\n",
       "    <tr>\n",
       "      <th>order_purchase_month</th>\n",
       "      <th>product_id</th>\n",
       "      <th></th>\n",
       "    </tr>\n",
       "  </thead>\n",
       "  <tbody>\n",
       "    <tr>\n",
       "      <th>9</th>\n",
       "      <th>d6160fb7873f184099d9bc95e30376af</th>\n",
       "      <td>29899.39</td>\n",
       "    </tr>\n",
       "    <tr>\n",
       "      <th>3</th>\n",
       "      <th>25c38557cf793876c5abdd5931f922db</th>\n",
       "      <td>18713.70</td>\n",
       "    </tr>\n",
       "    <tr>\n",
       "      <th>6</th>\n",
       "      <th>fd0065af7f09af4b82a0ca8f3eed1852</th>\n",
       "      <td>17999.91</td>\n",
       "    </tr>\n",
       "    <tr>\n",
       "      <th>10</th>\n",
       "      <th>588531f8ec37e7d5ff5b7b22ea0488f8</th>\n",
       "      <td>17244.00</td>\n",
       "    </tr>\n",
       "    <tr>\n",
       "      <th>9</th>\n",
       "      <th>5769ef0a239114ac3a854af00df129e4</th>\n",
       "      <td>13440.00</td>\n",
       "    </tr>\n",
       "    <tr>\n",
       "      <th>...</th>\n",
       "      <th>...</th>\n",
       "      <td>...</td>\n",
       "    </tr>\n",
       "    <tr>\n",
       "      <th>2</th>\n",
       "      <th>2e8316b31db34314f393806fd7b6e185</th>\n",
       "      <td>2.99</td>\n",
       "    </tr>\n",
       "    <tr>\n",
       "      <th>1</th>\n",
       "      <th>680cc8535be7cc69544238c1d6a83fe8</th>\n",
       "      <td>2.90</td>\n",
       "    </tr>\n",
       "    <tr>\n",
       "      <th>4</th>\n",
       "      <th>8a3254bee785a526d548a81a9bc3c9be</th>\n",
       "      <td>2.55</td>\n",
       "    </tr>\n",
       "    <tr>\n",
       "      <th>9</th>\n",
       "      <th>310dc32058903b6416c71faff132df9e</th>\n",
       "      <td>2.29</td>\n",
       "    </tr>\n",
       "    <tr>\n",
       "      <th>8</th>\n",
       "      <th>46fce52cef5caa7cc225a5531c946c8b</th>\n",
       "      <td>2.20</td>\n",
       "    </tr>\n",
       "  </tbody>\n",
       "</table>\n",
       "<p>60796 rows × 1 columns</p>\n",
       "</div>"
      ],
      "text/plain": [
       "                                                          price\n",
       "order_purchase_month product_id                                \n",
       "9                    d6160fb7873f184099d9bc95e30376af  29899.39\n",
       "3                    25c38557cf793876c5abdd5931f922db  18713.70\n",
       "6                    fd0065af7f09af4b82a0ca8f3eed1852  17999.91\n",
       "10                   588531f8ec37e7d5ff5b7b22ea0488f8  17244.00\n",
       "9                    5769ef0a239114ac3a854af00df129e4  13440.00\n",
       "...                                                         ...\n",
       "2                    2e8316b31db34314f393806fd7b6e185      2.99\n",
       "1                    680cc8535be7cc69544238c1d6a83fe8      2.90\n",
       "4                    8a3254bee785a526d548a81a9bc3c9be      2.55\n",
       "9                    310dc32058903b6416c71faff132df9e      2.29\n",
       "8                    46fce52cef5caa7cc225a5531c946c8b      2.20\n",
       "\n",
       "[60796 rows x 1 columns]"
      ]
     },
     "execution_count": 95,
     "metadata": {
      "tags": []
     },
     "output_type": "execute_result"
    }
   ],
   "source": [
    "pd.DataFrame(olist_monthly_sales_data).sort_values('price',ascending=False)"
   ]
  },
  {
   "cell_type": "code",
   "execution_count": 96,
   "metadata": {
    "executionInfo": {
     "elapsed": 731,
     "status": "ok",
     "timestamp": 1613233512531,
     "user": {
      "displayName": "Arun rajan",
      "photoUrl": "https://lh3.googleusercontent.com/a-/AOh14GhKlJD7-lRzdBpsXXKX99vweYs9dgDO8xHZt7wz0g=s64",
      "userId": "16564613912059202502"
     },
     "user_tz": -330
    },
    "id": "i6jwV5O4yeDP"
   },
   "outputs": [],
   "source": [
    "product_mean_price = olist_order_items.merge(olist_order_items.groupby('product_id')['price'].mean(),on='product_id')"
   ]
  },
  {
   "cell_type": "code",
   "execution_count": 97,
   "metadata": {
    "executionInfo": {
     "elapsed": 613,
     "status": "ok",
     "timestamp": 1613233513624,
     "user": {
      "displayName": "Arun rajan",
      "photoUrl": "https://lh3.googleusercontent.com/a-/AOh14GhKlJD7-lRzdBpsXXKX99vweYs9dgDO8xHZt7wz0g=s64",
      "userId": "16564613912059202502"
     },
     "user_tz": -330
    },
    "id": "kVKG96mZlrVz"
   },
   "outputs": [],
   "source": [
    "product_mean_price.drop(['order_item_id'],axis=1,inplace=True)"
   ]
  },
  {
   "cell_type": "code",
   "execution_count": 98,
   "metadata": {
    "executionInfo": {
     "elapsed": 512,
     "status": "ok",
     "timestamp": 1613233514860,
     "user": {
      "displayName": "Arun rajan",
      "photoUrl": "https://lh3.googleusercontent.com/a-/AOh14GhKlJD7-lRzdBpsXXKX99vweYs9dgDO8xHZt7wz0g=s64",
      "userId": "16564613912059202502"
     },
     "user_tz": -330
    },
    "id": "j2pPU54hz4_Q"
   },
   "outputs": [],
   "source": [
    "product_mean_price['price_difference'] = np.where(product_mean_price['price_x'].equals(product_mean_price['price_y'])\n",
    "                     , 0, np.abs(product_mean_price['price_x']- product_mean_price['price_y']))"
   ]
  },
  {
   "cell_type": "code",
   "execution_count": 99,
   "metadata": {
    "colab": {
     "base_uri": "https://localhost:8080/",
     "height": 439
    },
    "executionInfo": {
     "elapsed": 548,
     "status": "ok",
     "timestamp": 1613233516004,
     "user": {
      "displayName": "Arun rajan",
      "photoUrl": "https://lh3.googleusercontent.com/a-/AOh14GhKlJD7-lRzdBpsXXKX99vweYs9dgDO8xHZt7wz0g=s64",
      "userId": "16564613912059202502"
     },
     "user_tz": -330
    },
    "id": "IQm_hDO734nd",
    "outputId": "68b06512-bb6f-4d4d-8cde-093363f96bd5"
   },
   "outputs": [
    {
     "data": {
      "text/html": [
       "<div>\n",
       "<style scoped>\n",
       "    .dataframe tbody tr th:only-of-type {\n",
       "        vertical-align: middle;\n",
       "    }\n",
       "\n",
       "    .dataframe tbody tr th {\n",
       "        vertical-align: top;\n",
       "    }\n",
       "\n",
       "    .dataframe thead th {\n",
       "        text-align: right;\n",
       "    }\n",
       "</style>\n",
       "<table border=\"1\" class=\"dataframe\">\n",
       "  <thead>\n",
       "    <tr style=\"text-align: right;\">\n",
       "      <th></th>\n",
       "      <th>order_id</th>\n",
       "      <th>product_id</th>\n",
       "      <th>seller_id</th>\n",
       "      <th>shipping_limit_date</th>\n",
       "      <th>price_x</th>\n",
       "      <th>freight_value</th>\n",
       "      <th>price_y</th>\n",
       "      <th>price_difference</th>\n",
       "    </tr>\n",
       "  </thead>\n",
       "  <tbody>\n",
       "    <tr>\n",
       "      <th>0</th>\n",
       "      <td>00010242fe8c5a6d1ba2dd792cb16214</td>\n",
       "      <td>4244733e06e7ecb4970a6e2683c13e61</td>\n",
       "      <td>48436dade18ac8b2bce089ec2a041202</td>\n",
       "      <td>2017-09-19 09:45:35</td>\n",
       "      <td>58.9</td>\n",
       "      <td>13.29</td>\n",
       "      <td>59.233333</td>\n",
       "      <td>0.333333</td>\n",
       "    </tr>\n",
       "    <tr>\n",
       "      <th>1</th>\n",
       "      <td>130898c0987d1801452a8ed92a670612</td>\n",
       "      <td>4244733e06e7ecb4970a6e2683c13e61</td>\n",
       "      <td>48436dade18ac8b2bce089ec2a041202</td>\n",
       "      <td>2017-07-05 02:44:11</td>\n",
       "      <td>55.9</td>\n",
       "      <td>17.96</td>\n",
       "      <td>59.233333</td>\n",
       "      <td>3.333333</td>\n",
       "    </tr>\n",
       "    <tr>\n",
       "      <th>2</th>\n",
       "      <td>532ed5e14e24ae1f0d735b91524b98b9</td>\n",
       "      <td>4244733e06e7ecb4970a6e2683c13e61</td>\n",
       "      <td>48436dade18ac8b2bce089ec2a041202</td>\n",
       "      <td>2018-05-23 10:56:25</td>\n",
       "      <td>64.9</td>\n",
       "      <td>18.33</td>\n",
       "      <td>59.233333</td>\n",
       "      <td>5.666667</td>\n",
       "    </tr>\n",
       "    <tr>\n",
       "      <th>3</th>\n",
       "      <td>6f8c31653edb8c83e1a739408b5ff750</td>\n",
       "      <td>4244733e06e7ecb4970a6e2683c13e61</td>\n",
       "      <td>48436dade18ac8b2bce089ec2a041202</td>\n",
       "      <td>2017-08-07 18:55:08</td>\n",
       "      <td>58.9</td>\n",
       "      <td>16.17</td>\n",
       "      <td>59.233333</td>\n",
       "      <td>0.333333</td>\n",
       "    </tr>\n",
       "    <tr>\n",
       "      <th>4</th>\n",
       "      <td>7d19f4ef4d04461989632411b7e588b9</td>\n",
       "      <td>4244733e06e7ecb4970a6e2683c13e61</td>\n",
       "      <td>48436dade18ac8b2bce089ec2a041202</td>\n",
       "      <td>2017-08-16 22:05:11</td>\n",
       "      <td>58.9</td>\n",
       "      <td>13.29</td>\n",
       "      <td>59.233333</td>\n",
       "      <td>0.333333</td>\n",
       "    </tr>\n",
       "    <tr>\n",
       "      <th>...</th>\n",
       "      <td>...</td>\n",
       "      <td>...</td>\n",
       "      <td>...</td>\n",
       "      <td>...</td>\n",
       "      <td>...</td>\n",
       "      <td>...</td>\n",
       "      <td>...</td>\n",
       "      <td>...</td>\n",
       "    </tr>\n",
       "    <tr>\n",
       "      <th>112645</th>\n",
       "      <td>ffebd80e3291e811c308365936897efd</td>\n",
       "      <td>4cc4d02efc8f249c13355147fb44e34d</td>\n",
       "      <td>d1c7fa84e48cfa21a0e595167c1c500e</td>\n",
       "      <td>2018-07-18 20:23:55</td>\n",
       "      <td>129.9</td>\n",
       "      <td>51.20</td>\n",
       "      <td>129.900000</td>\n",
       "      <td>0.000000</td>\n",
       "    </tr>\n",
       "    <tr>\n",
       "      <th>112646</th>\n",
       "      <td>ffee31fb4b5e35c9123608015637c495</td>\n",
       "      <td>b10ecf8e33aaaea419a9fa860ea80fb5</td>\n",
       "      <td>0241d4d5d36f10f80c644447315af0bd</td>\n",
       "      <td>2018-08-21 10:10:11</td>\n",
       "      <td>99.0</td>\n",
       "      <td>13.52</td>\n",
       "      <td>99.000000</td>\n",
       "      <td>0.000000</td>\n",
       "    </tr>\n",
       "    <tr>\n",
       "      <th>112647</th>\n",
       "      <td>fff7c4452f050315db1b3f24d9df5fcd</td>\n",
       "      <td>dd469c03ad67e201bc2179ef077dcd48</td>\n",
       "      <td>7e93a43ef30c4f03f38b393420bc753a</td>\n",
       "      <td>2017-06-07 17:05:23</td>\n",
       "      <td>736.0</td>\n",
       "      <td>20.91</td>\n",
       "      <td>736.000000</td>\n",
       "      <td>0.000000</td>\n",
       "    </tr>\n",
       "    <tr>\n",
       "      <th>112648</th>\n",
       "      <td>fffa82886406ccf10c7b4e35c4ff2788</td>\n",
       "      <td>bbe7651fef80287a816ead73f065fc4b</td>\n",
       "      <td>8f2ce03f928b567e3d56181ae20ae952</td>\n",
       "      <td>2017-12-22 17:31:42</td>\n",
       "      <td>229.9</td>\n",
       "      <td>44.02</td>\n",
       "      <td>229.900000</td>\n",
       "      <td>0.000000</td>\n",
       "    </tr>\n",
       "    <tr>\n",
       "      <th>112649</th>\n",
       "      <td>fffe41c64501cc87c801fd61db3f6244</td>\n",
       "      <td>350688d9dc1e75ff97be326363655e01</td>\n",
       "      <td>f7ccf836d21b2fb1de37564105216cc1</td>\n",
       "      <td>2018-06-12 17:10:13</td>\n",
       "      <td>43.0</td>\n",
       "      <td>12.79</td>\n",
       "      <td>43.000000</td>\n",
       "      <td>0.000000</td>\n",
       "    </tr>\n",
       "  </tbody>\n",
       "</table>\n",
       "<p>112650 rows × 8 columns</p>\n",
       "</div>"
      ],
      "text/plain": [
       "                                order_id                        product_id  \\\n",
       "0       00010242fe8c5a6d1ba2dd792cb16214  4244733e06e7ecb4970a6e2683c13e61   \n",
       "1       130898c0987d1801452a8ed92a670612  4244733e06e7ecb4970a6e2683c13e61   \n",
       "2       532ed5e14e24ae1f0d735b91524b98b9  4244733e06e7ecb4970a6e2683c13e61   \n",
       "3       6f8c31653edb8c83e1a739408b5ff750  4244733e06e7ecb4970a6e2683c13e61   \n",
       "4       7d19f4ef4d04461989632411b7e588b9  4244733e06e7ecb4970a6e2683c13e61   \n",
       "...                                  ...                               ...   \n",
       "112645  ffebd80e3291e811c308365936897efd  4cc4d02efc8f249c13355147fb44e34d   \n",
       "112646  ffee31fb4b5e35c9123608015637c495  b10ecf8e33aaaea419a9fa860ea80fb5   \n",
       "112647  fff7c4452f050315db1b3f24d9df5fcd  dd469c03ad67e201bc2179ef077dcd48   \n",
       "112648  fffa82886406ccf10c7b4e35c4ff2788  bbe7651fef80287a816ead73f065fc4b   \n",
       "112649  fffe41c64501cc87c801fd61db3f6244  350688d9dc1e75ff97be326363655e01   \n",
       "\n",
       "                               seller_id  shipping_limit_date  price_x  \\\n",
       "0       48436dade18ac8b2bce089ec2a041202  2017-09-19 09:45:35     58.9   \n",
       "1       48436dade18ac8b2bce089ec2a041202  2017-07-05 02:44:11     55.9   \n",
       "2       48436dade18ac8b2bce089ec2a041202  2018-05-23 10:56:25     64.9   \n",
       "3       48436dade18ac8b2bce089ec2a041202  2017-08-07 18:55:08     58.9   \n",
       "4       48436dade18ac8b2bce089ec2a041202  2017-08-16 22:05:11     58.9   \n",
       "...                                  ...                  ...      ...   \n",
       "112645  d1c7fa84e48cfa21a0e595167c1c500e  2018-07-18 20:23:55    129.9   \n",
       "112646  0241d4d5d36f10f80c644447315af0bd  2018-08-21 10:10:11     99.0   \n",
       "112647  7e93a43ef30c4f03f38b393420bc753a  2017-06-07 17:05:23    736.0   \n",
       "112648  8f2ce03f928b567e3d56181ae20ae952  2017-12-22 17:31:42    229.9   \n",
       "112649  f7ccf836d21b2fb1de37564105216cc1  2018-06-12 17:10:13     43.0   \n",
       "\n",
       "        freight_value     price_y  price_difference  \n",
       "0               13.29   59.233333          0.333333  \n",
       "1               17.96   59.233333          3.333333  \n",
       "2               18.33   59.233333          5.666667  \n",
       "3               16.17   59.233333          0.333333  \n",
       "4               13.29   59.233333          0.333333  \n",
       "...               ...         ...               ...  \n",
       "112645          51.20  129.900000          0.000000  \n",
       "112646          13.52   99.000000          0.000000  \n",
       "112647          20.91  736.000000          0.000000  \n",
       "112648          44.02  229.900000          0.000000  \n",
       "112649          12.79   43.000000          0.000000  \n",
       "\n",
       "[112650 rows x 8 columns]"
      ]
     },
     "execution_count": 99,
     "metadata": {
      "tags": []
     },
     "output_type": "execute_result"
    }
   ],
   "source": [
    "product_mean_price"
   ]
  },
  {
   "cell_type": "markdown",
   "metadata": {
    "id": "nHEKQJf04tPo"
   },
   "source": [
    "### Products which are bought more than once"
   ]
  },
  {
   "cell_type": "code",
   "execution_count": 100,
   "metadata": {
    "executionInfo": {
     "elapsed": 728,
     "status": "ok",
     "timestamp": 1613233518224,
     "user": {
      "displayName": "Arun rajan",
      "photoUrl": "https://lh3.googleusercontent.com/a-/AOh14GhKlJD7-lRzdBpsXXKX99vweYs9dgDO8xHZt7wz0g=s64",
      "userId": "16564613912059202502"
     },
     "user_tz": -330
    },
    "id": "rlNkl58P0OVX"
   },
   "outputs": [],
   "source": [
    "products_more_than_once = product_mean_price.product_id.value_counts().loc[lambda x: x>1].index"
   ]
  },
  {
   "cell_type": "code",
   "execution_count": 101,
   "metadata": {
    "executionInfo": {
     "elapsed": 778,
     "status": "ok",
     "timestamp": 1613233519533,
     "user": {
      "displayName": "Arun rajan",
      "photoUrl": "https://lh3.googleusercontent.com/a-/AOh14GhKlJD7-lRzdBpsXXKX99vweYs9dgDO8xHZt7wz0g=s64",
      "userId": "16564613912059202502"
     },
     "user_tz": -330
    },
    "id": "GH0oAXlM3qG-"
   },
   "outputs": [],
   "source": [
    "Best_selling_products = product_mean_price[product_mean_price['product_id'].isin(products_more_than_once)].sort_values(['product_id','price_difference'],ascending=False)"
   ]
  },
  {
   "cell_type": "code",
   "execution_count": 102,
   "metadata": {
    "colab": {
     "base_uri": "https://localhost:8080/"
    },
    "executionInfo": {
     "elapsed": 971,
     "status": "ok",
     "timestamp": 1613233521689,
     "user": {
      "displayName": "Arun rajan",
      "photoUrl": "https://lh3.googleusercontent.com/a-/AOh14GhKlJD7-lRzdBpsXXKX99vweYs9dgDO8xHZt7wz0g=s64",
      "userId": "16564613912059202502"
     },
     "user_tz": -330
    },
    "id": "aU70glufPt4Y",
    "outputId": "6e89ae3d-eec9-40bc-dcd4-6fa6011f7a7e"
   },
   "outputs": [
    {
     "data": {
      "text/plain": [
       "order_id                          product_id                        seller_id                       \n",
       "ab14fdcfbe524636d65ee38360e22ce8  9571759451b1d780ee7c15012ea109d4  ce27a3cc3c8cc1ea79d11e561e9bebb6    20\n",
       "1b15974a0141d54e36626dca3fdc731a  ee3d532c8a438679776d222e997606b3  8e6d7754bc7e0f22c96d255ebda59eba    20\n",
       "428a2f660dc84138d969ccd69a0ab6d5  89b190a046022486c635022524a974a8  f326006815956455b2859abd58fe7e39    15\n",
       "9ef13efd6949e4573a18964dd1bbe7f5  37eb69aca8718e843d897aa7b82f462d  0b36063d5818f81ccb94b54adfaebbf5    15\n",
       "9bdc4d4c71aa1de4606060929dee888c  44a5d24dd383324a421569ca697b13c2  e7d5b006eb624f13074497221eb37807    14\n",
       "                                                                                                        ..\n",
       "a86a34972a168f819d4e6fbf8d07a264  82ed1009173f99aeacc5499e24e9a7a0  c3fe93ba3085f92855c97e57f38c8c05     1\n",
       "a86ad6bfca543eb89c02ccd35b2d4099  7fab1a1472fdd934397068931f63f3ca  3d871de0142ce09b7081e2b9d1733cb1     1\n",
       "a86beac32a9e23997ac3016ccbffe061  bea56a01c32ef9befa1a9914cca8fc1e  6edacfd9f9074789dad6d62ba7950b9c     1\n",
       "a86cb65b0731ea40faecfb11c9025045  89e4362d74afa10ac57f8d67210132a6  dbc22125167c298ef99da25668e1011f     1\n",
       "00010242fe8c5a6d1ba2dd792cb16214  4244733e06e7ecb4970a6e2683c13e61  48436dade18ac8b2bce089ec2a041202     1\n",
       "Length: 102425, dtype: int64"
      ]
     },
     "execution_count": 102,
     "metadata": {
      "tags": []
     },
     "output_type": "execute_result"
    }
   ],
   "source": [
    "product_mean_price[['order_id','product_id','seller_id']].value_counts()"
   ]
  },
  {
   "cell_type": "code",
   "execution_count": 103,
   "metadata": {
    "colab": {
     "base_uri": "https://localhost:8080/"
    },
    "executionInfo": {
     "elapsed": 500,
     "status": "ok",
     "timestamp": 1613233523545,
     "user": {
      "displayName": "Arun rajan",
      "photoUrl": "https://lh3.googleusercontent.com/a-/AOh14GhKlJD7-lRzdBpsXXKX99vweYs9dgDO8xHZt7wz0g=s64",
      "userId": "16564613912059202502"
     },
     "user_tz": -330
    },
    "id": "cPkGucDYPviL",
    "outputId": "87fc4269-fed3-43d7-d473-5a5280fdb7f6"
   },
   "outputs": [
    {
     "data": {
      "text/plain": [
       "aca2eb7d00ea1a7b8ebd4e68314663af    527\n",
       "99a4788cb24856965c36a24e339b6058    488\n",
       "422879e10f46682990de24d770e7f83d    484\n",
       "389d119b48cf3043d311335e499d9c6b    392\n",
       "368c6c730842d78016ad823897a372db    388\n",
       "                                   ... \n",
       "2d07cb5238b8e2ba12a4b2ac8b6f100a      2\n",
       "9d82a263e18f0b5ede827b8dd9825e74      2\n",
       "21f8d380f12105e9b35b919553d70380      2\n",
       "edb58f769af494909a8851152c3a2d1d      2\n",
       "9271d2541a43f8db13d164887228a189      2\n",
       "Name: product_id, Length: 14834, dtype: int64"
      ]
     },
     "execution_count": 103,
     "metadata": {
      "tags": []
     },
     "output_type": "execute_result"
    }
   ],
   "source": [
    "product_mean_price.product_id.value_counts().loc[lambda x: x>1]"
   ]
  },
  {
   "cell_type": "markdown",
   "metadata": {
    "id": "OfU6mt3l4ipc"
   },
   "source": [
    "# Hypothesis generation"
   ]
  },
  {
   "cell_type": "code",
   "execution_count": 104,
   "metadata": {
    "colab": {
     "base_uri": "https://localhost:8080/",
     "height": 224
    },
    "executionInfo": {
     "elapsed": 712,
     "status": "ok",
     "timestamp": 1613233526416,
     "user": {
      "displayName": "Arun rajan",
      "photoUrl": "https://lh3.googleusercontent.com/a-/AOh14GhKlJD7-lRzdBpsXXKX99vweYs9dgDO8xHZt7wz0g=s64",
      "userId": "16564613912059202502"
     },
     "user_tz": -330
    },
    "id": "J5LqCcnT6QXo",
    "outputId": "e38bb561-6595-4c12-c678-88144cf577d3"
   },
   "outputs": [
    {
     "data": {
      "text/html": [
       "<div>\n",
       "<style scoped>\n",
       "    .dataframe tbody tr th:only-of-type {\n",
       "        vertical-align: middle;\n",
       "    }\n",
       "\n",
       "    .dataframe tbody tr th {\n",
       "        vertical-align: top;\n",
       "    }\n",
       "\n",
       "    .dataframe thead th {\n",
       "        text-align: right;\n",
       "    }\n",
       "</style>\n",
       "<table border=\"1\" class=\"dataframe\">\n",
       "  <thead>\n",
       "    <tr style=\"text-align: right;\">\n",
       "      <th></th>\n",
       "      <th>order_id</th>\n",
       "      <th>customer_id</th>\n",
       "      <th>order_status</th>\n",
       "      <th>order_purchase_timestamp</th>\n",
       "      <th>order_approved_at</th>\n",
       "      <th>order_delivered_carrier_date</th>\n",
       "      <th>order_delivered_customer_date</th>\n",
       "      <th>order_estimated_delivery_date</th>\n",
       "    </tr>\n",
       "  </thead>\n",
       "  <tbody>\n",
       "    <tr>\n",
       "      <th>0</th>\n",
       "      <td>e481f51cbdc54678b7cc49136f2d6af7</td>\n",
       "      <td>9ef432eb6251297304e76186b10a928d</td>\n",
       "      <td>delivered</td>\n",
       "      <td>2017-10-02 10:56:33</td>\n",
       "      <td>2017-10-02 11:07:15</td>\n",
       "      <td>2017-10-04 19:55:00</td>\n",
       "      <td>2017-10-10 21:25:13</td>\n",
       "      <td>2017-10-18 00:00:00</td>\n",
       "    </tr>\n",
       "    <tr>\n",
       "      <th>1</th>\n",
       "      <td>53cdb2fc8bc7dce0b6741e2150273451</td>\n",
       "      <td>b0830fb4747a6c6d20dea0b8c802d7ef</td>\n",
       "      <td>delivered</td>\n",
       "      <td>2018-07-24 20:41:37</td>\n",
       "      <td>2018-07-26 03:24:27</td>\n",
       "      <td>2018-07-26 14:31:00</td>\n",
       "      <td>2018-08-07 15:27:45</td>\n",
       "      <td>2018-08-13 00:00:00</td>\n",
       "    </tr>\n",
       "    <tr>\n",
       "      <th>2</th>\n",
       "      <td>47770eb9100c2d0c44946d9cf07ec65d</td>\n",
       "      <td>41ce2a54c0b03bf3443c3d931a367089</td>\n",
       "      <td>delivered</td>\n",
       "      <td>2018-08-08 08:38:49</td>\n",
       "      <td>2018-08-08 08:55:23</td>\n",
       "      <td>2018-08-08 13:50:00</td>\n",
       "      <td>2018-08-17 18:06:29</td>\n",
       "      <td>2018-09-04 00:00:00</td>\n",
       "    </tr>\n",
       "    <tr>\n",
       "      <th>3</th>\n",
       "      <td>949d5b44dbf5de918fe9c16f97b45f8a</td>\n",
       "      <td>f88197465ea7920adcdbec7375364d82</td>\n",
       "      <td>delivered</td>\n",
       "      <td>2017-11-18 19:28:06</td>\n",
       "      <td>2017-11-18 19:45:59</td>\n",
       "      <td>2017-11-22 13:39:59</td>\n",
       "      <td>2017-12-02 00:28:42</td>\n",
       "      <td>2017-12-15 00:00:00</td>\n",
       "    </tr>\n",
       "    <tr>\n",
       "      <th>4</th>\n",
       "      <td>ad21c59c0840e6cb83a9ceb5573f8159</td>\n",
       "      <td>8ab97904e6daea8866dbdbc4fb7aad2c</td>\n",
       "      <td>delivered</td>\n",
       "      <td>2018-02-13 21:18:39</td>\n",
       "      <td>2018-02-13 22:20:29</td>\n",
       "      <td>2018-02-14 19:46:34</td>\n",
       "      <td>2018-02-16 18:17:02</td>\n",
       "      <td>2018-02-26 00:00:00</td>\n",
       "    </tr>\n",
       "  </tbody>\n",
       "</table>\n",
       "</div>"
      ],
      "text/plain": [
       "                           order_id                       customer_id  \\\n",
       "0  e481f51cbdc54678b7cc49136f2d6af7  9ef432eb6251297304e76186b10a928d   \n",
       "1  53cdb2fc8bc7dce0b6741e2150273451  b0830fb4747a6c6d20dea0b8c802d7ef   \n",
       "2  47770eb9100c2d0c44946d9cf07ec65d  41ce2a54c0b03bf3443c3d931a367089   \n",
       "3  949d5b44dbf5de918fe9c16f97b45f8a  f88197465ea7920adcdbec7375364d82   \n",
       "4  ad21c59c0840e6cb83a9ceb5573f8159  8ab97904e6daea8866dbdbc4fb7aad2c   \n",
       "\n",
       "  order_status order_purchase_timestamp    order_approved_at  \\\n",
       "0    delivered      2017-10-02 10:56:33  2017-10-02 11:07:15   \n",
       "1    delivered      2018-07-24 20:41:37  2018-07-26 03:24:27   \n",
       "2    delivered      2018-08-08 08:38:49  2018-08-08 08:55:23   \n",
       "3    delivered      2017-11-18 19:28:06  2017-11-18 19:45:59   \n",
       "4    delivered      2018-02-13 21:18:39  2018-02-13 22:20:29   \n",
       "\n",
       "  order_delivered_carrier_date order_delivered_customer_date  \\\n",
       "0          2017-10-04 19:55:00           2017-10-10 21:25:13   \n",
       "1          2018-07-26 14:31:00           2018-08-07 15:27:45   \n",
       "2          2018-08-08 13:50:00           2018-08-17 18:06:29   \n",
       "3          2017-11-22 13:39:59           2017-12-02 00:28:42   \n",
       "4          2018-02-14 19:46:34           2018-02-16 18:17:02   \n",
       "\n",
       "  order_estimated_delivery_date  \n",
       "0           2017-10-18 00:00:00  \n",
       "1           2018-08-13 00:00:00  \n",
       "2           2018-09-04 00:00:00  \n",
       "3           2017-12-15 00:00:00  \n",
       "4           2018-02-26 00:00:00  "
      ]
     },
     "execution_count": 104,
     "metadata": {
      "tags": []
     },
     "output_type": "execute_result"
    }
   ],
   "source": [
    "olist_orders.head()"
   ]
  },
  {
   "cell_type": "code",
   "execution_count": 105,
   "metadata": {
    "colab": {
     "base_uri": "https://localhost:8080/"
    },
    "executionInfo": {
     "elapsed": 660,
     "status": "ok",
     "timestamp": 1613233527732,
     "user": {
      "displayName": "Arun rajan",
      "photoUrl": "https://lh3.googleusercontent.com/a-/AOh14GhKlJD7-lRzdBpsXXKX99vweYs9dgDO8xHZt7wz0g=s64",
      "userId": "16564613912059202502"
     },
     "user_tz": -330
    },
    "id": "kVD2nGKTb3z3",
    "outputId": "b3669633-da93-40c9-e5c2-eb5d372ea85c"
   },
   "outputs": [
    {
     "data": {
      "text/plain": [
       "2017-11    7544\n",
       "2018-01    7269\n",
       "2018-03    7211\n",
       "2018-04    6939\n",
       "2018-05    6873\n",
       "2018-02    6728\n",
       "2018-08    6512\n",
       "2018-07    6292\n",
       "2018-06    6167\n",
       "2017-12    5673\n",
       "2017-10    4631\n",
       "2017-08    4331\n",
       "2017-09    4285\n",
       "2017-07    4026\n",
       "2017-05    3700\n",
       "2017-06    3245\n",
       "2017-03    2682\n",
       "2017-04    2404\n",
       "2017-02    1780\n",
       "2017-01     800\n",
       "2016-10     324\n",
       "2018-09      16\n",
       "2016-09       4\n",
       "2018-10       4\n",
       "2016-12       1\n",
       "Name: order_purchase_timestamp, dtype: int64"
      ]
     },
     "execution_count": 105,
     "metadata": {
      "tags": []
     },
     "output_type": "execute_result"
    }
   ],
   "source": [
    "olist_orders['order_purchase_timestamp'].apply(lambda x: x[:7]).value_counts()"
   ]
  },
  {
   "cell_type": "code",
   "execution_count": 106,
   "metadata": {
    "colab": {
     "base_uri": "https://localhost:8080/",
     "height": 224
    },
    "executionInfo": {
     "elapsed": 687,
     "status": "ok",
     "timestamp": 1613233530449,
     "user": {
      "displayName": "Arun rajan",
      "photoUrl": "https://lh3.googleusercontent.com/a-/AOh14GhKlJD7-lRzdBpsXXKX99vweYs9dgDO8xHZt7wz0g=s64",
      "userId": "16564613912059202502"
     },
     "user_tz": -330
    },
    "id": "cG0JSSeU618g",
    "outputId": "4f52103a-c1d3-450d-fbfe-23c88cc493d1"
   },
   "outputs": [
    {
     "data": {
      "text/html": [
       "<div>\n",
       "<style scoped>\n",
       "    .dataframe tbody tr th:only-of-type {\n",
       "        vertical-align: middle;\n",
       "    }\n",
       "\n",
       "    .dataframe tbody tr th {\n",
       "        vertical-align: top;\n",
       "    }\n",
       "\n",
       "    .dataframe thead th {\n",
       "        text-align: right;\n",
       "    }\n",
       "</style>\n",
       "<table border=\"1\" class=\"dataframe\">\n",
       "  <thead>\n",
       "    <tr style=\"text-align: right;\">\n",
       "      <th></th>\n",
       "      <th>order_id</th>\n",
       "      <th>order_item_id</th>\n",
       "      <th>product_id</th>\n",
       "      <th>seller_id</th>\n",
       "      <th>shipping_limit_date</th>\n",
       "      <th>price</th>\n",
       "      <th>freight_value</th>\n",
       "    </tr>\n",
       "  </thead>\n",
       "  <tbody>\n",
       "    <tr>\n",
       "      <th>0</th>\n",
       "      <td>00010242fe8c5a6d1ba2dd792cb16214</td>\n",
       "      <td>1</td>\n",
       "      <td>4244733e06e7ecb4970a6e2683c13e61</td>\n",
       "      <td>48436dade18ac8b2bce089ec2a041202</td>\n",
       "      <td>2017-09-19 09:45:35</td>\n",
       "      <td>58.90</td>\n",
       "      <td>13.29</td>\n",
       "    </tr>\n",
       "    <tr>\n",
       "      <th>1</th>\n",
       "      <td>00018f77f2f0320c557190d7a144bdd3</td>\n",
       "      <td>1</td>\n",
       "      <td>e5f2d52b802189ee658865ca93d83a8f</td>\n",
       "      <td>dd7ddc04e1b6c2c614352b383efe2d36</td>\n",
       "      <td>2017-05-03 11:05:13</td>\n",
       "      <td>239.90</td>\n",
       "      <td>19.93</td>\n",
       "    </tr>\n",
       "    <tr>\n",
       "      <th>2</th>\n",
       "      <td>000229ec398224ef6ca0657da4fc703e</td>\n",
       "      <td>1</td>\n",
       "      <td>c777355d18b72b67abbeef9df44fd0fd</td>\n",
       "      <td>5b51032eddd242adc84c38acab88f23d</td>\n",
       "      <td>2018-01-18 14:48:30</td>\n",
       "      <td>199.00</td>\n",
       "      <td>17.87</td>\n",
       "    </tr>\n",
       "    <tr>\n",
       "      <th>3</th>\n",
       "      <td>00024acbcdf0a6daa1e931b038114c75</td>\n",
       "      <td>1</td>\n",
       "      <td>7634da152a4610f1595efa32f14722fc</td>\n",
       "      <td>9d7a1d34a5052409006425275ba1c2b4</td>\n",
       "      <td>2018-08-15 10:10:18</td>\n",
       "      <td>12.99</td>\n",
       "      <td>12.79</td>\n",
       "    </tr>\n",
       "    <tr>\n",
       "      <th>4</th>\n",
       "      <td>00042b26cf59d7ce69dfabb4e55b4fd9</td>\n",
       "      <td>1</td>\n",
       "      <td>ac6c3623068f30de03045865e4e10089</td>\n",
       "      <td>df560393f3a51e74553ab94004ba5c87</td>\n",
       "      <td>2017-02-13 13:57:51</td>\n",
       "      <td>199.90</td>\n",
       "      <td>18.14</td>\n",
       "    </tr>\n",
       "  </tbody>\n",
       "</table>\n",
       "</div>"
      ],
      "text/plain": [
       "                           order_id  order_item_id  \\\n",
       "0  00010242fe8c5a6d1ba2dd792cb16214              1   \n",
       "1  00018f77f2f0320c557190d7a144bdd3              1   \n",
       "2  000229ec398224ef6ca0657da4fc703e              1   \n",
       "3  00024acbcdf0a6daa1e931b038114c75              1   \n",
       "4  00042b26cf59d7ce69dfabb4e55b4fd9              1   \n",
       "\n",
       "                         product_id                         seller_id  \\\n",
       "0  4244733e06e7ecb4970a6e2683c13e61  48436dade18ac8b2bce089ec2a041202   \n",
       "1  e5f2d52b802189ee658865ca93d83a8f  dd7ddc04e1b6c2c614352b383efe2d36   \n",
       "2  c777355d18b72b67abbeef9df44fd0fd  5b51032eddd242adc84c38acab88f23d   \n",
       "3  7634da152a4610f1595efa32f14722fc  9d7a1d34a5052409006425275ba1c2b4   \n",
       "4  ac6c3623068f30de03045865e4e10089  df560393f3a51e74553ab94004ba5c87   \n",
       "\n",
       "   shipping_limit_date   price  freight_value  \n",
       "0  2017-09-19 09:45:35   58.90          13.29  \n",
       "1  2017-05-03 11:05:13  239.90          19.93  \n",
       "2  2018-01-18 14:48:30  199.00          17.87  \n",
       "3  2018-08-15 10:10:18   12.99          12.79  \n",
       "4  2017-02-13 13:57:51  199.90          18.14  "
      ]
     },
     "execution_count": 106,
     "metadata": {
      "tags": []
     },
     "output_type": "execute_result"
    }
   ],
   "source": [
    "olist_order_items.head()"
   ]
  },
  {
   "cell_type": "code",
   "execution_count": 107,
   "metadata": {
    "colab": {
     "base_uri": "https://localhost:8080/",
     "height": 224
    },
    "executionInfo": {
     "elapsed": 808,
     "status": "ok",
     "timestamp": 1613233532683,
     "user": {
      "displayName": "Arun rajan",
      "photoUrl": "https://lh3.googleusercontent.com/a-/AOh14GhKlJD7-lRzdBpsXXKX99vweYs9dgDO8xHZt7wz0g=s64",
      "userId": "16564613912059202502"
     },
     "user_tz": -330
    },
    "id": "VtPckOCbSGTM",
    "outputId": "99177a1b-1632-4e7a-be24-ce4350d48cd5"
   },
   "outputs": [
    {
     "data": {
      "text/html": [
       "<div>\n",
       "<style scoped>\n",
       "    .dataframe tbody tr th:only-of-type {\n",
       "        vertical-align: middle;\n",
       "    }\n",
       "\n",
       "    .dataframe tbody tr th {\n",
       "        vertical-align: top;\n",
       "    }\n",
       "\n",
       "    .dataframe thead th {\n",
       "        text-align: right;\n",
       "    }\n",
       "</style>\n",
       "<table border=\"1\" class=\"dataframe\">\n",
       "  <thead>\n",
       "    <tr style=\"text-align: right;\">\n",
       "      <th></th>\n",
       "      <th>order_id</th>\n",
       "      <th>order_item_id</th>\n",
       "      <th>product_id</th>\n",
       "      <th>seller_id</th>\n",
       "      <th>shipping_limit_date</th>\n",
       "      <th>price</th>\n",
       "      <th>freight_value</th>\n",
       "      <th>order_purchase_timestamp</th>\n",
       "      <th>order_purchase_year</th>\n",
       "      <th>order_purchase_month</th>\n",
       "      <th>order_purchase_date</th>\n",
       "      <th>order_purchase_day</th>\n",
       "      <th>order_purchase_week</th>\n",
       "      <th>order_purchase_hour</th>\n",
       "    </tr>\n",
       "  </thead>\n",
       "  <tbody>\n",
       "    <tr>\n",
       "      <th>0</th>\n",
       "      <td>00010242fe8c5a6d1ba2dd792cb16214</td>\n",
       "      <td>1</td>\n",
       "      <td>4244733e06e7ecb4970a6e2683c13e61</td>\n",
       "      <td>48436dade18ac8b2bce089ec2a041202</td>\n",
       "      <td>2017-09-19 09:45:35</td>\n",
       "      <td>58.90</td>\n",
       "      <td>13.29</td>\n",
       "      <td>2017-09-13 08:59:02</td>\n",
       "      <td>2017</td>\n",
       "      <td>9</td>\n",
       "      <td>2017-09-13</td>\n",
       "      <td>13</td>\n",
       "      <td>37</td>\n",
       "      <td>8</td>\n",
       "    </tr>\n",
       "    <tr>\n",
       "      <th>1</th>\n",
       "      <td>00018f77f2f0320c557190d7a144bdd3</td>\n",
       "      <td>1</td>\n",
       "      <td>e5f2d52b802189ee658865ca93d83a8f</td>\n",
       "      <td>dd7ddc04e1b6c2c614352b383efe2d36</td>\n",
       "      <td>2017-05-03 11:05:13</td>\n",
       "      <td>239.90</td>\n",
       "      <td>19.93</td>\n",
       "      <td>2017-04-26 10:53:06</td>\n",
       "      <td>2017</td>\n",
       "      <td>4</td>\n",
       "      <td>2017-04-26</td>\n",
       "      <td>26</td>\n",
       "      <td>17</td>\n",
       "      <td>10</td>\n",
       "    </tr>\n",
       "    <tr>\n",
       "      <th>2</th>\n",
       "      <td>000229ec398224ef6ca0657da4fc703e</td>\n",
       "      <td>1</td>\n",
       "      <td>c777355d18b72b67abbeef9df44fd0fd</td>\n",
       "      <td>5b51032eddd242adc84c38acab88f23d</td>\n",
       "      <td>2018-01-18 14:48:30</td>\n",
       "      <td>199.00</td>\n",
       "      <td>17.87</td>\n",
       "      <td>2018-01-14 14:33:31</td>\n",
       "      <td>2018</td>\n",
       "      <td>1</td>\n",
       "      <td>2018-01-14</td>\n",
       "      <td>14</td>\n",
       "      <td>2</td>\n",
       "      <td>14</td>\n",
       "    </tr>\n",
       "    <tr>\n",
       "      <th>3</th>\n",
       "      <td>00024acbcdf0a6daa1e931b038114c75</td>\n",
       "      <td>1</td>\n",
       "      <td>7634da152a4610f1595efa32f14722fc</td>\n",
       "      <td>9d7a1d34a5052409006425275ba1c2b4</td>\n",
       "      <td>2018-08-15 10:10:18</td>\n",
       "      <td>12.99</td>\n",
       "      <td>12.79</td>\n",
       "      <td>2018-08-08 10:00:35</td>\n",
       "      <td>2018</td>\n",
       "      <td>8</td>\n",
       "      <td>2018-08-08</td>\n",
       "      <td>8</td>\n",
       "      <td>32</td>\n",
       "      <td>10</td>\n",
       "    </tr>\n",
       "    <tr>\n",
       "      <th>4</th>\n",
       "      <td>00042b26cf59d7ce69dfabb4e55b4fd9</td>\n",
       "      <td>1</td>\n",
       "      <td>ac6c3623068f30de03045865e4e10089</td>\n",
       "      <td>df560393f3a51e74553ab94004ba5c87</td>\n",
       "      <td>2017-02-13 13:57:51</td>\n",
       "      <td>199.90</td>\n",
       "      <td>18.14</td>\n",
       "      <td>2017-02-04 13:57:51</td>\n",
       "      <td>2017</td>\n",
       "      <td>2</td>\n",
       "      <td>2017-02-04</td>\n",
       "      <td>4</td>\n",
       "      <td>5</td>\n",
       "      <td>13</td>\n",
       "    </tr>\n",
       "  </tbody>\n",
       "</table>\n",
       "</div>"
      ],
      "text/plain": [
       "                           order_id  order_item_id  \\\n",
       "0  00010242fe8c5a6d1ba2dd792cb16214              1   \n",
       "1  00018f77f2f0320c557190d7a144bdd3              1   \n",
       "2  000229ec398224ef6ca0657da4fc703e              1   \n",
       "3  00024acbcdf0a6daa1e931b038114c75              1   \n",
       "4  00042b26cf59d7ce69dfabb4e55b4fd9              1   \n",
       "\n",
       "                         product_id                         seller_id  \\\n",
       "0  4244733e06e7ecb4970a6e2683c13e61  48436dade18ac8b2bce089ec2a041202   \n",
       "1  e5f2d52b802189ee658865ca93d83a8f  dd7ddc04e1b6c2c614352b383efe2d36   \n",
       "2  c777355d18b72b67abbeef9df44fd0fd  5b51032eddd242adc84c38acab88f23d   \n",
       "3  7634da152a4610f1595efa32f14722fc  9d7a1d34a5052409006425275ba1c2b4   \n",
       "4  ac6c3623068f30de03045865e4e10089  df560393f3a51e74553ab94004ba5c87   \n",
       "\n",
       "   shipping_limit_date   price  freight_value order_purchase_timestamp  \\\n",
       "0  2017-09-19 09:45:35   58.90          13.29      2017-09-13 08:59:02   \n",
       "1  2017-05-03 11:05:13  239.90          19.93      2017-04-26 10:53:06   \n",
       "2  2018-01-18 14:48:30  199.00          17.87      2018-01-14 14:33:31   \n",
       "3  2018-08-15 10:10:18   12.99          12.79      2018-08-08 10:00:35   \n",
       "4  2017-02-13 13:57:51  199.90          18.14      2017-02-04 13:57:51   \n",
       "\n",
       "   order_purchase_year  order_purchase_month order_purchase_date  \\\n",
       "0                 2017                     9          2017-09-13   \n",
       "1                 2017                     4          2017-04-26   \n",
       "2                 2018                     1          2018-01-14   \n",
       "3                 2018                     8          2018-08-08   \n",
       "4                 2017                     2          2017-02-04   \n",
       "\n",
       "   order_purchase_day  order_purchase_week  order_purchase_hour  \n",
       "0                  13                   37                    8  \n",
       "1                  26                   17                   10  \n",
       "2                  14                    2                   14  \n",
       "3                   8                   32                   10  \n",
       "4                   4                    5                   13  "
      ]
     },
     "execution_count": 107,
     "metadata": {
      "tags": []
     },
     "output_type": "execute_result"
    }
   ],
   "source": [
    "olist_order_date.head()"
   ]
  },
  {
   "cell_type": "code",
   "execution_count": 108,
   "metadata": {
    "executionInfo": {
     "elapsed": 1485,
     "status": "ok",
     "timestamp": 1613233536163,
     "user": {
      "displayName": "Arun rajan",
      "photoUrl": "https://lh3.googleusercontent.com/a-/AOh14GhKlJD7-lRzdBpsXXKX99vweYs9dgDO8xHZt7wz0g=s64",
      "userId": "16564613912059202502"
     },
     "user_tz": -330
    },
    "id": "8nRt7vhPLCNi"
   },
   "outputs": [],
   "source": [
    "olist_order_date['Month_Year'] = olist_order_date['order_purchase_timestamp'].apply(lambda x: x.strftime('%Y-%m'))"
   ]
  },
  {
   "cell_type": "code",
   "execution_count": null,
   "metadata": {
    "colab": {
     "base_uri": "https://localhost:8080/",
     "height": 100
    },
    "executionInfo": {
     "elapsed": 628,
     "status": "ok",
     "timestamp": 1613203170597,
     "user": {
      "displayName": "Arun rajan",
      "photoUrl": "https://lh3.googleusercontent.com/a-/AOh14GhKlJD7-lRzdBpsXXKX99vweYs9dgDO8xHZt7wz0g=s64",
      "userId": "16564613912059202502"
     },
     "user_tz": -330
    },
    "id": "uClSVOIcLRwn",
    "outputId": "2d5f5e3e-623d-4fd9-af22-635deb3ef1f6"
   },
   "outputs": [
    {
     "data": {
      "text/html": [
       "<div>\n",
       "<style scoped>\n",
       "    .dataframe tbody tr th:only-of-type {\n",
       "        vertical-align: middle;\n",
       "    }\n",
       "\n",
       "    .dataframe tbody tr th {\n",
       "        vertical-align: top;\n",
       "    }\n",
       "\n",
       "    .dataframe thead th {\n",
       "        text-align: right;\n",
       "    }\n",
       "</style>\n",
       "<table border=\"1\" class=\"dataframe\">\n",
       "  <thead>\n",
       "    <tr style=\"text-align: right;\">\n",
       "      <th></th>\n",
       "      <th>level_0</th>\n",
       "      <th>index</th>\n",
       "      <th>order_id</th>\n",
       "      <th>order_item_id</th>\n",
       "      <th>product_id</th>\n",
       "      <th>seller_id</th>\n",
       "      <th>shipping_limit_date</th>\n",
       "      <th>price</th>\n",
       "      <th>freight_value</th>\n",
       "      <th>order_purchase_timestamp</th>\n",
       "      <th>order_purchase_year</th>\n",
       "      <th>order_purchase_month</th>\n",
       "      <th>order_purchase_date</th>\n",
       "      <th>order_purchase_day</th>\n",
       "      <th>order_purchase_week</th>\n",
       "      <th>order_purchase_hour</th>\n",
       "      <th>Month_Year</th>\n",
       "    </tr>\n",
       "  </thead>\n",
       "  <tbody>\n",
       "    <tr>\n",
       "      <th>0</th>\n",
       "      <td>0</td>\n",
       "      <td>0</td>\n",
       "      <td>00010242fe8c5a6d1ba2dd792cb16214</td>\n",
       "      <td>1</td>\n",
       "      <td>4244733e06e7ecb4970a6e2683c13e61</td>\n",
       "      <td>48436dade18ac8b2bce089ec2a041202</td>\n",
       "      <td>2017-09-19 09:45:35</td>\n",
       "      <td>58.9</td>\n",
       "      <td>13.29</td>\n",
       "      <td>2017-09-13 08:59:02</td>\n",
       "      <td>2017</td>\n",
       "      <td>9</td>\n",
       "      <td>2017-09-13</td>\n",
       "      <td>13</td>\n",
       "      <td>37</td>\n",
       "      <td>8</td>\n",
       "      <td>2017-09</td>\n",
       "    </tr>\n",
       "  </tbody>\n",
       "</table>\n",
       "</div>"
      ],
      "text/plain": [
       "   level_0  index                          order_id  order_item_id  \\\n",
       "0        0      0  00010242fe8c5a6d1ba2dd792cb16214              1   \n",
       "\n",
       "                         product_id                         seller_id  \\\n",
       "0  4244733e06e7ecb4970a6e2683c13e61  48436dade18ac8b2bce089ec2a041202   \n",
       "\n",
       "   shipping_limit_date  price  freight_value order_purchase_timestamp  \\\n",
       "0  2017-09-19 09:45:35   58.9          13.29      2017-09-13 08:59:02   \n",
       "\n",
       "   order_purchase_year  order_purchase_month order_purchase_date  \\\n",
       "0                 2017                     9          2017-09-13   \n",
       "\n",
       "   order_purchase_day  order_purchase_week  order_purchase_hour Month_Year  \n",
       "0                  13                   37                    8    2017-09  "
      ]
     },
     "execution_count": 226,
     "metadata": {
      "tags": []
     },
     "output_type": "execute_result"
    }
   ],
   "source": [
    "olist_order_date.head(1)"
   ]
  },
  {
   "cell_type": "code",
   "execution_count": 109,
   "metadata": {
    "colab": {
     "base_uri": "https://localhost:8080/",
     "height": 450
    },
    "executionInfo": {
     "elapsed": 809,
     "status": "ok",
     "timestamp": 1613233552450,
     "user": {
      "displayName": "Arun rajan",
      "photoUrl": "https://lh3.googleusercontent.com/a-/AOh14GhKlJD7-lRzdBpsXXKX99vweYs9dgDO8xHZt7wz0g=s64",
      "userId": "16564613912059202502"
     },
     "user_tz": -330
    },
    "id": "61wCi_3e40Hq",
    "outputId": "5b5496f0-79b5-4d4c-80d0-5456707b634b"
   },
   "outputs": [
    {
     "data": {
      "text/html": [
       "<div>\n",
       "<style scoped>\n",
       "    .dataframe tbody tr th:only-of-type {\n",
       "        vertical-align: middle;\n",
       "    }\n",
       "\n",
       "    .dataframe tbody tr th {\n",
       "        vertical-align: top;\n",
       "    }\n",
       "\n",
       "    .dataframe thead th {\n",
       "        text-align: right;\n",
       "    }\n",
       "</style>\n",
       "<table border=\"1\" class=\"dataframe\">\n",
       "  <thead>\n",
       "    <tr style=\"text-align: right;\">\n",
       "      <th></th>\n",
       "      <th></th>\n",
       "      <th>price</th>\n",
       "      <th>freight_value</th>\n",
       "    </tr>\n",
       "    <tr>\n",
       "      <th>Month_Year</th>\n",
       "      <th>product_id</th>\n",
       "      <th></th>\n",
       "      <th></th>\n",
       "    </tr>\n",
       "  </thead>\n",
       "  <tbody>\n",
       "    <tr>\n",
       "      <th rowspan=\"4\" valign=\"top\">2016-09</th>\n",
       "      <th>5a6b04657a4c5ee34285d1e4619a96b4</th>\n",
       "      <td>134.97</td>\n",
       "      <td>8.49</td>\n",
       "    </tr>\n",
       "    <tr>\n",
       "      <th>c1488892604e4ba5cff5b4eb4d595400</th>\n",
       "      <td>39.99</td>\n",
       "      <td>31.67</td>\n",
       "    </tr>\n",
       "    <tr>\n",
       "      <th>f293394c72c9b5fafd7023301fc21fc2</th>\n",
       "      <td>32.90</td>\n",
       "      <td>31.67</td>\n",
       "    </tr>\n",
       "    <tr>\n",
       "      <th>f3c2d01a84c947b078e32bbef0718962</th>\n",
       "      <td>59.50</td>\n",
       "      <td>15.56</td>\n",
       "    </tr>\n",
       "    <tr>\n",
       "      <th>2016-10</th>\n",
       "      <th>027cdd14a677a5834bc67a9789db5021</th>\n",
       "      <td>89.90</td>\n",
       "      <td>15.49</td>\n",
       "    </tr>\n",
       "    <tr>\n",
       "      <th>...</th>\n",
       "      <th>...</th>\n",
       "      <td>...</td>\n",
       "      <td>...</td>\n",
       "    </tr>\n",
       "    <tr>\n",
       "      <th rowspan=\"4\" valign=\"top\">2018-08</th>\n",
       "      <th>ffc9caf33e2d1e9f44e3e06da19085f7</th>\n",
       "      <td>219.89</td>\n",
       "      <td>12.56</td>\n",
       "    </tr>\n",
       "    <tr>\n",
       "      <th>ffd4bf4306745865e5692f69bd237893</th>\n",
       "      <td>29.99</td>\n",
       "      <td>22.93</td>\n",
       "    </tr>\n",
       "    <tr>\n",
       "      <th>ffd9ac56db9194a413298faaa03cd176</th>\n",
       "      <td>89.00</td>\n",
       "      <td>23.77</td>\n",
       "    </tr>\n",
       "    <tr>\n",
       "      <th>fffdb2d0ec8d6a61f0a0a0db3f25b441</th>\n",
       "      <td>69.98</td>\n",
       "      <td>15.02</td>\n",
       "    </tr>\n",
       "    <tr>\n",
       "      <th>2018-09</th>\n",
       "      <th>b98992ea80b467987a7fbb88e7f2076a</th>\n",
       "      <td>145.00</td>\n",
       "      <td>21.46</td>\n",
       "    </tr>\n",
       "  </tbody>\n",
       "</table>\n",
       "<p>62176 rows × 2 columns</p>\n",
       "</div>"
      ],
      "text/plain": [
       "                                              price  freight_value\n",
       "Month_Year product_id                                             \n",
       "2016-09    5a6b04657a4c5ee34285d1e4619a96b4  134.97           8.49\n",
       "           c1488892604e4ba5cff5b4eb4d595400   39.99          31.67\n",
       "           f293394c72c9b5fafd7023301fc21fc2   32.90          31.67\n",
       "           f3c2d01a84c947b078e32bbef0718962   59.50          15.56\n",
       "2016-10    027cdd14a677a5834bc67a9789db5021   89.90          15.49\n",
       "...                                             ...            ...\n",
       "2018-08    ffc9caf33e2d1e9f44e3e06da19085f7  219.89          12.56\n",
       "           ffd4bf4306745865e5692f69bd237893   29.99          22.93\n",
       "           ffd9ac56db9194a413298faaa03cd176   89.00          23.77\n",
       "           fffdb2d0ec8d6a61f0a0a0db3f25b441   69.98          15.02\n",
       "2018-09    b98992ea80b467987a7fbb88e7f2076a  145.00          21.46\n",
       "\n",
       "[62176 rows x 2 columns]"
      ]
     },
     "execution_count": 109,
     "metadata": {
      "tags": []
     },
     "output_type": "execute_result"
    }
   ],
   "source": [
    "monthly_total_sales_per_prod = olist_order_date.groupby(['Month_Year','product_id']).sum()[['price','freight_value']]\n",
    "monthly_total_sales_per_prod"
   ]
  },
  {
   "cell_type": "code",
   "execution_count": 110,
   "metadata": {
    "colab": {
     "base_uri": "https://localhost:8080/",
     "height": 419
    },
    "executionInfo": {
     "elapsed": 898,
     "status": "ok",
     "timestamp": 1613233559083,
     "user": {
      "displayName": "Arun rajan",
      "photoUrl": "https://lh3.googleusercontent.com/a-/AOh14GhKlJD7-lRzdBpsXXKX99vweYs9dgDO8xHZt7wz0g=s64",
      "userId": "16564613912059202502"
     },
     "user_tz": -330
    },
    "id": "uO4NH3gF6GKU",
    "outputId": "03bf13ba-14f8-45a9-81f1-1816257fd0ca"
   },
   "outputs": [
    {
     "data": {
      "text/html": [
       "<div>\n",
       "<style scoped>\n",
       "    .dataframe tbody tr th:only-of-type {\n",
       "        vertical-align: middle;\n",
       "    }\n",
       "\n",
       "    .dataframe tbody tr th {\n",
       "        vertical-align: top;\n",
       "    }\n",
       "\n",
       "    .dataframe thead th {\n",
       "        text-align: right;\n",
       "    }\n",
       "</style>\n",
       "<table border=\"1\" class=\"dataframe\">\n",
       "  <thead>\n",
       "    <tr style=\"text-align: right;\">\n",
       "      <th></th>\n",
       "      <th>Month_Year</th>\n",
       "      <th>product_id</th>\n",
       "      <th>price</th>\n",
       "      <th>freight_value</th>\n",
       "    </tr>\n",
       "  </thead>\n",
       "  <tbody>\n",
       "    <tr>\n",
       "      <th>0</th>\n",
       "      <td>2016-09</td>\n",
       "      <td>5a6b04657a4c5ee34285d1e4619a96b4</td>\n",
       "      <td>134.97</td>\n",
       "      <td>8.49</td>\n",
       "    </tr>\n",
       "    <tr>\n",
       "      <th>1</th>\n",
       "      <td>2016-09</td>\n",
       "      <td>c1488892604e4ba5cff5b4eb4d595400</td>\n",
       "      <td>39.99</td>\n",
       "      <td>31.67</td>\n",
       "    </tr>\n",
       "    <tr>\n",
       "      <th>2</th>\n",
       "      <td>2016-09</td>\n",
       "      <td>f293394c72c9b5fafd7023301fc21fc2</td>\n",
       "      <td>32.90</td>\n",
       "      <td>31.67</td>\n",
       "    </tr>\n",
       "    <tr>\n",
       "      <th>3</th>\n",
       "      <td>2016-09</td>\n",
       "      <td>f3c2d01a84c947b078e32bbef0718962</td>\n",
       "      <td>59.50</td>\n",
       "      <td>15.56</td>\n",
       "    </tr>\n",
       "    <tr>\n",
       "      <th>4</th>\n",
       "      <td>2016-10</td>\n",
       "      <td>027cdd14a677a5834bc67a9789db5021</td>\n",
       "      <td>89.90</td>\n",
       "      <td>15.49</td>\n",
       "    </tr>\n",
       "    <tr>\n",
       "      <th>...</th>\n",
       "      <td>...</td>\n",
       "      <td>...</td>\n",
       "      <td>...</td>\n",
       "      <td>...</td>\n",
       "    </tr>\n",
       "    <tr>\n",
       "      <th>62171</th>\n",
       "      <td>2018-08</td>\n",
       "      <td>ffc9caf33e2d1e9f44e3e06da19085f7</td>\n",
       "      <td>219.89</td>\n",
       "      <td>12.56</td>\n",
       "    </tr>\n",
       "    <tr>\n",
       "      <th>62172</th>\n",
       "      <td>2018-08</td>\n",
       "      <td>ffd4bf4306745865e5692f69bd237893</td>\n",
       "      <td>29.99</td>\n",
       "      <td>22.93</td>\n",
       "    </tr>\n",
       "    <tr>\n",
       "      <th>62173</th>\n",
       "      <td>2018-08</td>\n",
       "      <td>ffd9ac56db9194a413298faaa03cd176</td>\n",
       "      <td>89.00</td>\n",
       "      <td>23.77</td>\n",
       "    </tr>\n",
       "    <tr>\n",
       "      <th>62174</th>\n",
       "      <td>2018-08</td>\n",
       "      <td>fffdb2d0ec8d6a61f0a0a0db3f25b441</td>\n",
       "      <td>69.98</td>\n",
       "      <td>15.02</td>\n",
       "    </tr>\n",
       "    <tr>\n",
       "      <th>62175</th>\n",
       "      <td>2018-09</td>\n",
       "      <td>b98992ea80b467987a7fbb88e7f2076a</td>\n",
       "      <td>145.00</td>\n",
       "      <td>21.46</td>\n",
       "    </tr>\n",
       "  </tbody>\n",
       "</table>\n",
       "<p>62176 rows × 4 columns</p>\n",
       "</div>"
      ],
      "text/plain": [
       "      Month_Year                        product_id   price  freight_value\n",
       "0        2016-09  5a6b04657a4c5ee34285d1e4619a96b4  134.97           8.49\n",
       "1        2016-09  c1488892604e4ba5cff5b4eb4d595400   39.99          31.67\n",
       "2        2016-09  f293394c72c9b5fafd7023301fc21fc2   32.90          31.67\n",
       "3        2016-09  f3c2d01a84c947b078e32bbef0718962   59.50          15.56\n",
       "4        2016-10  027cdd14a677a5834bc67a9789db5021   89.90          15.49\n",
       "...          ...                               ...     ...            ...\n",
       "62171    2018-08  ffc9caf33e2d1e9f44e3e06da19085f7  219.89          12.56\n",
       "62172    2018-08  ffd4bf4306745865e5692f69bd237893   29.99          22.93\n",
       "62173    2018-08  ffd9ac56db9194a413298faaa03cd176   89.00          23.77\n",
       "62174    2018-08  fffdb2d0ec8d6a61f0a0a0db3f25b441   69.98          15.02\n",
       "62175    2018-09  b98992ea80b467987a7fbb88e7f2076a  145.00          21.46\n",
       "\n",
       "[62176 rows x 4 columns]"
      ]
     },
     "execution_count": 110,
     "metadata": {
      "tags": []
     },
     "output_type": "execute_result"
    }
   ],
   "source": [
    "monthly_total_sales_per_prod = monthly_total_sales_per_prod.reset_index()\n",
    "monthly_total_sales_per_prod"
   ]
  },
  {
   "cell_type": "code",
   "execution_count": 118,
   "metadata": {
    "colab": {
     "base_uri": "https://localhost:8080/"
    },
    "executionInfo": {
     "elapsed": 716,
     "status": "ok",
     "timestamp": 1613233879070,
     "user": {
      "displayName": "Arun rajan",
      "photoUrl": "https://lh3.googleusercontent.com/a-/AOh14GhKlJD7-lRzdBpsXXKX99vweYs9dgDO8xHZt7wz0g=s64",
      "userId": "16564613912059202502"
     },
     "user_tz": -330
    },
    "id": "tHxTB28g63dz",
    "outputId": "40e7838b-b356-4fbf-b9ee-0d0cca76172e"
   },
   "outputs": [
    {
     "data": {
      "text/plain": [
       "32951"
      ]
     },
     "execution_count": 118,
     "metadata": {
      "tags": []
     },
     "output_type": "execute_result"
    }
   ],
   "source": [
    "monthly_total_sales_per_prod.product_id.nunique()"
   ]
  },
  {
   "cell_type": "code",
   "execution_count": 120,
   "metadata": {
    "colab": {
     "base_uri": "https://localhost:8080/",
     "height": 419
    },
    "executionInfo": {
     "elapsed": 758,
     "status": "ok",
     "timestamp": 1613233894086,
     "user": {
      "displayName": "Arun rajan",
      "photoUrl": "https://lh3.googleusercontent.com/a-/AOh14GhKlJD7-lRzdBpsXXKX99vweYs9dgDO8xHZt7wz0g=s64",
      "userId": "16564613912059202502"
     },
     "user_tz": -330
    },
    "id": "2TyH-A4PLmbK",
    "outputId": "aed91c07-6243-4d5b-e0be-ccce2b37cce8"
   },
   "outputs": [
    {
     "data": {
      "text/html": [
       "<div>\n",
       "<style scoped>\n",
       "    .dataframe tbody tr th:only-of-type {\n",
       "        vertical-align: middle;\n",
       "    }\n",
       "\n",
       "    .dataframe tbody tr th {\n",
       "        vertical-align: top;\n",
       "    }\n",
       "\n",
       "    .dataframe thead th {\n",
       "        text-align: right;\n",
       "    }\n",
       "</style>\n",
       "<table border=\"1\" class=\"dataframe\">\n",
       "  <thead>\n",
       "    <tr style=\"text-align: right;\">\n",
       "      <th></th>\n",
       "      <th>Month_Year</th>\n",
       "      <th>product_id</th>\n",
       "      <th>price</th>\n",
       "      <th>freight_value</th>\n",
       "    </tr>\n",
       "  </thead>\n",
       "  <tbody>\n",
       "    <tr>\n",
       "      <th>279</th>\n",
       "      <td>2017-01</td>\n",
       "      <td>001c5d71ac6ad696d22315953758fa04</td>\n",
       "      <td>79.90</td>\n",
       "      <td>20.74</td>\n",
       "    </tr>\n",
       "    <tr>\n",
       "      <th>280</th>\n",
       "      <td>2017-01</td>\n",
       "      <td>00be617b58175bf207fd35910d5097a4</td>\n",
       "      <td>48.90</td>\n",
       "      <td>15.56</td>\n",
       "    </tr>\n",
       "    <tr>\n",
       "      <th>281</th>\n",
       "      <td>2017-01</td>\n",
       "      <td>010a3a47c14f1295796c08419f32cef6</td>\n",
       "      <td>9.99</td>\n",
       "      <td>50.00</td>\n",
       "    </tr>\n",
       "    <tr>\n",
       "      <th>282</th>\n",
       "      <td>2017-01</td>\n",
       "      <td>014a8a503291921f7b004a5215bb3c36</td>\n",
       "      <td>36.90</td>\n",
       "      <td>8.72</td>\n",
       "    </tr>\n",
       "    <tr>\n",
       "      <th>283</th>\n",
       "      <td>2017-01</td>\n",
       "      <td>01586bfbe1d5449887f1cac4ad1fbd02</td>\n",
       "      <td>12.97</td>\n",
       "      <td>10.96</td>\n",
       "    </tr>\n",
       "    <tr>\n",
       "      <th>...</th>\n",
       "      <td>...</td>\n",
       "      <td>...</td>\n",
       "      <td>...</td>\n",
       "      <td>...</td>\n",
       "    </tr>\n",
       "    <tr>\n",
       "      <th>29121</th>\n",
       "      <td>2017-12</td>\n",
       "      <td>ffc0b406806006602c5853b00ab5f7fd</td>\n",
       "      <td>69.90</td>\n",
       "      <td>18.38</td>\n",
       "    </tr>\n",
       "    <tr>\n",
       "      <th>29122</th>\n",
       "      <td>2017-12</td>\n",
       "      <td>ffce5ed9e0bcc2e46796b988cdac733b</td>\n",
       "      <td>399.00</td>\n",
       "      <td>11.61</td>\n",
       "    </tr>\n",
       "    <tr>\n",
       "      <th>29123</th>\n",
       "      <td>2017-12</td>\n",
       "      <td>ffcfaba393e8ef71937c6e8421bc2868</td>\n",
       "      <td>288.00</td>\n",
       "      <td>86.34</td>\n",
       "    </tr>\n",
       "    <tr>\n",
       "      <th>29124</th>\n",
       "      <td>2017-12</td>\n",
       "      <td>ffd34459c21034d1da6df9800de0d7a3</td>\n",
       "      <td>52.99</td>\n",
       "      <td>15.12</td>\n",
       "    </tr>\n",
       "    <tr>\n",
       "      <th>29125</th>\n",
       "      <td>2017-12</td>\n",
       "      <td>fff0a542c3c62682f23305214eaeaa24</td>\n",
       "      <td>52.50</td>\n",
       "      <td>105.93</td>\n",
       "    </tr>\n",
       "  </tbody>\n",
       "</table>\n",
       "<p>28847 rows × 4 columns</p>\n",
       "</div>"
      ],
      "text/plain": [
       "      Month_Year                        product_id   price  freight_value\n",
       "279      2017-01  001c5d71ac6ad696d22315953758fa04   79.90          20.74\n",
       "280      2017-01  00be617b58175bf207fd35910d5097a4   48.90          15.56\n",
       "281      2017-01  010a3a47c14f1295796c08419f32cef6    9.99          50.00\n",
       "282      2017-01  014a8a503291921f7b004a5215bb3c36   36.90           8.72\n",
       "283      2017-01  01586bfbe1d5449887f1cac4ad1fbd02   12.97          10.96\n",
       "...          ...                               ...     ...            ...\n",
       "29121    2017-12  ffc0b406806006602c5853b00ab5f7fd   69.90          18.38\n",
       "29122    2017-12  ffce5ed9e0bcc2e46796b988cdac733b  399.00          11.61\n",
       "29123    2017-12  ffcfaba393e8ef71937c6e8421bc2868  288.00          86.34\n",
       "29124    2017-12  ffd34459c21034d1da6df9800de0d7a3   52.99          15.12\n",
       "29125    2017-12  fff0a542c3c62682f23305214eaeaa24   52.50         105.93\n",
       "\n",
       "[28847 rows x 4 columns]"
      ]
     },
     "execution_count": 120,
     "metadata": {
      "tags": []
     },
     "output_type": "execute_result"
    }
   ],
   "source": [
    "monthly_total_sales_per_prod[monthly_total_sales_per_prod.Month_Year.apply(lambda x: x[:4] == '2017')]"
   ]
  },
  {
   "cell_type": "code",
   "execution_count": 121,
   "metadata": {
    "colab": {
     "base_uri": "https://localhost:8080/",
     "height": 419
    },
    "executionInfo": {
     "elapsed": 720,
     "status": "ok",
     "timestamp": 1613233896437,
     "user": {
      "displayName": "Arun rajan",
      "photoUrl": "https://lh3.googleusercontent.com/a-/AOh14GhKlJD7-lRzdBpsXXKX99vweYs9dgDO8xHZt7wz0g=s64",
      "userId": "16564613912059202502"
     },
     "user_tz": -330
    },
    "id": "tc28GrNO8Jsx",
    "outputId": "9d9ad2d5-d48e-445a-c3d6-dae31f77328b"
   },
   "outputs": [
    {
     "data": {
      "text/html": [
       "<div>\n",
       "<style scoped>\n",
       "    .dataframe tbody tr th:only-of-type {\n",
       "        vertical-align: middle;\n",
       "    }\n",
       "\n",
       "    .dataframe tbody tr th {\n",
       "        vertical-align: top;\n",
       "    }\n",
       "\n",
       "    .dataframe thead th {\n",
       "        text-align: right;\n",
       "    }\n",
       "</style>\n",
       "<table border=\"1\" class=\"dataframe\">\n",
       "  <thead>\n",
       "    <tr style=\"text-align: right;\">\n",
       "      <th></th>\n",
       "      <th>index</th>\n",
       "      <th>Month_Year</th>\n",
       "      <th>product_id</th>\n",
       "      <th>price</th>\n",
       "      <th>freight_value</th>\n",
       "    </tr>\n",
       "  </thead>\n",
       "  <tbody>\n",
       "    <tr>\n",
       "      <th>0</th>\n",
       "      <td>279</td>\n",
       "      <td>2017-01</td>\n",
       "      <td>001c5d71ac6ad696d22315953758fa04</td>\n",
       "      <td>79.90</td>\n",
       "      <td>20.74</td>\n",
       "    </tr>\n",
       "    <tr>\n",
       "      <th>1</th>\n",
       "      <td>280</td>\n",
       "      <td>2017-01</td>\n",
       "      <td>00be617b58175bf207fd35910d5097a4</td>\n",
       "      <td>48.90</td>\n",
       "      <td>15.56</td>\n",
       "    </tr>\n",
       "    <tr>\n",
       "      <th>2</th>\n",
       "      <td>281</td>\n",
       "      <td>2017-01</td>\n",
       "      <td>010a3a47c14f1295796c08419f32cef6</td>\n",
       "      <td>9.99</td>\n",
       "      <td>50.00</td>\n",
       "    </tr>\n",
       "    <tr>\n",
       "      <th>3</th>\n",
       "      <td>282</td>\n",
       "      <td>2017-01</td>\n",
       "      <td>014a8a503291921f7b004a5215bb3c36</td>\n",
       "      <td>36.90</td>\n",
       "      <td>8.72</td>\n",
       "    </tr>\n",
       "    <tr>\n",
       "      <th>4</th>\n",
       "      <td>283</td>\n",
       "      <td>2017-01</td>\n",
       "      <td>01586bfbe1d5449887f1cac4ad1fbd02</td>\n",
       "      <td>12.97</td>\n",
       "      <td>10.96</td>\n",
       "    </tr>\n",
       "    <tr>\n",
       "      <th>...</th>\n",
       "      <td>...</td>\n",
       "      <td>...</td>\n",
       "      <td>...</td>\n",
       "      <td>...</td>\n",
       "      <td>...</td>\n",
       "    </tr>\n",
       "    <tr>\n",
       "      <th>28842</th>\n",
       "      <td>29121</td>\n",
       "      <td>2017-12</td>\n",
       "      <td>ffc0b406806006602c5853b00ab5f7fd</td>\n",
       "      <td>69.90</td>\n",
       "      <td>18.38</td>\n",
       "    </tr>\n",
       "    <tr>\n",
       "      <th>28843</th>\n",
       "      <td>29122</td>\n",
       "      <td>2017-12</td>\n",
       "      <td>ffce5ed9e0bcc2e46796b988cdac733b</td>\n",
       "      <td>399.00</td>\n",
       "      <td>11.61</td>\n",
       "    </tr>\n",
       "    <tr>\n",
       "      <th>28844</th>\n",
       "      <td>29123</td>\n",
       "      <td>2017-12</td>\n",
       "      <td>ffcfaba393e8ef71937c6e8421bc2868</td>\n",
       "      <td>288.00</td>\n",
       "      <td>86.34</td>\n",
       "    </tr>\n",
       "    <tr>\n",
       "      <th>28845</th>\n",
       "      <td>29124</td>\n",
       "      <td>2017-12</td>\n",
       "      <td>ffd34459c21034d1da6df9800de0d7a3</td>\n",
       "      <td>52.99</td>\n",
       "      <td>15.12</td>\n",
       "    </tr>\n",
       "    <tr>\n",
       "      <th>28846</th>\n",
       "      <td>29125</td>\n",
       "      <td>2017-12</td>\n",
       "      <td>fff0a542c3c62682f23305214eaeaa24</td>\n",
       "      <td>52.50</td>\n",
       "      <td>105.93</td>\n",
       "    </tr>\n",
       "  </tbody>\n",
       "</table>\n",
       "<p>28847 rows × 5 columns</p>\n",
       "</div>"
      ],
      "text/plain": [
       "       index Month_Year                        product_id   price  \\\n",
       "0        279    2017-01  001c5d71ac6ad696d22315953758fa04   79.90   \n",
       "1        280    2017-01  00be617b58175bf207fd35910d5097a4   48.90   \n",
       "2        281    2017-01  010a3a47c14f1295796c08419f32cef6    9.99   \n",
       "3        282    2017-01  014a8a503291921f7b004a5215bb3c36   36.90   \n",
       "4        283    2017-01  01586bfbe1d5449887f1cac4ad1fbd02   12.97   \n",
       "...      ...        ...                               ...     ...   \n",
       "28842  29121    2017-12  ffc0b406806006602c5853b00ab5f7fd   69.90   \n",
       "28843  29122    2017-12  ffce5ed9e0bcc2e46796b988cdac733b  399.00   \n",
       "28844  29123    2017-12  ffcfaba393e8ef71937c6e8421bc2868  288.00   \n",
       "28845  29124    2017-12  ffd34459c21034d1da6df9800de0d7a3   52.99   \n",
       "28846  29125    2017-12  fff0a542c3c62682f23305214eaeaa24   52.50   \n",
       "\n",
       "       freight_value  \n",
       "0              20.74  \n",
       "1              15.56  \n",
       "2              50.00  \n",
       "3               8.72  \n",
       "4              10.96  \n",
       "...              ...  \n",
       "28842          18.38  \n",
       "28843          11.61  \n",
       "28844          86.34  \n",
       "28845          15.12  \n",
       "28846         105.93  \n",
       "\n",
       "[28847 rows x 5 columns]"
      ]
     },
     "execution_count": 121,
     "metadata": {
      "tags": []
     },
     "output_type": "execute_result"
    }
   ],
   "source": [
    "# removing 2016 data and taking out 2017 data to train and 2018 data for test\n",
    "monthly_sales_per_prod_2017 = monthly_total_sales_per_prod[monthly_total_sales_per_prod.Month_Year.apply(lambda x: x[:4] == '2017')].reset_index()\n",
    "monthly_sales_per_prod_2017"
   ]
  },
  {
   "cell_type": "code",
   "execution_count": 122,
   "metadata": {
    "colab": {
     "base_uri": "https://localhost:8080/",
     "height": 419
    },
    "executionInfo": {
     "elapsed": 726,
     "status": "ok",
     "timestamp": 1613233898777,
     "user": {
      "displayName": "Arun rajan",
      "photoUrl": "https://lh3.googleusercontent.com/a-/AOh14GhKlJD7-lRzdBpsXXKX99vweYs9dgDO8xHZt7wz0g=s64",
      "userId": "16564613912059202502"
     },
     "user_tz": -330
    },
    "id": "WCF1Rqx9Qkwn",
    "outputId": "fd3750a3-0877-420d-f0e6-f45fba02ee9c"
   },
   "outputs": [
    {
     "data": {
      "text/html": [
       "<div>\n",
       "<style scoped>\n",
       "    .dataframe tbody tr th:only-of-type {\n",
       "        vertical-align: middle;\n",
       "    }\n",
       "\n",
       "    .dataframe tbody tr th {\n",
       "        vertical-align: top;\n",
       "    }\n",
       "\n",
       "    .dataframe thead th {\n",
       "        text-align: right;\n",
       "    }\n",
       "</style>\n",
       "<table border=\"1\" class=\"dataframe\">\n",
       "  <thead>\n",
       "    <tr style=\"text-align: right;\">\n",
       "      <th></th>\n",
       "      <th>index</th>\n",
       "      <th>Month_Year</th>\n",
       "      <th>product_id</th>\n",
       "      <th>price</th>\n",
       "      <th>freight_value</th>\n",
       "    </tr>\n",
       "  </thead>\n",
       "  <tbody>\n",
       "    <tr>\n",
       "      <th>0</th>\n",
       "      <td>279</td>\n",
       "      <td>2017-01</td>\n",
       "      <td>001c5d71ac6ad696d22315953758fa04</td>\n",
       "      <td>79.90</td>\n",
       "      <td>20.74</td>\n",
       "    </tr>\n",
       "    <tr>\n",
       "      <th>1</th>\n",
       "      <td>280</td>\n",
       "      <td>2017-01</td>\n",
       "      <td>00be617b58175bf207fd35910d5097a4</td>\n",
       "      <td>48.90</td>\n",
       "      <td>15.56</td>\n",
       "    </tr>\n",
       "    <tr>\n",
       "      <th>2</th>\n",
       "      <td>281</td>\n",
       "      <td>2017-01</td>\n",
       "      <td>010a3a47c14f1295796c08419f32cef6</td>\n",
       "      <td>9.99</td>\n",
       "      <td>50.00</td>\n",
       "    </tr>\n",
       "    <tr>\n",
       "      <th>3</th>\n",
       "      <td>282</td>\n",
       "      <td>2017-01</td>\n",
       "      <td>014a8a503291921f7b004a5215bb3c36</td>\n",
       "      <td>36.90</td>\n",
       "      <td>8.72</td>\n",
       "    </tr>\n",
       "    <tr>\n",
       "      <th>4</th>\n",
       "      <td>283</td>\n",
       "      <td>2017-01</td>\n",
       "      <td>01586bfbe1d5449887f1cac4ad1fbd02</td>\n",
       "      <td>12.97</td>\n",
       "      <td>10.96</td>\n",
       "    </tr>\n",
       "    <tr>\n",
       "      <th>...</th>\n",
       "      <td>...</td>\n",
       "      <td>...</td>\n",
       "      <td>...</td>\n",
       "      <td>...</td>\n",
       "      <td>...</td>\n",
       "    </tr>\n",
       "    <tr>\n",
       "      <th>57522</th>\n",
       "      <td>57801</td>\n",
       "      <td>2018-07</td>\n",
       "      <td>ffc88104d219c1b767d566fd93653dd2</td>\n",
       "      <td>39.90</td>\n",
       "      <td>9.03</td>\n",
       "    </tr>\n",
       "    <tr>\n",
       "      <th>57523</th>\n",
       "      <td>57802</td>\n",
       "      <td>2018-07</td>\n",
       "      <td>ffedbd68fa6f44e788ff6c2db8094715</td>\n",
       "      <td>200.00</td>\n",
       "      <td>102.46</td>\n",
       "    </tr>\n",
       "    <tr>\n",
       "      <th>57524</th>\n",
       "      <td>57803</td>\n",
       "      <td>2018-07</td>\n",
       "      <td>ffef256879dbadcab7e77950f4f4a195</td>\n",
       "      <td>63.56</td>\n",
       "      <td>31.20</td>\n",
       "    </tr>\n",
       "    <tr>\n",
       "      <th>57525</th>\n",
       "      <td>57804</td>\n",
       "      <td>2018-07</td>\n",
       "      <td>fff515ea94dbf35d54d256b3e39f0fea</td>\n",
       "      <td>818.00</td>\n",
       "      <td>20.83</td>\n",
       "    </tr>\n",
       "    <tr>\n",
       "      <th>57526</th>\n",
       "      <td>57805</td>\n",
       "      <td>2018-07</td>\n",
       "      <td>fff81cc3158d2725c0655ab9ba0f712c</td>\n",
       "      <td>90.00</td>\n",
       "      <td>7.89</td>\n",
       "    </tr>\n",
       "  </tbody>\n",
       "</table>\n",
       "<p>57527 rows × 5 columns</p>\n",
       "</div>"
      ],
      "text/plain": [
       "       index Month_Year                        product_id   price  \\\n",
       "0        279    2017-01  001c5d71ac6ad696d22315953758fa04   79.90   \n",
       "1        280    2017-01  00be617b58175bf207fd35910d5097a4   48.90   \n",
       "2        281    2017-01  010a3a47c14f1295796c08419f32cef6    9.99   \n",
       "3        282    2017-01  014a8a503291921f7b004a5215bb3c36   36.90   \n",
       "4        283    2017-01  01586bfbe1d5449887f1cac4ad1fbd02   12.97   \n",
       "...      ...        ...                               ...     ...   \n",
       "57522  57801    2018-07  ffc88104d219c1b767d566fd93653dd2   39.90   \n",
       "57523  57802    2018-07  ffedbd68fa6f44e788ff6c2db8094715  200.00   \n",
       "57524  57803    2018-07  ffef256879dbadcab7e77950f4f4a195   63.56   \n",
       "57525  57804    2018-07  fff515ea94dbf35d54d256b3e39f0fea  818.00   \n",
       "57526  57805    2018-07  fff81cc3158d2725c0655ab9ba0f712c   90.00   \n",
       "\n",
       "       freight_value  \n",
       "0              20.74  \n",
       "1              15.56  \n",
       "2              50.00  \n",
       "3               8.72  \n",
       "4              10.96  \n",
       "...              ...  \n",
       "57522           9.03  \n",
       "57523         102.46  \n",
       "57524          31.20  \n",
       "57525          20.83  \n",
       "57526           7.89  \n",
       "\n",
       "[57527 rows x 5 columns]"
      ]
     },
     "execution_count": 122,
     "metadata": {
      "tags": []
     },
     "output_type": "execute_result"
    }
   ],
   "source": [
    "monthly_total_sales_per_prod[monthly_total_sales_per_prod.Month_Year.apply(lambda x: (x[:7] >= '2017-01' and x[:7]<= '2018-07'))].reset_index()"
   ]
  },
  {
   "cell_type": "code",
   "execution_count": 123,
   "metadata": {
    "colab": {
     "base_uri": "https://localhost:8080/",
     "height": 419
    },
    "executionInfo": {
     "elapsed": 517,
     "status": "ok",
     "timestamp": 1613233899994,
     "user": {
      "displayName": "Arun rajan",
      "photoUrl": "https://lh3.googleusercontent.com/a-/AOh14GhKlJD7-lRzdBpsXXKX99vweYs9dgDO8xHZt7wz0g=s64",
      "userId": "16564613912059202502"
     },
     "user_tz": -330
    },
    "id": "2qk99Y-m8_Lu",
    "outputId": "d1ac0a8b-bbbd-4259-ed31-4d8f6104711e"
   },
   "outputs": [
    {
     "data": {
      "text/html": [
       "<div>\n",
       "<style scoped>\n",
       "    .dataframe tbody tr th:only-of-type {\n",
       "        vertical-align: middle;\n",
       "    }\n",
       "\n",
       "    .dataframe tbody tr th {\n",
       "        vertical-align: top;\n",
       "    }\n",
       "\n",
       "    .dataframe thead th {\n",
       "        text-align: right;\n",
       "    }\n",
       "</style>\n",
       "<table border=\"1\" class=\"dataframe\">\n",
       "  <thead>\n",
       "    <tr style=\"text-align: right;\">\n",
       "      <th></th>\n",
       "      <th>index</th>\n",
       "      <th>Month_Year</th>\n",
       "      <th>product_id</th>\n",
       "      <th>price</th>\n",
       "      <th>freight_value</th>\n",
       "    </tr>\n",
       "  </thead>\n",
       "  <tbody>\n",
       "    <tr>\n",
       "      <th>0</th>\n",
       "      <td>29126</td>\n",
       "      <td>2018-01</td>\n",
       "      <td>002959d7a0b0990fe2d69988affcbc80</td>\n",
       "      <td>129.90</td>\n",
       "      <td>98.02</td>\n",
       "    </tr>\n",
       "    <tr>\n",
       "      <th>1</th>\n",
       "      <td>29127</td>\n",
       "      <td>2018-01</td>\n",
       "      <td>0043c62d00db47eff6a6bc4cf6bfaeda</td>\n",
       "      <td>527.99</td>\n",
       "      <td>20.14</td>\n",
       "    </tr>\n",
       "    <tr>\n",
       "      <th>2</th>\n",
       "      <td>29128</td>\n",
       "      <td>2018-01</td>\n",
       "      <td>005030ef108f58b46b78116f754d8d38</td>\n",
       "      <td>13.99</td>\n",
       "      <td>7.78</td>\n",
       "    </tr>\n",
       "    <tr>\n",
       "      <th>3</th>\n",
       "      <td>29129</td>\n",
       "      <td>2018-01</td>\n",
       "      <td>005c6b24cc96dca3e2c01e824401030e</td>\n",
       "      <td>43.50</td>\n",
       "      <td>15.10</td>\n",
       "    </tr>\n",
       "    <tr>\n",
       "      <th>4</th>\n",
       "      <td>29130</td>\n",
       "      <td>2018-01</td>\n",
       "      <td>006baa9a5b8f95895f15273a35bc2664</td>\n",
       "      <td>99.90</td>\n",
       "      <td>13.25</td>\n",
       "    </tr>\n",
       "    <tr>\n",
       "      <th>...</th>\n",
       "      <td>...</td>\n",
       "      <td>...</td>\n",
       "      <td>...</td>\n",
       "      <td>...</td>\n",
       "      <td>...</td>\n",
       "    </tr>\n",
       "    <tr>\n",
       "      <th>33045</th>\n",
       "      <td>62171</td>\n",
       "      <td>2018-08</td>\n",
       "      <td>ffc9caf33e2d1e9f44e3e06da19085f7</td>\n",
       "      <td>219.89</td>\n",
       "      <td>12.56</td>\n",
       "    </tr>\n",
       "    <tr>\n",
       "      <th>33046</th>\n",
       "      <td>62172</td>\n",
       "      <td>2018-08</td>\n",
       "      <td>ffd4bf4306745865e5692f69bd237893</td>\n",
       "      <td>29.99</td>\n",
       "      <td>22.93</td>\n",
       "    </tr>\n",
       "    <tr>\n",
       "      <th>33047</th>\n",
       "      <td>62173</td>\n",
       "      <td>2018-08</td>\n",
       "      <td>ffd9ac56db9194a413298faaa03cd176</td>\n",
       "      <td>89.00</td>\n",
       "      <td>23.77</td>\n",
       "    </tr>\n",
       "    <tr>\n",
       "      <th>33048</th>\n",
       "      <td>62174</td>\n",
       "      <td>2018-08</td>\n",
       "      <td>fffdb2d0ec8d6a61f0a0a0db3f25b441</td>\n",
       "      <td>69.98</td>\n",
       "      <td>15.02</td>\n",
       "    </tr>\n",
       "    <tr>\n",
       "      <th>33049</th>\n",
       "      <td>62175</td>\n",
       "      <td>2018-09</td>\n",
       "      <td>b98992ea80b467987a7fbb88e7f2076a</td>\n",
       "      <td>145.00</td>\n",
       "      <td>21.46</td>\n",
       "    </tr>\n",
       "  </tbody>\n",
       "</table>\n",
       "<p>33050 rows × 5 columns</p>\n",
       "</div>"
      ],
      "text/plain": [
       "       index Month_Year                        product_id   price  \\\n",
       "0      29126    2018-01  002959d7a0b0990fe2d69988affcbc80  129.90   \n",
       "1      29127    2018-01  0043c62d00db47eff6a6bc4cf6bfaeda  527.99   \n",
       "2      29128    2018-01  005030ef108f58b46b78116f754d8d38   13.99   \n",
       "3      29129    2018-01  005c6b24cc96dca3e2c01e824401030e   43.50   \n",
       "4      29130    2018-01  006baa9a5b8f95895f15273a35bc2664   99.90   \n",
       "...      ...        ...                               ...     ...   \n",
       "33045  62171    2018-08  ffc9caf33e2d1e9f44e3e06da19085f7  219.89   \n",
       "33046  62172    2018-08  ffd4bf4306745865e5692f69bd237893   29.99   \n",
       "33047  62173    2018-08  ffd9ac56db9194a413298faaa03cd176   89.00   \n",
       "33048  62174    2018-08  fffdb2d0ec8d6a61f0a0a0db3f25b441   69.98   \n",
       "33049  62175    2018-09  b98992ea80b467987a7fbb88e7f2076a  145.00   \n",
       "\n",
       "       freight_value  \n",
       "0              98.02  \n",
       "1              20.14  \n",
       "2               7.78  \n",
       "3              15.10  \n",
       "4              13.25  \n",
       "...              ...  \n",
       "33045          12.56  \n",
       "33046          22.93  \n",
       "33047          23.77  \n",
       "33048          15.02  \n",
       "33049          21.46  \n",
       "\n",
       "[33050 rows x 5 columns]"
      ]
     },
     "execution_count": 123,
     "metadata": {
      "tags": []
     },
     "output_type": "execute_result"
    }
   ],
   "source": [
    "monthly_sales_per_prod_2018 = monthly_total_sales_per_prod[monthly_total_sales_per_prod.Month_Year.apply(lambda x: x[:4] == '2018')].reset_index()\n",
    "monthly_sales_per_prod_2018"
   ]
  },
  {
   "cell_type": "code",
   "execution_count": 124,
   "metadata": {
    "colab": {
     "base_uri": "https://localhost:8080/"
    },
    "executionInfo": {
     "elapsed": 705,
     "status": "ok",
     "timestamp": 1613233902160,
     "user": {
      "displayName": "Arun rajan",
      "photoUrl": "https://lh3.googleusercontent.com/a-/AOh14GhKlJD7-lRzdBpsXXKX99vweYs9dgDO8xHZt7wz0g=s64",
      "userId": "16564613912059202502"
     },
     "user_tz": -330
    },
    "id": "zNgiM9248yDZ",
    "outputId": "b4b1885a-24bc-4f99-ddb7-45b5a2eb7ffb"
   },
   "outputs": [
    {
     "data": {
      "text/plain": [
       "(17273, 20495)"
      ]
     },
     "execution_count": 124,
     "metadata": {
      "tags": []
     },
     "output_type": "execute_result"
    }
   ],
   "source": [
    "monthly_sales_per_prod_2017.product_id.nunique(),monthly_sales_per_prod_2018.product_id.nunique()"
   ]
  },
  {
   "cell_type": "markdown",
   "metadata": {
    "id": "3kgf5vAo8DLB"
   },
   "source": [
    "- There are 32,951 unique products in the sales data above created\n",
    "- There are 17,273 unique products bought in the year 2017 \n",
    "- There are 20,495 unique products bought in the year 2018\n",
    "- Clearly, there are some new products which is brought in the year 2018."
   ]
  },
  {
   "cell_type": "code",
   "execution_count": 125,
   "metadata": {
    "colab": {
     "base_uri": "https://localhost:8080/",
     "height": 419
    },
    "executionInfo": {
     "elapsed": 716,
     "status": "ok",
     "timestamp": 1613233908977,
     "user": {
      "displayName": "Arun rajan",
      "photoUrl": "https://lh3.googleusercontent.com/a-/AOh14GhKlJD7-lRzdBpsXXKX99vweYs9dgDO8xHZt7wz0g=s64",
      "userId": "16564613912059202502"
     },
     "user_tz": -330
    },
    "id": "7dd9JdWp9nsN",
    "outputId": "901f33df-c25b-4d23-ff2f-cf61b4572170"
   },
   "outputs": [
    {
     "data": {
      "text/html": [
       "<div>\n",
       "<style scoped>\n",
       "    .dataframe tbody tr th:only-of-type {\n",
       "        vertical-align: middle;\n",
       "    }\n",
       "\n",
       "    .dataframe tbody tr th {\n",
       "        vertical-align: top;\n",
       "    }\n",
       "\n",
       "    .dataframe thead th {\n",
       "        text-align: right;\n",
       "    }\n",
       "</style>\n",
       "<table border=\"1\" class=\"dataframe\">\n",
       "  <thead>\n",
       "    <tr style=\"text-align: right;\">\n",
       "      <th></th>\n",
       "      <th>index</th>\n",
       "      <th>Month_Year</th>\n",
       "      <th>product_id</th>\n",
       "      <th>price</th>\n",
       "      <th>freight_value</th>\n",
       "    </tr>\n",
       "  </thead>\n",
       "  <tbody>\n",
       "    <tr>\n",
       "      <th>0</th>\n",
       "      <td>279</td>\n",
       "      <td>2017-01</td>\n",
       "      <td>001c5d71ac6ad696d22315953758fa04</td>\n",
       "      <td>79.90</td>\n",
       "      <td>20.74</td>\n",
       "    </tr>\n",
       "    <tr>\n",
       "      <th>1</th>\n",
       "      <td>280</td>\n",
       "      <td>2017-01</td>\n",
       "      <td>00be617b58175bf207fd35910d5097a4</td>\n",
       "      <td>48.90</td>\n",
       "      <td>15.56</td>\n",
       "    </tr>\n",
       "    <tr>\n",
       "      <th>2</th>\n",
       "      <td>281</td>\n",
       "      <td>2017-01</td>\n",
       "      <td>010a3a47c14f1295796c08419f32cef6</td>\n",
       "      <td>9.99</td>\n",
       "      <td>50.00</td>\n",
       "    </tr>\n",
       "    <tr>\n",
       "      <th>3</th>\n",
       "      <td>282</td>\n",
       "      <td>2017-01</td>\n",
       "      <td>014a8a503291921f7b004a5215bb3c36</td>\n",
       "      <td>36.90</td>\n",
       "      <td>8.72</td>\n",
       "    </tr>\n",
       "    <tr>\n",
       "      <th>4</th>\n",
       "      <td>283</td>\n",
       "      <td>2017-01</td>\n",
       "      <td>01586bfbe1d5449887f1cac4ad1fbd02</td>\n",
       "      <td>12.97</td>\n",
       "      <td>10.96</td>\n",
       "    </tr>\n",
       "    <tr>\n",
       "      <th>...</th>\n",
       "      <td>...</td>\n",
       "      <td>...</td>\n",
       "      <td>...</td>\n",
       "      <td>...</td>\n",
       "      <td>...</td>\n",
       "    </tr>\n",
       "    <tr>\n",
       "      <th>28842</th>\n",
       "      <td>29121</td>\n",
       "      <td>2017-12</td>\n",
       "      <td>ffc0b406806006602c5853b00ab5f7fd</td>\n",
       "      <td>69.90</td>\n",
       "      <td>18.38</td>\n",
       "    </tr>\n",
       "    <tr>\n",
       "      <th>28843</th>\n",
       "      <td>29122</td>\n",
       "      <td>2017-12</td>\n",
       "      <td>ffce5ed9e0bcc2e46796b988cdac733b</td>\n",
       "      <td>399.00</td>\n",
       "      <td>11.61</td>\n",
       "    </tr>\n",
       "    <tr>\n",
       "      <th>28844</th>\n",
       "      <td>29123</td>\n",
       "      <td>2017-12</td>\n",
       "      <td>ffcfaba393e8ef71937c6e8421bc2868</td>\n",
       "      <td>288.00</td>\n",
       "      <td>86.34</td>\n",
       "    </tr>\n",
       "    <tr>\n",
       "      <th>28845</th>\n",
       "      <td>29124</td>\n",
       "      <td>2017-12</td>\n",
       "      <td>ffd34459c21034d1da6df9800de0d7a3</td>\n",
       "      <td>52.99</td>\n",
       "      <td>15.12</td>\n",
       "    </tr>\n",
       "    <tr>\n",
       "      <th>28846</th>\n",
       "      <td>29125</td>\n",
       "      <td>2017-12</td>\n",
       "      <td>fff0a542c3c62682f23305214eaeaa24</td>\n",
       "      <td>52.50</td>\n",
       "      <td>105.93</td>\n",
       "    </tr>\n",
       "  </tbody>\n",
       "</table>\n",
       "<p>28847 rows × 5 columns</p>\n",
       "</div>"
      ],
      "text/plain": [
       "       index Month_Year                        product_id   price  \\\n",
       "0        279    2017-01  001c5d71ac6ad696d22315953758fa04   79.90   \n",
       "1        280    2017-01  00be617b58175bf207fd35910d5097a4   48.90   \n",
       "2        281    2017-01  010a3a47c14f1295796c08419f32cef6    9.99   \n",
       "3        282    2017-01  014a8a503291921f7b004a5215bb3c36   36.90   \n",
       "4        283    2017-01  01586bfbe1d5449887f1cac4ad1fbd02   12.97   \n",
       "...      ...        ...                               ...     ...   \n",
       "28842  29121    2017-12  ffc0b406806006602c5853b00ab5f7fd   69.90   \n",
       "28843  29122    2017-12  ffce5ed9e0bcc2e46796b988cdac733b  399.00   \n",
       "28844  29123    2017-12  ffcfaba393e8ef71937c6e8421bc2868  288.00   \n",
       "28845  29124    2017-12  ffd34459c21034d1da6df9800de0d7a3   52.99   \n",
       "28846  29125    2017-12  fff0a542c3c62682f23305214eaeaa24   52.50   \n",
       "\n",
       "       freight_value  \n",
       "0              20.74  \n",
       "1              15.56  \n",
       "2              50.00  \n",
       "3               8.72  \n",
       "4              10.96  \n",
       "...              ...  \n",
       "28842          18.38  \n",
       "28843          11.61  \n",
       "28844          86.34  \n",
       "28845          15.12  \n",
       "28846         105.93  \n",
       "\n",
       "[28847 rows x 5 columns]"
      ]
     },
     "execution_count": 125,
     "metadata": {
      "tags": []
     },
     "output_type": "execute_result"
    }
   ],
   "source": [
    "monthly_sales_per_prod_2017.sort_values(['Month_Year','product_id'],ascending=True)"
   ]
  },
  {
   "cell_type": "code",
   "execution_count": 126,
   "metadata": {
    "colab": {
     "base_uri": "https://localhost:8080/",
     "height": 173
    },
    "executionInfo": {
     "elapsed": 715,
     "status": "ok",
     "timestamp": 1613233927216,
     "user": {
      "displayName": "Arun rajan",
      "photoUrl": "https://lh3.googleusercontent.com/a-/AOh14GhKlJD7-lRzdBpsXXKX99vweYs9dgDO8xHZt7wz0g=s64",
      "userId": "16564613912059202502"
     },
     "user_tz": -330
    },
    "id": "dDqoMpQfjn2l",
    "outputId": "49a55b6a-ed23-4a48-d4e4-dad40bae9bf4"
   },
   "outputs": [
    {
     "data": {
      "text/html": [
       "<div>\n",
       "<style scoped>\n",
       "    .dataframe tbody tr th:only-of-type {\n",
       "        vertical-align: middle;\n",
       "    }\n",
       "\n",
       "    .dataframe tbody tr th {\n",
       "        vertical-align: top;\n",
       "    }\n",
       "\n",
       "    .dataframe thead th {\n",
       "        text-align: right;\n",
       "    }\n",
       "</style>\n",
       "<table border=\"1\" class=\"dataframe\">\n",
       "  <thead>\n",
       "    <tr style=\"text-align: right;\">\n",
       "      <th>order_purchase_month</th>\n",
       "      <th>1</th>\n",
       "      <th>2</th>\n",
       "      <th>3</th>\n",
       "      <th>4</th>\n",
       "      <th>5</th>\n",
       "      <th>6</th>\n",
       "      <th>7</th>\n",
       "      <th>8</th>\n",
       "      <th>9</th>\n",
       "      <th>10</th>\n",
       "      <th>11</th>\n",
       "      <th>12</th>\n",
       "    </tr>\n",
       "    <tr>\n",
       "      <th>order_purchase_year</th>\n",
       "      <th></th>\n",
       "      <th></th>\n",
       "      <th></th>\n",
       "      <th></th>\n",
       "      <th></th>\n",
       "      <th></th>\n",
       "      <th></th>\n",
       "      <th></th>\n",
       "      <th></th>\n",
       "      <th></th>\n",
       "      <th></th>\n",
       "      <th></th>\n",
       "    </tr>\n",
       "  </thead>\n",
       "  <tbody>\n",
       "    <tr>\n",
       "      <th>2016</th>\n",
       "      <td>0</td>\n",
       "      <td>0</td>\n",
       "      <td>0</td>\n",
       "      <td>0</td>\n",
       "      <td>0</td>\n",
       "      <td>0</td>\n",
       "      <td>0</td>\n",
       "      <td>0</td>\n",
       "      <td>6</td>\n",
       "      <td>363</td>\n",
       "      <td>0</td>\n",
       "      <td>1</td>\n",
       "    </tr>\n",
       "    <tr>\n",
       "      <th>2017</th>\n",
       "      <td>955</td>\n",
       "      <td>1951</td>\n",
       "      <td>3000</td>\n",
       "      <td>2684</td>\n",
       "      <td>4136</td>\n",
       "      <td>3583</td>\n",
       "      <td>4519</td>\n",
       "      <td>4910</td>\n",
       "      <td>4831</td>\n",
       "      <td>5322</td>\n",
       "      <td>8665</td>\n",
       "      <td>6308</td>\n",
       "    </tr>\n",
       "    <tr>\n",
       "      <th>2018</th>\n",
       "      <td>8208</td>\n",
       "      <td>7672</td>\n",
       "      <td>8217</td>\n",
       "      <td>7975</td>\n",
       "      <td>7925</td>\n",
       "      <td>7078</td>\n",
       "      <td>7092</td>\n",
       "      <td>7248</td>\n",
       "      <td>1</td>\n",
       "      <td>0</td>\n",
       "      <td>0</td>\n",
       "      <td>0</td>\n",
       "    </tr>\n",
       "  </tbody>\n",
       "</table>\n",
       "</div>"
      ],
      "text/plain": [
       "order_purchase_month    1     2     3     4     5     6     7     8     9   \\\n",
       "order_purchase_year                                                          \n",
       "2016                     0     0     0     0     0     0     0     0     6   \n",
       "2017                   955  1951  3000  2684  4136  3583  4519  4910  4831   \n",
       "2018                  8208  7672  8217  7975  7925  7078  7092  7248     1   \n",
       "\n",
       "order_purchase_month    10    11    12  \n",
       "order_purchase_year                     \n",
       "2016                   363     0     1  \n",
       "2017                  5322  8665  6308  \n",
       "2018                     0     0     0  "
      ]
     },
     "execution_count": 126,
     "metadata": {
      "tags": []
     },
     "output_type": "execute_result"
    }
   ],
   "source": [
    "pd.crosstab(olist_order_date['order_purchase_year'],olist_order_date['order_purchase_month']).sort_index(1)"
   ]
  },
  {
   "cell_type": "code",
   "execution_count": 127,
   "metadata": {
    "colab": {
     "base_uri": "https://localhost:8080/",
     "height": 173
    },
    "executionInfo": {
     "elapsed": 722,
     "status": "ok",
     "timestamp": 1613233929223,
     "user": {
      "displayName": "Arun rajan",
      "photoUrl": "https://lh3.googleusercontent.com/a-/AOh14GhKlJD7-lRzdBpsXXKX99vweYs9dgDO8xHZt7wz0g=s64",
      "userId": "16564613912059202502"
     },
     "user_tz": -330
    },
    "id": "fAWtOxWxScxO",
    "outputId": "cfadc2eb-8284-41d7-bcde-4b1a29f56ca9"
   },
   "outputs": [
    {
     "data": {
      "text/html": [
       "<div>\n",
       "<style scoped>\n",
       "    .dataframe tbody tr th:only-of-type {\n",
       "        vertical-align: middle;\n",
       "    }\n",
       "\n",
       "    .dataframe tbody tr th {\n",
       "        vertical-align: top;\n",
       "    }\n",
       "\n",
       "    .dataframe thead th {\n",
       "        text-align: right;\n",
       "    }\n",
       "</style>\n",
       "<table border=\"1\" class=\"dataframe\">\n",
       "  <thead>\n",
       "    <tr style=\"text-align: right;\">\n",
       "      <th>order_purchase_month</th>\n",
       "      <th>1</th>\n",
       "      <th>2</th>\n",
       "      <th>3</th>\n",
       "      <th>4</th>\n",
       "      <th>5</th>\n",
       "      <th>6</th>\n",
       "      <th>7</th>\n",
       "      <th>8</th>\n",
       "      <th>9</th>\n",
       "      <th>10</th>\n",
       "      <th>11</th>\n",
       "      <th>12</th>\n",
       "    </tr>\n",
       "    <tr>\n",
       "      <th>order_purchase_year</th>\n",
       "      <th></th>\n",
       "      <th></th>\n",
       "      <th></th>\n",
       "      <th></th>\n",
       "      <th></th>\n",
       "      <th></th>\n",
       "      <th></th>\n",
       "      <th></th>\n",
       "      <th></th>\n",
       "      <th></th>\n",
       "      <th></th>\n",
       "      <th></th>\n",
       "    </tr>\n",
       "  </thead>\n",
       "  <tbody>\n",
       "    <tr>\n",
       "      <th>2016</th>\n",
       "      <td>0</td>\n",
       "      <td>0</td>\n",
       "      <td>0</td>\n",
       "      <td>0</td>\n",
       "      <td>0</td>\n",
       "      <td>0</td>\n",
       "      <td>0</td>\n",
       "      <td>0</td>\n",
       "      <td>6</td>\n",
       "      <td>363</td>\n",
       "      <td>0</td>\n",
       "      <td>1</td>\n",
       "    </tr>\n",
       "    <tr>\n",
       "      <th>2017</th>\n",
       "      <td>955</td>\n",
       "      <td>1951</td>\n",
       "      <td>3000</td>\n",
       "      <td>2684</td>\n",
       "      <td>4136</td>\n",
       "      <td>3583</td>\n",
       "      <td>4519</td>\n",
       "      <td>4910</td>\n",
       "      <td>4831</td>\n",
       "      <td>5322</td>\n",
       "      <td>8665</td>\n",
       "      <td>6308</td>\n",
       "    </tr>\n",
       "    <tr>\n",
       "      <th>2018</th>\n",
       "      <td>8208</td>\n",
       "      <td>7672</td>\n",
       "      <td>8217</td>\n",
       "      <td>7975</td>\n",
       "      <td>7925</td>\n",
       "      <td>7078</td>\n",
       "      <td>7092</td>\n",
       "      <td>7248</td>\n",
       "      <td>0</td>\n",
       "      <td>0</td>\n",
       "      <td>0</td>\n",
       "      <td>0</td>\n",
       "    </tr>\n",
       "  </tbody>\n",
       "</table>\n",
       "</div>"
      ],
      "text/plain": [
       "order_purchase_month    1     2     3     4     5     6     7     8     9   \\\n",
       "order_purchase_year                                                          \n",
       "2016                     0     0     0     0     0     0     0     0     6   \n",
       "2017                   955  1951  3000  2684  4136  3583  4519  4910  4831   \n",
       "2018                  8208  7672  8217  7975  7925  7078  7092  7248     0   \n",
       "\n",
       "order_purchase_month    10    11    12  \n",
       "order_purchase_year                     \n",
       "2016                   363     0     1  \n",
       "2017                  5322  8665  6308  \n",
       "2018                     0     0     0  "
      ]
     },
     "execution_count": 127,
     "metadata": {
      "tags": []
     },
     "output_type": "execute_result"
    }
   ],
   "source": [
    "# removing 2018-09 as it has only one record.\n",
    "olist_order_date = olist_order_date.drop(olist_order_date[olist_order_date['Month_Year'] == '2018-09'].index).reset_index(drop=True)\n",
    "pd.crosstab(olist_order_date['order_purchase_year'],olist_order_date['order_purchase_month']).sort_index(1)"
   ]
  },
  {
   "cell_type": "code",
   "execution_count": 128,
   "metadata": {
    "colab": {
     "base_uri": "https://localhost:8080/",
     "height": 142
    },
    "executionInfo": {
     "elapsed": 689,
     "status": "ok",
     "timestamp": 1613233931337,
     "user": {
      "displayName": "Arun rajan",
      "photoUrl": "https://lh3.googleusercontent.com/a-/AOh14GhKlJD7-lRzdBpsXXKX99vweYs9dgDO8xHZt7wz0g=s64",
      "userId": "16564613912059202502"
     },
     "user_tz": -330
    },
    "id": "jRT7neToc_fn",
    "outputId": "a95e9556-8398-44fb-f805-d810f962655c"
   },
   "outputs": [
    {
     "data": {
      "text/html": [
       "<div>\n",
       "<style scoped>\n",
       "    .dataframe tbody tr th:only-of-type {\n",
       "        vertical-align: middle;\n",
       "    }\n",
       "\n",
       "    .dataframe tbody tr th {\n",
       "        vertical-align: top;\n",
       "    }\n",
       "\n",
       "    .dataframe thead th {\n",
       "        text-align: right;\n",
       "    }\n",
       "</style>\n",
       "<table border=\"1\" class=\"dataframe\">\n",
       "  <thead>\n",
       "    <tr style=\"text-align: right;\">\n",
       "      <th>order_purchase_month</th>\n",
       "      <th>1</th>\n",
       "      <th>2</th>\n",
       "      <th>3</th>\n",
       "      <th>4</th>\n",
       "      <th>5</th>\n",
       "      <th>6</th>\n",
       "      <th>7</th>\n",
       "      <th>8</th>\n",
       "      <th>9</th>\n",
       "      <th>10</th>\n",
       "      <th>11</th>\n",
       "      <th>12</th>\n",
       "    </tr>\n",
       "    <tr>\n",
       "      <th>order_purchase_year</th>\n",
       "      <th></th>\n",
       "      <th></th>\n",
       "      <th></th>\n",
       "      <th></th>\n",
       "      <th></th>\n",
       "      <th></th>\n",
       "      <th></th>\n",
       "      <th></th>\n",
       "      <th></th>\n",
       "      <th></th>\n",
       "      <th></th>\n",
       "      <th></th>\n",
       "    </tr>\n",
       "  </thead>\n",
       "  <tbody>\n",
       "    <tr>\n",
       "      <th>2017</th>\n",
       "      <td>955</td>\n",
       "      <td>1951</td>\n",
       "      <td>3000</td>\n",
       "      <td>2684</td>\n",
       "      <td>4136</td>\n",
       "      <td>3583</td>\n",
       "      <td>4519</td>\n",
       "      <td>4910</td>\n",
       "      <td>4831</td>\n",
       "      <td>5322</td>\n",
       "      <td>8665</td>\n",
       "      <td>6308</td>\n",
       "    </tr>\n",
       "    <tr>\n",
       "      <th>2018</th>\n",
       "      <td>8208</td>\n",
       "      <td>7672</td>\n",
       "      <td>8217</td>\n",
       "      <td>7975</td>\n",
       "      <td>7925</td>\n",
       "      <td>7078</td>\n",
       "      <td>7092</td>\n",
       "      <td>7248</td>\n",
       "      <td>0</td>\n",
       "      <td>0</td>\n",
       "      <td>0</td>\n",
       "      <td>0</td>\n",
       "    </tr>\n",
       "  </tbody>\n",
       "</table>\n",
       "</div>"
      ],
      "text/plain": [
       "order_purchase_month    1     2     3     4     5     6     7     8     9   \\\n",
       "order_purchase_year                                                          \n",
       "2017                   955  1951  3000  2684  4136  3583  4519  4910  4831   \n",
       "2018                  8208  7672  8217  7975  7925  7078  7092  7248     0   \n",
       "\n",
       "order_purchase_month    10    11    12  \n",
       "order_purchase_year                     \n",
       "2017                  5322  8665  6308  \n",
       "2018                     0     0     0  "
      ]
     },
     "execution_count": 128,
     "metadata": {
      "tags": []
     },
     "output_type": "execute_result"
    }
   ],
   "source": [
    "# There is only 1 order in the month year - 2016-12 with total sales 10.90. Hence removing year 2016.\n",
    "olist_order_date = olist_order_date.drop(olist_order_date[olist_order_date['Month_Year'].apply(lambda x: x[:4] == '2016')].index).reset_index(drop=True)\n",
    "pd.crosstab(olist_order_date['order_purchase_year'],olist_order_date['order_purchase_month']).sort_index(1)"
   ]
  },
  {
   "cell_type": "code",
   "execution_count": 129,
   "metadata": {
    "colab": {
     "base_uri": "https://localhost:8080/"
    },
    "executionInfo": {
     "elapsed": 686,
     "status": "ok",
     "timestamp": 1613233933942,
     "user": {
      "displayName": "Arun rajan",
      "photoUrl": "https://lh3.googleusercontent.com/a-/AOh14GhKlJD7-lRzdBpsXXKX99vweYs9dgDO8xHZt7wz0g=s64",
      "userId": "16564613912059202502"
     },
     "user_tz": -330
    },
    "id": "lG_6T_QykHJ5",
    "outputId": "9a4cc5b3-cb6f-4319-e32f-0a475db4c080"
   },
   "outputs": [
    {
     "data": {
      "text/plain": [
       "17273"
      ]
     },
     "execution_count": 129,
     "metadata": {
      "tags": []
     },
     "output_type": "execute_result"
    }
   ],
   "source": [
    "products_in_2017 = monthly_sales_per_prod_2017.product_id.unique()\n",
    "olist_2018_remvd_prod = olist_order_date[olist_order_date.product_id.isin(products_in_2017)]\n",
    "olist_2018_remvd_prod.product_id.nunique()"
   ]
  },
  {
   "cell_type": "code",
   "execution_count": 130,
   "metadata": {
    "colab": {
     "base_uri": "https://localhost:8080/",
     "height": 142
    },
    "executionInfo": {
     "elapsed": 707,
     "status": "ok",
     "timestamp": 1613233935596,
     "user": {
      "displayName": "Arun rajan",
      "photoUrl": "https://lh3.googleusercontent.com/a-/AOh14GhKlJD7-lRzdBpsXXKX99vweYs9dgDO8xHZt7wz0g=s64",
      "userId": "16564613912059202502"
     },
     "user_tz": -330
    },
    "id": "odKvpBf97bwz",
    "outputId": "4d1f3213-2257-46bb-879b-4390606a64f4"
   },
   "outputs": [
    {
     "data": {
      "text/html": [
       "<div>\n",
       "<style scoped>\n",
       "    .dataframe tbody tr th:only-of-type {\n",
       "        vertical-align: middle;\n",
       "    }\n",
       "\n",
       "    .dataframe tbody tr th {\n",
       "        vertical-align: top;\n",
       "    }\n",
       "\n",
       "    .dataframe thead th {\n",
       "        text-align: right;\n",
       "    }\n",
       "</style>\n",
       "<table border=\"1\" class=\"dataframe\">\n",
       "  <thead>\n",
       "    <tr style=\"text-align: right;\">\n",
       "      <th>order_purchase_month</th>\n",
       "      <th>1</th>\n",
       "      <th>2</th>\n",
       "      <th>3</th>\n",
       "      <th>4</th>\n",
       "      <th>5</th>\n",
       "      <th>6</th>\n",
       "      <th>7</th>\n",
       "      <th>8</th>\n",
       "      <th>9</th>\n",
       "      <th>10</th>\n",
       "      <th>11</th>\n",
       "      <th>12</th>\n",
       "    </tr>\n",
       "    <tr>\n",
       "      <th>order_purchase_year</th>\n",
       "      <th></th>\n",
       "      <th></th>\n",
       "      <th></th>\n",
       "      <th></th>\n",
       "      <th></th>\n",
       "      <th></th>\n",
       "      <th></th>\n",
       "      <th></th>\n",
       "      <th></th>\n",
       "      <th></th>\n",
       "      <th></th>\n",
       "      <th></th>\n",
       "    </tr>\n",
       "  </thead>\n",
       "  <tbody>\n",
       "    <tr>\n",
       "      <th>2017</th>\n",
       "      <td>955</td>\n",
       "      <td>1951</td>\n",
       "      <td>3000</td>\n",
       "      <td>2684</td>\n",
       "      <td>4136</td>\n",
       "      <td>3583</td>\n",
       "      <td>4519</td>\n",
       "      <td>4910</td>\n",
       "      <td>4831</td>\n",
       "      <td>5322</td>\n",
       "      <td>8665</td>\n",
       "      <td>6308</td>\n",
       "    </tr>\n",
       "    <tr>\n",
       "      <th>2018</th>\n",
       "      <td>5460</td>\n",
       "      <td>4394</td>\n",
       "      <td>4470</td>\n",
       "      <td>3557</td>\n",
       "      <td>3108</td>\n",
       "      <td>2362</td>\n",
       "      <td>2157</td>\n",
       "      <td>1922</td>\n",
       "      <td>0</td>\n",
       "      <td>0</td>\n",
       "      <td>0</td>\n",
       "      <td>0</td>\n",
       "    </tr>\n",
       "  </tbody>\n",
       "</table>\n",
       "</div>"
      ],
      "text/plain": [
       "order_purchase_month    1     2     3     4     5     6     7     8     9   \\\n",
       "order_purchase_year                                                          \n",
       "2017                   955  1951  3000  2684  4136  3583  4519  4910  4831   \n",
       "2018                  5460  4394  4470  3557  3108  2362  2157  1922     0   \n",
       "\n",
       "order_purchase_month    10    11    12  \n",
       "order_purchase_year                     \n",
       "2017                  5322  8665  6308  \n",
       "2018                     0     0     0  "
      ]
     },
     "execution_count": 130,
     "metadata": {
      "tags": []
     },
     "output_type": "execute_result"
    }
   ],
   "source": [
    "pd.crosstab(olist_2018_remvd_prod['order_purchase_year'],olist_2018_remvd_prod['order_purchase_month']).sort_index(1)"
   ]
  },
  {
   "cell_type": "code",
   "execution_count": 131,
   "metadata": {
    "colab": {
     "base_uri": "https://localhost:8080/"
    },
    "executionInfo": {
     "elapsed": 930,
     "status": "ok",
     "timestamp": 1613233937469,
     "user": {
      "displayName": "Arun rajan",
      "photoUrl": "https://lh3.googleusercontent.com/a-/AOh14GhKlJD7-lRzdBpsXXKX99vweYs9dgDO8xHZt7wz0g=s64",
      "userId": "16564613912059202502"
     },
     "user_tz": -330
    },
    "id": "OMv93V-YFYmC",
    "outputId": "dac524c2-80c3-4fea-eff3-ce1383e863c9"
   },
   "outputs": [
    {
     "data": {
      "text/plain": [
       "20495"
      ]
     },
     "execution_count": 131,
     "metadata": {
      "tags": []
     },
     "output_type": "execute_result"
    }
   ],
   "source": [
    "products_in_2018 = monthly_sales_per_prod_2018.product_id.unique()\n",
    "olist_2018_new_prod = olist_order_date[olist_order_date.product_id.isin(products_in_2018)]\n",
    "olist_2018_new_prod.product_id.nunique()"
   ]
  },
  {
   "cell_type": "code",
   "execution_count": 132,
   "metadata": {
    "colab": {
     "base_uri": "https://localhost:8080/",
     "height": 142
    },
    "executionInfo": {
     "elapsed": 1029,
     "status": "ok",
     "timestamp": 1613233939140,
     "user": {
      "displayName": "Arun rajan",
      "photoUrl": "https://lh3.googleusercontent.com/a-/AOh14GhKlJD7-lRzdBpsXXKX99vweYs9dgDO8xHZt7wz0g=s64",
      "userId": "16564613912059202502"
     },
     "user_tz": -330
    },
    "id": "nLNC33GIHAJw",
    "outputId": "115d0b8e-45d5-4c0d-cf3f-5ddbd1d72194"
   },
   "outputs": [
    {
     "data": {
      "text/html": [
       "<div>\n",
       "<style scoped>\n",
       "    .dataframe tbody tr th:only-of-type {\n",
       "        vertical-align: middle;\n",
       "    }\n",
       "\n",
       "    .dataframe tbody tr th {\n",
       "        vertical-align: top;\n",
       "    }\n",
       "\n",
       "    .dataframe thead th {\n",
       "        text-align: right;\n",
       "    }\n",
       "</style>\n",
       "<table border=\"1\" class=\"dataframe\">\n",
       "  <thead>\n",
       "    <tr style=\"text-align: right;\">\n",
       "      <th>order_purchase_month</th>\n",
       "      <th>1</th>\n",
       "      <th>2</th>\n",
       "      <th>3</th>\n",
       "      <th>4</th>\n",
       "      <th>5</th>\n",
       "      <th>6</th>\n",
       "      <th>7</th>\n",
       "      <th>8</th>\n",
       "      <th>9</th>\n",
       "      <th>10</th>\n",
       "      <th>11</th>\n",
       "      <th>12</th>\n",
       "    </tr>\n",
       "    <tr>\n",
       "      <th>order_purchase_year</th>\n",
       "      <th></th>\n",
       "      <th></th>\n",
       "      <th></th>\n",
       "      <th></th>\n",
       "      <th></th>\n",
       "      <th></th>\n",
       "      <th></th>\n",
       "      <th></th>\n",
       "      <th></th>\n",
       "      <th></th>\n",
       "      <th></th>\n",
       "      <th></th>\n",
       "    </tr>\n",
       "  </thead>\n",
       "  <tbody>\n",
       "    <tr>\n",
       "      <th>2017</th>\n",
       "      <td>249</td>\n",
       "      <td>577</td>\n",
       "      <td>998</td>\n",
       "      <td>983</td>\n",
       "      <td>1562</td>\n",
       "      <td>1597</td>\n",
       "      <td>2140</td>\n",
       "      <td>2263</td>\n",
       "      <td>2517</td>\n",
       "      <td>3051</td>\n",
       "      <td>5371</td>\n",
       "      <td>4366</td>\n",
       "    </tr>\n",
       "    <tr>\n",
       "      <th>2018</th>\n",
       "      <td>8208</td>\n",
       "      <td>7672</td>\n",
       "      <td>8217</td>\n",
       "      <td>7975</td>\n",
       "      <td>7925</td>\n",
       "      <td>7078</td>\n",
       "      <td>7092</td>\n",
       "      <td>7248</td>\n",
       "      <td>0</td>\n",
       "      <td>0</td>\n",
       "      <td>0</td>\n",
       "      <td>0</td>\n",
       "    </tr>\n",
       "  </tbody>\n",
       "</table>\n",
       "</div>"
      ],
      "text/plain": [
       "order_purchase_month    1     2     3     4     5     6     7     8     9   \\\n",
       "order_purchase_year                                                          \n",
       "2017                   249   577   998   983  1562  1597  2140  2263  2517   \n",
       "2018                  8208  7672  8217  7975  7925  7078  7092  7248     0   \n",
       "\n",
       "order_purchase_month    10    11    12  \n",
       "order_purchase_year                     \n",
       "2017                  3051  5371  4366  \n",
       "2018                     0     0     0  "
      ]
     },
     "execution_count": 132,
     "metadata": {
      "tags": []
     },
     "output_type": "execute_result"
    }
   ],
   "source": [
    "pd.crosstab(olist_2018_new_prod['order_purchase_year'],olist_2018_new_prod['order_purchase_month']).sort_index(1)"
   ]
  },
  {
   "cell_type": "code",
   "execution_count": 177,
   "metadata": {
    "colab": {
     "base_uri": "https://localhost:8080/",
     "height": 224
    },
    "executionInfo": {
     "elapsed": 805,
     "status": "ok",
     "timestamp": 1613235446971,
     "user": {
      "displayName": "Arun rajan",
      "photoUrl": "https://lh3.googleusercontent.com/a-/AOh14GhKlJD7-lRzdBpsXXKX99vweYs9dgDO8xHZt7wz0g=s64",
      "userId": "16564613912059202502"
     },
     "user_tz": -330
    },
    "id": "gNUl914rQfC6",
    "outputId": "a299c7ac-0c34-401d-ac81-549a91ddc90c"
   },
   "outputs": [
    {
     "data": {
      "text/html": [
       "<div>\n",
       "<style scoped>\n",
       "    .dataframe tbody tr th:only-of-type {\n",
       "        vertical-align: middle;\n",
       "    }\n",
       "\n",
       "    .dataframe tbody tr th {\n",
       "        vertical-align: top;\n",
       "    }\n",
       "\n",
       "    .dataframe thead th {\n",
       "        text-align: right;\n",
       "    }\n",
       "</style>\n",
       "<table border=\"1\" class=\"dataframe\">\n",
       "  <thead>\n",
       "    <tr style=\"text-align: right;\">\n",
       "      <th></th>\n",
       "      <th>order_id</th>\n",
       "      <th>order_item_id</th>\n",
       "      <th>product_id</th>\n",
       "      <th>seller_id</th>\n",
       "      <th>shipping_limit_date</th>\n",
       "      <th>price</th>\n",
       "      <th>freight_value</th>\n",
       "      <th>order_purchase_timestamp</th>\n",
       "      <th>order_purchase_year</th>\n",
       "      <th>order_purchase_month</th>\n",
       "      <th>order_purchase_date</th>\n",
       "      <th>order_purchase_day</th>\n",
       "      <th>order_purchase_week</th>\n",
       "      <th>order_purchase_hour</th>\n",
       "      <th>Month_Year</th>\n",
       "    </tr>\n",
       "  </thead>\n",
       "  <tbody>\n",
       "    <tr>\n",
       "      <th>0</th>\n",
       "      <td>00010242fe8c5a6d1ba2dd792cb16214</td>\n",
       "      <td>1</td>\n",
       "      <td>4244733e06e7ecb4970a6e2683c13e61</td>\n",
       "      <td>48436dade18ac8b2bce089ec2a041202</td>\n",
       "      <td>2017-09-19 09:45:35</td>\n",
       "      <td>58.90</td>\n",
       "      <td>13.29</td>\n",
       "      <td>2017-09-13 08:59:02</td>\n",
       "      <td>2017</td>\n",
       "      <td>9</td>\n",
       "      <td>2017-09-13</td>\n",
       "      <td>13</td>\n",
       "      <td>37</td>\n",
       "      <td>8</td>\n",
       "      <td>2017-09</td>\n",
       "    </tr>\n",
       "    <tr>\n",
       "      <th>1</th>\n",
       "      <td>00018f77f2f0320c557190d7a144bdd3</td>\n",
       "      <td>1</td>\n",
       "      <td>e5f2d52b802189ee658865ca93d83a8f</td>\n",
       "      <td>dd7ddc04e1b6c2c614352b383efe2d36</td>\n",
       "      <td>2017-05-03 11:05:13</td>\n",
       "      <td>239.90</td>\n",
       "      <td>19.93</td>\n",
       "      <td>2017-04-26 10:53:06</td>\n",
       "      <td>2017</td>\n",
       "      <td>4</td>\n",
       "      <td>2017-04-26</td>\n",
       "      <td>26</td>\n",
       "      <td>17</td>\n",
       "      <td>10</td>\n",
       "      <td>2017-04</td>\n",
       "    </tr>\n",
       "    <tr>\n",
       "      <th>2</th>\n",
       "      <td>000229ec398224ef6ca0657da4fc703e</td>\n",
       "      <td>1</td>\n",
       "      <td>c777355d18b72b67abbeef9df44fd0fd</td>\n",
       "      <td>5b51032eddd242adc84c38acab88f23d</td>\n",
       "      <td>2018-01-18 14:48:30</td>\n",
       "      <td>199.00</td>\n",
       "      <td>17.87</td>\n",
       "      <td>2018-01-14 14:33:31</td>\n",
       "      <td>2018</td>\n",
       "      <td>1</td>\n",
       "      <td>2018-01-14</td>\n",
       "      <td>14</td>\n",
       "      <td>2</td>\n",
       "      <td>14</td>\n",
       "      <td>2018-01</td>\n",
       "    </tr>\n",
       "    <tr>\n",
       "      <th>3</th>\n",
       "      <td>00024acbcdf0a6daa1e931b038114c75</td>\n",
       "      <td>1</td>\n",
       "      <td>7634da152a4610f1595efa32f14722fc</td>\n",
       "      <td>9d7a1d34a5052409006425275ba1c2b4</td>\n",
       "      <td>2018-08-15 10:10:18</td>\n",
       "      <td>12.99</td>\n",
       "      <td>12.79</td>\n",
       "      <td>2018-08-08 10:00:35</td>\n",
       "      <td>2018</td>\n",
       "      <td>8</td>\n",
       "      <td>2018-08-08</td>\n",
       "      <td>8</td>\n",
       "      <td>32</td>\n",
       "      <td>10</td>\n",
       "      <td>2018-08</td>\n",
       "    </tr>\n",
       "    <tr>\n",
       "      <th>4</th>\n",
       "      <td>00042b26cf59d7ce69dfabb4e55b4fd9</td>\n",
       "      <td>1</td>\n",
       "      <td>ac6c3623068f30de03045865e4e10089</td>\n",
       "      <td>df560393f3a51e74553ab94004ba5c87</td>\n",
       "      <td>2017-02-13 13:57:51</td>\n",
       "      <td>199.90</td>\n",
       "      <td>18.14</td>\n",
       "      <td>2017-02-04 13:57:51</td>\n",
       "      <td>2017</td>\n",
       "      <td>2</td>\n",
       "      <td>2017-02-04</td>\n",
       "      <td>4</td>\n",
       "      <td>5</td>\n",
       "      <td>13</td>\n",
       "      <td>2017-02</td>\n",
       "    </tr>\n",
       "  </tbody>\n",
       "</table>\n",
       "</div>"
      ],
      "text/plain": [
       "                           order_id  order_item_id  \\\n",
       "0  00010242fe8c5a6d1ba2dd792cb16214              1   \n",
       "1  00018f77f2f0320c557190d7a144bdd3              1   \n",
       "2  000229ec398224ef6ca0657da4fc703e              1   \n",
       "3  00024acbcdf0a6daa1e931b038114c75              1   \n",
       "4  00042b26cf59d7ce69dfabb4e55b4fd9              1   \n",
       "\n",
       "                         product_id                         seller_id  \\\n",
       "0  4244733e06e7ecb4970a6e2683c13e61  48436dade18ac8b2bce089ec2a041202   \n",
       "1  e5f2d52b802189ee658865ca93d83a8f  dd7ddc04e1b6c2c614352b383efe2d36   \n",
       "2  c777355d18b72b67abbeef9df44fd0fd  5b51032eddd242adc84c38acab88f23d   \n",
       "3  7634da152a4610f1595efa32f14722fc  9d7a1d34a5052409006425275ba1c2b4   \n",
       "4  ac6c3623068f30de03045865e4e10089  df560393f3a51e74553ab94004ba5c87   \n",
       "\n",
       "   shipping_limit_date   price  freight_value order_purchase_timestamp  \\\n",
       "0  2017-09-19 09:45:35   58.90          13.29      2017-09-13 08:59:02   \n",
       "1  2017-05-03 11:05:13  239.90          19.93      2017-04-26 10:53:06   \n",
       "2  2018-01-18 14:48:30  199.00          17.87      2018-01-14 14:33:31   \n",
       "3  2018-08-15 10:10:18   12.99          12.79      2018-08-08 10:00:35   \n",
       "4  2017-02-13 13:57:51  199.90          18.14      2017-02-04 13:57:51   \n",
       "\n",
       "   order_purchase_year  order_purchase_month order_purchase_date  \\\n",
       "0                 2017                     9          2017-09-13   \n",
       "1                 2017                     4          2017-04-26   \n",
       "2                 2018                     1          2018-01-14   \n",
       "3                 2018                     8          2018-08-08   \n",
       "4                 2017                     2          2017-02-04   \n",
       "\n",
       "   order_purchase_day  order_purchase_week  order_purchase_hour Month_Year  \n",
       "0                  13                   37                    8    2017-09  \n",
       "1                  26                   17                   10    2017-04  \n",
       "2                  14                    2                   14    2018-01  \n",
       "3                   8                   32                   10    2018-08  \n",
       "4                   4                    5                   13    2017-02  "
      ]
     },
     "execution_count": 177,
     "metadata": {
      "tags": []
     },
     "output_type": "execute_result"
    }
   ],
   "source": [
    "olist_order_date.head()"
   ]
  },
  {
   "cell_type": "markdown",
   "metadata": {
    "id": "8y_mQKexWjvF"
   },
   "source": [
    "### 1. What is the overall sales trend?"
   ]
  },
  {
   "cell_type": "code",
   "execution_count": 134,
   "metadata": {
    "colab": {
     "base_uri": "https://localhost:8080/",
     "height": 354
    },
    "executionInfo": {
     "elapsed": 1099,
     "status": "ok",
     "timestamp": 1613233956399,
     "user": {
      "displayName": "Arun rajan",
      "photoUrl": "https://lh3.googleusercontent.com/a-/AOh14GhKlJD7-lRzdBpsXXKX99vweYs9dgDO8xHZt7wz0g=s64",
      "userId": "16564613912059202502"
     },
     "user_tz": -330
    },
    "id": "DO0PI41X97vX",
    "outputId": "d187f6e3-f048-4db4-e2b8-750df92203bb"
   },
   "outputs": [
    {
     "data": {
      "image/png": "[encoded data removed]",
      "text/plain": [
       "<Figure size 1440x360 with 1 Axes>"
      ]
     },
     "metadata": {
      "needs_background": "light",
      "tags": []
     },
     "output_type": "display_data"
    }
   ],
   "source": [
    "results = olist_order_date.groupby('Month_Year').sum()\n",
    "months = [month for month, df in olist_order_date.groupby('Month_Year')]\n",
    "plt.figure(figsize=(20,5))\n",
    "plt.xticks(ticks = range(len(months)) ,labels = months, rotation='vertical', size = 8)\n",
    "plt.ylabel('Sales')\n",
    "plt.plot(months,results['price'], color = '#b80045')\n",
    "plt.show()"
   ]
  },
  {
   "cell_type": "markdown",
   "metadata": {
    "id": "yBP4kbZESQpD"
   },
   "source": [
    "- It is understood that there is increase in trend in the series. ie. Total sales is increasing with time.\n",
    "- At certain points there is sudden increase in the monthly sales, the reason could be on a particular month, due to some event, the sales was high."
   ]
  },
  {
   "cell_type": "code",
   "execution_count": 135,
   "metadata": {
    "colab": {
     "base_uri": "https://localhost:8080/",
     "height": 354
    },
    "executionInfo": {
     "elapsed": 1333,
     "status": "ok",
     "timestamp": 1613233959752,
     "user": {
      "displayName": "Arun rajan",
      "photoUrl": "https://lh3.googleusercontent.com/a-/AOh14GhKlJD7-lRzdBpsXXKX99vweYs9dgDO8xHZt7wz0g=s64",
      "userId": "16564613912059202502"
     },
     "user_tz": -330
    },
    "id": "ZyxAbi0s6Q6y",
    "outputId": "1d2f46fb-807e-4b29-c251-1247c5aa36e1"
   },
   "outputs": [
    {
     "data": {
      "image/png": "[encoded data removed]",
      "text/plain": [
       "<Figure size 1440x360 with 1 Axes>"
      ]
     },
     "metadata": {
      "needs_background": "light",
      "tags": []
     },
     "output_type": "display_data"
    }
   ],
   "source": [
    "results1 = olist_2018_remvd_prod.groupby('Month_Year').sum()\n",
    "months1 = [month for month, df in olist_2018_remvd_prod.groupby('Month_Year')]\n",
    "plt.figure(figsize=(20,5))\n",
    "plt.xticks(ticks = range(len(months1)) ,labels = months1, rotation='vertical', size = 8)\n",
    "plt.ylabel('Sales')\n",
    "plt.plot(months1,results1['price'], color = '#b80045')\n",
    "plt.show()"
   ]
  },
  {
   "cell_type": "code",
   "execution_count": 136,
   "metadata": {
    "colab": {
     "base_uri": "https://localhost:8080/",
     "height": 354
    },
    "executionInfo": {
     "elapsed": 1141,
     "status": "ok",
     "timestamp": 1613233964357,
     "user": {
      "displayName": "Arun rajan",
      "photoUrl": "https://lh3.googleusercontent.com/a-/AOh14GhKlJD7-lRzdBpsXXKX99vweYs9dgDO8xHZt7wz0g=s64",
      "userId": "16564613912059202502"
     },
     "user_tz": -330
    },
    "id": "D-JIOR7RIGiH",
    "outputId": "aa7e5210-e8b1-417b-9187-5fdb1d882596"
   },
   "outputs": [
    {
     "data": {
      "image/png": "[encoded data removed]",
      "text/plain": [
       "<Figure size 1440x360 with 1 Axes>"
      ]
     },
     "metadata": {
      "needs_background": "light",
      "tags": []
     },
     "output_type": "display_data"
    }
   ],
   "source": [
    "results1 = olist_2018_new_prod.groupby('Month_Year').sum()\n",
    "months1 = [month for month, df in olist_2018_new_prod.groupby('Month_Year')]\n",
    "plt.figure(figsize=(20,5))\n",
    "plt.xticks(ticks = range(len(months1)) ,labels = months1, rotation='vertical', size = 8)\n",
    "plt.ylabel('Sales')\n",
    "plt.plot(months1,results1['price'], color = '#b80045')\n",
    "plt.show()"
   ]
  },
  {
   "cell_type": "markdown",
   "metadata": {
    "id": "HKpNAEPUWoja"
   },
   "source": [
    "### 2. What is MoM? (Month over month)\n"
   ]
  },
  {
   "cell_type": "code",
   "execution_count": null,
   "metadata": {
    "colab": {
     "base_uri": "https://localhost:8080/",
     "height": 235
    },
    "executionInfo": {
     "elapsed": 67022,
     "status": "ok",
     "timestamp": 1613188191063,
     "user": {
      "displayName": "Madhu Mitha",
      "photoUrl": "https://lh3.googleusercontent.com/a-/AOh14GilVrLV4rmSyx-1NdXGaSuV57NvShgQKjQtdsSKdw=s64",
      "userId": "03733449454036714456"
     },
     "user_tz": -330
    },
    "id": "bFfefJPn_YYK",
    "outputId": "8432219d-6e19-47d7-e992-2a43ea01c3fa"
   },
   "outputs": [
    {
     "data": {
      "text/html": [
       "<div>\n",
       "<style scoped>\n",
       "    .dataframe tbody tr th:only-of-type {\n",
       "        vertical-align: middle;\n",
       "    }\n",
       "\n",
       "    .dataframe tbody tr th {\n",
       "        vertical-align: top;\n",
       "    }\n",
       "\n",
       "    .dataframe thead th {\n",
       "        text-align: right;\n",
       "    }\n",
       "</style>\n",
       "<table border=\"1\" class=\"dataframe\">\n",
       "  <thead>\n",
       "    <tr style=\"text-align: right;\">\n",
       "      <th></th>\n",
       "      <th>Sales</th>\n",
       "    </tr>\n",
       "    <tr>\n",
       "      <th>Month_Year</th>\n",
       "      <th></th>\n",
       "    </tr>\n",
       "  </thead>\n",
       "  <tbody>\n",
       "    <tr>\n",
       "      <th>2017-01</th>\n",
       "      <td>120312.87</td>\n",
       "    </tr>\n",
       "    <tr>\n",
       "      <th>2017-02</th>\n",
       "      <td>247303.02</td>\n",
       "    </tr>\n",
       "    <tr>\n",
       "      <th>2017-03</th>\n",
       "      <td>374344.30</td>\n",
       "    </tr>\n",
       "    <tr>\n",
       "      <th>2017-04</th>\n",
       "      <td>359927.23</td>\n",
       "    </tr>\n",
       "    <tr>\n",
       "      <th>2017-05</th>\n",
       "      <td>506071.14</td>\n",
       "    </tr>\n",
       "  </tbody>\n",
       "</table>\n",
       "</div>"
      ],
      "text/plain": [
       "                Sales\n",
       "Month_Year           \n",
       "2017-01     120312.87\n",
       "2017-02     247303.02\n",
       "2017-03     374344.30\n",
       "2017-04     359927.23\n",
       "2017-05     506071.14"
      ]
     },
     "execution_count": 121,
     "metadata": {
      "tags": []
     },
     "output_type": "execute_result"
    }
   ],
   "source": [
    "MoM_Data = pd.DataFrame(results['price'])\n",
    "MoM_Data.columns = ['Sales']\n",
    "MoM_Data.head()"
   ]
  },
  {
   "cell_type": "code",
   "execution_count": null,
   "metadata": {
    "colab": {
     "base_uri": "https://localhost:8080/",
     "height": 235
    },
    "executionInfo": {
     "elapsed": 67006,
     "status": "ok",
     "timestamp": 1613188191064,
     "user": {
      "displayName": "Madhu Mitha",
      "photoUrl": "https://lh3.googleusercontent.com/a-/AOh14GilVrLV4rmSyx-1NdXGaSuV57NvShgQKjQtdsSKdw=s64",
      "userId": "03733449454036714456"
     },
     "user_tz": -330
    },
    "id": "15bvJm6XXVW4",
    "outputId": "dfc50141-a4bb-4948-d8f9-3894f8a56330"
   },
   "outputs": [
    {
     "data": {
      "text/html": [
       "<div>\n",
       "<style scoped>\n",
       "    .dataframe tbody tr th:only-of-type {\n",
       "        vertical-align: middle;\n",
       "    }\n",
       "\n",
       "    .dataframe tbody tr th {\n",
       "        vertical-align: top;\n",
       "    }\n",
       "\n",
       "    .dataframe thead th {\n",
       "        text-align: right;\n",
       "    }\n",
       "</style>\n",
       "<table border=\"1\" class=\"dataframe\">\n",
       "  <thead>\n",
       "    <tr style=\"text-align: right;\">\n",
       "      <th></th>\n",
       "      <th>Sales</th>\n",
       "      <th>Last_Month</th>\n",
       "    </tr>\n",
       "    <tr>\n",
       "      <th>Month_Year</th>\n",
       "      <th></th>\n",
       "      <th></th>\n",
       "    </tr>\n",
       "  </thead>\n",
       "  <tbody>\n",
       "    <tr>\n",
       "      <th>2017-01</th>\n",
       "      <td>120312.87</td>\n",
       "      <td>854686.33</td>\n",
       "    </tr>\n",
       "    <tr>\n",
       "      <th>2017-02</th>\n",
       "      <td>247303.02</td>\n",
       "      <td>120312.87</td>\n",
       "    </tr>\n",
       "    <tr>\n",
       "      <th>2017-03</th>\n",
       "      <td>374344.30</td>\n",
       "      <td>247303.02</td>\n",
       "    </tr>\n",
       "    <tr>\n",
       "      <th>2017-04</th>\n",
       "      <td>359927.23</td>\n",
       "      <td>374344.30</td>\n",
       "    </tr>\n",
       "    <tr>\n",
       "      <th>2017-05</th>\n",
       "      <td>506071.14</td>\n",
       "      <td>359927.23</td>\n",
       "    </tr>\n",
       "  </tbody>\n",
       "</table>\n",
       "</div>"
      ],
      "text/plain": [
       "                Sales  Last_Month\n",
       "Month_Year                       \n",
       "2017-01     120312.87   854686.33\n",
       "2017-02     247303.02   120312.87\n",
       "2017-03     374344.30   247303.02\n",
       "2017-04     359927.23   374344.30\n",
       "2017-05     506071.14   359927.23"
      ]
     },
     "execution_count": 122,
     "metadata": {
      "tags": []
     },
     "output_type": "execute_result"
    }
   ],
   "source": [
    "MoM_Data['Last_Month'] = np.roll(MoM_Data['Sales'],1)\n",
    "MoM_Data.head()"
   ]
  },
  {
   "cell_type": "code",
   "execution_count": null,
   "metadata": {
    "colab": {
     "base_uri": "https://localhost:8080/",
     "height": 235
    },
    "executionInfo": {
     "elapsed": 66970,
     "status": "ok",
     "timestamp": 1613188191064,
     "user": {
      "displayName": "Madhu Mitha",
      "photoUrl": "https://lh3.googleusercontent.com/a-/AOh14GilVrLV4rmSyx-1NdXGaSuV57NvShgQKjQtdsSKdw=s64",
      "userId": "03733449454036714456"
     },
     "user_tz": -330
    },
    "id": "49DHfUMNXeW0",
    "outputId": "603d44ff-f13c-484b-c3a5-1492b1c05bcd"
   },
   "outputs": [
    {
     "data": {
      "text/html": [
       "<div>\n",
       "<style scoped>\n",
       "    .dataframe tbody tr th:only-of-type {\n",
       "        vertical-align: middle;\n",
       "    }\n",
       "\n",
       "    .dataframe tbody tr th {\n",
       "        vertical-align: top;\n",
       "    }\n",
       "\n",
       "    .dataframe thead th {\n",
       "        text-align: right;\n",
       "    }\n",
       "</style>\n",
       "<table border=\"1\" class=\"dataframe\">\n",
       "  <thead>\n",
       "    <tr style=\"text-align: right;\">\n",
       "      <th></th>\n",
       "      <th>Sales</th>\n",
       "      <th>Last_Month</th>\n",
       "    </tr>\n",
       "    <tr>\n",
       "      <th>Month_Year</th>\n",
       "      <th></th>\n",
       "      <th></th>\n",
       "    </tr>\n",
       "  </thead>\n",
       "  <tbody>\n",
       "    <tr>\n",
       "      <th>2017-02</th>\n",
       "      <td>247303.02</td>\n",
       "      <td>120312.87</td>\n",
       "    </tr>\n",
       "    <tr>\n",
       "      <th>2017-03</th>\n",
       "      <td>374344.30</td>\n",
       "      <td>247303.02</td>\n",
       "    </tr>\n",
       "    <tr>\n",
       "      <th>2017-04</th>\n",
       "      <td>359927.23</td>\n",
       "      <td>374344.30</td>\n",
       "    </tr>\n",
       "    <tr>\n",
       "      <th>2017-05</th>\n",
       "      <td>506071.14</td>\n",
       "      <td>359927.23</td>\n",
       "    </tr>\n",
       "    <tr>\n",
       "      <th>2017-06</th>\n",
       "      <td>433038.60</td>\n",
       "      <td>506071.14</td>\n",
       "    </tr>\n",
       "  </tbody>\n",
       "</table>\n",
       "</div>"
      ],
      "text/plain": [
       "                Sales  Last_Month\n",
       "Month_Year                       \n",
       "2017-02     247303.02   120312.87\n",
       "2017-03     374344.30   247303.02\n",
       "2017-04     359927.23   374344.30\n",
       "2017-05     506071.14   359927.23\n",
       "2017-06     433038.60   506071.14"
      ]
     },
     "execution_count": 123,
     "metadata": {
      "tags": []
     },
     "output_type": "execute_result"
    }
   ],
   "source": [
    "#Now, since the MoM first month cannot be found since we donot have it's previous month value.\n",
    "#By default, python has put the last value in the column and rolled up over there. SO we need to remove that.\n",
    "MoM_Data = MoM_Data.drop(MoM_Data.index[0])\n",
    "MoM_Data.head()"
   ]
  },
  {
   "cell_type": "code",
   "execution_count": null,
   "metadata": {
    "colab": {
     "base_uri": "https://localhost:8080/",
     "height": 235
    },
    "executionInfo": {
     "elapsed": 66952,
     "status": "ok",
     "timestamp": 1613188191065,
     "user": {
      "displayName": "Madhu Mitha",
      "photoUrl": "https://lh3.googleusercontent.com/a-/AOh14GilVrLV4rmSyx-1NdXGaSuV57NvShgQKjQtdsSKdw=s64",
      "userId": "03733449454036714456"
     },
     "user_tz": -330
    },
    "id": "Eb29sbrHXmFe",
    "outputId": "20079206-490a-4e60-97d5-4e3e36b23aff"
   },
   "outputs": [
    {
     "data": {
      "text/html": [
       "<div>\n",
       "<style scoped>\n",
       "    .dataframe tbody tr th:only-of-type {\n",
       "        vertical-align: middle;\n",
       "    }\n",
       "\n",
       "    .dataframe tbody tr th {\n",
       "        vertical-align: top;\n",
       "    }\n",
       "\n",
       "    .dataframe thead th {\n",
       "        text-align: right;\n",
       "    }\n",
       "</style>\n",
       "<table border=\"1\" class=\"dataframe\">\n",
       "  <thead>\n",
       "    <tr style=\"text-align: right;\">\n",
       "      <th></th>\n",
       "      <th>Sales</th>\n",
       "      <th>Last_Month</th>\n",
       "      <th>Growth</th>\n",
       "    </tr>\n",
       "    <tr>\n",
       "      <th>Month_Year</th>\n",
       "      <th></th>\n",
       "      <th></th>\n",
       "      <th></th>\n",
       "    </tr>\n",
       "  </thead>\n",
       "  <tbody>\n",
       "    <tr>\n",
       "      <th>2017-02</th>\n",
       "      <td>247303.02</td>\n",
       "      <td>120312.87</td>\n",
       "      <td>1.055499</td>\n",
       "    </tr>\n",
       "    <tr>\n",
       "      <th>2017-03</th>\n",
       "      <td>374344.30</td>\n",
       "      <td>247303.02</td>\n",
       "      <td>0.513707</td>\n",
       "    </tr>\n",
       "    <tr>\n",
       "      <th>2017-04</th>\n",
       "      <td>359927.23</td>\n",
       "      <td>374344.30</td>\n",
       "      <td>-0.038513</td>\n",
       "    </tr>\n",
       "    <tr>\n",
       "      <th>2017-05</th>\n",
       "      <td>506071.14</td>\n",
       "      <td>359927.23</td>\n",
       "      <td>0.406037</td>\n",
       "    </tr>\n",
       "    <tr>\n",
       "      <th>2017-06</th>\n",
       "      <td>433038.60</td>\n",
       "      <td>506071.14</td>\n",
       "      <td>-0.144313</td>\n",
       "    </tr>\n",
       "  </tbody>\n",
       "</table>\n",
       "</div>"
      ],
      "text/plain": [
       "                Sales  Last_Month    Growth\n",
       "Month_Year                                 \n",
       "2017-02     247303.02   120312.87  1.055499\n",
       "2017-03     374344.30   247303.02  0.513707\n",
       "2017-04     359927.23   374344.30 -0.038513\n",
       "2017-05     506071.14   359927.23  0.406037\n",
       "2017-06     433038.60   506071.14 -0.144313"
      ]
     },
     "execution_count": 124,
     "metadata": {
      "tags": []
     },
     "output_type": "execute_result"
    }
   ],
   "source": [
    "#Calculating MoM Growth for each month\n",
    "MoM_Data['Growth'] = (MoM_Data['Sales']/MoM_Data['Last_Month'])-1\n",
    "MoM_Data.head()"
   ]
  },
  {
   "cell_type": "code",
   "execution_count": null,
   "metadata": {
    "colab": {
     "base_uri": "https://localhost:8080/",
     "height": 204
    },
    "executionInfo": {
     "elapsed": 66937,
     "status": "ok",
     "timestamp": 1613188191066,
     "user": {
      "displayName": "Madhu Mitha",
      "photoUrl": "https://lh3.googleusercontent.com/a-/AOh14GilVrLV4rmSyx-1NdXGaSuV57NvShgQKjQtdsSKdw=s64",
      "userId": "03733449454036714456"
     },
     "user_tz": -330
    },
    "id": "pYSnzgHgYUQj",
    "outputId": "da35f942-0a1c-49a0-a152-85047bbf30dd"
   },
   "outputs": [
    {
     "data": {
      "text/html": [
       "<div>\n",
       "<style scoped>\n",
       "    .dataframe tbody tr th:only-of-type {\n",
       "        vertical-align: middle;\n",
       "    }\n",
       "\n",
       "    .dataframe tbody tr th {\n",
       "        vertical-align: top;\n",
       "    }\n",
       "\n",
       "    .dataframe thead th {\n",
       "        text-align: right;\n",
       "    }\n",
       "</style>\n",
       "<table border=\"1\" class=\"dataframe\">\n",
       "  <thead>\n",
       "    <tr style=\"text-align: right;\">\n",
       "      <th></th>\n",
       "      <th>Growth</th>\n",
       "      <th>Months</th>\n",
       "    </tr>\n",
       "  </thead>\n",
       "  <tbody>\n",
       "    <tr>\n",
       "      <th>0</th>\n",
       "      <td>1.055499</td>\n",
       "      <td>2017-02</td>\n",
       "    </tr>\n",
       "    <tr>\n",
       "      <th>1</th>\n",
       "      <td>0.513707</td>\n",
       "      <td>2017-03</td>\n",
       "    </tr>\n",
       "    <tr>\n",
       "      <th>2</th>\n",
       "      <td>-0.038513</td>\n",
       "      <td>2017-04</td>\n",
       "    </tr>\n",
       "    <tr>\n",
       "      <th>3</th>\n",
       "      <td>0.406037</td>\n",
       "      <td>2017-05</td>\n",
       "    </tr>\n",
       "    <tr>\n",
       "      <th>4</th>\n",
       "      <td>-0.144313</td>\n",
       "      <td>2017-06</td>\n",
       "    </tr>\n",
       "  </tbody>\n",
       "</table>\n",
       "</div>"
      ],
      "text/plain": [
       "     Growth   Months\n",
       "0  1.055499  2017-02\n",
       "1  0.513707  2017-03\n",
       "2 -0.038513  2017-04\n",
       "3  0.406037  2017-05\n",
       "4 -0.144313  2017-06"
      ]
     },
     "execution_count": 125,
     "metadata": {
      "tags": []
     },
     "output_type": "execute_result"
    }
   ],
   "source": [
    "##Plotting MoM Growth\n",
    "MoM_plot = MoM_Data.drop(columns = [\"Sales\", \"Last_Month\"])\n",
    "MoM_plot['Months'] = MoM_plot.index\n",
    "MoM_plot.reset_index(drop=True, inplace=True)\n",
    "MoM_plot.head()"
   ]
  },
  {
   "cell_type": "code",
   "execution_count": null,
   "metadata": {
    "colab": {
     "base_uri": "https://localhost:8080/",
     "height": 438
    },
    "executionInfo": {
     "elapsed": 67590,
     "status": "ok",
     "timestamp": 1613188191735,
     "user": {
      "displayName": "Madhu Mitha",
      "photoUrl": "https://lh3.googleusercontent.com/a-/AOh14GilVrLV4rmSyx-1NdXGaSuV57NvShgQKjQtdsSKdw=s64",
      "userId": "03733449454036714456"
     },
     "user_tz": -330
    },
    "id": "CBWp1etGYh_m",
    "outputId": "5fb3c6d9-de01-4d5b-d788-022afd700f8b"
   },
   "outputs": [
    {
     "data": {
      "image/png": "[encoded data removed]",
      "text/plain": [
       "<Figure size 1080x360 with 1 Axes>"
      ]
     },
     "metadata": {
      "needs_background": "light",
      "tags": []
     },
     "output_type": "display_data"
    }
   ],
   "source": [
    "plt.figure(figsize=(15,5))\n",
    "plt.bar(MoM_plot['Months'],MoM_plot['Growth']*100, color = '#b80045')\n",
    "plt.xticks(MoM_plot['Months'], rotation='vertical', size = 8)\n",
    "plt.ylabel('% Growth')\n",
    "plt.xlabel('Month')\n",
    "plt.title(\"\\n MoM Growth Over Time \\n\", size=25)\n",
    "plt.show()"
   ]
  },
  {
   "cell_type": "markdown",
   "metadata": {
    "id": "hhRY4E0CfEv4"
   },
   "source": [
    "### 3. Which are the Top 10 products by sales?"
   ]
  },
  {
   "cell_type": "code",
   "execution_count": null,
   "metadata": {
    "id": "N_QZUXdxYsWq"
   },
   "outputs": [],
   "source": [
    "olist_prod = olist_products.merge(olist_products_translation,on='product_category_name').drop('product_category_name',1)"
   ]
  },
  {
   "cell_type": "code",
   "execution_count": null,
   "metadata": {
    "colab": {
     "base_uri": "https://localhost:8080/",
     "height": 224
    },
    "executionInfo": {
     "elapsed": 67574,
     "status": "ok",
     "timestamp": 1613188191737,
     "user": {
      "displayName": "Madhu Mitha",
      "photoUrl": "https://lh3.googleusercontent.com/a-/AOh14GilVrLV4rmSyx-1NdXGaSuV57NvShgQKjQtdsSKdw=s64",
      "userId": "03733449454036714456"
     },
     "user_tz": -330
    },
    "id": "zSnp9vaPgFX9",
    "outputId": "465b46dc-6143-490c-d78a-960b1e58eb18"
   },
   "outputs": [
    {
     "data": {
      "text/html": [
       "<div>\n",
       "<style scoped>\n",
       "    .dataframe tbody tr th:only-of-type {\n",
       "        vertical-align: middle;\n",
       "    }\n",
       "\n",
       "    .dataframe tbody tr th {\n",
       "        vertical-align: top;\n",
       "    }\n",
       "\n",
       "    .dataframe thead th {\n",
       "        text-align: right;\n",
       "    }\n",
       "</style>\n",
       "<table border=\"1\" class=\"dataframe\">\n",
       "  <thead>\n",
       "    <tr style=\"text-align: right;\">\n",
       "      <th></th>\n",
       "      <th>product_id</th>\n",
       "      <th>product_name_lenght</th>\n",
       "      <th>product_description_lenght</th>\n",
       "      <th>product_photos_qty</th>\n",
       "      <th>product_weight_g</th>\n",
       "      <th>product_length_cm</th>\n",
       "      <th>product_height_cm</th>\n",
       "      <th>product_width_cm</th>\n",
       "      <th>product_category_name_english</th>\n",
       "    </tr>\n",
       "  </thead>\n",
       "  <tbody>\n",
       "    <tr>\n",
       "      <th>0</th>\n",
       "      <td>1e9e8ef04dbcff4541ed26657ea517e5</td>\n",
       "      <td>40.0</td>\n",
       "      <td>287.0</td>\n",
       "      <td>1.0</td>\n",
       "      <td>225.0</td>\n",
       "      <td>16.0</td>\n",
       "      <td>10.0</td>\n",
       "      <td>14.0</td>\n",
       "      <td>perfumery</td>\n",
       "    </tr>\n",
       "    <tr>\n",
       "      <th>1</th>\n",
       "      <td>6a2fb4dd53d2cdb88e0432f1284a004c</td>\n",
       "      <td>39.0</td>\n",
       "      <td>346.0</td>\n",
       "      <td>2.0</td>\n",
       "      <td>400.0</td>\n",
       "      <td>27.0</td>\n",
       "      <td>5.0</td>\n",
       "      <td>20.0</td>\n",
       "      <td>perfumery</td>\n",
       "    </tr>\n",
       "    <tr>\n",
       "      <th>2</th>\n",
       "      <td>0d009643171aee696f4733340bc2fdd0</td>\n",
       "      <td>52.0</td>\n",
       "      <td>150.0</td>\n",
       "      <td>1.0</td>\n",
       "      <td>422.0</td>\n",
       "      <td>21.0</td>\n",
       "      <td>16.0</td>\n",
       "      <td>18.0</td>\n",
       "      <td>perfumery</td>\n",
       "    </tr>\n",
       "    <tr>\n",
       "      <th>3</th>\n",
       "      <td>b1eae565a61935e0011ee7682fef9dc9</td>\n",
       "      <td>49.0</td>\n",
       "      <td>460.0</td>\n",
       "      <td>2.0</td>\n",
       "      <td>267.0</td>\n",
       "      <td>17.0</td>\n",
       "      <td>13.0</td>\n",
       "      <td>17.0</td>\n",
       "      <td>perfumery</td>\n",
       "    </tr>\n",
       "    <tr>\n",
       "      <th>4</th>\n",
       "      <td>8da90b37f0fb171b4877c124f965b1f6</td>\n",
       "      <td>56.0</td>\n",
       "      <td>733.0</td>\n",
       "      <td>3.0</td>\n",
       "      <td>377.0</td>\n",
       "      <td>18.0</td>\n",
       "      <td>13.0</td>\n",
       "      <td>15.0</td>\n",
       "      <td>perfumery</td>\n",
       "    </tr>\n",
       "  </tbody>\n",
       "</table>\n",
       "</div>"
      ],
      "text/plain": [
       "                         product_id  product_name_lenght  \\\n",
       "0  1e9e8ef04dbcff4541ed26657ea517e5                 40.0   \n",
       "1  6a2fb4dd53d2cdb88e0432f1284a004c                 39.0   \n",
       "2  0d009643171aee696f4733340bc2fdd0                 52.0   \n",
       "3  b1eae565a61935e0011ee7682fef9dc9                 49.0   \n",
       "4  8da90b37f0fb171b4877c124f965b1f6                 56.0   \n",
       "\n",
       "   product_description_lenght  product_photos_qty  product_weight_g  \\\n",
       "0                       287.0                 1.0             225.0   \n",
       "1                       346.0                 2.0             400.0   \n",
       "2                       150.0                 1.0             422.0   \n",
       "3                       460.0                 2.0             267.0   \n",
       "4                       733.0                 3.0             377.0   \n",
       "\n",
       "   product_length_cm  product_height_cm  product_width_cm  \\\n",
       "0               16.0               10.0              14.0   \n",
       "1               27.0                5.0              20.0   \n",
       "2               21.0               16.0              18.0   \n",
       "3               17.0               13.0              17.0   \n",
       "4               18.0               13.0              15.0   \n",
       "\n",
       "  product_category_name_english  \n",
       "0                     perfumery  \n",
       "1                     perfumery  \n",
       "2                     perfumery  \n",
       "3                     perfumery  \n",
       "4                     perfumery  "
      ]
     },
     "execution_count": 128,
     "metadata": {
      "tags": []
     },
     "output_type": "execute_result"
    }
   ],
   "source": [
    "olist_prod.head()"
   ]
  },
  {
   "cell_type": "code",
   "execution_count": null,
   "metadata": {
    "colab": {
     "base_uri": "https://localhost:8080/",
     "height": 359
    },
    "executionInfo": {
     "elapsed": 67559,
     "status": "ok",
     "timestamp": 1613188191738,
     "user": {
      "displayName": "Madhu Mitha",
      "photoUrl": "https://lh3.googleusercontent.com/a-/AOh14GilVrLV4rmSyx-1NdXGaSuV57NvShgQKjQtdsSKdw=s64",
      "userId": "03733449454036714456"
     },
     "user_tz": -330
    },
    "id": "xqlxfs-rgG_d",
    "outputId": "370ac914-0e22-4c58-9368-f7723a333478"
   },
   "outputs": [
    {
     "data": {
      "text/html": [
       "<div>\n",
       "<style scoped>\n",
       "    .dataframe tbody tr th:only-of-type {\n",
       "        vertical-align: middle;\n",
       "    }\n",
       "\n",
       "    .dataframe tbody tr th {\n",
       "        vertical-align: top;\n",
       "    }\n",
       "\n",
       "    .dataframe thead th {\n",
       "        text-align: right;\n",
       "    }\n",
       "</style>\n",
       "<table border=\"1\" class=\"dataframe\">\n",
       "  <thead>\n",
       "    <tr style=\"text-align: right;\">\n",
       "      <th></th>\n",
       "      <th>product_id</th>\n",
       "      <th>price</th>\n",
       "      <th>product_category_name_english</th>\n",
       "    </tr>\n",
       "  </thead>\n",
       "  <tbody>\n",
       "    <tr>\n",
       "      <th>0</th>\n",
       "      <td>bb50f2e236e5eea0100680137654686c</td>\n",
       "      <td>63885.00</td>\n",
       "      <td>health_beauty</td>\n",
       "    </tr>\n",
       "    <tr>\n",
       "      <th>1</th>\n",
       "      <td>6cdd53843498f92890544667809f1595</td>\n",
       "      <td>54730.20</td>\n",
       "      <td>health_beauty</td>\n",
       "    </tr>\n",
       "    <tr>\n",
       "      <th>2</th>\n",
       "      <td>d6160fb7873f184099d9bc95e30376af</td>\n",
       "      <td>48899.34</td>\n",
       "      <td>computers</td>\n",
       "    </tr>\n",
       "    <tr>\n",
       "      <th>3</th>\n",
       "      <td>d1c427060a0f73f6b889a5c7c61f2ac4</td>\n",
       "      <td>47214.51</td>\n",
       "      <td>computers_accessories</td>\n",
       "    </tr>\n",
       "    <tr>\n",
       "      <th>4</th>\n",
       "      <td>99a4788cb24856965c36a24e339b6058</td>\n",
       "      <td>43025.56</td>\n",
       "      <td>bed_bath_table</td>\n",
       "    </tr>\n",
       "    <tr>\n",
       "      <th>5</th>\n",
       "      <td>3dd2a17168ec895c781a9191c1e95ad7</td>\n",
       "      <td>41082.60</td>\n",
       "      <td>computers_accessories</td>\n",
       "    </tr>\n",
       "    <tr>\n",
       "      <th>6</th>\n",
       "      <td>25c38557cf793876c5abdd5931f922db</td>\n",
       "      <td>38907.32</td>\n",
       "      <td>baby</td>\n",
       "    </tr>\n",
       "    <tr>\n",
       "      <th>7</th>\n",
       "      <td>5f504b3a1c75b73d6151be81eb05bdc9</td>\n",
       "      <td>37733.90</td>\n",
       "      <td>cool_stuff</td>\n",
       "    </tr>\n",
       "    <tr>\n",
       "      <th>8</th>\n",
       "      <td>53b36df67ebb7c41585e8d54d6772e08</td>\n",
       "      <td>37683.42</td>\n",
       "      <td>watches_gifts</td>\n",
       "    </tr>\n",
       "    <tr>\n",
       "      <th>9</th>\n",
       "      <td>aca2eb7d00ea1a7b8ebd4e68314663af</td>\n",
       "      <td>37608.90</td>\n",
       "      <td>furniture_decor</td>\n",
       "    </tr>\n",
       "  </tbody>\n",
       "</table>\n",
       "</div>"
      ],
      "text/plain": [
       "                         product_id     price product_category_name_english\n",
       "0  bb50f2e236e5eea0100680137654686c  63885.00                 health_beauty\n",
       "1  6cdd53843498f92890544667809f1595  54730.20                 health_beauty\n",
       "2  d6160fb7873f184099d9bc95e30376af  48899.34                     computers\n",
       "3  d1c427060a0f73f6b889a5c7c61f2ac4  47214.51         computers_accessories\n",
       "4  99a4788cb24856965c36a24e339b6058  43025.56                bed_bath_table\n",
       "5  3dd2a17168ec895c781a9191c1e95ad7  41082.60         computers_accessories\n",
       "6  25c38557cf793876c5abdd5931f922db  38907.32                          baby\n",
       "7  5f504b3a1c75b73d6151be81eb05bdc9  37733.90                    cool_stuff\n",
       "8  53b36df67ebb7c41585e8d54d6772e08  37683.42                 watches_gifts\n",
       "9  aca2eb7d00ea1a7b8ebd4e68314663af  37608.90               furniture_decor"
      ]
     },
     "execution_count": 129,
     "metadata": {
      "tags": []
     },
     "output_type": "execute_result"
    }
   ],
   "source": [
    "prod_sales = pd.DataFrame(olist_order_date.groupby('product_id').sum()['price'])\n",
    "prod_sales.sort_values(by=['price'], inplace=True, ascending=False)\n",
    "\n",
    "#Calculating Top 10:\n",
    "top_prods = prod_sales.head(10)\n",
    "top_prods.reset_index().merge(olist_prod,on='product_id')[['product_id','price','product_category_name_english']]\n"
   ]
  },
  {
   "cell_type": "code",
   "execution_count": null,
   "metadata": {
    "colab": {
     "base_uri": "https://localhost:8080/",
     "height": 268
    },
    "executionInfo": {
     "elapsed": 67544,
     "status": "ok",
     "timestamp": 1613188191739,
     "user": {
      "displayName": "Madhu Mitha",
      "photoUrl": "https://lh3.googleusercontent.com/a-/AOh14GilVrLV4rmSyx-1NdXGaSuV57NvShgQKjQtdsSKdw=s64",
      "userId": "03733449454036714456"
     },
     "user_tz": -330
    },
    "id": "1NnwPU9LhJsX",
    "outputId": "ea4cceef-0b47-4912-fee8-ddd3263b705a"
   },
   "outputs": [
    {
     "data": {
      "image/png": "[encoded data removed]",
      "text/plain": [
       "<Figure size 432x288 with 1 Axes>"
      ]
     },
     "metadata": {
      "needs_background": "light",
      "tags": []
     },
     "output_type": "display_data"
    }
   ],
   "source": [
    "olist_order_date['order_purchase_month'].value_counts().plot(kind='bar');"
   ]
  },
  {
   "cell_type": "markdown",
   "metadata": {
    "id": "2XaQyROqlzcr"
   },
   "source": [
    "- Overall sales on the months of 2017 and 2018 says, Sales is more in the months of August and may.\n"
   ]
  },
  {
   "cell_type": "code",
   "execution_count": null,
   "metadata": {
    "colab": {
     "base_uri": "https://localhost:8080/",
     "height": 439
    },
    "executionInfo": {
     "elapsed": 67509,
     "status": "ok",
     "timestamp": 1613188191739,
     "user": {
      "displayName": "Madhu Mitha",
      "photoUrl": "https://lh3.googleusercontent.com/a-/AOh14GilVrLV4rmSyx-1NdXGaSuV57NvShgQKjQtdsSKdw=s64",
      "userId": "03733449454036714456"
     },
     "user_tz": -330
    },
    "id": "gtJ7zePBlyef",
    "outputId": "8ffaadb1-a9df-499a-9fc3-47bcd3f71b96"
   },
   "outputs": [
    {
     "data": {
      "text/html": [
       "<div>\n",
       "<style scoped>\n",
       "    .dataframe tbody tr th:only-of-type {\n",
       "        vertical-align: middle;\n",
       "    }\n",
       "\n",
       "    .dataframe tbody tr th {\n",
       "        vertical-align: top;\n",
       "    }\n",
       "\n",
       "    .dataframe thead th {\n",
       "        text-align: right;\n",
       "    }\n",
       "</style>\n",
       "<table border=\"1\" class=\"dataframe\">\n",
       "  <thead>\n",
       "    <tr style=\"text-align: right;\">\n",
       "      <th></th>\n",
       "      <th>level_0</th>\n",
       "      <th>index</th>\n",
       "      <th>order_id</th>\n",
       "      <th>order_item_id</th>\n",
       "      <th>product_id</th>\n",
       "      <th>seller_id</th>\n",
       "      <th>shipping_limit_date</th>\n",
       "      <th>price</th>\n",
       "      <th>freight_value</th>\n",
       "      <th>order_purchase_timestamp</th>\n",
       "      <th>order_purchase_year</th>\n",
       "      <th>order_purchase_month</th>\n",
       "      <th>order_purchase_date</th>\n",
       "      <th>order_purchase_day</th>\n",
       "      <th>order_purchase_week</th>\n",
       "      <th>order_purchase_hour</th>\n",
       "      <th>Month_Year</th>\n",
       "    </tr>\n",
       "  </thead>\n",
       "  <tbody>\n",
       "    <tr>\n",
       "      <th>0</th>\n",
       "      <td>0</td>\n",
       "      <td>0</td>\n",
       "      <td>00010242fe8c5a6d1ba2dd792cb16214</td>\n",
       "      <td>1</td>\n",
       "      <td>4244733e06e7ecb4970a6e2683c13e61</td>\n",
       "      <td>48436dade18ac8b2bce089ec2a041202</td>\n",
       "      <td>2017-09-19 09:45:35</td>\n",
       "      <td>58.90</td>\n",
       "      <td>13.29</td>\n",
       "      <td>2017-09-13 08:59:02</td>\n",
       "      <td>2017</td>\n",
       "      <td>9</td>\n",
       "      <td>2017-09-13</td>\n",
       "      <td>13</td>\n",
       "      <td>37</td>\n",
       "      <td>8</td>\n",
       "      <td>2017-09</td>\n",
       "    </tr>\n",
       "    <tr>\n",
       "      <th>1</th>\n",
       "      <td>1</td>\n",
       "      <td>1</td>\n",
       "      <td>00018f77f2f0320c557190d7a144bdd3</td>\n",
       "      <td>1</td>\n",
       "      <td>e5f2d52b802189ee658865ca93d83a8f</td>\n",
       "      <td>dd7ddc04e1b6c2c614352b383efe2d36</td>\n",
       "      <td>2017-05-03 11:05:13</td>\n",
       "      <td>239.90</td>\n",
       "      <td>19.93</td>\n",
       "      <td>2017-04-26 10:53:06</td>\n",
       "      <td>2017</td>\n",
       "      <td>4</td>\n",
       "      <td>2017-04-26</td>\n",
       "      <td>26</td>\n",
       "      <td>17</td>\n",
       "      <td>10</td>\n",
       "      <td>2017-04</td>\n",
       "    </tr>\n",
       "    <tr>\n",
       "      <th>2</th>\n",
       "      <td>2</td>\n",
       "      <td>2</td>\n",
       "      <td>000229ec398224ef6ca0657da4fc703e</td>\n",
       "      <td>1</td>\n",
       "      <td>c777355d18b72b67abbeef9df44fd0fd</td>\n",
       "      <td>5b51032eddd242adc84c38acab88f23d</td>\n",
       "      <td>2018-01-18 14:48:30</td>\n",
       "      <td>199.00</td>\n",
       "      <td>17.87</td>\n",
       "      <td>2018-01-14 14:33:31</td>\n",
       "      <td>2018</td>\n",
       "      <td>1</td>\n",
       "      <td>2018-01-14</td>\n",
       "      <td>14</td>\n",
       "      <td>2</td>\n",
       "      <td>14</td>\n",
       "      <td>2018-01</td>\n",
       "    </tr>\n",
       "    <tr>\n",
       "      <th>3</th>\n",
       "      <td>3</td>\n",
       "      <td>3</td>\n",
       "      <td>00024acbcdf0a6daa1e931b038114c75</td>\n",
       "      <td>1</td>\n",
       "      <td>7634da152a4610f1595efa32f14722fc</td>\n",
       "      <td>9d7a1d34a5052409006425275ba1c2b4</td>\n",
       "      <td>2018-08-15 10:10:18</td>\n",
       "      <td>12.99</td>\n",
       "      <td>12.79</td>\n",
       "      <td>2018-08-08 10:00:35</td>\n",
       "      <td>2018</td>\n",
       "      <td>8</td>\n",
       "      <td>2018-08-08</td>\n",
       "      <td>8</td>\n",
       "      <td>32</td>\n",
       "      <td>10</td>\n",
       "      <td>2018-08</td>\n",
       "    </tr>\n",
       "    <tr>\n",
       "      <th>4</th>\n",
       "      <td>4</td>\n",
       "      <td>4</td>\n",
       "      <td>00042b26cf59d7ce69dfabb4e55b4fd9</td>\n",
       "      <td>1</td>\n",
       "      <td>ac6c3623068f30de03045865e4e10089</td>\n",
       "      <td>df560393f3a51e74553ab94004ba5c87</td>\n",
       "      <td>2017-02-13 13:57:51</td>\n",
       "      <td>199.90</td>\n",
       "      <td>18.14</td>\n",
       "      <td>2017-02-04 13:57:51</td>\n",
       "      <td>2017</td>\n",
       "      <td>2</td>\n",
       "      <td>2017-02-04</td>\n",
       "      <td>4</td>\n",
       "      <td>5</td>\n",
       "      <td>13</td>\n",
       "      <td>2017-02</td>\n",
       "    </tr>\n",
       "    <tr>\n",
       "      <th>...</th>\n",
       "      <td>...</td>\n",
       "      <td>...</td>\n",
       "      <td>...</td>\n",
       "      <td>...</td>\n",
       "      <td>...</td>\n",
       "      <td>...</td>\n",
       "      <td>...</td>\n",
       "      <td>...</td>\n",
       "      <td>...</td>\n",
       "      <td>...</td>\n",
       "      <td>...</td>\n",
       "      <td>...</td>\n",
       "      <td>...</td>\n",
       "      <td>...</td>\n",
       "      <td>...</td>\n",
       "      <td>...</td>\n",
       "      <td>...</td>\n",
       "    </tr>\n",
       "    <tr>\n",
       "      <th>112274</th>\n",
       "      <td>112644</td>\n",
       "      <td>112645</td>\n",
       "      <td>fffc94f6ce00a00581880bf54a75a037</td>\n",
       "      <td>1</td>\n",
       "      <td>4aa6014eceb682077f9dc4bffebc05b0</td>\n",
       "      <td>b8bc237ba3788b23da09c0f1f3a3288c</td>\n",
       "      <td>2018-05-02 04:11:01</td>\n",
       "      <td>299.99</td>\n",
       "      <td>43.41</td>\n",
       "      <td>2018-04-23 13:57:06</td>\n",
       "      <td>2018</td>\n",
       "      <td>4</td>\n",
       "      <td>2018-04-23</td>\n",
       "      <td>23</td>\n",
       "      <td>17</td>\n",
       "      <td>13</td>\n",
       "      <td>2018-04</td>\n",
       "    </tr>\n",
       "    <tr>\n",
       "      <th>112275</th>\n",
       "      <td>112645</td>\n",
       "      <td>112646</td>\n",
       "      <td>fffcd46ef2263f404302a634eb57f7eb</td>\n",
       "      <td>1</td>\n",
       "      <td>32e07fd915822b0765e448c4dd74c828</td>\n",
       "      <td>f3c38ab652836d21de61fb8314b69182</td>\n",
       "      <td>2018-07-20 04:31:48</td>\n",
       "      <td>350.00</td>\n",
       "      <td>36.53</td>\n",
       "      <td>2018-07-14 10:26:46</td>\n",
       "      <td>2018</td>\n",
       "      <td>7</td>\n",
       "      <td>2018-07-14</td>\n",
       "      <td>14</td>\n",
       "      <td>28</td>\n",
       "      <td>10</td>\n",
       "      <td>2018-07</td>\n",
       "    </tr>\n",
       "    <tr>\n",
       "      <th>112276</th>\n",
       "      <td>112646</td>\n",
       "      <td>112647</td>\n",
       "      <td>fffce4705a9662cd70adb13d4a31832d</td>\n",
       "      <td>1</td>\n",
       "      <td>72a30483855e2eafc67aee5dc2560482</td>\n",
       "      <td>c3cfdc648177fdbbbb35635a37472c53</td>\n",
       "      <td>2017-10-30 17:14:25</td>\n",
       "      <td>99.90</td>\n",
       "      <td>16.95</td>\n",
       "      <td>2017-10-23 17:07:56</td>\n",
       "      <td>2017</td>\n",
       "      <td>10</td>\n",
       "      <td>2017-10-23</td>\n",
       "      <td>23</td>\n",
       "      <td>43</td>\n",
       "      <td>17</td>\n",
       "      <td>2017-10</td>\n",
       "    </tr>\n",
       "    <tr>\n",
       "      <th>112277</th>\n",
       "      <td>112647</td>\n",
       "      <td>112648</td>\n",
       "      <td>fffe18544ffabc95dfada21779c9644f</td>\n",
       "      <td>1</td>\n",
       "      <td>9c422a519119dcad7575db5af1ba540e</td>\n",
       "      <td>2b3e4a2a3ea8e01938cabda2a3e5cc79</td>\n",
       "      <td>2017-08-21 00:04:32</td>\n",
       "      <td>55.99</td>\n",
       "      <td>8.72</td>\n",
       "      <td>2017-08-14 23:02:59</td>\n",
       "      <td>2017</td>\n",
       "      <td>8</td>\n",
       "      <td>2017-08-14</td>\n",
       "      <td>14</td>\n",
       "      <td>33</td>\n",
       "      <td>23</td>\n",
       "      <td>2017-08</td>\n",
       "    </tr>\n",
       "    <tr>\n",
       "      <th>112278</th>\n",
       "      <td>112648</td>\n",
       "      <td>112649</td>\n",
       "      <td>fffe41c64501cc87c801fd61db3f6244</td>\n",
       "      <td>1</td>\n",
       "      <td>350688d9dc1e75ff97be326363655e01</td>\n",
       "      <td>f7ccf836d21b2fb1de37564105216cc1</td>\n",
       "      <td>2018-06-12 17:10:13</td>\n",
       "      <td>43.00</td>\n",
       "      <td>12.79</td>\n",
       "      <td>2018-06-09 17:00:18</td>\n",
       "      <td>2018</td>\n",
       "      <td>6</td>\n",
       "      <td>2018-06-09</td>\n",
       "      <td>9</td>\n",
       "      <td>23</td>\n",
       "      <td>17</td>\n",
       "      <td>2018-06</td>\n",
       "    </tr>\n",
       "  </tbody>\n",
       "</table>\n",
       "<p>112279 rows × 17 columns</p>\n",
       "</div>"
      ],
      "text/plain": [
       "        level_0   index                          order_id  order_item_id  \\\n",
       "0             0       0  00010242fe8c5a6d1ba2dd792cb16214              1   \n",
       "1             1       1  00018f77f2f0320c557190d7a144bdd3              1   \n",
       "2             2       2  000229ec398224ef6ca0657da4fc703e              1   \n",
       "3             3       3  00024acbcdf0a6daa1e931b038114c75              1   \n",
       "4             4       4  00042b26cf59d7ce69dfabb4e55b4fd9              1   \n",
       "...         ...     ...                               ...            ...   \n",
       "112274   112644  112645  fffc94f6ce00a00581880bf54a75a037              1   \n",
       "112275   112645  112646  fffcd46ef2263f404302a634eb57f7eb              1   \n",
       "112276   112646  112647  fffce4705a9662cd70adb13d4a31832d              1   \n",
       "112277   112647  112648  fffe18544ffabc95dfada21779c9644f              1   \n",
       "112278   112648  112649  fffe41c64501cc87c801fd61db3f6244              1   \n",
       "\n",
       "                              product_id                         seller_id  \\\n",
       "0       4244733e06e7ecb4970a6e2683c13e61  48436dade18ac8b2bce089ec2a041202   \n",
       "1       e5f2d52b802189ee658865ca93d83a8f  dd7ddc04e1b6c2c614352b383efe2d36   \n",
       "2       c777355d18b72b67abbeef9df44fd0fd  5b51032eddd242adc84c38acab88f23d   \n",
       "3       7634da152a4610f1595efa32f14722fc  9d7a1d34a5052409006425275ba1c2b4   \n",
       "4       ac6c3623068f30de03045865e4e10089  df560393f3a51e74553ab94004ba5c87   \n",
       "...                                  ...                               ...   \n",
       "112274  4aa6014eceb682077f9dc4bffebc05b0  b8bc237ba3788b23da09c0f1f3a3288c   \n",
       "112275  32e07fd915822b0765e448c4dd74c828  f3c38ab652836d21de61fb8314b69182   \n",
       "112276  72a30483855e2eafc67aee5dc2560482  c3cfdc648177fdbbbb35635a37472c53   \n",
       "112277  9c422a519119dcad7575db5af1ba540e  2b3e4a2a3ea8e01938cabda2a3e5cc79   \n",
       "112278  350688d9dc1e75ff97be326363655e01  f7ccf836d21b2fb1de37564105216cc1   \n",
       "\n",
       "        shipping_limit_date   price  freight_value order_purchase_timestamp  \\\n",
       "0       2017-09-19 09:45:35   58.90          13.29      2017-09-13 08:59:02   \n",
       "1       2017-05-03 11:05:13  239.90          19.93      2017-04-26 10:53:06   \n",
       "2       2018-01-18 14:48:30  199.00          17.87      2018-01-14 14:33:31   \n",
       "3       2018-08-15 10:10:18   12.99          12.79      2018-08-08 10:00:35   \n",
       "4       2017-02-13 13:57:51  199.90          18.14      2017-02-04 13:57:51   \n",
       "...                     ...     ...            ...                      ...   \n",
       "112274  2018-05-02 04:11:01  299.99          43.41      2018-04-23 13:57:06   \n",
       "112275  2018-07-20 04:31:48  350.00          36.53      2018-07-14 10:26:46   \n",
       "112276  2017-10-30 17:14:25   99.90          16.95      2017-10-23 17:07:56   \n",
       "112277  2017-08-21 00:04:32   55.99           8.72      2017-08-14 23:02:59   \n",
       "112278  2018-06-12 17:10:13   43.00          12.79      2018-06-09 17:00:18   \n",
       "\n",
       "        order_purchase_year  order_purchase_month order_purchase_date  \\\n",
       "0                      2017                     9          2017-09-13   \n",
       "1                      2017                     4          2017-04-26   \n",
       "2                      2018                     1          2018-01-14   \n",
       "3                      2018                     8          2018-08-08   \n",
       "4                      2017                     2          2017-02-04   \n",
       "...                     ...                   ...                 ...   \n",
       "112274                 2018                     4          2018-04-23   \n",
       "112275                 2018                     7          2018-07-14   \n",
       "112276                 2017                    10          2017-10-23   \n",
       "112277                 2017                     8          2017-08-14   \n",
       "112278                 2018                     6          2018-06-09   \n",
       "\n",
       "        order_purchase_day  order_purchase_week  order_purchase_hour  \\\n",
       "0                       13                   37                    8   \n",
       "1                       26                   17                   10   \n",
       "2                       14                    2                   14   \n",
       "3                        8                   32                   10   \n",
       "4                        4                    5                   13   \n",
       "...                    ...                  ...                  ...   \n",
       "112274                  23                   17                   13   \n",
       "112275                  14                   28                   10   \n",
       "112276                  23                   43                   17   \n",
       "112277                  14                   33                   23   \n",
       "112278                   9                   23                   17   \n",
       "\n",
       "       Month_Year  \n",
       "0         2017-09  \n",
       "1         2017-04  \n",
       "2         2018-01  \n",
       "3         2018-08  \n",
       "4         2017-02  \n",
       "...           ...  \n",
       "112274    2018-04  \n",
       "112275    2018-07  \n",
       "112276    2017-10  \n",
       "112277    2017-08  \n",
       "112278    2018-06  \n",
       "\n",
       "[112279 rows x 17 columns]"
      ]
     },
     "execution_count": 131,
     "metadata": {
      "tags": []
     },
     "output_type": "execute_result"
    }
   ],
   "source": [
    "olist_order_date"
   ]
  },
  {
   "cell_type": "code",
   "execution_count": null,
   "metadata": {
    "colab": {
     "base_uri": "https://localhost:8080/",
     "height": 439
    },
    "executionInfo": {
     "elapsed": 67494,
     "status": "ok",
     "timestamp": 1613188191740,
     "user": {
      "displayName": "Madhu Mitha",
      "photoUrl": "https://lh3.googleusercontent.com/a-/AOh14GilVrLV4rmSyx-1NdXGaSuV57NvShgQKjQtdsSKdw=s64",
      "userId": "03733449454036714456"
     },
     "user_tz": -330
    },
    "id": "LJgjfzkFlbu9",
    "outputId": "d4be22f6-065b-4eb0-c3bc-a86b54939ab2"
   },
   "outputs": [
    {
     "data": {
      "text/html": [
       "<div>\n",
       "<style scoped>\n",
       "    .dataframe tbody tr th:only-of-type {\n",
       "        vertical-align: middle;\n",
       "    }\n",
       "\n",
       "    .dataframe tbody tr th {\n",
       "        vertical-align: top;\n",
       "    }\n",
       "\n",
       "    .dataframe thead th {\n",
       "        text-align: right;\n",
       "    }\n",
       "</style>\n",
       "<table border=\"1\" class=\"dataframe\">\n",
       "  <thead>\n",
       "    <tr style=\"text-align: right;\">\n",
       "      <th></th>\n",
       "      <th>customer_unique_id</th>\n",
       "      <th>order_id</th>\n",
       "      <th>order_item_id</th>\n",
       "      <th>order_purchase_timestamp</th>\n",
       "      <th>product_id</th>\n",
       "      <th>price</th>\n",
       "      <th>freight_value</th>\n",
       "      <th>product_category_name_english</th>\n",
       "      <th>customer_city</th>\n",
       "      <th>customer_state</th>\n",
       "    </tr>\n",
       "  </thead>\n",
       "  <tbody>\n",
       "    <tr>\n",
       "      <th>0</th>\n",
       "      <td>7c396fd4830fd04220f754e42b4e5bff</td>\n",
       "      <td>e481f51cbdc54678b7cc49136f2d6af7</td>\n",
       "      <td>1</td>\n",
       "      <td>2017-10-02 10:56:33</td>\n",
       "      <td>87285b34884572647811a353c7ac498a</td>\n",
       "      <td>29.99</td>\n",
       "      <td>8.72</td>\n",
       "      <td>housewares</td>\n",
       "      <td>sao paulo</td>\n",
       "      <td>SP</td>\n",
       "    </tr>\n",
       "    <tr>\n",
       "      <th>1</th>\n",
       "      <td>7c396fd4830fd04220f754e42b4e5bff</td>\n",
       "      <td>e481f51cbdc54678b7cc49136f2d6af7</td>\n",
       "      <td>1</td>\n",
       "      <td>2017-10-02 10:56:33</td>\n",
       "      <td>87285b34884572647811a353c7ac498a</td>\n",
       "      <td>29.99</td>\n",
       "      <td>8.72</td>\n",
       "      <td>housewares</td>\n",
       "      <td>sao paulo</td>\n",
       "      <td>SP</td>\n",
       "    </tr>\n",
       "    <tr>\n",
       "      <th>2</th>\n",
       "      <td>7c396fd4830fd04220f754e42b4e5bff</td>\n",
       "      <td>e481f51cbdc54678b7cc49136f2d6af7</td>\n",
       "      <td>1</td>\n",
       "      <td>2017-10-02 10:56:33</td>\n",
       "      <td>87285b34884572647811a353c7ac498a</td>\n",
       "      <td>29.99</td>\n",
       "      <td>8.72</td>\n",
       "      <td>housewares</td>\n",
       "      <td>sao paulo</td>\n",
       "      <td>SP</td>\n",
       "    </tr>\n",
       "    <tr>\n",
       "      <th>3</th>\n",
       "      <td>3a51803cc0d012c3b5dc8b7528cb05f7</td>\n",
       "      <td>128e10d95713541c87cd1a2e48201934</td>\n",
       "      <td>1</td>\n",
       "      <td>2017-08-15 18:29:31</td>\n",
       "      <td>87285b34884572647811a353c7ac498a</td>\n",
       "      <td>29.99</td>\n",
       "      <td>7.78</td>\n",
       "      <td>housewares</td>\n",
       "      <td>sao paulo</td>\n",
       "      <td>SP</td>\n",
       "    </tr>\n",
       "    <tr>\n",
       "      <th>4</th>\n",
       "      <td>ef0996a1a279c26e7ecbd737be23d235</td>\n",
       "      <td>0e7e841ddf8f8f2de2bad69267ecfbcf</td>\n",
       "      <td>1</td>\n",
       "      <td>2017-08-02 18:24:47</td>\n",
       "      <td>87285b34884572647811a353c7ac498a</td>\n",
       "      <td>29.99</td>\n",
       "      <td>7.78</td>\n",
       "      <td>housewares</td>\n",
       "      <td>sao paulo</td>\n",
       "      <td>SP</td>\n",
       "    </tr>\n",
       "    <tr>\n",
       "      <th>...</th>\n",
       "      <td>...</td>\n",
       "      <td>...</td>\n",
       "      <td>...</td>\n",
       "      <td>...</td>\n",
       "      <td>...</td>\n",
       "      <td>...</td>\n",
       "      <td>...</td>\n",
       "      <td>...</td>\n",
       "      <td>...</td>\n",
       "      <td>...</td>\n",
       "    </tr>\n",
       "    <tr>\n",
       "      <th>115873</th>\n",
       "      <td>c5da6424f1f5decedef8672a1a0103e1</td>\n",
       "      <td>edcf1e1eeb52381be9388c90152be52d</td>\n",
       "      <td>1</td>\n",
       "      <td>2018-08-21 11:29:05</td>\n",
       "      <td>6bb18295cc019bf3b6dc7c773411d530</td>\n",
       "      <td>289.49</td>\n",
       "      <td>24.83</td>\n",
       "      <td>arts_and_craftmanship</td>\n",
       "      <td>brusque</td>\n",
       "      <td>SC</td>\n",
       "    </tr>\n",
       "    <tr>\n",
       "      <th>115874</th>\n",
       "      <td>8c3c961a52bb5a0ffbce1d4e6d25cd67</td>\n",
       "      <td>2c12150c742ae2fa48bc703964c16c5f</td>\n",
       "      <td>1</td>\n",
       "      <td>2018-07-28 17:55:27</td>\n",
       "      <td>2b54fb9a4acf707537eb53eb2458c241</td>\n",
       "      <td>57.90</td>\n",
       "      <td>19.60</td>\n",
       "      <td>arts_and_craftmanship</td>\n",
       "      <td>joao monlevade</td>\n",
       "      <td>MG</td>\n",
       "    </tr>\n",
       "    <tr>\n",
       "      <th>115875</th>\n",
       "      <td>428f4721a509be8c52de6ec2900ba918</td>\n",
       "      <td>9f7ba492c273ffac8f90a623b8eadd3b</td>\n",
       "      <td>1</td>\n",
       "      <td>2018-08-23 12:31:37</td>\n",
       "      <td>5aa0d6ed4e6c0995d62090cd82cde89a</td>\n",
       "      <td>11.90</td>\n",
       "      <td>12.79</td>\n",
       "      <td>arts_and_craftmanship</td>\n",
       "      <td>jacarei</td>\n",
       "      <td>SP</td>\n",
       "    </tr>\n",
       "    <tr>\n",
       "      <th>115876</th>\n",
       "      <td>8d80e477643ec569b24592ce3d9dfc4c</td>\n",
       "      <td>2ef4a11b6e24fdfbb43b92cb5f95edff</td>\n",
       "      <td>1</td>\n",
       "      <td>2018-07-23 18:35:14</td>\n",
       "      <td>9c313adb4b38a55b092f53f83f78be9e</td>\n",
       "      <td>19.00</td>\n",
       "      <td>12.86</td>\n",
       "      <td>arts_and_craftmanship</td>\n",
       "      <td>diadema</td>\n",
       "      <td>SP</td>\n",
       "    </tr>\n",
       "    <tr>\n",
       "      <th>115877</th>\n",
       "      <td>8d80e477643ec569b24592ce3d9dfc4c</td>\n",
       "      <td>2ef4a11b6e24fdfbb43b92cb5f95edff</td>\n",
       "      <td>2</td>\n",
       "      <td>2018-07-23 18:35:14</td>\n",
       "      <td>eacb104882d39ffb53140b1d1860a7c3</td>\n",
       "      <td>39.90</td>\n",
       "      <td>12.87</td>\n",
       "      <td>arts_and_craftmanship</td>\n",
       "      <td>diadema</td>\n",
       "      <td>SP</td>\n",
       "    </tr>\n",
       "  </tbody>\n",
       "</table>\n",
       "<p>115878 rows × 10 columns</p>\n",
       "</div>"
      ],
      "text/plain": [
       "                      customer_unique_id                          order_id  \\\n",
       "0       7c396fd4830fd04220f754e42b4e5bff  e481f51cbdc54678b7cc49136f2d6af7   \n",
       "1       7c396fd4830fd04220f754e42b4e5bff  e481f51cbdc54678b7cc49136f2d6af7   \n",
       "2       7c396fd4830fd04220f754e42b4e5bff  e481f51cbdc54678b7cc49136f2d6af7   \n",
       "3       3a51803cc0d012c3b5dc8b7528cb05f7  128e10d95713541c87cd1a2e48201934   \n",
       "4       ef0996a1a279c26e7ecbd737be23d235  0e7e841ddf8f8f2de2bad69267ecfbcf   \n",
       "...                                  ...                               ...   \n",
       "115873  c5da6424f1f5decedef8672a1a0103e1  edcf1e1eeb52381be9388c90152be52d   \n",
       "115874  8c3c961a52bb5a0ffbce1d4e6d25cd67  2c12150c742ae2fa48bc703964c16c5f   \n",
       "115875  428f4721a509be8c52de6ec2900ba918  9f7ba492c273ffac8f90a623b8eadd3b   \n",
       "115876  8d80e477643ec569b24592ce3d9dfc4c  2ef4a11b6e24fdfbb43b92cb5f95edff   \n",
       "115877  8d80e477643ec569b24592ce3d9dfc4c  2ef4a11b6e24fdfbb43b92cb5f95edff   \n",
       "\n",
       "        order_item_id order_purchase_timestamp  \\\n",
       "0                   1      2017-10-02 10:56:33   \n",
       "1                   1      2017-10-02 10:56:33   \n",
       "2                   1      2017-10-02 10:56:33   \n",
       "3                   1      2017-08-15 18:29:31   \n",
       "4                   1      2017-08-02 18:24:47   \n",
       "...               ...                      ...   \n",
       "115873              1      2018-08-21 11:29:05   \n",
       "115874              1      2018-07-28 17:55:27   \n",
       "115875              1      2018-08-23 12:31:37   \n",
       "115876              1      2018-07-23 18:35:14   \n",
       "115877              2      2018-07-23 18:35:14   \n",
       "\n",
       "                              product_id   price  freight_value  \\\n",
       "0       87285b34884572647811a353c7ac498a   29.99           8.72   \n",
       "1       87285b34884572647811a353c7ac498a   29.99           8.72   \n",
       "2       87285b34884572647811a353c7ac498a   29.99           8.72   \n",
       "3       87285b34884572647811a353c7ac498a   29.99           7.78   \n",
       "4       87285b34884572647811a353c7ac498a   29.99           7.78   \n",
       "...                                  ...     ...            ...   \n",
       "115873  6bb18295cc019bf3b6dc7c773411d530  289.49          24.83   \n",
       "115874  2b54fb9a4acf707537eb53eb2458c241   57.90          19.60   \n",
       "115875  5aa0d6ed4e6c0995d62090cd82cde89a   11.90          12.79   \n",
       "115876  9c313adb4b38a55b092f53f83f78be9e   19.00          12.86   \n",
       "115877  eacb104882d39ffb53140b1d1860a7c3   39.90          12.87   \n",
       "\n",
       "       product_category_name_english   customer_city customer_state  \n",
       "0                         housewares       sao paulo             SP  \n",
       "1                         housewares       sao paulo             SP  \n",
       "2                         housewares       sao paulo             SP  \n",
       "3                         housewares       sao paulo             SP  \n",
       "4                         housewares       sao paulo             SP  \n",
       "...                              ...             ...            ...  \n",
       "115873         arts_and_craftmanship         brusque             SC  \n",
       "115874         arts_and_craftmanship  joao monlevade             MG  \n",
       "115875         arts_and_craftmanship         jacarei             SP  \n",
       "115876         arts_and_craftmanship         diadema             SP  \n",
       "115877         arts_and_craftmanship         diadema             SP  \n",
       "\n",
       "[115878 rows x 10 columns]"
      ]
     },
     "execution_count": 132,
     "metadata": {
      "tags": []
     },
     "output_type": "execute_result"
    }
   ],
   "source": [
    "cols = ['customer_unique_id','order_id','order_item_id','order_purchase_timestamp','product_id','price','freight_value','product_category_name_english','customer_city','customer_state']\n",
    "ord_pay[cols]"
   ]
  },
  {
   "cell_type": "code",
   "execution_count": null,
   "metadata": {
    "colab": {
     "base_uri": "https://localhost:8080/",
     "height": 439
    },
    "executionInfo": {
     "elapsed": 68028,
     "status": "ok",
     "timestamp": 1613188192285,
     "user": {
      "displayName": "Madhu Mitha",
      "photoUrl": "https://lh3.googleusercontent.com/a-/AOh14GilVrLV4rmSyx-1NdXGaSuV57NvShgQKjQtdsSKdw=s64",
      "userId": "03733449454036714456"
     },
     "user_tz": -330
    },
    "id": "Ciqp0CXqp4O6",
    "outputId": "e6a6cb93-0189-43b3-af58-46a1f351e420"
   },
   "outputs": [
    {
     "data": {
      "text/html": [
       "<div>\n",
       "<style scoped>\n",
       "    .dataframe tbody tr th:only-of-type {\n",
       "        vertical-align: middle;\n",
       "    }\n",
       "\n",
       "    .dataframe tbody tr th {\n",
       "        vertical-align: top;\n",
       "    }\n",
       "\n",
       "    .dataframe thead th {\n",
       "        text-align: right;\n",
       "    }\n",
       "</style>\n",
       "<table border=\"1\" class=\"dataframe\">\n",
       "  <thead>\n",
       "    <tr style=\"text-align: right;\">\n",
       "      <th></th>\n",
       "      <th>customer_unique_id</th>\n",
       "      <th>order_id</th>\n",
       "      <th>order_item_id</th>\n",
       "      <th>order_purchase_timestamp</th>\n",
       "      <th>product_id</th>\n",
       "      <th>price</th>\n",
       "      <th>freight_value</th>\n",
       "      <th>product_category_name_english</th>\n",
       "      <th>customer_city</th>\n",
       "      <th>customer_state</th>\n",
       "    </tr>\n",
       "  </thead>\n",
       "  <tbody>\n",
       "    <tr>\n",
       "      <th>0</th>\n",
       "      <td>7c396fd4830fd04220f754e42b4e5bff</td>\n",
       "      <td>e481f51cbdc54678b7cc49136f2d6af7</td>\n",
       "      <td>1</td>\n",
       "      <td>2017-10-02 10:56:33</td>\n",
       "      <td>87285b34884572647811a353c7ac498a</td>\n",
       "      <td>29.99</td>\n",
       "      <td>8.72</td>\n",
       "      <td>housewares</td>\n",
       "      <td>sao paulo</td>\n",
       "      <td>SP</td>\n",
       "    </tr>\n",
       "    <tr>\n",
       "      <th>3</th>\n",
       "      <td>3a51803cc0d012c3b5dc8b7528cb05f7</td>\n",
       "      <td>128e10d95713541c87cd1a2e48201934</td>\n",
       "      <td>1</td>\n",
       "      <td>2017-08-15 18:29:31</td>\n",
       "      <td>87285b34884572647811a353c7ac498a</td>\n",
       "      <td>29.99</td>\n",
       "      <td>7.78</td>\n",
       "      <td>housewares</td>\n",
       "      <td>sao paulo</td>\n",
       "      <td>SP</td>\n",
       "    </tr>\n",
       "    <tr>\n",
       "      <th>4</th>\n",
       "      <td>ef0996a1a279c26e7ecbd737be23d235</td>\n",
       "      <td>0e7e841ddf8f8f2de2bad69267ecfbcf</td>\n",
       "      <td>1</td>\n",
       "      <td>2017-08-02 18:24:47</td>\n",
       "      <td>87285b34884572647811a353c7ac498a</td>\n",
       "      <td>29.99</td>\n",
       "      <td>7.78</td>\n",
       "      <td>housewares</td>\n",
       "      <td>sao paulo</td>\n",
       "      <td>SP</td>\n",
       "    </tr>\n",
       "    <tr>\n",
       "      <th>5</th>\n",
       "      <td>e781fdcc107d13d865fc7698711cc572</td>\n",
       "      <td>bfc39df4f36c3693ff3b63fcbea9e90a</td>\n",
       "      <td>1</td>\n",
       "      <td>2017-10-23 23:26:46</td>\n",
       "      <td>87285b34884572647811a353c7ac498a</td>\n",
       "      <td>29.99</td>\n",
       "      <td>14.10</td>\n",
       "      <td>housewares</td>\n",
       "      <td>florianopolis</td>\n",
       "      <td>SC</td>\n",
       "    </tr>\n",
       "    <tr>\n",
       "      <th>6</th>\n",
       "      <td>7a1de9bde89aedca8c5fbad489c5571c</td>\n",
       "      <td>5f49f31e537f8f1a496454b48edbe34d</td>\n",
       "      <td>2</td>\n",
       "      <td>2017-08-24 11:31:28</td>\n",
       "      <td>be03d93320192443b8fa24c0ca6ead98</td>\n",
       "      <td>46.80</td>\n",
       "      <td>67.70</td>\n",
       "      <td>housewares</td>\n",
       "      <td>sao paulo</td>\n",
       "      <td>SP</td>\n",
       "    </tr>\n",
       "    <tr>\n",
       "      <th>...</th>\n",
       "      <td>...</td>\n",
       "      <td>...</td>\n",
       "      <td>...</td>\n",
       "      <td>...</td>\n",
       "      <td>...</td>\n",
       "      <td>...</td>\n",
       "      <td>...</td>\n",
       "      <td>...</td>\n",
       "      <td>...</td>\n",
       "      <td>...</td>\n",
       "    </tr>\n",
       "    <tr>\n",
       "      <th>115873</th>\n",
       "      <td>c5da6424f1f5decedef8672a1a0103e1</td>\n",
       "      <td>edcf1e1eeb52381be9388c90152be52d</td>\n",
       "      <td>1</td>\n",
       "      <td>2018-08-21 11:29:05</td>\n",
       "      <td>6bb18295cc019bf3b6dc7c773411d530</td>\n",
       "      <td>289.49</td>\n",
       "      <td>24.83</td>\n",
       "      <td>arts_and_craftmanship</td>\n",
       "      <td>brusque</td>\n",
       "      <td>SC</td>\n",
       "    </tr>\n",
       "    <tr>\n",
       "      <th>115874</th>\n",
       "      <td>8c3c961a52bb5a0ffbce1d4e6d25cd67</td>\n",
       "      <td>2c12150c742ae2fa48bc703964c16c5f</td>\n",
       "      <td>1</td>\n",
       "      <td>2018-07-28 17:55:27</td>\n",
       "      <td>2b54fb9a4acf707537eb53eb2458c241</td>\n",
       "      <td>57.90</td>\n",
       "      <td>19.60</td>\n",
       "      <td>arts_and_craftmanship</td>\n",
       "      <td>joao monlevade</td>\n",
       "      <td>MG</td>\n",
       "    </tr>\n",
       "    <tr>\n",
       "      <th>115875</th>\n",
       "      <td>428f4721a509be8c52de6ec2900ba918</td>\n",
       "      <td>9f7ba492c273ffac8f90a623b8eadd3b</td>\n",
       "      <td>1</td>\n",
       "      <td>2018-08-23 12:31:37</td>\n",
       "      <td>5aa0d6ed4e6c0995d62090cd82cde89a</td>\n",
       "      <td>11.90</td>\n",
       "      <td>12.79</td>\n",
       "      <td>arts_and_craftmanship</td>\n",
       "      <td>jacarei</td>\n",
       "      <td>SP</td>\n",
       "    </tr>\n",
       "    <tr>\n",
       "      <th>115876</th>\n",
       "      <td>8d80e477643ec569b24592ce3d9dfc4c</td>\n",
       "      <td>2ef4a11b6e24fdfbb43b92cb5f95edff</td>\n",
       "      <td>1</td>\n",
       "      <td>2018-07-23 18:35:14</td>\n",
       "      <td>9c313adb4b38a55b092f53f83f78be9e</td>\n",
       "      <td>19.00</td>\n",
       "      <td>12.86</td>\n",
       "      <td>arts_and_craftmanship</td>\n",
       "      <td>diadema</td>\n",
       "      <td>SP</td>\n",
       "    </tr>\n",
       "    <tr>\n",
       "      <th>115877</th>\n",
       "      <td>8d80e477643ec569b24592ce3d9dfc4c</td>\n",
       "      <td>2ef4a11b6e24fdfbb43b92cb5f95edff</td>\n",
       "      <td>2</td>\n",
       "      <td>2018-07-23 18:35:14</td>\n",
       "      <td>eacb104882d39ffb53140b1d1860a7c3</td>\n",
       "      <td>39.90</td>\n",
       "      <td>12.87</td>\n",
       "      <td>arts_and_craftmanship</td>\n",
       "      <td>diadema</td>\n",
       "      <td>SP</td>\n",
       "    </tr>\n",
       "  </tbody>\n",
       "</table>\n",
       "<p>111020 rows × 10 columns</p>\n",
       "</div>"
      ],
      "text/plain": [
       "                      customer_unique_id                          order_id  \\\n",
       "0       7c396fd4830fd04220f754e42b4e5bff  e481f51cbdc54678b7cc49136f2d6af7   \n",
       "3       3a51803cc0d012c3b5dc8b7528cb05f7  128e10d95713541c87cd1a2e48201934   \n",
       "4       ef0996a1a279c26e7ecbd737be23d235  0e7e841ddf8f8f2de2bad69267ecfbcf   \n",
       "5       e781fdcc107d13d865fc7698711cc572  bfc39df4f36c3693ff3b63fcbea9e90a   \n",
       "6       7a1de9bde89aedca8c5fbad489c5571c  5f49f31e537f8f1a496454b48edbe34d   \n",
       "...                                  ...                               ...   \n",
       "115873  c5da6424f1f5decedef8672a1a0103e1  edcf1e1eeb52381be9388c90152be52d   \n",
       "115874  8c3c961a52bb5a0ffbce1d4e6d25cd67  2c12150c742ae2fa48bc703964c16c5f   \n",
       "115875  428f4721a509be8c52de6ec2900ba918  9f7ba492c273ffac8f90a623b8eadd3b   \n",
       "115876  8d80e477643ec569b24592ce3d9dfc4c  2ef4a11b6e24fdfbb43b92cb5f95edff   \n",
       "115877  8d80e477643ec569b24592ce3d9dfc4c  2ef4a11b6e24fdfbb43b92cb5f95edff   \n",
       "\n",
       "        order_item_id order_purchase_timestamp  \\\n",
       "0                   1      2017-10-02 10:56:33   \n",
       "3                   1      2017-08-15 18:29:31   \n",
       "4                   1      2017-08-02 18:24:47   \n",
       "5                   1      2017-10-23 23:26:46   \n",
       "6                   2      2017-08-24 11:31:28   \n",
       "...               ...                      ...   \n",
       "115873              1      2018-08-21 11:29:05   \n",
       "115874              1      2018-07-28 17:55:27   \n",
       "115875              1      2018-08-23 12:31:37   \n",
       "115876              1      2018-07-23 18:35:14   \n",
       "115877              2      2018-07-23 18:35:14   \n",
       "\n",
       "                              product_id   price  freight_value  \\\n",
       "0       87285b34884572647811a353c7ac498a   29.99           8.72   \n",
       "3       87285b34884572647811a353c7ac498a   29.99           7.78   \n",
       "4       87285b34884572647811a353c7ac498a   29.99           7.78   \n",
       "5       87285b34884572647811a353c7ac498a   29.99          14.10   \n",
       "6       be03d93320192443b8fa24c0ca6ead98   46.80          67.70   \n",
       "...                                  ...     ...            ...   \n",
       "115873  6bb18295cc019bf3b6dc7c773411d530  289.49          24.83   \n",
       "115874  2b54fb9a4acf707537eb53eb2458c241   57.90          19.60   \n",
       "115875  5aa0d6ed4e6c0995d62090cd82cde89a   11.90          12.79   \n",
       "115876  9c313adb4b38a55b092f53f83f78be9e   19.00          12.86   \n",
       "115877  eacb104882d39ffb53140b1d1860a7c3   39.90          12.87   \n",
       "\n",
       "       product_category_name_english   customer_city customer_state  \n",
       "0                         housewares       sao paulo             SP  \n",
       "3                         housewares       sao paulo             SP  \n",
       "4                         housewares       sao paulo             SP  \n",
       "5                         housewares   florianopolis             SC  \n",
       "6                         housewares       sao paulo             SP  \n",
       "...                              ...             ...            ...  \n",
       "115873         arts_and_craftmanship         brusque             SC  \n",
       "115874         arts_and_craftmanship  joao monlevade             MG  \n",
       "115875         arts_and_craftmanship         jacarei             SP  \n",
       "115876         arts_and_craftmanship         diadema             SP  \n",
       "115877         arts_and_craftmanship         diadema             SP  \n",
       "\n",
       "[111020 rows x 10 columns]"
      ]
     },
     "execution_count": 133,
     "metadata": {
      "tags": []
     },
     "output_type": "execute_result"
    }
   ],
   "source": [
    "cust_order = ord_pay[cols].drop_duplicates(subset =['order_id','order_item_id','product_id'])\n",
    "cust_order "
   ]
  },
  {
   "cell_type": "code",
   "execution_count": null,
   "metadata": {
    "colab": {
     "base_uri": "https://localhost:8080/",
     "height": 356
    },
    "executionInfo": {
     "elapsed": 1361,
     "status": "ok",
     "timestamp": 1613188714089,
     "user": {
      "displayName": "Madhu Mitha",
      "photoUrl": "https://lh3.googleusercontent.com/a-/AOh14GilVrLV4rmSyx-1NdXGaSuV57NvShgQKjQtdsSKdw=s64",
      "userId": "03733449454036714456"
     },
     "user_tz": -330
    },
    "id": "Oeda6BfpsiST",
    "outputId": "30f469fc-f4f9-422d-f4cc-58f765386dab"
   },
   "outputs": [
    {
     "data": {
      "image/png": "[encoded data removed]",
      "text/plain": [
       "<Figure size 1080x360 with 1 Axes>"
      ]
     },
     "metadata": {
      "needs_background": "light",
      "tags": []
     },
     "output_type": "display_data"
    }
   ],
   "source": [
    "plt.figure(figsize=(15,5))\n",
    "plt.title('Customer state wise total sales')\n",
    "cust_order.groupby('customer_state')['price'].sum().sort_values().plot(kind='bar');"
   ]
  },
  {
   "cell_type": "code",
   "execution_count": null,
   "metadata": {
    "colab": {
     "base_uri": "https://localhost:8080/",
     "height": 439
    },
    "executionInfo": {
     "elapsed": 2014,
     "status": "ok",
     "timestamp": 1613188265644,
     "user": {
      "displayName": "Madhu Mitha",
      "photoUrl": "https://lh3.googleusercontent.com/a-/AOh14GilVrLV4rmSyx-1NdXGaSuV57NvShgQKjQtdsSKdw=s64",
      "userId": "03733449454036714456"
     },
     "user_tz": -330
    },
    "id": "4MUhYNzgtoBL",
    "outputId": "21049a4e-f029-4b53-d678-e11dd7a63a3d"
   },
   "outputs": [
    {
     "data": {
      "text/html": [
       "<div>\n",
       "<style scoped>\n",
       "    .dataframe tbody tr th:only-of-type {\n",
       "        vertical-align: middle;\n",
       "    }\n",
       "\n",
       "    .dataframe tbody tr th {\n",
       "        vertical-align: top;\n",
       "    }\n",
       "\n",
       "    .dataframe thead th {\n",
       "        text-align: right;\n",
       "    }\n",
       "</style>\n",
       "<table border=\"1\" class=\"dataframe\">\n",
       "  <thead>\n",
       "    <tr style=\"text-align: right;\">\n",
       "      <th></th>\n",
       "      <th>customer_unique_id</th>\n",
       "      <th>order_id</th>\n",
       "      <th>order_item_id</th>\n",
       "      <th>order_purchase_timestamp</th>\n",
       "      <th>product_id</th>\n",
       "      <th>price</th>\n",
       "      <th>freight_value</th>\n",
       "      <th>product_category_name_english</th>\n",
       "      <th>customer_city</th>\n",
       "      <th>customer_state</th>\n",
       "      <th>Month_Year</th>\n",
       "    </tr>\n",
       "  </thead>\n",
       "  <tbody>\n",
       "    <tr>\n",
       "      <th>0</th>\n",
       "      <td>7c396fd4830fd04220f754e42b4e5bff</td>\n",
       "      <td>e481f51cbdc54678b7cc49136f2d6af7</td>\n",
       "      <td>1</td>\n",
       "      <td>2017-10-02 10:56:33</td>\n",
       "      <td>87285b34884572647811a353c7ac498a</td>\n",
       "      <td>29.99</td>\n",
       "      <td>8.72</td>\n",
       "      <td>housewares</td>\n",
       "      <td>sao paulo</td>\n",
       "      <td>SP</td>\n",
       "      <td>2017-10</td>\n",
       "    </tr>\n",
       "    <tr>\n",
       "      <th>3</th>\n",
       "      <td>3a51803cc0d012c3b5dc8b7528cb05f7</td>\n",
       "      <td>128e10d95713541c87cd1a2e48201934</td>\n",
       "      <td>1</td>\n",
       "      <td>2017-08-15 18:29:31</td>\n",
       "      <td>87285b34884572647811a353c7ac498a</td>\n",
       "      <td>29.99</td>\n",
       "      <td>7.78</td>\n",
       "      <td>housewares</td>\n",
       "      <td>sao paulo</td>\n",
       "      <td>SP</td>\n",
       "      <td>2017-08</td>\n",
       "    </tr>\n",
       "    <tr>\n",
       "      <th>4</th>\n",
       "      <td>ef0996a1a279c26e7ecbd737be23d235</td>\n",
       "      <td>0e7e841ddf8f8f2de2bad69267ecfbcf</td>\n",
       "      <td>1</td>\n",
       "      <td>2017-08-02 18:24:47</td>\n",
       "      <td>87285b34884572647811a353c7ac498a</td>\n",
       "      <td>29.99</td>\n",
       "      <td>7.78</td>\n",
       "      <td>housewares</td>\n",
       "      <td>sao paulo</td>\n",
       "      <td>SP</td>\n",
       "      <td>2017-08</td>\n",
       "    </tr>\n",
       "    <tr>\n",
       "      <th>5</th>\n",
       "      <td>e781fdcc107d13d865fc7698711cc572</td>\n",
       "      <td>bfc39df4f36c3693ff3b63fcbea9e90a</td>\n",
       "      <td>1</td>\n",
       "      <td>2017-10-23 23:26:46</td>\n",
       "      <td>87285b34884572647811a353c7ac498a</td>\n",
       "      <td>29.99</td>\n",
       "      <td>14.10</td>\n",
       "      <td>housewares</td>\n",
       "      <td>florianopolis</td>\n",
       "      <td>SC</td>\n",
       "      <td>2017-10</td>\n",
       "    </tr>\n",
       "    <tr>\n",
       "      <th>6</th>\n",
       "      <td>7a1de9bde89aedca8c5fbad489c5571c</td>\n",
       "      <td>5f49f31e537f8f1a496454b48edbe34d</td>\n",
       "      <td>2</td>\n",
       "      <td>2017-08-24 11:31:28</td>\n",
       "      <td>be03d93320192443b8fa24c0ca6ead98</td>\n",
       "      <td>46.80</td>\n",
       "      <td>67.70</td>\n",
       "      <td>housewares</td>\n",
       "      <td>sao paulo</td>\n",
       "      <td>SP</td>\n",
       "      <td>2017-08</td>\n",
       "    </tr>\n",
       "    <tr>\n",
       "      <th>...</th>\n",
       "      <td>...</td>\n",
       "      <td>...</td>\n",
       "      <td>...</td>\n",
       "      <td>...</td>\n",
       "      <td>...</td>\n",
       "      <td>...</td>\n",
       "      <td>...</td>\n",
       "      <td>...</td>\n",
       "      <td>...</td>\n",
       "      <td>...</td>\n",
       "      <td>...</td>\n",
       "    </tr>\n",
       "    <tr>\n",
       "      <th>115873</th>\n",
       "      <td>c5da6424f1f5decedef8672a1a0103e1</td>\n",
       "      <td>edcf1e1eeb52381be9388c90152be52d</td>\n",
       "      <td>1</td>\n",
       "      <td>2018-08-21 11:29:05</td>\n",
       "      <td>6bb18295cc019bf3b6dc7c773411d530</td>\n",
       "      <td>289.49</td>\n",
       "      <td>24.83</td>\n",
       "      <td>arts_and_craftmanship</td>\n",
       "      <td>brusque</td>\n",
       "      <td>SC</td>\n",
       "      <td>2018-08</td>\n",
       "    </tr>\n",
       "    <tr>\n",
       "      <th>115874</th>\n",
       "      <td>8c3c961a52bb5a0ffbce1d4e6d25cd67</td>\n",
       "      <td>2c12150c742ae2fa48bc703964c16c5f</td>\n",
       "      <td>1</td>\n",
       "      <td>2018-07-28 17:55:27</td>\n",
       "      <td>2b54fb9a4acf707537eb53eb2458c241</td>\n",
       "      <td>57.90</td>\n",
       "      <td>19.60</td>\n",
       "      <td>arts_and_craftmanship</td>\n",
       "      <td>joao monlevade</td>\n",
       "      <td>MG</td>\n",
       "      <td>2018-07</td>\n",
       "    </tr>\n",
       "    <tr>\n",
       "      <th>115875</th>\n",
       "      <td>428f4721a509be8c52de6ec2900ba918</td>\n",
       "      <td>9f7ba492c273ffac8f90a623b8eadd3b</td>\n",
       "      <td>1</td>\n",
       "      <td>2018-08-23 12:31:37</td>\n",
       "      <td>5aa0d6ed4e6c0995d62090cd82cde89a</td>\n",
       "      <td>11.90</td>\n",
       "      <td>12.79</td>\n",
       "      <td>arts_and_craftmanship</td>\n",
       "      <td>jacarei</td>\n",
       "      <td>SP</td>\n",
       "      <td>2018-08</td>\n",
       "    </tr>\n",
       "    <tr>\n",
       "      <th>115876</th>\n",
       "      <td>8d80e477643ec569b24592ce3d9dfc4c</td>\n",
       "      <td>2ef4a11b6e24fdfbb43b92cb5f95edff</td>\n",
       "      <td>1</td>\n",
       "      <td>2018-07-23 18:35:14</td>\n",
       "      <td>9c313adb4b38a55b092f53f83f78be9e</td>\n",
       "      <td>19.00</td>\n",
       "      <td>12.86</td>\n",
       "      <td>arts_and_craftmanship</td>\n",
       "      <td>diadema</td>\n",
       "      <td>SP</td>\n",
       "      <td>2018-07</td>\n",
       "    </tr>\n",
       "    <tr>\n",
       "      <th>115877</th>\n",
       "      <td>8d80e477643ec569b24592ce3d9dfc4c</td>\n",
       "      <td>2ef4a11b6e24fdfbb43b92cb5f95edff</td>\n",
       "      <td>2</td>\n",
       "      <td>2018-07-23 18:35:14</td>\n",
       "      <td>eacb104882d39ffb53140b1d1860a7c3</td>\n",
       "      <td>39.90</td>\n",
       "      <td>12.87</td>\n",
       "      <td>arts_and_craftmanship</td>\n",
       "      <td>diadema</td>\n",
       "      <td>SP</td>\n",
       "      <td>2018-07</td>\n",
       "    </tr>\n",
       "  </tbody>\n",
       "</table>\n",
       "<p>111020 rows × 11 columns</p>\n",
       "</div>"
      ],
      "text/plain": [
       "                      customer_unique_id                          order_id  \\\n",
       "0       7c396fd4830fd04220f754e42b4e5bff  e481f51cbdc54678b7cc49136f2d6af7   \n",
       "3       3a51803cc0d012c3b5dc8b7528cb05f7  128e10d95713541c87cd1a2e48201934   \n",
       "4       ef0996a1a279c26e7ecbd737be23d235  0e7e841ddf8f8f2de2bad69267ecfbcf   \n",
       "5       e781fdcc107d13d865fc7698711cc572  bfc39df4f36c3693ff3b63fcbea9e90a   \n",
       "6       7a1de9bde89aedca8c5fbad489c5571c  5f49f31e537f8f1a496454b48edbe34d   \n",
       "...                                  ...                               ...   \n",
       "115873  c5da6424f1f5decedef8672a1a0103e1  edcf1e1eeb52381be9388c90152be52d   \n",
       "115874  8c3c961a52bb5a0ffbce1d4e6d25cd67  2c12150c742ae2fa48bc703964c16c5f   \n",
       "115875  428f4721a509be8c52de6ec2900ba918  9f7ba492c273ffac8f90a623b8eadd3b   \n",
       "115876  8d80e477643ec569b24592ce3d9dfc4c  2ef4a11b6e24fdfbb43b92cb5f95edff   \n",
       "115877  8d80e477643ec569b24592ce3d9dfc4c  2ef4a11b6e24fdfbb43b92cb5f95edff   \n",
       "\n",
       "        order_item_id order_purchase_timestamp  \\\n",
       "0                   1      2017-10-02 10:56:33   \n",
       "3                   1      2017-08-15 18:29:31   \n",
       "4                   1      2017-08-02 18:24:47   \n",
       "5                   1      2017-10-23 23:26:46   \n",
       "6                   2      2017-08-24 11:31:28   \n",
       "...               ...                      ...   \n",
       "115873              1      2018-08-21 11:29:05   \n",
       "115874              1      2018-07-28 17:55:27   \n",
       "115875              1      2018-08-23 12:31:37   \n",
       "115876              1      2018-07-23 18:35:14   \n",
       "115877              2      2018-07-23 18:35:14   \n",
       "\n",
       "                              product_id   price  freight_value  \\\n",
       "0       87285b34884572647811a353c7ac498a   29.99           8.72   \n",
       "3       87285b34884572647811a353c7ac498a   29.99           7.78   \n",
       "4       87285b34884572647811a353c7ac498a   29.99           7.78   \n",
       "5       87285b34884572647811a353c7ac498a   29.99          14.10   \n",
       "6       be03d93320192443b8fa24c0ca6ead98   46.80          67.70   \n",
       "...                                  ...     ...            ...   \n",
       "115873  6bb18295cc019bf3b6dc7c773411d530  289.49          24.83   \n",
       "115874  2b54fb9a4acf707537eb53eb2458c241   57.90          19.60   \n",
       "115875  5aa0d6ed4e6c0995d62090cd82cde89a   11.90          12.79   \n",
       "115876  9c313adb4b38a55b092f53f83f78be9e   19.00          12.86   \n",
       "115877  eacb104882d39ffb53140b1d1860a7c3   39.90          12.87   \n",
       "\n",
       "       product_category_name_english   customer_city customer_state Month_Year  \n",
       "0                         housewares       sao paulo             SP    2017-10  \n",
       "3                         housewares       sao paulo             SP    2017-08  \n",
       "4                         housewares       sao paulo             SP    2017-08  \n",
       "5                         housewares   florianopolis             SC    2017-10  \n",
       "6                         housewares       sao paulo             SP    2017-08  \n",
       "...                              ...             ...            ...        ...  \n",
       "115873         arts_and_craftmanship         brusque             SC    2018-08  \n",
       "115874         arts_and_craftmanship  joao monlevade             MG    2018-07  \n",
       "115875         arts_and_craftmanship         jacarei             SP    2018-08  \n",
       "115876         arts_and_craftmanship         diadema             SP    2018-07  \n",
       "115877         arts_and_craftmanship         diadema             SP    2018-07  \n",
       "\n",
       "[111020 rows x 11 columns]"
      ]
     },
     "execution_count": 135,
     "metadata": {
      "tags": []
     },
     "output_type": "execute_result"
    }
   ],
   "source": [
    "cust_order['Month_Year'] = cust_order['order_purchase_timestamp'].apply(lambda x: x.strftime('%Y-%m'))\n",
    "cust_order"
   ]
  },
  {
   "cell_type": "code",
   "execution_count": null,
   "metadata": {
    "id": "IGfXbrGYg24v"
   },
   "outputs": [],
   "source": [
    "Top_states_high_sales = pd.pivot_table(cust_order,index='customer_state',columns=['Month_Year'],values='price',aggfunc='sum').drop(['2016-09','2016-10','2016-12','2018-09'],1).loc[['SP','RJ','MG']]"
   ]
  },
  {
   "cell_type": "code",
   "execution_count": null,
   "metadata": {
    "colab": {
     "base_uri": "https://localhost:8080/",
     "height": 193
    },
    "executionInfo": {
     "elapsed": 1191,
     "status": "ok",
     "timestamp": 1613189159781,
     "user": {
      "displayName": "Madhu Mitha",
      "photoUrl": "https://lh3.googleusercontent.com/a-/AOh14GilVrLV4rmSyx-1NdXGaSuV57NvShgQKjQtdsSKdw=s64",
      "userId": "03733449454036714456"
     },
     "user_tz": -330
    },
    "id": "RlKQJN9-hGqx",
    "outputId": "8e055e5c-ec5f-4450-ef31-db6393dc9a6e"
   },
   "outputs": [
    {
     "data": {
      "text/html": [
       "<div>\n",
       "<style scoped>\n",
       "    .dataframe tbody tr th:only-of-type {\n",
       "        vertical-align: middle;\n",
       "    }\n",
       "\n",
       "    .dataframe tbody tr th {\n",
       "        vertical-align: top;\n",
       "    }\n",
       "\n",
       "    .dataframe thead th {\n",
       "        text-align: right;\n",
       "    }\n",
       "</style>\n",
       "<table border=\"1\" class=\"dataframe\">\n",
       "  <thead>\n",
       "    <tr style=\"text-align: right;\">\n",
       "      <th>Month_Year</th>\n",
       "      <th>2017-01</th>\n",
       "      <th>2017-02</th>\n",
       "      <th>2017-03</th>\n",
       "      <th>2017-04</th>\n",
       "      <th>2017-05</th>\n",
       "      <th>2017-06</th>\n",
       "      <th>2017-07</th>\n",
       "      <th>2017-08</th>\n",
       "      <th>2017-09</th>\n",
       "      <th>2017-10</th>\n",
       "      <th>2017-11</th>\n",
       "      <th>2017-12</th>\n",
       "      <th>2018-01</th>\n",
       "      <th>2018-02</th>\n",
       "      <th>2018-03</th>\n",
       "      <th>2018-04</th>\n",
       "      <th>2018-05</th>\n",
       "      <th>2018-06</th>\n",
       "      <th>2018-07</th>\n",
       "      <th>2018-08</th>\n",
       "    </tr>\n",
       "    <tr>\n",
       "      <th>customer_state</th>\n",
       "      <th></th>\n",
       "      <th></th>\n",
       "      <th></th>\n",
       "      <th></th>\n",
       "      <th></th>\n",
       "      <th></th>\n",
       "      <th></th>\n",
       "      <th></th>\n",
       "      <th></th>\n",
       "      <th></th>\n",
       "      <th></th>\n",
       "      <th></th>\n",
       "      <th></th>\n",
       "      <th></th>\n",
       "      <th></th>\n",
       "      <th></th>\n",
       "      <th></th>\n",
       "      <th></th>\n",
       "      <th></th>\n",
       "      <th></th>\n",
       "    </tr>\n",
       "  </thead>\n",
       "  <tbody>\n",
       "    <tr>\n",
       "      <th>SP</th>\n",
       "      <td>40617.31</td>\n",
       "      <td>76290.85</td>\n",
       "      <td>133773.40</td>\n",
       "      <td>129350.33</td>\n",
       "      <td>174859.82</td>\n",
       "      <td>171823.29</td>\n",
       "      <td>182912.19</td>\n",
       "      <td>196770.24</td>\n",
       "      <td>215963.44</td>\n",
       "      <td>219915.77</td>\n",
       "      <td>356133.76</td>\n",
       "      <td>274174.48</td>\n",
       "      <td>364947.35</td>\n",
       "      <td>308518.07</td>\n",
       "      <td>380152.74</td>\n",
       "      <td>395619.37</td>\n",
       "      <td>435768.22</td>\n",
       "      <td>342896.24</td>\n",
       "      <td>323743.06</td>\n",
       "      <td>395181.39</td>\n",
       "    </tr>\n",
       "    <tr>\n",
       "      <th>RJ</th>\n",
       "      <td>12593.20</td>\n",
       "      <td>31615.76</td>\n",
       "      <td>55301.93</td>\n",
       "      <td>56738.37</td>\n",
       "      <td>71870.15</td>\n",
       "      <td>52921.12</td>\n",
       "      <td>78282.30</td>\n",
       "      <td>77870.88</td>\n",
       "      <td>94585.28</td>\n",
       "      <td>95853.94</td>\n",
       "      <td>147484.69</td>\n",
       "      <td>114025.59</td>\n",
       "      <td>120430.03</td>\n",
       "      <td>116390.82</td>\n",
       "      <td>116918.65</td>\n",
       "      <td>122302.62</td>\n",
       "      <td>126625.00</td>\n",
       "      <td>102798.57</td>\n",
       "      <td>98925.53</td>\n",
       "      <td>95083.20</td>\n",
       "    </tr>\n",
       "    <tr>\n",
       "      <th>MG</th>\n",
       "      <td>16072.69</td>\n",
       "      <td>28615.75</td>\n",
       "      <td>41546.90</td>\n",
       "      <td>40144.92</td>\n",
       "      <td>49623.47</td>\n",
       "      <td>46561.33</td>\n",
       "      <td>54430.35</td>\n",
       "      <td>59090.30</td>\n",
       "      <td>72063.82</td>\n",
       "      <td>80072.97</td>\n",
       "      <td>132861.90</td>\n",
       "      <td>91748.01</td>\n",
       "      <td>113126.39</td>\n",
       "      <td>105625.51</td>\n",
       "      <td>118182.33</td>\n",
       "      <td>110587.93</td>\n",
       "      <td>103181.20</td>\n",
       "      <td>105940.84</td>\n",
       "      <td>97456.01</td>\n",
       "      <td>94065.96</td>\n",
       "    </tr>\n",
       "  </tbody>\n",
       "</table>\n",
       "</div>"
      ],
      "text/plain": [
       "Month_Year       2017-01   2017-02    2017-03    2017-04    2017-05  \\\n",
       "customer_state                                                        \n",
       "SP              40617.31  76290.85  133773.40  129350.33  174859.82   \n",
       "RJ              12593.20  31615.76   55301.93   56738.37   71870.15   \n",
       "MG              16072.69  28615.75   41546.90   40144.92   49623.47   \n",
       "\n",
       "Month_Year        2017-06    2017-07    2017-08    2017-09    2017-10  \\\n",
       "customer_state                                                          \n",
       "SP              171823.29  182912.19  196770.24  215963.44  219915.77   \n",
       "RJ               52921.12   78282.30   77870.88   94585.28   95853.94   \n",
       "MG               46561.33   54430.35   59090.30   72063.82   80072.97   \n",
       "\n",
       "Month_Year        2017-11    2017-12    2018-01    2018-02    2018-03  \\\n",
       "customer_state                                                          \n",
       "SP              356133.76  274174.48  364947.35  308518.07  380152.74   \n",
       "RJ              147484.69  114025.59  120430.03  116390.82  116918.65   \n",
       "MG              132861.90   91748.01  113126.39  105625.51  118182.33   \n",
       "\n",
       "Month_Year        2018-04    2018-05    2018-06    2018-07    2018-08  \n",
       "customer_state                                                         \n",
       "SP              395619.37  435768.22  342896.24  323743.06  395181.39  \n",
       "RJ              122302.62  126625.00  102798.57   98925.53   95083.20  \n",
       "MG              110587.93  103181.20  105940.84   97456.01   94065.96  "
      ]
     },
     "execution_count": 153,
     "metadata": {
      "tags": []
     },
     "output_type": "execute_result"
    }
   ],
   "source": [
    "Top_states_high_sales"
   ]
  },
  {
   "cell_type": "code",
   "execution_count": null,
   "metadata": {
    "id": "lJ3EfZVJygSR"
   },
   "outputs": [],
   "source": []
  }
 ],
 "metadata": {
  "colab": {
   "collapsed_sections": [
    "1yBXeQYficiw",
    "HdmA0CX6iciy"
   ],
   "name": "Initial_EDA_Olist.ipynb",
   "provenance": []
  },
  "kernelspec": {
   "display_name": "Python 3",
   "language": "python",
   "name": "python3"
  },
  "language_info": {
   "codemirror_mode": {
    "name": "ipython",
    "version": 3
   },
   "file_extension": ".py",
   "mimetype": "text/x-python",
   "name": "python",
   "nbconvert_exporter": "python",
   "pygments_lexer": "ipython3",
   "version": "3.8.5"
  }
 },
 "nbformat": 4,
 "nbformat_minor": 1
}
